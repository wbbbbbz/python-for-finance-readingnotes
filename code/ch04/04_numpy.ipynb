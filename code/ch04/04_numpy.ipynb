{
 "cells": [
  {
   "cell_type": "markdown",
   "metadata": {},
   "source": [
    "<img src=\"http://hilpisch.com/tpq_logo.png\" alt=\"The Python Quants\" width=\"35%\" align=\"right\" border=\"0\"><br>"
   ]
  },
  {
   "cell_type": "markdown",
   "metadata": {},
   "source": [
    "# Python for Finance (2nd ed.)\n",
    "\n",
    "**Mastering Data-Driven Finance**\n",
    "\n",
    "&copy; Dr. Yves J. Hilpisch | The Python Quants GmbH\n",
    "\n",
    "<img src=\"http://hilpisch.com/images/py4fi_2nd_shadow.png\" width=\"300px\" align=\"left\">"
   ]
  },
  {
   "cell_type": "markdown",
   "metadata": {},
   "source": [
    "# Numerical Computing with NumPy"
   ]
  },
  {
   "cell_type": "markdown",
   "metadata": {},
   "source": [
    "## Arrays with Python Lists"
   ]
  },
  {
   "cell_type": "code",
   "execution_count": 154,
   "metadata": {
    "uuid": "be5428db-f5f0-48d1-9cb3-46ab122778e7"
   },
   "outputs": [],
   "source": [
    "v = [0.5, 0.75, 1.0, 1.5, 2.0]  "
   ]
  },
  {
   "cell_type": "code",
   "execution_count": 155,
   "metadata": {
    "uuid": "01678cdc-dfe0-481e-b9bc-b735b15c76c0"
   },
   "outputs": [
    {
     "output_type": "execute_result",
     "data": {
      "text/plain": "[[0.5, 0.75, 1.0, 1.5, 2.0],\n [0.5, 0.75, 1.0, 1.5, 2.0],\n [0.5, 0.75, 1.0, 1.5, 2.0]]"
     },
     "metadata": {},
     "execution_count": 155
    }
   ],
   "source": [
    "m = [v, v, v]  \n",
    "m  "
   ]
  },
  {
   "cell_type": "code",
   "execution_count": 156,
   "metadata": {
    "uuid": "e2d1473a-4970-4085-9e8a-de65ed22f986"
   },
   "outputs": [
    {
     "output_type": "execute_result",
     "data": {
      "text/plain": "[0.5, 0.75, 1.0, 1.5, 2.0]"
     },
     "metadata": {},
     "execution_count": 156
    }
   ],
   "source": [
    "m[1]"
   ]
  },
  {
   "cell_type": "code",
   "execution_count": 157,
   "metadata": {
    "uuid": "e33ea433-6716-4d17-9ed3-04a68af6b489"
   },
   "outputs": [
    {
     "output_type": "execute_result",
     "data": {
      "text/plain": "0.5"
     },
     "metadata": {},
     "execution_count": 157
    }
   ],
   "source": [
    "m[1][0]"
   ]
  },
  {
   "cell_type": "code",
   "execution_count": 158,
   "metadata": {
    "uuid": "d905bfcc-e325-468e-829e-bb5c59def934"
   },
   "outputs": [
    {
     "output_type": "execute_result",
     "data": {
      "text/plain": "[[[0.5, 1.5], [1, 2]], [[0.5, 1.5], [1, 2]]]"
     },
     "metadata": {},
     "execution_count": 158
    }
   ],
   "source": [
    "v1 = [0.5, 1.5]\n",
    "v2 = [1, 2]\n",
    "m = [v1, v2]\n",
    "c = [m, m]  \n",
    "c"
   ]
  },
  {
   "cell_type": "code",
   "execution_count": 159,
   "metadata": {
    "scrolled": true,
    "uuid": "be03ed03-1e4a-428e-ac94-e451ceeaa745"
   },
   "outputs": [
    {
     "output_type": "execute_result",
     "data": {
      "text/plain": "1"
     },
     "metadata": {},
     "execution_count": 159
    }
   ],
   "source": [
    "c[1][1][0]"
   ]
  },
  {
   "cell_type": "code",
   "execution_count": 160,
   "metadata": {
    "uuid": "015e5dd4-fda4-4572-9a23-06ff178ff2be"
   },
   "outputs": [
    {
     "output_type": "execute_result",
     "data": {
      "text/plain": "[[0.5, 0.75, 1.0, 1.5, 2.0],\n [0.5, 0.75, 1.0, 1.5, 2.0],\n [0.5, 0.75, 1.0, 1.5, 2.0]]"
     },
     "metadata": {},
     "execution_count": 160
    }
   ],
   "source": [
    "v = [0.5, 0.75, 1.0, 1.5, 2.0]\n",
    "m = [v, v, v]\n",
    "m"
   ]
  },
  {
   "cell_type": "code",
   "execution_count": 161,
   "metadata": {
    "uuid": "fd8ebed9-f11c-455a-a660-f4fe8d12d8f4"
   },
   "outputs": [
    {
     "output_type": "execute_result",
     "data": {
      "text/plain": "[['Python', 0.75, 1.0, 1.5, 2.0],\n ['Python', 0.75, 1.0, 1.5, 2.0],\n ['Python', 0.75, 1.0, 1.5, 2.0]]"
     },
     "metadata": {},
     "execution_count": 161
    }
   ],
   "source": [
    "v[0] = 'Python'\n",
    "m"
   ]
  },
  {
   "cell_type": "code",
   "execution_count": 162,
   "metadata": {
    "uuid": "eacab892-e5a6-49be-9ef2-ef2972b313c3"
   },
   "outputs": [
    {
     "output_type": "execute_result",
     "data": {
      "text/plain": "[[0.5, 0.75, 1.0, 1.5, 2.0],\n [0.5, 0.75, 1.0, 1.5, 2.0],\n [0.5, 0.75, 1.0, 1.5, 2.0]]"
     },
     "metadata": {},
     "execution_count": 162
    }
   ],
   "source": [
    "from copy import deepcopy\n",
    "v = [0.5, 0.75, 1.0, 1.5, 2.0]\n",
    "m = 3 * [deepcopy(v), ]  \n",
    "m"
   ]
  },
  {
   "cell_type": "code",
   "execution_count": 163,
   "metadata": {
    "uuid": "10ed3e78-fdc4-4adf-8f80-75eac48629a1"
   },
   "outputs": [
    {
     "output_type": "execute_result",
     "data": {
      "text/plain": "[[0.5, 0.75, 1.0, 1.5, 2.0],\n [0.5, 0.75, 1.0, 1.5, 2.0],\n [0.5, 0.75, 1.0, 1.5, 2.0]]"
     },
     "metadata": {},
     "execution_count": 163
    }
   ],
   "source": [
    "v[0] = 'Python'  \n",
    "m  "
   ]
  },
  {
   "cell_type": "markdown",
   "metadata": {},
   "source": [
    "## Interlude: Python Array Class"
   ]
  },
  {
   "cell_type": "code",
   "execution_count": 164,
   "metadata": {},
   "outputs": [],
   "source": [
    "v = [0.5, 0.75, 1.0, 1.5, 2.0]"
   ]
  },
  {
   "cell_type": "code",
   "execution_count": 165,
   "metadata": {},
   "outputs": [],
   "source": [
    "import array"
   ]
  },
  {
   "cell_type": "code",
   "execution_count": 166,
   "metadata": {},
   "outputs": [
    {
     "output_type": "execute_result",
     "data": {
      "text/plain": "array('f', [0.5, 0.75, 1.0, 1.5, 2.0])"
     },
     "metadata": {},
     "execution_count": 166
    }
   ],
   "source": [
    "a = array.array('f', v)  \n",
    "a"
   ]
  },
  {
   "cell_type": "code",
   "execution_count": 167,
   "metadata": {},
   "outputs": [
    {
     "output_type": "execute_result",
     "data": {
      "text/plain": "array('f', [0.5, 0.75, 1.0, 1.5, 2.0, 0.5])"
     },
     "metadata": {},
     "execution_count": 167
    }
   ],
   "source": [
    "a.append(0.5)  \n",
    "a"
   ]
  },
  {
   "cell_type": "code",
   "execution_count": 168,
   "metadata": {},
   "outputs": [
    {
     "output_type": "execute_result",
     "data": {
      "text/plain": "array('f', [0.5, 0.75, 1.0, 1.5, 2.0, 0.5, 5.0, 6.75])"
     },
     "metadata": {},
     "execution_count": 168
    }
   ],
   "source": [
    "a.extend([5.0, 6.75])  \n",
    "a"
   ]
  },
  {
   "cell_type": "code",
   "execution_count": 169,
   "metadata": {},
   "outputs": [
    {
     "output_type": "execute_result",
     "data": {
      "text/plain": "array('f', [0.5, 0.75, 1.0, 1.5, 2.0, 0.5, 5.0, 6.75, 0.5, 0.75, 1.0, 1.5, 2.0, 0.5, 5.0, 6.75])"
     },
     "metadata": {},
     "execution_count": 169
    }
   ],
   "source": [
    "2 * a  "
   ]
  },
  {
   "cell_type": "code",
   "execution_count": 170,
   "metadata": {},
   "outputs": [],
   "source": [
    "# causes intentional error\n",
    "# a.append('string')  "
   ]
  },
  {
   "cell_type": "code",
   "execution_count": 171,
   "metadata": {
    "scrolled": true
   },
   "outputs": [
    {
     "output_type": "execute_result",
     "data": {
      "text/plain": "[0.5, 0.75, 1.0, 1.5, 2.0, 0.5, 5.0, 6.75]"
     },
     "metadata": {},
     "execution_count": 171
    }
   ],
   "source": [
    "a.tolist()  "
   ]
  },
  {
   "cell_type": "code",
   "execution_count": 172,
   "metadata": {},
   "outputs": [],
   "source": [
    "f = open('array.apy', 'wb')  \n",
    "a.tofile(f)  \n",
    "f.close()  "
   ]
  },
  {
   "cell_type": "code",
   "execution_count": 173,
   "metadata": {},
   "outputs": [],
   "source": [
    "with open('array.apy', 'wb') as f:  \n",
    "    a.tofile(f)  "
   ]
  },
  {
   "cell_type": "code",
   "execution_count": 174,
   "metadata": {
    "tags": []
   },
   "outputs": [
    {
     "output_type": "stream",
     "name": "stderr",
     "text": "'ls' �����ڲ����ⲿ���Ҳ���ǿ����еĳ���\n���������ļ���\n"
    }
   ],
   "source": [
    "!ls -n arr*  "
   ]
  },
  {
   "cell_type": "code",
   "execution_count": 175,
   "metadata": {},
   "outputs": [],
   "source": [
    "b = array.array('f')  "
   ]
  },
  {
   "cell_type": "code",
   "execution_count": 176,
   "metadata": {},
   "outputs": [],
   "source": [
    "with open('array.apy', 'rb') as f:  \n",
    "    b.fromfile(f, 5)  "
   ]
  },
  {
   "cell_type": "code",
   "execution_count": 177,
   "metadata": {},
   "outputs": [
    {
     "output_type": "execute_result",
     "data": {
      "text/plain": "array('f', [0.5, 0.75, 1.0, 1.5, 2.0])"
     },
     "metadata": {},
     "execution_count": 177
    }
   ],
   "source": [
    "b  "
   ]
  },
  {
   "cell_type": "code",
   "execution_count": 178,
   "metadata": {},
   "outputs": [],
   "source": [
    "b = array.array('d')  "
   ]
  },
  {
   "cell_type": "code",
   "execution_count": 179,
   "metadata": {},
   "outputs": [],
   "source": [
    "with open('array.apy', 'rb') as f:\n",
    "    b.fromfile(f, 2)  "
   ]
  },
  {
   "cell_type": "code",
   "execution_count": 180,
   "metadata": {},
   "outputs": [
    {
     "output_type": "execute_result",
     "data": {
      "text/plain": "array('d', [0.0004882813645963324, 0.12500002956949174])"
     },
     "metadata": {},
     "execution_count": 180
    }
   ],
   "source": [
    "b  "
   ]
  },
  {
   "cell_type": "markdown",
   "metadata": {},
   "source": [
    "## Regular NumPy Arrays"
   ]
  },
  {
   "cell_type": "markdown",
   "metadata": {},
   "source": [
    "### The Basics"
   ]
  },
  {
   "cell_type": "code",
   "execution_count": 181,
   "metadata": {
    "uuid": "434dc849-a224-49f3-af1c-466dc48c9258"
   },
   "outputs": [],
   "source": [
    "import numpy as np  "
   ]
  },
  {
   "cell_type": "code",
   "execution_count": 182,
   "metadata": {},
   "outputs": [
    {
     "output_type": "execute_result",
     "data": {
      "text/plain": "array([0. , 0.5, 1. , 1.5, 2. ])"
     },
     "metadata": {},
     "execution_count": 182
    }
   ],
   "source": [
    "a = np.array([0, 0.5, 1.0, 1.5, 2.0])  \n",
    "a"
   ]
  },
  {
   "cell_type": "code",
   "execution_count": 183,
   "metadata": {
    "uuid": "a58df3ba-f18e-459d-ac4d-6be84714a2a3"
   },
   "outputs": [
    {
     "output_type": "execute_result",
     "data": {
      "text/plain": "numpy.ndarray"
     },
     "metadata": {},
     "execution_count": 183
    }
   ],
   "source": [
    "type(a)  "
   ]
  },
  {
   "cell_type": "code",
   "execution_count": 184,
   "metadata": {},
   "outputs": [
    {
     "output_type": "execute_result",
     "data": {
      "text/plain": "array(['a', 'b', 'c'], dtype='<U1')"
     },
     "metadata": {},
     "execution_count": 184
    }
   ],
   "source": [
    "a = np.array(['a', 'b', 'c'])  \n",
    "a"
   ]
  },
  {
   "cell_type": "code",
   "execution_count": 185,
   "metadata": {
    "uuid": "a58df3ba-f18e-459d-ac4d-6be84714a2a3"
   },
   "outputs": [
    {
     "output_type": "execute_result",
     "data": {
      "text/plain": "array([ 2,  4,  6,  8, 10, 12, 14, 16, 18])"
     },
     "metadata": {},
     "execution_count": 185
    }
   ],
   "source": [
    "a = np.arange(2, 20, 2)  \n",
    "a"
   ]
  },
  {
   "cell_type": "code",
   "execution_count": 186,
   "metadata": {
    "uuid": "a58df3ba-f18e-459d-ac4d-6be84714a2a3"
   },
   "outputs": [
    {
     "output_type": "execute_result",
     "data": {
      "text/plain": "array([0., 1., 2., 3., 4., 5., 6., 7.])"
     },
     "metadata": {},
     "execution_count": 186
    }
   ],
   "source": [
    "a = np.arange(8, dtype=np.float)  \n",
    "a"
   ]
  },
  {
   "cell_type": "code",
   "execution_count": 187,
   "metadata": {
    "uuid": "c6c73402-ed3b-4ea1-b62e-06dca996e713"
   },
   "outputs": [
    {
     "output_type": "execute_result",
     "data": {
      "text/plain": "array([5., 6., 7.])"
     },
     "metadata": {},
     "execution_count": 187
    }
   ],
   "source": [
    "a[5:]  "
   ]
  },
  {
   "cell_type": "code",
   "execution_count": 188,
   "metadata": {},
   "outputs": [
    {
     "output_type": "execute_result",
     "data": {
      "text/plain": "array([0., 1.])"
     },
     "metadata": {},
     "execution_count": 188
    }
   ],
   "source": [
    "a[:2]  "
   ]
  },
  {
   "cell_type": "code",
   "execution_count": 189,
   "metadata": {
    "uuid": "f167bdb8-6673-4520-bd34-e2428ede6ad7"
   },
   "outputs": [
    {
     "output_type": "execute_result",
     "data": {
      "text/plain": "28.0"
     },
     "metadata": {},
     "execution_count": 189
    }
   ],
   "source": [
    "a.sum()  "
   ]
  },
  {
   "cell_type": "code",
   "execution_count": 190,
   "metadata": {
    "uuid": "0eafbb03-0cc4-4dd7-a177-9d8f2f8a32be"
   },
   "outputs": [
    {
     "output_type": "execute_result",
     "data": {
      "text/plain": "2.29128784747792"
     },
     "metadata": {},
     "execution_count": 190
    }
   ],
   "source": [
    "a.std()  "
   ]
  },
  {
   "cell_type": "code",
   "execution_count": 191,
   "metadata": {
    "uuid": "9eda9efe-4e85-4bc2-8df3-edd8ab40c7f2"
   },
   "outputs": [
    {
     "output_type": "execute_result",
     "data": {
      "text/plain": "array([ 0.,  1.,  3.,  6., 10., 15., 21., 28.])"
     },
     "metadata": {},
     "execution_count": 191
    }
   ],
   "source": [
    "a.cumsum()  "
   ]
  },
  {
   "cell_type": "code",
   "execution_count": 192,
   "metadata": {},
   "outputs": [
    {
     "output_type": "execute_result",
     "data": {
      "text/plain": "[0.0, 0.5, 1.5, 3.0, 5.0, 0.0, 0.5, 1.5, 3.0, 5.0]"
     },
     "metadata": {},
     "execution_count": 192
    }
   ],
   "source": [
    "l = [0., 0.5, 1.5, 3., 5.]\n",
    "2 * l  "
   ]
  },
  {
   "cell_type": "code",
   "execution_count": 193,
   "metadata": {},
   "outputs": [
    {
     "output_type": "execute_result",
     "data": {
      "text/plain": "array([0., 1., 2., 3., 4., 5., 6., 7.])"
     },
     "metadata": {},
     "execution_count": 193
    }
   ],
   "source": [
    "a"
   ]
  },
  {
   "cell_type": "code",
   "execution_count": 194,
   "metadata": {
    "uuid": "94ddb4ba-eb2b-4565-80cf-247db6dc5846"
   },
   "outputs": [
    {
     "output_type": "execute_result",
     "data": {
      "text/plain": "array([ 0.,  2.,  4.,  6.,  8., 10., 12., 14.])"
     },
     "metadata": {},
     "execution_count": 194
    }
   ],
   "source": [
    "2 * a  "
   ]
  },
  {
   "cell_type": "code",
   "execution_count": 195,
   "metadata": {
    "uuid": "5c5f7bd8-b48b-4e8e-b6c8-95b67c9deed0"
   },
   "outputs": [
    {
     "output_type": "execute_result",
     "data": {
      "text/plain": "array([ 0.,  1.,  4.,  9., 16., 25., 36., 49.])"
     },
     "metadata": {},
     "execution_count": 195
    }
   ],
   "source": [
    "a ** 2  "
   ]
  },
  {
   "cell_type": "code",
   "execution_count": 196,
   "metadata": {},
   "outputs": [
    {
     "output_type": "execute_result",
     "data": {
      "text/plain": "array([  1.,   2.,   4.,   8.,  16.,  32.,  64., 128.])"
     },
     "metadata": {},
     "execution_count": 196
    }
   ],
   "source": [
    "2 ** a  "
   ]
  },
  {
   "cell_type": "code",
   "execution_count": 197,
   "metadata": {},
   "outputs": [
    {
     "output_type": "execute_result",
     "data": {
      "text/plain": "array([1.00000e+00, 1.00000e+00, 4.00000e+00, 2.70000e+01, 2.56000e+02,\n       3.12500e+03, 4.66560e+04, 8.23543e+05])"
     },
     "metadata": {},
     "execution_count": 197
    }
   ],
   "source": [
    "a ** a  "
   ]
  },
  {
   "cell_type": "code",
   "execution_count": 198,
   "metadata": {},
   "outputs": [
    {
     "output_type": "execute_result",
     "data": {
      "text/plain": "array([1.00000000e+00, 2.71828183e+00, 7.38905610e+00, 2.00855369e+01,\n       5.45981500e+01, 1.48413159e+02, 4.03428793e+02, 1.09663316e+03])"
     },
     "metadata": {},
     "execution_count": 198
    }
   ],
   "source": [
    "np.exp(a)  "
   ]
  },
  {
   "cell_type": "code",
   "execution_count": 199,
   "metadata": {
    "uuid": "eccae4a8-18fc-4362-8089-faed41fe558a"
   },
   "outputs": [
    {
     "output_type": "execute_result",
     "data": {
      "text/plain": "array([0.        , 1.        , 1.41421356, 1.73205081, 2.        ,\n       2.23606798, 2.44948974, 2.64575131])"
     },
     "metadata": {},
     "execution_count": 199
    }
   ],
   "source": [
    "np.sqrt(a)  "
   ]
  },
  {
   "cell_type": "code",
   "execution_count": 200,
   "metadata": {},
   "outputs": [
    {
     "output_type": "execute_result",
     "data": {
      "text/plain": "1.5811388300841898"
     },
     "metadata": {},
     "execution_count": 200
    }
   ],
   "source": [
    "np.sqrt(2.5)  "
   ]
  },
  {
   "cell_type": "code",
   "execution_count": 201,
   "metadata": {},
   "outputs": [],
   "source": [
    "import math  "
   ]
  },
  {
   "cell_type": "code",
   "execution_count": 202,
   "metadata": {},
   "outputs": [
    {
     "output_type": "execute_result",
     "data": {
      "text/plain": "1.5811388300841898"
     },
     "metadata": {},
     "execution_count": 202
    }
   ],
   "source": [
    "math.sqrt(2.5)  "
   ]
  },
  {
   "cell_type": "code",
   "execution_count": 203,
   "metadata": {},
   "outputs": [],
   "source": [
    "# causes intentional error\n",
    "# math.sqrt(a)  "
   ]
  },
  {
   "cell_type": "code",
   "execution_count": 204,
   "metadata": {
    "tags": []
   },
   "outputs": [
    {
     "output_type": "stream",
     "name": "stdout",
     "text": "736 ns ± 30 ns per loop (mean ± std. dev. of 7 runs, 1000000 loops each)\n"
    }
   ],
   "source": [
    "%timeit np.sqrt(2.5)  "
   ]
  },
  {
   "cell_type": "code",
   "execution_count": 205,
   "metadata": {
    "tags": []
   },
   "outputs": [
    {
     "output_type": "stream",
     "name": "stdout",
     "text": "115 ns ± 3.92 ns per loop (mean ± std. dev. of 7 runs, 10000000 loops each)\n"
    }
   ],
   "source": [
    "%timeit math.sqrt(2.5)  "
   ]
  },
  {
   "cell_type": "markdown",
   "metadata": {},
   "source": [
    "### Multiple Dimensions"
   ]
  },
  {
   "cell_type": "code",
   "execution_count": 206,
   "metadata": {
    "uuid": "3d05357c-109d-45c7-b10b-fe6c958fd33d"
   },
   "outputs": [
    {
     "output_type": "execute_result",
     "data": {
      "text/plain": "array([[ 0.,  1.,  2.,  3.,  4.,  5.,  6.,  7.],\n       [ 0.,  2.,  4.,  6.,  8., 10., 12., 14.]])"
     },
     "metadata": {},
     "execution_count": 206
    }
   ],
   "source": [
    "b = np.array([a, a * 2])  \n",
    "b"
   ]
  },
  {
   "cell_type": "code",
   "execution_count": 207,
   "metadata": {
    "uuid": "e536d513-ddb7-469d-9ad4-3abbc5cbf006"
   },
   "outputs": [
    {
     "output_type": "execute_result",
     "data": {
      "text/plain": "array([0., 1., 2., 3., 4., 5., 6., 7.])"
     },
     "metadata": {},
     "execution_count": 207
    }
   ],
   "source": [
    "b[0]  "
   ]
  },
  {
   "cell_type": "code",
   "execution_count": 208,
   "metadata": {
    "uuid": "d1d0c7dd-aadb-4217-b3ea-927f28f51300"
   },
   "outputs": [
    {
     "output_type": "execute_result",
     "data": {
      "text/plain": "2.0"
     },
     "metadata": {},
     "execution_count": 208
    }
   ],
   "source": [
    "b[0, 2]  "
   ]
  },
  {
   "cell_type": "code",
   "execution_count": 209,
   "metadata": {},
   "outputs": [
    {
     "output_type": "execute_result",
     "data": {
      "text/plain": "array([1., 2.])"
     },
     "metadata": {},
     "execution_count": 209
    }
   ],
   "source": [
    "b[:, 1]  "
   ]
  },
  {
   "cell_type": "code",
   "execution_count": 210,
   "metadata": {
    "uuid": "41b3d64b-6121-4578-b33c-f9bef4d23ddb"
   },
   "outputs": [
    {
     "output_type": "execute_result",
     "data": {
      "text/plain": "84.0"
     },
     "metadata": {},
     "execution_count": 210
    }
   ],
   "source": [
    "b.sum()  "
   ]
  },
  {
   "cell_type": "code",
   "execution_count": 211,
   "metadata": {
    "uuid": "ba56b01a-cf24-4bee-be04-cdadd59a6cb5"
   },
   "outputs": [
    {
     "output_type": "execute_result",
     "data": {
      "text/plain": "array([ 0.,  3.,  6.,  9., 12., 15., 18., 21.])"
     },
     "metadata": {},
     "execution_count": 211
    }
   ],
   "source": [
    "b.sum(axis=0)  "
   ]
  },
  {
   "cell_type": "code",
   "execution_count": 212,
   "metadata": {
    "uuid": "898c4a09-4488-4041-94a3-ea25cbd86637"
   },
   "outputs": [
    {
     "output_type": "execute_result",
     "data": {
      "text/plain": "array([28., 56.])"
     },
     "metadata": {},
     "execution_count": 212
    }
   ],
   "source": [
    "b.sum(axis=1)  "
   ]
  },
  {
   "cell_type": "code",
   "execution_count": 213,
   "metadata": {
    "uuid": "6d7362b7-dda8-4961-8be1-96da9b1718cf"
   },
   "outputs": [
    {
     "output_type": "execute_result",
     "data": {
      "text/plain": "array([[0, 0, 0],\n       [0, 0, 0]], dtype=int32)"
     },
     "metadata": {},
     "execution_count": 213
    }
   ],
   "source": [
    "c = np.zeros((2, 3), dtype='i', order='C')  \n",
    "c"
   ]
  },
  {
   "cell_type": "code",
   "execution_count": 214,
   "metadata": {
    "uuid": "6d7362b7-dda8-4961-8be1-96da9b1718cf"
   },
   "outputs": [
    {
     "output_type": "execute_result",
     "data": {
      "text/plain": "array([[[1, 1, 1, 1],\n        [1, 1, 1, 1],\n        [1, 1, 1, 1]],\n\n       [[1, 1, 1, 1],\n        [1, 1, 1, 1],\n        [1, 1, 1, 1]]], dtype=int32)"
     },
     "metadata": {},
     "execution_count": 214
    }
   ],
   "source": [
    "c = np.ones((2, 3, 4), dtype='i', order='C')  \n",
    "c"
   ]
  },
  {
   "cell_type": "code",
   "execution_count": 265,
   "metadata": {
    "uuid": "0d4862fd-4847-4dd7-b8cd-e6966bbd5913"
   },
   "outputs": [
    {
     "output_type": "execute_result",
     "data": {
      "text/plain": "array([[[0., 0., 0., 0.],\n        [0., 0., 0., 0.],\n        [0., 0., 0., 0.]],\n\n       [[0., 0., 0., 0.],\n        [0., 0., 0., 0.],\n        [0., 0., 0., 0.]]])"
     },
     "metadata": {},
     "execution_count": 265
    }
   ],
   "source": [
    "d = np.zeros_like(c, dtype='float', order='C')  \n",
    "d"
   ]
  },
  {
   "cell_type": "code",
   "execution_count": 266,
   "metadata": {
    "uuid": "0d4862fd-4847-4dd7-b8cd-e6966bbd5913"
   },
   "outputs": [
    {
     "output_type": "execute_result",
     "data": {
      "text/plain": "array([[[1., 1., 1., 1.],\n        [1., 1., 1., 1.],\n        [1., 1., 1., 1.]],\n\n       [[1., 1., 1., 1.],\n        [1., 1., 1., 1.],\n        [1., 1., 1., 1.]]])"
     },
     "metadata": {},
     "execution_count": 266
    }
   ],
   "source": [
    "d = np.ones_like(c, dtype='float', order='C')  \n",
    "d"
   ]
  },
  {
   "cell_type": "code",
   "execution_count": 217,
   "metadata": {},
   "outputs": [
    {
     "output_type": "execute_result",
     "data": {
      "text/plain": "array([[[0. , 0.5],\n        [1. , 1.5],\n        [2. , 2.5]],\n\n       [[3. , 3.5],\n        [4. , 4.5],\n        [5. , 5.5]]])"
     },
     "metadata": {},
     "execution_count": 217
    }
   ],
   "source": [
    "e = np.empty((2, 3, 2))  \n",
    "e"
   ]
  },
  {
   "cell_type": "code",
   "execution_count": 218,
   "metadata": {},
   "outputs": [
    {
     "output_type": "execute_result",
     "data": {
      "text/plain": "array([[[         0,          0,          0, 1071644672],\n        [         0, 1072693248,          0, 1073217536],\n        [         0, 1073741824,          0, 1074003968]],\n\n       [[         0, 1074266112,          0, 1074528256],\n        [         0, 1074790400,          0, 1074921472],\n        [         0, 1075052544,          0, 1075183616]]], dtype=int32)"
     },
     "metadata": {},
     "execution_count": 218
    }
   ],
   "source": [
    "f = np.empty_like(c)  \n",
    "f"
   ]
  },
  {
   "cell_type": "code",
   "execution_count": 219,
   "metadata": {},
   "outputs": [
    {
     "output_type": "execute_result",
     "data": {
      "text/plain": "array([[1., 0., 0., 0., 0.],\n       [0., 1., 0., 0., 0.],\n       [0., 0., 1., 0., 0.],\n       [0., 0., 0., 1., 0.],\n       [0., 0., 0., 0., 1.]])"
     },
     "metadata": {},
     "execution_count": 219
    }
   ],
   "source": [
    "np.eye(5)  "
   ]
  },
  {
   "cell_type": "code",
   "execution_count": 220,
   "metadata": {},
   "outputs": [
    {
     "output_type": "execute_result",
     "data": {
      "text/plain": "array([ 5.        ,  5.90909091,  6.81818182,  7.72727273,  8.63636364,\n        9.54545455, 10.45454545, 11.36363636, 12.27272727, 13.18181818,\n       14.09090909, 15.        ])"
     },
     "metadata": {},
     "execution_count": 220
    }
   ],
   "source": [
    "g = np.linspace(5, 15, 12) \n",
    "g"
   ]
  },
  {
   "cell_type": "markdown",
   "metadata": {},
   "source": [
    "### Meta-Information"
   ]
  },
  {
   "cell_type": "code",
   "execution_count": 221,
   "metadata": {},
   "outputs": [
    {
     "output_type": "execute_result",
     "data": {
      "text/plain": "12"
     },
     "metadata": {},
     "execution_count": 221
    }
   ],
   "source": [
    "g.size  "
   ]
  },
  {
   "cell_type": "code",
   "execution_count": 222,
   "metadata": {},
   "outputs": [
    {
     "output_type": "execute_result",
     "data": {
      "text/plain": "8"
     },
     "metadata": {},
     "execution_count": 222
    }
   ],
   "source": [
    "g.itemsize  "
   ]
  },
  {
   "cell_type": "code",
   "execution_count": 223,
   "metadata": {},
   "outputs": [
    {
     "output_type": "execute_result",
     "data": {
      "text/plain": "1"
     },
     "metadata": {},
     "execution_count": 223
    }
   ],
   "source": [
    "g.ndim  "
   ]
  },
  {
   "cell_type": "code",
   "execution_count": 224,
   "metadata": {},
   "outputs": [
    {
     "output_type": "execute_result",
     "data": {
      "text/plain": "(12,)"
     },
     "metadata": {},
     "execution_count": 224
    }
   ],
   "source": [
    "g.shape  "
   ]
  },
  {
   "cell_type": "code",
   "execution_count": 225,
   "metadata": {},
   "outputs": [
    {
     "output_type": "execute_result",
     "data": {
      "text/plain": "dtype('float64')"
     },
     "metadata": {},
     "execution_count": 225
    }
   ],
   "source": [
    "g.dtype  "
   ]
  },
  {
   "cell_type": "code",
   "execution_count": 226,
   "metadata": {},
   "outputs": [
    {
     "output_type": "execute_result",
     "data": {
      "text/plain": "96"
     },
     "metadata": {},
     "execution_count": 226
    }
   ],
   "source": [
    "g.nbytes  "
   ]
  },
  {
   "cell_type": "markdown",
   "metadata": {},
   "source": [
    "### Reshaping, Resizing, Stacking, Flattening"
   ]
  },
  {
   "cell_type": "code",
   "execution_count": 227,
   "metadata": {},
   "outputs": [],
   "source": [
    "g = np.arange(15)"
   ]
  },
  {
   "cell_type": "code",
   "execution_count": 228,
   "metadata": {},
   "outputs": [
    {
     "output_type": "execute_result",
     "data": {
      "text/plain": "array([ 0,  1,  2,  3,  4,  5,  6,  7,  8,  9, 10, 11, 12, 13, 14])"
     },
     "metadata": {},
     "execution_count": 228
    }
   ],
   "source": [
    "g"
   ]
  },
  {
   "cell_type": "code",
   "execution_count": 229,
   "metadata": {},
   "outputs": [
    {
     "output_type": "execute_result",
     "data": {
      "text/plain": "(15,)"
     },
     "metadata": {},
     "execution_count": 229
    }
   ],
   "source": [
    "g.shape  "
   ]
  },
  {
   "cell_type": "code",
   "execution_count": 230,
   "metadata": {},
   "outputs": [
    {
     "output_type": "execute_result",
     "data": {
      "text/plain": "(15,)"
     },
     "metadata": {},
     "execution_count": 230
    }
   ],
   "source": [
    "np.shape(g) "
   ]
  },
  {
   "cell_type": "code",
   "execution_count": 231,
   "metadata": {},
   "outputs": [
    {
     "output_type": "execute_result",
     "data": {
      "text/plain": "array([[ 0,  1,  2,  3,  4],\n       [ 5,  6,  7,  8,  9],\n       [10, 11, 12, 13, 14]])"
     },
     "metadata": {},
     "execution_count": 231
    }
   ],
   "source": [
    "g.reshape((3, 5))  "
   ]
  },
  {
   "cell_type": "code",
   "execution_count": 232,
   "metadata": {},
   "outputs": [
    {
     "output_type": "execute_result",
     "data": {
      "text/plain": "array([[ 0,  1,  2,  3,  4],\n       [ 5,  6,  7,  8,  9],\n       [10, 11, 12, 13, 14]])"
     },
     "metadata": {},
     "execution_count": 232
    }
   ],
   "source": [
    "g.reshape((-1, 5))"
   ]
  },
  {
   "cell_type": "code",
   "execution_count": 233,
   "metadata": {},
   "outputs": [
    {
     "output_type": "execute_result",
     "data": {
      "text/plain": "array([[ 0,  1,  2],\n       [ 3,  4,  5],\n       [ 6,  7,  8],\n       [ 9, 10, 11],\n       [12, 13, 14]])"
     },
     "metadata": {},
     "execution_count": 233
    }
   ],
   "source": [
    "h = g.reshape((5, 3))  \n",
    "h"
   ]
  },
  {
   "cell_type": "code",
   "execution_count": 234,
   "metadata": {},
   "outputs": [
    {
     "output_type": "execute_result",
     "data": {
      "text/plain": "array([[ 0,  3,  6,  9, 12],\n       [ 1,  4,  7, 10, 13],\n       [ 2,  5,  8, 11, 14]])"
     },
     "metadata": {},
     "execution_count": 234
    }
   ],
   "source": [
    "h.T  "
   ]
  },
  {
   "cell_type": "code",
   "execution_count": 235,
   "metadata": {},
   "outputs": [
    {
     "output_type": "execute_result",
     "data": {
      "text/plain": "array([[ 0,  3,  6,  9, 12],\n       [ 1,  4,  7, 10, 13],\n       [ 2,  5,  8, 11, 14]])"
     },
     "metadata": {},
     "execution_count": 235
    }
   ],
   "source": [
    "h.transpose()  "
   ]
  },
  {
   "cell_type": "code",
   "execution_count": 236,
   "metadata": {},
   "outputs": [
    {
     "output_type": "execute_result",
     "data": {
      "text/plain": "array([ 0,  1,  2,  3,  4,  5,  6,  7,  8,  9, 10, 11, 12, 13, 14])"
     },
     "metadata": {},
     "execution_count": 236
    }
   ],
   "source": [
    "g"
   ]
  },
  {
   "cell_type": "code",
   "execution_count": 237,
   "metadata": {},
   "outputs": [
    {
     "output_type": "execute_result",
     "data": {
      "text/plain": "array([[0],\n       [1],\n       [2]])"
     },
     "metadata": {},
     "execution_count": 237
    }
   ],
   "source": [
    "np.resize(g, (3, 1))  "
   ]
  },
  {
   "cell_type": "code",
   "execution_count": 238,
   "metadata": {},
   "outputs": [
    {
     "output_type": "execute_result",
     "data": {
      "text/plain": "array([[0, 1, 2, 3, 4]])"
     },
     "metadata": {},
     "execution_count": 238
    }
   ],
   "source": [
    "np.resize(g, (1, 5))  "
   ]
  },
  {
   "cell_type": "code",
   "execution_count": 239,
   "metadata": {},
   "outputs": [
    {
     "output_type": "execute_result",
     "data": {
      "text/plain": "array([[0, 1, 2, 3, 4],\n       [5, 6, 7, 8, 9]])"
     },
     "metadata": {},
     "execution_count": 239
    }
   ],
   "source": [
    "np.resize(g, (2, 5))  "
   ]
  },
  {
   "cell_type": "code",
   "execution_count": 240,
   "metadata": {},
   "outputs": [
    {
     "output_type": "execute_result",
     "data": {
      "text/plain": "array([[ 0,  1,  2,  3],\n       [ 4,  5,  6,  7],\n       [ 8,  9, 10, 11],\n       [12, 13, 14,  0],\n       [ 1,  2,  3,  4]])"
     },
     "metadata": {},
     "execution_count": 240
    }
   ],
   "source": [
    "n = np.resize(g, (5, 4))  \n",
    "n"
   ]
  },
  {
   "cell_type": "code",
   "execution_count": 241,
   "metadata": {},
   "outputs": [
    {
     "output_type": "execute_result",
     "data": {
      "text/plain": "array([[ 0,  1,  2],\n       [ 3,  4,  5],\n       [ 6,  7,  8],\n       [ 9, 10, 11],\n       [12, 13, 14]])"
     },
     "metadata": {},
     "execution_count": 241
    }
   ],
   "source": [
    "h"
   ]
  },
  {
   "cell_type": "code",
   "execution_count": 242,
   "metadata": {},
   "outputs": [
    {
     "output_type": "execute_result",
     "data": {
      "text/plain": "array([[ 0,  1,  2,  0,  2,  4],\n       [ 3,  4,  5,  6,  8, 10],\n       [ 6,  7,  8, 12, 14, 16],\n       [ 9, 10, 11, 18, 20, 22],\n       [12, 13, 14, 24, 26, 28]])"
     },
     "metadata": {},
     "execution_count": 242
    }
   ],
   "source": [
    "np.hstack((h, 2 * h))  "
   ]
  },
  {
   "cell_type": "code",
   "execution_count": 243,
   "metadata": {},
   "outputs": [
    {
     "output_type": "execute_result",
     "data": {
      "text/plain": "array([[ 0. ,  1. ,  2. ],\n       [ 3. ,  4. ,  5. ],\n       [ 6. ,  7. ,  8. ],\n       [ 9. , 10. , 11. ],\n       [12. , 13. , 14. ],\n       [ 0. ,  0.5,  1. ],\n       [ 1.5,  2. ,  2.5],\n       [ 3. ,  3.5,  4. ],\n       [ 4.5,  5. ,  5.5],\n       [ 6. ,  6.5,  7. ]])"
     },
     "metadata": {},
     "execution_count": 243
    }
   ],
   "source": [
    "np.vstack((h, 0.5 * h))  "
   ]
  },
  {
   "cell_type": "code",
   "execution_count": 244,
   "metadata": {},
   "outputs": [
    {
     "output_type": "execute_result",
     "data": {
      "text/plain": "array([[ 0,  1,  2],\n       [ 3,  4,  5],\n       [ 6,  7,  8],\n       [ 9, 10, 11],\n       [12, 13, 14]])"
     },
     "metadata": {},
     "execution_count": 244
    }
   ],
   "source": [
    "h"
   ]
  },
  {
   "cell_type": "code",
   "execution_count": 245,
   "metadata": {},
   "outputs": [
    {
     "output_type": "execute_result",
     "data": {
      "text/plain": "array([ 0,  1,  2,  3,  4,  5,  6,  7,  8,  9, 10, 11, 12, 13, 14])"
     },
     "metadata": {},
     "execution_count": 245
    }
   ],
   "source": [
    "h.flatten()  "
   ]
  },
  {
   "cell_type": "code",
   "execution_count": 246,
   "metadata": {},
   "outputs": [
    {
     "output_type": "execute_result",
     "data": {
      "text/plain": "array([ 0,  1,  2,  3,  4,  5,  6,  7,  8,  9, 10, 11, 12, 13, 14])"
     },
     "metadata": {},
     "execution_count": 246
    }
   ],
   "source": [
    "h.flatten(order='C')  "
   ]
  },
  {
   "cell_type": "code",
   "execution_count": 247,
   "metadata": {},
   "outputs": [
    {
     "output_type": "execute_result",
     "data": {
      "text/plain": "array([ 0,  3,  6,  9, 12,  1,  4,  7, 10, 13,  2,  5,  8, 11, 14])"
     },
     "metadata": {},
     "execution_count": 247
    }
   ],
   "source": [
    "h.flatten(order='F')  "
   ]
  },
  {
   "cell_type": "code",
   "execution_count": 248,
   "metadata": {
    "tags": []
   },
   "outputs": [
    {
     "output_type": "stream",
     "name": "stdout",
     "text": "0,1,2,3,4,5,6,7,8,9,10,11,12,13,14,"
    }
   ],
   "source": [
    "for i in h.flat:  \n",
    "    print(i, end=',')"
   ]
  },
  {
   "cell_type": "code",
   "execution_count": 249,
   "metadata": {
    "tags": []
   },
   "outputs": [
    {
     "output_type": "stream",
     "name": "stdout",
     "text": "0,1,2,3,4,5,6,7,8,9,10,11,12,13,14,"
    }
   ],
   "source": [
    "for i in h.ravel(order='C'):  \n",
    "    print(i, end=',')"
   ]
  },
  {
   "cell_type": "code",
   "execution_count": 250,
   "metadata": {
    "tags": []
   },
   "outputs": [
    {
     "output_type": "stream",
     "name": "stdout",
     "text": "0,3,6,9,12,1,4,7,10,13,2,5,8,11,14,"
    }
   ],
   "source": [
    "for i in h.ravel(order='F'):  \n",
    "    print(i, end=',')"
   ]
  },
  {
   "cell_type": "markdown",
   "metadata": {},
   "source": [
    "### Boolean Arrays"
   ]
  },
  {
   "cell_type": "code",
   "execution_count": 251,
   "metadata": {},
   "outputs": [
    {
     "output_type": "execute_result",
     "data": {
      "text/plain": "array([[ 0,  1,  2],\n       [ 3,  4,  5],\n       [ 6,  7,  8],\n       [ 9, 10, 11],\n       [12, 13, 14]])"
     },
     "metadata": {},
     "execution_count": 251
    }
   ],
   "source": [
    "h"
   ]
  },
  {
   "cell_type": "code",
   "execution_count": 252,
   "metadata": {},
   "outputs": [
    {
     "output_type": "execute_result",
     "data": {
      "text/plain": "array([[False, False, False],\n       [False, False, False],\n       [False, False, False],\n       [ True,  True,  True],\n       [ True,  True,  True]])"
     },
     "metadata": {},
     "execution_count": 252
    }
   ],
   "source": [
    "h > 8  "
   ]
  },
  {
   "cell_type": "code",
   "execution_count": 253,
   "metadata": {},
   "outputs": [
    {
     "output_type": "execute_result",
     "data": {
      "text/plain": "array([[ True,  True,  True],\n       [ True,  True,  True],\n       [ True,  True, False],\n       [False, False, False],\n       [False, False, False]])"
     },
     "metadata": {},
     "execution_count": 253
    }
   ],
   "source": [
    "h <= 7  "
   ]
  },
  {
   "cell_type": "code",
   "execution_count": 254,
   "metadata": {},
   "outputs": [
    {
     "output_type": "execute_result",
     "data": {
      "text/plain": "array([[False, False, False],\n       [False, False,  True],\n       [False, False, False],\n       [False, False, False],\n       [False, False, False]])"
     },
     "metadata": {},
     "execution_count": 254
    }
   ],
   "source": [
    "h == 5  "
   ]
  },
  {
   "cell_type": "code",
   "execution_count": 255,
   "metadata": {},
   "outputs": [
    {
     "output_type": "execute_result",
     "data": {
      "text/plain": "array([[0, 0, 0],\n       [0, 0, 1],\n       [0, 0, 0],\n       [0, 0, 0],\n       [0, 0, 0]])"
     },
     "metadata": {},
     "execution_count": 255
    }
   ],
   "source": [
    "(h == 5).astype(int)  "
   ]
  },
  {
   "cell_type": "code",
   "execution_count": 256,
   "metadata": {},
   "outputs": [
    {
     "output_type": "execute_result",
     "data": {
      "text/plain": "array([[False, False, False],\n       [False, False,  True],\n       [ True,  True,  True],\n       [ True,  True,  True],\n       [ True, False, False]])"
     },
     "metadata": {},
     "execution_count": 256
    }
   ],
   "source": [
    "(h > 4) & (h <= 12)  "
   ]
  },
  {
   "cell_type": "code",
   "execution_count": 257,
   "metadata": {},
   "outputs": [
    {
     "output_type": "execute_result",
     "data": {
      "text/plain": "array([ 9, 10, 11, 12, 13, 14])"
     },
     "metadata": {},
     "execution_count": 257
    }
   ],
   "source": [
    "h[h > 8]  "
   ]
  },
  {
   "cell_type": "code",
   "execution_count": 258,
   "metadata": {},
   "outputs": [
    {
     "output_type": "execute_result",
     "data": {
      "text/plain": "array([ 5,  6,  7,  8,  9, 10, 11, 12])"
     },
     "metadata": {},
     "execution_count": 258
    }
   ],
   "source": [
    "h[(h > 4) & (h <= 12)]  "
   ]
  },
  {
   "cell_type": "code",
   "execution_count": 259,
   "metadata": {},
   "outputs": [
    {
     "output_type": "execute_result",
     "data": {
      "text/plain": "array([ 0,  1,  2,  3, 12, 13, 14])"
     },
     "metadata": {},
     "execution_count": 259
    }
   ],
   "source": [
    "h[(h < 4) | (h >= 12)]  "
   ]
  },
  {
   "cell_type": "code",
   "execution_count": 260,
   "metadata": {},
   "outputs": [
    {
     "output_type": "execute_result",
     "data": {
      "text/plain": "array([[0, 0, 0],\n       [0, 0, 0],\n       [0, 0, 1],\n       [1, 1, 1],\n       [1, 1, 1]])"
     },
     "metadata": {},
     "execution_count": 260
    }
   ],
   "source": [
    "np.where(h > 7, 1, 0)  "
   ]
  },
  {
   "cell_type": "code",
   "execution_count": 261,
   "metadata": {},
   "outputs": [
    {
     "output_type": "execute_result",
     "data": {
      "text/plain": "array([['even', 'odd', 'even'],\n       ['odd', 'even', 'odd'],\n       ['even', 'odd', 'even'],\n       ['odd', 'even', 'odd'],\n       ['even', 'odd', 'even']], dtype='<U4')"
     },
     "metadata": {},
     "execution_count": 261
    }
   ],
   "source": [
    "np.where(h % 2 == 0, 'even', 'odd')  "
   ]
  },
  {
   "cell_type": "code",
   "execution_count": 262,
   "metadata": {},
   "outputs": [
    {
     "output_type": "execute_result",
     "data": {
      "text/plain": "array([[ 0. ,  2. ,  4. ],\n       [ 6. ,  8. , 10. ],\n       [12. , 14. ,  4. ],\n       [ 4.5,  5. ,  5.5],\n       [ 6. ,  6.5,  7. ]])"
     },
     "metadata": {},
     "execution_count": 262
    }
   ],
   "source": [
    "np.where(h <= 7, h * 2, h / 2)  "
   ]
  },
  {
   "cell_type": "markdown",
   "metadata": {},
   "source": [
    "### Speed Comparison"
   ]
  },
  {
   "cell_type": "code",
   "execution_count": 263,
   "metadata": {},
   "outputs": [],
   "source": [
    "import random\n",
    "I = 5000"
   ]
  },
  {
   "cell_type": "code",
   "execution_count": 268,
   "metadata": {
    "tags": []
   },
   "outputs": [
    {
     "output_type": "stream",
     "name": "stdout",
     "text": "15.9 s ± 100 ms per loop (mean ± std. dev. of 7 runs, 1 loop each)\n"
    }
   ],
   "source": [
    "%%timeit\n",
    "mat = [[random.gauss(0, 1) for j in range(I)] for i in range(I)]  "
   ]
  },
  {
   "cell_type": "code",
   "execution_count": 269,
   "metadata": {},
   "outputs": [
    {
     "output_type": "execute_result",
     "data": {
      "text/plain": "array([ 0.50960172, -2.37661639,  1.270615  , -0.48007585, -0.63673628])"
     },
     "metadata": {},
     "execution_count": 269
    }
   ],
   "source": [
    "mat[0][:5]  "
   ]
  },
  {
   "cell_type": "code",
   "execution_count": 270,
   "metadata": {
    "tags": []
   },
   "outputs": [
    {
     "output_type": "stream",
     "name": "stdout",
     "text": "3.69 s ± 28.8 ms per loop (mean ± std. dev. of 7 runs, 1 loop each)\n"
    }
   ],
   "source": [
    "%%timeit\n",
    "sum([sum(l) for l in mat])  "
   ]
  },
  {
   "cell_type": "code",
   "execution_count": 271,
   "metadata": {
    "tags": []
   },
   "outputs": [
    {
     "output_type": "stream",
     "name": "stdout",
     "text": "0 MB\n"
    }
   ],
   "source": [
    "import sys\n",
    "print(\"%d MB\" % (sum([sys.getsizeof(l) for l in mat])/1024/1024))"
   ]
  },
  {
   "cell_type": "code",
   "execution_count": 272,
   "metadata": {
    "tags": []
   },
   "outputs": [
    {
     "output_type": "stream",
     "name": "stdout",
     "text": "643 ms ± 2.04 ms per loop (mean ± std. dev. of 7 runs, 1 loop each)\n"
    }
   ],
   "source": [
    "%%timeit\n",
    "mat = np.random.standard_normal((I, I))  "
   ]
  },
  {
   "cell_type": "code",
   "execution_count": 273,
   "metadata": {},
   "outputs": [],
   "source": [
    "mat = np.random.standard_normal((I, I)) "
   ]
  },
  {
   "cell_type": "code",
   "execution_count": 274,
   "metadata": {
    "tags": []
   },
   "outputs": [
    {
     "output_type": "stream",
     "name": "stdout",
     "text": "26.5 ms ± 158 µs per loop (mean ± std. dev. of 7 runs, 10 loops each)\n"
    }
   ],
   "source": [
    "%%timeit \n",
    "mat.sum()  "
   ]
  },
  {
   "cell_type": "code",
   "execution_count": 275,
   "metadata": {
    "tags": []
   },
   "outputs": [
    {
     "output_type": "stream",
     "name": "stdout",
     "text": "200000000\n190.73486328125\n"
    }
   ],
   "source": [
    "print(mat.nbytes)\n",
    "print(mat.nbytes / 1024 / 1024)  "
   ]
  },
  {
   "cell_type": "code",
   "execution_count": 276,
   "metadata": {},
   "outputs": [
    {
     "output_type": "execute_result",
     "data": {
      "text/plain": "200000112"
     },
     "metadata": {},
     "execution_count": 276
    }
   ],
   "source": [
    "sys.getsizeof(mat)  "
   ]
  },
  {
   "cell_type": "markdown",
   "metadata": {},
   "source": [
    "### Structured Arrays"
   ]
  },
  {
   "cell_type": "code",
   "execution_count": 277,
   "metadata": {},
   "outputs": [],
   "source": [
    "dt = np.dtype([('Name', 'S10'), ('Age', 'i4'),\n",
    "               ('Height', 'f'), ('Children/Pets', 'i4', 2)])  "
   ]
  },
  {
   "cell_type": "code",
   "execution_count": 278,
   "metadata": {},
   "outputs": [
    {
     "output_type": "execute_result",
     "data": {
      "text/plain": "dtype([('Name', 'S10'), ('Age', '<i4'), ('Height', '<f4'), ('Children/Pets', '<i4', (2,))])"
     },
     "metadata": {},
     "execution_count": 278
    }
   ],
   "source": [
    "dt  "
   ]
  },
  {
   "cell_type": "code",
   "execution_count": 279,
   "metadata": {},
   "outputs": [],
   "source": [
    "dt = np.dtype({'names': ['Name', 'Age', 'Height', 'Children/Pets'],\n",
    "             'formats':'O int float int,int'.split()})  "
   ]
  },
  {
   "cell_type": "code",
   "execution_count": 280,
   "metadata": {},
   "outputs": [
    {
     "output_type": "execute_result",
     "data": {
      "text/plain": "dtype([('Name', 'O'), ('Age', '<i4'), ('Height', '<f8'), ('Children/Pets', [('f0', '<i4'), ('f1', '<i4')])])"
     },
     "metadata": {},
     "execution_count": 280
    }
   ],
   "source": [
    "dt  "
   ]
  },
  {
   "cell_type": "code",
   "execution_count": 281,
   "metadata": {},
   "outputs": [],
   "source": [
    "s = np.array([('Smith', 45, 1.83, (0, 1)),\n",
    "              ('Jones', 53, 1.72, (2, 2))], dtype=dt)  "
   ]
  },
  {
   "cell_type": "code",
   "execution_count": 282,
   "metadata": {
    "uuid": "15905219-d8fd-46f0-a1d9-2c2735d98b29"
   },
   "outputs": [
    {
     "output_type": "execute_result",
     "data": {
      "text/plain": "array([('Smith', 45, 1.83, (0, 1)), ('Jones', 53, 1.72, (2, 2))],\n      dtype=[('Name', 'O'), ('Age', '<i4'), ('Height', '<f8'), ('Children/Pets', [('f0', '<i4'), ('f1', '<i4')])])"
     },
     "metadata": {},
     "execution_count": 282
    }
   ],
   "source": [
    "s  "
   ]
  },
  {
   "cell_type": "code",
   "execution_count": 283,
   "metadata": {},
   "outputs": [
    {
     "output_type": "execute_result",
     "data": {
      "text/plain": "numpy.ndarray"
     },
     "metadata": {},
     "execution_count": 283
    }
   ],
   "source": [
    "type(s)  "
   ]
  },
  {
   "cell_type": "code",
   "execution_count": 284,
   "metadata": {
    "uuid": "9932654e-a73d-4cd6-a18e-5199f29efe44"
   },
   "outputs": [
    {
     "output_type": "execute_result",
     "data": {
      "text/plain": "array(['Smith', 'Jones'], dtype=object)"
     },
     "metadata": {},
     "execution_count": 284
    }
   ],
   "source": [
    "s['Name']  "
   ]
  },
  {
   "cell_type": "code",
   "execution_count": 285,
   "metadata": {
    "uuid": "10dc3d78-b6dc-4bf0-a4f1-1a4315bf0f2f"
   },
   "outputs": [
    {
     "output_type": "execute_result",
     "data": {
      "text/plain": "1.775"
     },
     "metadata": {},
     "execution_count": 285
    }
   ],
   "source": [
    "s['Height'].mean()  "
   ]
  },
  {
   "cell_type": "code",
   "execution_count": 286,
   "metadata": {},
   "outputs": [
    {
     "output_type": "execute_result",
     "data": {
      "text/plain": "('Smith', 45, 1.83, (0, 1))"
     },
     "metadata": {},
     "execution_count": 286
    }
   ],
   "source": [
    "s[0]  "
   ]
  },
  {
   "cell_type": "code",
   "execution_count": 287,
   "metadata": {
    "uuid": "1385e680-2a16-440d-a674-2ea5757fb41b"
   },
   "outputs": [
    {
     "output_type": "execute_result",
     "data": {
      "text/plain": "53"
     },
     "metadata": {},
     "execution_count": 287
    }
   ],
   "source": [
    "s[1]['Age']  "
   ]
  },
  {
   "cell_type": "markdown",
   "metadata": {},
   "source": [
    "## Vectorization of Code"
   ]
  },
  {
   "cell_type": "code",
   "execution_count": 288,
   "metadata": {
    "uuid": "28bac5ac-be5d-4f60-acc6-f844259c5a22"
   },
   "outputs": [],
   "source": [
    "np.random.seed(100)\n",
    "r = np.arange(12).reshape((4, 3))  \n",
    "s = np.arange(12).reshape((4, 3)) * 0.5  "
   ]
  },
  {
   "cell_type": "code",
   "execution_count": 289,
   "metadata": {},
   "outputs": [
    {
     "output_type": "execute_result",
     "data": {
      "text/plain": "array([[ 0,  1,  2],\n       [ 3,  4,  5],\n       [ 6,  7,  8],\n       [ 9, 10, 11]])"
     },
     "metadata": {},
     "execution_count": 289
    }
   ],
   "source": [
    "r  "
   ]
  },
  {
   "cell_type": "code",
   "execution_count": 290,
   "metadata": {
    "tags": []
   },
   "outputs": [
    {
     "output_type": "stream",
     "name": "stdout",
     "text": "[[0.  0.5 1. ]\n [1.5 2.  2.5]\n [3.  3.5 4. ]\n [4.5 5.  5.5]]\n[[0.  0.5 1. ]\n [1.5 2.  2.5]\n [3.  3.5 4. ]\n [4.5 5.  5.5]]\n"
    }
   ],
   "source": [
    "print(s)\n",
    "print(np.arange(0, 6, 0.5).reshape(4, -1))"
   ]
  },
  {
   "cell_type": "code",
   "execution_count": 291,
   "metadata": {
    "scrolled": true,
    "uuid": "91d91253-168a-4ff2-8452-67e2cfd5c2f8"
   },
   "outputs": [
    {
     "output_type": "execute_result",
     "data": {
      "text/plain": "array([[ 0. ,  1.5,  3. ],\n       [ 4.5,  6. ,  7.5],\n       [ 9. , 10.5, 12. ],\n       [13.5, 15. , 16.5]])"
     },
     "metadata": {},
     "execution_count": 291
    }
   ],
   "source": [
    "r + s  "
   ]
  },
  {
   "cell_type": "code",
   "execution_count": 292,
   "metadata": {
    "uuid": "305b5877-2410-48e0-b5d3-d7f2f384e953"
   },
   "outputs": [
    {
     "output_type": "execute_result",
     "data": {
      "text/plain": "array([[ 3,  4,  5],\n       [ 6,  7,  8],\n       [ 9, 10, 11],\n       [12, 13, 14]])"
     },
     "metadata": {},
     "execution_count": 292
    }
   ],
   "source": [
    "r + 3  "
   ]
  },
  {
   "cell_type": "code",
   "execution_count": 293,
   "metadata": {},
   "outputs": [
    {
     "output_type": "execute_result",
     "data": {
      "text/plain": "array([[ 0,  2,  4],\n       [ 6,  8, 10],\n       [12, 14, 16],\n       [18, 20, 22]])"
     },
     "metadata": {},
     "execution_count": 293
    }
   ],
   "source": [
    "2 * r  "
   ]
  },
  {
   "cell_type": "code",
   "execution_count": 294,
   "metadata": {},
   "outputs": [
    {
     "output_type": "execute_result",
     "data": {
      "text/plain": "array([[ 3,  5,  7],\n       [ 9, 11, 13],\n       [15, 17, 19],\n       [21, 23, 25]])"
     },
     "metadata": {},
     "execution_count": 294
    }
   ],
   "source": [
    "2 * r + 3  "
   ]
  },
  {
   "cell_type": "code",
   "execution_count": 295,
   "metadata": {},
   "outputs": [
    {
     "output_type": "execute_result",
     "data": {
      "text/plain": "array([[ 0,  1,  2],\n       [ 3,  4,  5],\n       [ 6,  7,  8],\n       [ 9, 10, 11]])"
     },
     "metadata": {},
     "execution_count": 295
    }
   ],
   "source": [
    "r"
   ]
  },
  {
   "cell_type": "code",
   "execution_count": 296,
   "metadata": {},
   "outputs": [
    {
     "output_type": "execute_result",
     "data": {
      "text/plain": "(4, 3)"
     },
     "metadata": {},
     "execution_count": 296
    }
   ],
   "source": [
    "r.shape"
   ]
  },
  {
   "cell_type": "code",
   "execution_count": 297,
   "metadata": {},
   "outputs": [
    {
     "output_type": "execute_result",
     "data": {
      "text/plain": "array([0, 4, 8])"
     },
     "metadata": {},
     "execution_count": 297
    }
   ],
   "source": [
    "s = np.arange(0, 12, 4)  \n",
    "s  "
   ]
  },
  {
   "cell_type": "code",
   "execution_count": 298,
   "metadata": {
    "uuid": "dd5f63cb-da0f-4397-8d86-315d115d4029"
   },
   "outputs": [
    {
     "output_type": "execute_result",
     "data": {
      "text/plain": "array([[ 0,  5, 10],\n       [ 3,  8, 13],\n       [ 6, 11, 16],\n       [ 9, 14, 19]])"
     },
     "metadata": {},
     "execution_count": 298
    }
   ],
   "source": [
    "r + s  "
   ]
  },
  {
   "cell_type": "code",
   "execution_count": 299,
   "metadata": {
    "uuid": "cc58e76c-c3b1-495b-9cbe-8fb3fa92a59d"
   },
   "outputs": [
    {
     "output_type": "execute_result",
     "data": {
      "text/plain": "array([0, 3, 6, 9])"
     },
     "metadata": {},
     "execution_count": 299
    }
   ],
   "source": [
    "s = np.arange(0, 12, 3)  \n",
    "s  "
   ]
  },
  {
   "cell_type": "code",
   "execution_count": 300,
   "metadata": {},
   "outputs": [],
   "source": [
    "# causes intentional error\n",
    "# r + s  "
   ]
  },
  {
   "cell_type": "code",
   "execution_count": 301,
   "metadata": {
    "uuid": "011f4087-a2d6-4731-ac27-07f31d11f017"
   },
   "outputs": [
    {
     "output_type": "execute_result",
     "data": {
      "text/plain": "array([[ 0,  6, 12, 18],\n       [ 1,  7, 13, 19],\n       [ 2,  8, 14, 20]])"
     },
     "metadata": {},
     "execution_count": 301
    }
   ],
   "source": [
    "r.transpose() + s  "
   ]
  },
  {
   "cell_type": "code",
   "execution_count": 302,
   "metadata": {},
   "outputs": [
    {
     "output_type": "execute_result",
     "data": {
      "text/plain": "array([[0],\n       [3],\n       [6],\n       [9]])"
     },
     "metadata": {},
     "execution_count": 302
    }
   ],
   "source": [
    "sr = s.reshape(-1, 1)  \n",
    "sr"
   ]
  },
  {
   "cell_type": "code",
   "execution_count": 303,
   "metadata": {},
   "outputs": [
    {
     "output_type": "execute_result",
     "data": {
      "text/plain": "(4, 1)"
     },
     "metadata": {},
     "execution_count": 303
    }
   ],
   "source": [
    "sr.shape  "
   ]
  },
  {
   "cell_type": "code",
   "execution_count": 304,
   "metadata": {},
   "outputs": [
    {
     "output_type": "execute_result",
     "data": {
      "text/plain": "array([[ 0,  1,  2],\n       [ 6,  7,  8],\n       [12, 13, 14],\n       [18, 19, 20]])"
     },
     "metadata": {},
     "execution_count": 304
    }
   ],
   "source": [
    "r + s.reshape(-1, 1)  "
   ]
  },
  {
   "cell_type": "code",
   "execution_count": 305,
   "metadata": {
    "uuid": "0f3b5cad-0146-4203-b158-238203ef5764"
   },
   "outputs": [],
   "source": [
    "def f(x):\n",
    "    return 3 * x + 5  "
   ]
  },
  {
   "cell_type": "code",
   "execution_count": 306,
   "metadata": {
    "uuid": "08b395e9-13fc-43c1-8bba-28c63a216366"
   },
   "outputs": [
    {
     "output_type": "execute_result",
     "data": {
      "text/plain": "6.5"
     },
     "metadata": {},
     "execution_count": 306
    }
   ],
   "source": [
    "f(0.5)  "
   ]
  },
  {
   "cell_type": "code",
   "execution_count": 307,
   "metadata": {
    "uuid": "1895e566-c5ee-4856-bca5-37fef37df0c5"
   },
   "outputs": [
    {
     "output_type": "execute_result",
     "data": {
      "text/plain": "array([[ 5,  8, 11],\n       [14, 17, 20],\n       [23, 26, 29],\n       [32, 35, 38]])"
     },
     "metadata": {},
     "execution_count": 307
    }
   ],
   "source": [
    "f(r)  "
   ]
  },
  {
   "cell_type": "markdown",
   "metadata": {},
   "source": [
    "## Memory Layout"
   ]
  },
  {
   "cell_type": "markdown",
   "metadata": {},
   "source": [
    "Cf. http://eli.thegreenplace.net/2015/memory-layout-of-multi-dimensional-arrays/\n",
    "\n",
    "使用小型数组时，这对数组操作性能没有任何可测的影响。但是，当数组很大时情况就有所不同，这取决于具体在数组上实施的操作。这时内存布局就派上用场了"
   ]
  },
  {
   "cell_type": "code",
   "execution_count": 321,
   "metadata": {},
   "outputs": [],
   "source": [
    "x = np.random.standard_normal((1000000, 5))  "
   ]
  },
  {
   "cell_type": "code",
   "execution_count": 322,
   "metadata": {},
   "outputs": [],
   "source": [
    "y = 2 * x + 3  "
   ]
  },
  {
   "cell_type": "code",
   "execution_count": 310,
   "metadata": {},
   "outputs": [],
   "source": [
    "C = np.array((x, y), order='C')  "
   ]
  },
  {
   "cell_type": "code",
   "execution_count": 311,
   "metadata": {},
   "outputs": [],
   "source": [
    "F = np.array((x, y), order='F')  "
   ]
  },
  {
   "cell_type": "code",
   "execution_count": 312,
   "metadata": {
    "uuid": "f34c0c3d-112d-4ac4-bd48-21df98096047"
   },
   "outputs": [],
   "source": [
    "x = 0.0; y = 0.0  "
   ]
  },
  {
   "cell_type": "code",
   "execution_count": 313,
   "metadata": {
    "uuid": "f3fb83da-569c-423b-911e-9a2078d385b8"
   },
   "outputs": [
    {
     "output_type": "execute_result",
     "data": {
      "text/plain": "array([[[-1.75,  0.34,  1.15, -0.25,  0.98],\n        [ 0.51,  0.22, -1.07, -0.19,  0.26],\n        [-0.46,  0.44, -0.58,  0.82,  0.67],\n        ...,\n        [-0.05,  0.14,  0.17,  0.33,  1.39],\n        [ 1.02,  0.3 , -1.23, -0.68, -0.87],\n        [ 0.83, -0.73,  1.03,  0.34, -0.46]],\n\n       [[-0.5 ,  3.69,  5.31,  2.5 ,  4.96],\n        [ 4.03,  3.44,  0.86,  2.62,  3.51],\n        [ 2.08,  3.87,  1.83,  4.63,  4.35],\n        ...,\n        [ 2.9 ,  3.28,  3.33,  3.67,  5.78],\n        [ 5.04,  3.6 ,  0.54,  1.65,  1.26],\n        [ 4.67,  1.54,  5.06,  3.69,  2.07]]])"
     },
     "metadata": {},
     "execution_count": 313
    }
   ],
   "source": [
    "C[:2].round(2)  "
   ]
  },
  {
   "cell_type": "code",
   "execution_count": 314,
   "metadata": {
    "uuid": "a1a2af02-b1a0-4a41-a2e8-dd77b02ba796",
    "tags": []
   },
   "outputs": [
    {
     "output_type": "stream",
     "name": "stdout",
     "text": "10.4 ms ± 21.1 µs per loop (mean ± std. dev. of 7 runs, 100 loops each)\n"
    }
   ],
   "source": [
    "%timeit C.sum()  "
   ]
  },
  {
   "cell_type": "code",
   "execution_count": 315,
   "metadata": {
    "uuid": "34e089f9-2877-48d5-b980-3a22949cb5e2",
    "tags": []
   },
   "outputs": [
    {
     "output_type": "stream",
     "name": "stdout",
     "text": "10.4 ms ± 38.1 µs per loop (mean ± std. dev. of 7 runs, 100 loops each)\n"
    }
   ],
   "source": [
    "%timeit F.sum()  "
   ]
  },
  {
   "cell_type": "code",
   "execution_count": 316,
   "metadata": {
    "uuid": "9ccbdca7-b257-432b-b609-c2f31ff181e1",
    "tags": []
   },
   "outputs": [
    {
     "output_type": "stream",
     "name": "stdout",
     "text": "27.8 ms ± 218 µs per loop (mean ± std. dev. of 7 runs, 10 loops each)\n"
    }
   ],
   "source": [
    "%timeit C.sum(axis=0)  "
   ]
  },
  {
   "cell_type": "code",
   "execution_count": 317,
   "metadata": {
    "uuid": "c681dab3-43d5-4247-bca5-7bb7ae41d821",
    "tags": []
   },
   "outputs": [
    {
     "output_type": "stream",
     "name": "stdout",
     "text": "31 ms ± 2.08 ms per loop (mean ± std. dev. of 7 runs, 10 loops each)\n"
    }
   ],
   "source": [
    "%timeit C.sum(axis=1)  "
   ]
  },
  {
   "cell_type": "code",
   "execution_count": 318,
   "metadata": {
    "uuid": "da5381da-b137-4da9-93f4-47d94f27b81d",
    "tags": []
   },
   "outputs": [
    {
     "output_type": "stream",
     "name": "stdout",
     "text": "65.5 ms ± 1.16 ms per loop (mean ± std. dev. of 7 runs, 10 loops each)\n"
    }
   ],
   "source": [
    "%timeit F.sum(axis=0)  "
   ]
  },
  {
   "cell_type": "code",
   "execution_count": 319,
   "metadata": {
    "uuid": "b31c6c3e-d720-4641-a6f9-8591b51b712e",
    "tags": []
   },
   "outputs": [
    {
     "output_type": "stream",
     "name": "stdout",
     "text": "66.4 ms ± 771 µs per loop (mean ± std. dev. of 7 runs, 10 loops each)\n"
    }
   ],
   "source": [
    "%timeit F.sum(axis=1)  "
   ]
  },
  {
   "cell_type": "code",
   "execution_count": 323,
   "metadata": {
    "uuid": "89201348-9a27-4883-b6b9-5f1caf291b61"
   },
   "outputs": [],
   "source": [
    "F = 0.0; C = 0.0  "
   ]
  },
  {
   "cell_type": "markdown",
   "metadata": {},
   "source": [
    "计算所有元素总和时，内存布局不重要；\n",
    "\n",
    "加总C顺序的ndarray对象不管按行和按列都更快（绝对的速度优势）；对于C顺序（行优先）的ndarray对象，按行加总相对快于按列加总；\n",
    "\n",
    "对于F顺序（列优先）的ndarray对象，按列行加总相对快于按行加总。"
   ]
  }
 ],
 "metadata": {
  "kernelspec": {
   "display_name": "Python 3.7.7 64-bit ('anaconda': conda)",
   "language": "python",
   "name": "python_defaultSpec_1598692300895"
  },
  "language_info": {
   "codemirror_mode": {
    "name": "ipython",
    "version": 3
   },
   "file_extension": ".py",
   "mimetype": "text/x-python",
   "name": "python",
   "nbconvert_exporter": "python",
   "pygments_lexer": "ipython3",
   "version": "3.7.7-final"
  }
 },
 "nbformat": 4,
 "nbformat_minor": 4
}