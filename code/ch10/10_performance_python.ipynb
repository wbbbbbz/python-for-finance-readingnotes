{
 "cells": [
  {
   "cell_type": "markdown",
   "metadata": {},
   "source": [
    "<img src=\"http://hilpisch.com/tpq_logo.png\" alt=\"The Python Quants\" width=\"35%\" align=\"right\" border=\"0\"><br>"
   ]
  },
  {
   "cell_type": "markdown",
   "metadata": {},
   "source": [
    "# Python for Finance (2nd ed.)\n",
    "\n",
    "**Mastering Data-Driven Finance**\n",
    "\n",
    "&copy; Dr. Yves J. Hilpisch | The Python Quants GmbH\n",
    "\n",
    "<img src=\"http://hilpisch.com/images/py4fi_2nd_shadow.png\" width=\"300px\" align=\"left\">"
   ]
  },
  {
   "cell_type": "markdown",
   "metadata": {},
   "source": [
    "# Performance Python\n",
    "\n",
    "本章将介绍，如何明智地使用数据结构、选择合适的实现方法及范型，以及使用正确的高性能软件包。Python甚至可以与编译型编程语言匹敌，这是因为它本身也是编译后执行的。"
   ]
  },
  {
   "cell_type": "markdown",
   "metadata": {},
   "source": [
    "### 向量化\n",
    "利用Python的向量化功能，是前几章已经广泛使用的方法。\n",
    "### 动态编译\n",
    "Numba软件包可以让我们使用LLVM技术来动态地编译纯Python代码。\n",
    "### 静态编译\n",
    "Cython不仅是一个Python软件包，还是一种组合了Python和C的混合语言。例如，它可以使用静态类型声明，静态编译经过调整的代码。\n",
    "### 多进程\n",
    "Python的multiprocessing模块可以简便地实现代码并行执行。"
   ]
  },
  {
   "cell_type": "markdown",
   "metadata": {},
   "source": [
    "## Loops"
   ]
  },
  {
   "cell_type": "markdown",
   "metadata": {},
   "source": [
    "### Python"
   ]
  },
  {
   "cell_type": "code",
   "execution_count": 1,
   "metadata": {},
   "outputs": [],
   "source": [
    "import random"
   ]
  },
  {
   "cell_type": "code",
   "execution_count": 2,
   "metadata": {},
   "outputs": [],
   "source": [
    "def average_py(n):\n",
    "    s = 0  \n",
    "    for i in range(n):\n",
    "        s += random.random()  \n",
    "    return s / n  "
   ]
  },
  {
   "cell_type": "code",
   "execution_count": 3,
   "metadata": {},
   "outputs": [],
   "source": [
    "n = 10000000  "
   ]
  },
  {
   "cell_type": "code",
   "execution_count": 4,
   "metadata": {
    "tags": []
   },
   "outputs": [
    {
     "output_type": "stream",
     "name": "stdout",
     "text": "Wall time: 1.31 s\n"
    },
    {
     "output_type": "execute_result",
     "data": {
      "text/plain": "0.4998858137995871"
     },
     "metadata": {},
     "execution_count": 4
    }
   ],
   "source": [
    "%time average_py(n)  "
   ]
  },
  {
   "cell_type": "code",
   "execution_count": 5,
   "metadata": {
    "tags": []
   },
   "outputs": [
    {
     "output_type": "stream",
     "name": "stdout",
     "text": "1.15 s ± 29.3 ms per loop (mean ± std. dev. of 7 runs, 1 loop each)\n"
    }
   ],
   "source": [
    "%timeit average_py(n)  "
   ]
  },
  {
   "cell_type": "code",
   "execution_count": 6,
   "metadata": {
    "tags": []
   },
   "outputs": [
    {
     "output_type": "stream",
     "name": "stdout",
     "text": "Wall time: 1.62 s\n"
    },
    {
     "output_type": "execute_result",
     "data": {
      "text/plain": "0.5000110967916729"
     },
     "metadata": {},
     "execution_count": 6
    }
   ],
   "source": [
    "%time sum([random.random() for _ in range(n)]) / n  "
   ]
  },
  {
   "cell_type": "markdown",
   "metadata": {},
   "source": [
    "### NumPy \n",
    "\n",
    "NumPy的优势在于其向量化能力。从形式上看，Python级别的循环消失了；循环在更深的一级上，由NumPy提供的优化和预编译例程执行"
   ]
  },
  {
   "cell_type": "code",
   "execution_count": 7,
   "metadata": {},
   "outputs": [],
   "source": [
    "import numpy as np"
   ]
  },
  {
   "cell_type": "code",
   "execution_count": 8,
   "metadata": {},
   "outputs": [],
   "source": [
    "def average_np(n):\n",
    "    s = np.random.random(n)  \n",
    "    return s.mean()  "
   ]
  },
  {
   "cell_type": "code",
   "execution_count": 9,
   "metadata": {
    "tags": []
   },
   "outputs": [
    {
     "output_type": "stream",
     "name": "stdout",
     "text": "Wall time: 113 ms\n"
    },
    {
     "output_type": "execute_result",
     "data": {
      "text/plain": "0.5000011111984018"
     },
     "metadata": {},
     "execution_count": 9
    }
   ],
   "source": [
    "%time average_np(n)"
   ]
  },
  {
   "cell_type": "code",
   "execution_count": 10,
   "metadata": {
    "tags": []
   },
   "outputs": [
    {
     "output_type": "stream",
     "name": "stdout",
     "text": "103 ms ± 2.63 ms per loop (mean ± std. dev. of 7 runs, 10 loops each)\n"
    }
   ],
   "source": [
    "%timeit average_np(n)"
   ]
  },
  {
   "cell_type": "code",
   "execution_count": 11,
   "metadata": {},
   "outputs": [
    {
     "output_type": "execute_result",
     "data": {
      "text/plain": "80000000"
     },
     "metadata": {},
     "execution_count": 11
    }
   ],
   "source": [
    "s = np.random.random(n)\n",
    "s.nbytes  "
   ]
  },
  {
   "cell_type": "markdown",
   "metadata": {},
   "source": [
    "加速很可观，几乎达到10倍（一个数量级）。然而，为此必须付出的代价是明显更高的内存使用率。这是因为NumPy依靠预先分配数据并在编译后的层次内处理来得到高速度。因此，用这种方法无法处理“流化”数据。不同的算法或者问题使用的内存量甚至可能更高。\n",
    "\n",
    "在一切可能的情况下编写向量化代码是很有诱惑力的，因为它具备简洁的语法，速度通常也有所加快。不过，这些好处也是有代价的，通常带来更大的内存占用。"
   ]
  },
  {
   "cell_type": "markdown",
   "metadata": {},
   "source": [
    "### Numba\n",
    "\n",
    "Numba软件包通过使用LLVM可以动态地编译纯Python代码。在简单的情况下（如以下的代码），它的应用非常直观"
   ]
  },
  {
   "cell_type": "code",
   "execution_count": 12,
   "metadata": {},
   "outputs": [],
   "source": [
    "import numba"
   ]
  },
  {
   "cell_type": "code",
   "execution_count": 13,
   "metadata": {},
   "outputs": [],
   "source": [
    "average_nb = numba.jit(average_py)  "
   ]
  },
  {
   "cell_type": "code",
   "execution_count": 14,
   "metadata": {
    "tags": []
   },
   "outputs": [
    {
     "output_type": "stream",
     "name": "stdout",
     "text": "Wall time: 233 ms\n"
    },
    {
     "output_type": "execute_result",
     "data": {
      "text/plain": "0.49994304222313835"
     },
     "metadata": {},
     "execution_count": 14
    }
   ],
   "source": [
    "# 编译发生在运行时，会带来一些开销。\n",
    "%time average_nb(n)  "
   ]
  },
  {
   "cell_type": "code",
   "execution_count": 15,
   "metadata": {
    "tags": []
   },
   "outputs": [
    {
     "output_type": "stream",
     "name": "stdout",
     "text": "Wall time: 62 ms\n"
    },
    {
     "output_type": "execute_result",
     "data": {
      "text/plain": "0.4999846193978235"
     },
     "metadata": {},
     "execution_count": 15
    }
   ],
   "source": [
    "# 从第二次执行（使用相同的输入数据类型）起，执行更快了。\n",
    "%time average_nb(n)  "
   ]
  },
  {
   "cell_type": "code",
   "execution_count": 16,
   "metadata": {
    "tags": []
   },
   "outputs": [
    {
     "output_type": "stream",
     "name": "stdout",
     "text": "57.5 ms ± 1.18 ms per loop (mean ± std. dev. of 7 runs, 10 loops each)\n"
    }
   ],
   "source": [
    "%timeit average_nb(n)  "
   ]
  },
  {
   "cell_type": "markdown",
   "metadata": {},
   "source": [
    "纯Python和Numba的组合战胜了NumPy版本，并且保留了基于循环的原始实现的内存效率。还有一点很明显，在这种简单情况下应用Numba几乎没有任何编程开销\n",
    "\n",
    "对比Python代码和编译版本的性能，Numba的应用有时就像魔法，特别是它还很易于使用。不过，许多情况下Numba并不适用，性能增进几乎难以察觉，甚至无法实现。"
   ]
  },
  {
   "cell_type": "markdown",
   "metadata": {},
   "source": [
    "### Cython\n",
    "\n",
    "Cython可以静态编译Python代码。但是，它的应用不像Numba那么简单，通常需要更改代码才能看到明显的加速"
   ]
  },
  {
   "cell_type": "code",
   "execution_count": 17,
   "metadata": {},
   "outputs": [
    {
     "output_type": "execute_result",
     "data": {
      "text/plain": "'3.7.7 (default, May  6 2020, 11:45:54) [MSC v.1916 64 bit (AMD64)]'"
     },
     "metadata": {},
     "execution_count": 17
    }
   ],
   "source": [
    "import sys\n",
    "sys.version"
   ]
  },
  {
   "cell_type": "markdown",
   "metadata": {},
   "source": [
    "Windows10使用cython参考网站：\n",
    "[個人用メモ： AnacondaでCythonを使うための設定 - Qiita](https://qiita.com/kajiki0011/items/c962804adceb6ad49566)"
   ]
  },
  {
   "cell_type": "code",
   "execution_count": 18,
   "metadata": {
    "tags": []
   },
   "outputs": [],
   "source": [
    "# 在notebook上可以编译cython\n",
    "%load_ext Cython"
   ]
  },
  {
   "cell_type": "code",
   "execution_count": 19,
   "metadata": {},
   "outputs": [
    {
     "output_type": "execute_result",
     "data": {
      "text/plain": "<IPython.core.display.HTML object>",
      "text/html": "<!DOCTYPE html>\n<!-- Generated by Cython 0.29.21 -->\n<html>\n<head>\n    <meta http-equiv=\"Content-Type\" content=\"text/html; charset=utf-8\" />\n    <title>Cython: _cython_magic_d62059a0e280880a600cb71184dcf8bb.pyx</title>\n    <style type=\"text/css\">\n    \nbody.cython { font-family: courier; font-size: 12; }\n\n.cython.tag  {  }\n.cython.line { margin: 0em }\n.cython.code { font-size: 9; color: #444444; display: none; margin: 0px 0px 0px 8px; border-left: 8px none; }\n\n.cython.line .run { background-color: #B0FFB0; }\n.cython.line .mis { background-color: #FFB0B0; }\n.cython.code.run  { border-left: 8px solid #B0FFB0; }\n.cython.code.mis  { border-left: 8px solid #FFB0B0; }\n\n.cython.code .py_c_api  { color: red; }\n.cython.code .py_macro_api  { color: #FF7000; }\n.cython.code .pyx_c_api  { color: #FF3000; }\n.cython.code .pyx_macro_api  { color: #FF7000; }\n.cython.code .refnanny  { color: #FFA000; }\n.cython.code .trace  { color: #FFA000; }\n.cython.code .error_goto  { color: #FFA000; }\n\n.cython.code .coerce  { color: #008000; border: 1px dotted #008000 }\n.cython.code .py_attr { color: #FF0000; font-weight: bold; }\n.cython.code .c_attr  { color: #0000FF; }\n.cython.code .py_call { color: #FF0000; font-weight: bold; }\n.cython.code .c_call  { color: #0000FF; }\n\n.cython.score-0 {background-color: #FFFFff;}\n.cython.score-1 {background-color: #FFFFe7;}\n.cython.score-2 {background-color: #FFFFd4;}\n.cython.score-3 {background-color: #FFFFc4;}\n.cython.score-4 {background-color: #FFFFb6;}\n.cython.score-5 {background-color: #FFFFaa;}\n.cython.score-6 {background-color: #FFFF9f;}\n.cython.score-7 {background-color: #FFFF96;}\n.cython.score-8 {background-color: #FFFF8d;}\n.cython.score-9 {background-color: #FFFF86;}\n.cython.score-10 {background-color: #FFFF7f;}\n.cython.score-11 {background-color: #FFFF79;}\n.cython.score-12 {background-color: #FFFF73;}\n.cython.score-13 {background-color: #FFFF6e;}\n.cython.score-14 {background-color: #FFFF6a;}\n.cython.score-15 {background-color: #FFFF66;}\n.cython.score-16 {background-color: #FFFF62;}\n.cython.score-17 {background-color: #FFFF5e;}\n.cython.score-18 {background-color: #FFFF5b;}\n.cython.score-19 {background-color: #FFFF57;}\n.cython.score-20 {background-color: #FFFF55;}\n.cython.score-21 {background-color: #FFFF52;}\n.cython.score-22 {background-color: #FFFF4f;}\n.cython.score-23 {background-color: #FFFF4d;}\n.cython.score-24 {background-color: #FFFF4b;}\n.cython.score-25 {background-color: #FFFF48;}\n.cython.score-26 {background-color: #FFFF46;}\n.cython.score-27 {background-color: #FFFF44;}\n.cython.score-28 {background-color: #FFFF43;}\n.cython.score-29 {background-color: #FFFF41;}\n.cython.score-30 {background-color: #FFFF3f;}\n.cython.score-31 {background-color: #FFFF3e;}\n.cython.score-32 {background-color: #FFFF3c;}\n.cython.score-33 {background-color: #FFFF3b;}\n.cython.score-34 {background-color: #FFFF39;}\n.cython.score-35 {background-color: #FFFF38;}\n.cython.score-36 {background-color: #FFFF37;}\n.cython.score-37 {background-color: #FFFF36;}\n.cython.score-38 {background-color: #FFFF35;}\n.cython.score-39 {background-color: #FFFF34;}\n.cython.score-40 {background-color: #FFFF33;}\n.cython.score-41 {background-color: #FFFF32;}\n.cython.score-42 {background-color: #FFFF31;}\n.cython.score-43 {background-color: #FFFF30;}\n.cython.score-44 {background-color: #FFFF2f;}\n.cython.score-45 {background-color: #FFFF2e;}\n.cython.score-46 {background-color: #FFFF2d;}\n.cython.score-47 {background-color: #FFFF2c;}\n.cython.score-48 {background-color: #FFFF2b;}\n.cython.score-49 {background-color: #FFFF2b;}\n.cython.score-50 {background-color: #FFFF2a;}\n.cython.score-51 {background-color: #FFFF29;}\n.cython.score-52 {background-color: #FFFF29;}\n.cython.score-53 {background-color: #FFFF28;}\n.cython.score-54 {background-color: #FFFF27;}\n.cython.score-55 {background-color: #FFFF27;}\n.cython.score-56 {background-color: #FFFF26;}\n.cython.score-57 {background-color: #FFFF26;}\n.cython.score-58 {background-color: #FFFF25;}\n.cython.score-59 {background-color: #FFFF24;}\n.cython.score-60 {background-color: #FFFF24;}\n.cython.score-61 {background-color: #FFFF23;}\n.cython.score-62 {background-color: #FFFF23;}\n.cython.score-63 {background-color: #FFFF22;}\n.cython.score-64 {background-color: #FFFF22;}\n.cython.score-65 {background-color: #FFFF22;}\n.cython.score-66 {background-color: #FFFF21;}\n.cython.score-67 {background-color: #FFFF21;}\n.cython.score-68 {background-color: #FFFF20;}\n.cython.score-69 {background-color: #FFFF20;}\n.cython.score-70 {background-color: #FFFF1f;}\n.cython.score-71 {background-color: #FFFF1f;}\n.cython.score-72 {background-color: #FFFF1f;}\n.cython.score-73 {background-color: #FFFF1e;}\n.cython.score-74 {background-color: #FFFF1e;}\n.cython.score-75 {background-color: #FFFF1e;}\n.cython.score-76 {background-color: #FFFF1d;}\n.cython.score-77 {background-color: #FFFF1d;}\n.cython.score-78 {background-color: #FFFF1c;}\n.cython.score-79 {background-color: #FFFF1c;}\n.cython.score-80 {background-color: #FFFF1c;}\n.cython.score-81 {background-color: #FFFF1c;}\n.cython.score-82 {background-color: #FFFF1b;}\n.cython.score-83 {background-color: #FFFF1b;}\n.cython.score-84 {background-color: #FFFF1b;}\n.cython.score-85 {background-color: #FFFF1a;}\n.cython.score-86 {background-color: #FFFF1a;}\n.cython.score-87 {background-color: #FFFF1a;}\n.cython.score-88 {background-color: #FFFF1a;}\n.cython.score-89 {background-color: #FFFF19;}\n.cython.score-90 {background-color: #FFFF19;}\n.cython.score-91 {background-color: #FFFF19;}\n.cython.score-92 {background-color: #FFFF19;}\n.cython.score-93 {background-color: #FFFF18;}\n.cython.score-94 {background-color: #FFFF18;}\n.cython.score-95 {background-color: #FFFF18;}\n.cython.score-96 {background-color: #FFFF18;}\n.cython.score-97 {background-color: #FFFF17;}\n.cython.score-98 {background-color: #FFFF17;}\n.cython.score-99 {background-color: #FFFF17;}\n.cython.score-100 {background-color: #FFFF17;}\n.cython.score-101 {background-color: #FFFF16;}\n.cython.score-102 {background-color: #FFFF16;}\n.cython.score-103 {background-color: #FFFF16;}\n.cython.score-104 {background-color: #FFFF16;}\n.cython.score-105 {background-color: #FFFF16;}\n.cython.score-106 {background-color: #FFFF15;}\n.cython.score-107 {background-color: #FFFF15;}\n.cython.score-108 {background-color: #FFFF15;}\n.cython.score-109 {background-color: #FFFF15;}\n.cython.score-110 {background-color: #FFFF15;}\n.cython.score-111 {background-color: #FFFF15;}\n.cython.score-112 {background-color: #FFFF14;}\n.cython.score-113 {background-color: #FFFF14;}\n.cython.score-114 {background-color: #FFFF14;}\n.cython.score-115 {background-color: #FFFF14;}\n.cython.score-116 {background-color: #FFFF14;}\n.cython.score-117 {background-color: #FFFF14;}\n.cython.score-118 {background-color: #FFFF13;}\n.cython.score-119 {background-color: #FFFF13;}\n.cython.score-120 {background-color: #FFFF13;}\n.cython.score-121 {background-color: #FFFF13;}\n.cython.score-122 {background-color: #FFFF13;}\n.cython.score-123 {background-color: #FFFF13;}\n.cython.score-124 {background-color: #FFFF13;}\n.cython.score-125 {background-color: #FFFF12;}\n.cython.score-126 {background-color: #FFFF12;}\n.cython.score-127 {background-color: #FFFF12;}\n.cython.score-128 {background-color: #FFFF12;}\n.cython.score-129 {background-color: #FFFF12;}\n.cython.score-130 {background-color: #FFFF12;}\n.cython.score-131 {background-color: #FFFF12;}\n.cython.score-132 {background-color: #FFFF11;}\n.cython.score-133 {background-color: #FFFF11;}\n.cython.score-134 {background-color: #FFFF11;}\n.cython.score-135 {background-color: #FFFF11;}\n.cython.score-136 {background-color: #FFFF11;}\n.cython.score-137 {background-color: #FFFF11;}\n.cython.score-138 {background-color: #FFFF11;}\n.cython.score-139 {background-color: #FFFF11;}\n.cython.score-140 {background-color: #FFFF11;}\n.cython.score-141 {background-color: #FFFF10;}\n.cython.score-142 {background-color: #FFFF10;}\n.cython.score-143 {background-color: #FFFF10;}\n.cython.score-144 {background-color: #FFFF10;}\n.cython.score-145 {background-color: #FFFF10;}\n.cython.score-146 {background-color: #FFFF10;}\n.cython.score-147 {background-color: #FFFF10;}\n.cython.score-148 {background-color: #FFFF10;}\n.cython.score-149 {background-color: #FFFF10;}\n.cython.score-150 {background-color: #FFFF0f;}\n.cython.score-151 {background-color: #FFFF0f;}\n.cython.score-152 {background-color: #FFFF0f;}\n.cython.score-153 {background-color: #FFFF0f;}\n.cython.score-154 {background-color: #FFFF0f;}\n.cython.score-155 {background-color: #FFFF0f;}\n.cython.score-156 {background-color: #FFFF0f;}\n.cython.score-157 {background-color: #FFFF0f;}\n.cython.score-158 {background-color: #FFFF0f;}\n.cython.score-159 {background-color: #FFFF0f;}\n.cython.score-160 {background-color: #FFFF0f;}\n.cython.score-161 {background-color: #FFFF0e;}\n.cython.score-162 {background-color: #FFFF0e;}\n.cython.score-163 {background-color: #FFFF0e;}\n.cython.score-164 {background-color: #FFFF0e;}\n.cython.score-165 {background-color: #FFFF0e;}\n.cython.score-166 {background-color: #FFFF0e;}\n.cython.score-167 {background-color: #FFFF0e;}\n.cython.score-168 {background-color: #FFFF0e;}\n.cython.score-169 {background-color: #FFFF0e;}\n.cython.score-170 {background-color: #FFFF0e;}\n.cython.score-171 {background-color: #FFFF0e;}\n.cython.score-172 {background-color: #FFFF0e;}\n.cython.score-173 {background-color: #FFFF0d;}\n.cython.score-174 {background-color: #FFFF0d;}\n.cython.score-175 {background-color: #FFFF0d;}\n.cython.score-176 {background-color: #FFFF0d;}\n.cython.score-177 {background-color: #FFFF0d;}\n.cython.score-178 {background-color: #FFFF0d;}\n.cython.score-179 {background-color: #FFFF0d;}\n.cython.score-180 {background-color: #FFFF0d;}\n.cython.score-181 {background-color: #FFFF0d;}\n.cython.score-182 {background-color: #FFFF0d;}\n.cython.score-183 {background-color: #FFFF0d;}\n.cython.score-184 {background-color: #FFFF0d;}\n.cython.score-185 {background-color: #FFFF0d;}\n.cython.score-186 {background-color: #FFFF0d;}\n.cython.score-187 {background-color: #FFFF0c;}\n.cython.score-188 {background-color: #FFFF0c;}\n.cython.score-189 {background-color: #FFFF0c;}\n.cython.score-190 {background-color: #FFFF0c;}\n.cython.score-191 {background-color: #FFFF0c;}\n.cython.score-192 {background-color: #FFFF0c;}\n.cython.score-193 {background-color: #FFFF0c;}\n.cython.score-194 {background-color: #FFFF0c;}\n.cython.score-195 {background-color: #FFFF0c;}\n.cython.score-196 {background-color: #FFFF0c;}\n.cython.score-197 {background-color: #FFFF0c;}\n.cython.score-198 {background-color: #FFFF0c;}\n.cython.score-199 {background-color: #FFFF0c;}\n.cython.score-200 {background-color: #FFFF0c;}\n.cython.score-201 {background-color: #FFFF0c;}\n.cython.score-202 {background-color: #FFFF0c;}\n.cython.score-203 {background-color: #FFFF0b;}\n.cython.score-204 {background-color: #FFFF0b;}\n.cython.score-205 {background-color: #FFFF0b;}\n.cython.score-206 {background-color: #FFFF0b;}\n.cython.score-207 {background-color: #FFFF0b;}\n.cython.score-208 {background-color: #FFFF0b;}\n.cython.score-209 {background-color: #FFFF0b;}\n.cython.score-210 {background-color: #FFFF0b;}\n.cython.score-211 {background-color: #FFFF0b;}\n.cython.score-212 {background-color: #FFFF0b;}\n.cython.score-213 {background-color: #FFFF0b;}\n.cython.score-214 {background-color: #FFFF0b;}\n.cython.score-215 {background-color: #FFFF0b;}\n.cython.score-216 {background-color: #FFFF0b;}\n.cython.score-217 {background-color: #FFFF0b;}\n.cython.score-218 {background-color: #FFFF0b;}\n.cython.score-219 {background-color: #FFFF0b;}\n.cython.score-220 {background-color: #FFFF0b;}\n.cython.score-221 {background-color: #FFFF0b;}\n.cython.score-222 {background-color: #FFFF0a;}\n.cython.score-223 {background-color: #FFFF0a;}\n.cython.score-224 {background-color: #FFFF0a;}\n.cython.score-225 {background-color: #FFFF0a;}\n.cython.score-226 {background-color: #FFFF0a;}\n.cython.score-227 {background-color: #FFFF0a;}\n.cython.score-228 {background-color: #FFFF0a;}\n.cython.score-229 {background-color: #FFFF0a;}\n.cython.score-230 {background-color: #FFFF0a;}\n.cython.score-231 {background-color: #FFFF0a;}\n.cython.score-232 {background-color: #FFFF0a;}\n.cython.score-233 {background-color: #FFFF0a;}\n.cython.score-234 {background-color: #FFFF0a;}\n.cython.score-235 {background-color: #FFFF0a;}\n.cython.score-236 {background-color: #FFFF0a;}\n.cython.score-237 {background-color: #FFFF0a;}\n.cython.score-238 {background-color: #FFFF0a;}\n.cython.score-239 {background-color: #FFFF0a;}\n.cython.score-240 {background-color: #FFFF0a;}\n.cython.score-241 {background-color: #FFFF0a;}\n.cython.score-242 {background-color: #FFFF0a;}\n.cython.score-243 {background-color: #FFFF0a;}\n.cython.score-244 {background-color: #FFFF0a;}\n.cython.score-245 {background-color: #FFFF0a;}\n.cython.score-246 {background-color: #FFFF09;}\n.cython.score-247 {background-color: #FFFF09;}\n.cython.score-248 {background-color: #FFFF09;}\n.cython.score-249 {background-color: #FFFF09;}\n.cython.score-250 {background-color: #FFFF09;}\n.cython.score-251 {background-color: #FFFF09;}\n.cython.score-252 {background-color: #FFFF09;}\n.cython.score-253 {background-color: #FFFF09;}\n.cython.score-254 {background-color: #FFFF09;}\n.cython .hll { background-color: #ffffcc }\n.cython  { background: #f8f8f8; }\n.cython .c { color: #408080; font-style: italic } /* Comment */\n.cython .err { border: 1px solid #FF0000 } /* Error */\n.cython .k { color: #008000; font-weight: bold } /* Keyword */\n.cython .o { color: #666666 } /* Operator */\n.cython .ch { color: #408080; font-style: italic } /* Comment.Hashbang */\n.cython .cm { color: #408080; font-style: italic } /* Comment.Multiline */\n.cython .cp { color: #BC7A00 } /* Comment.Preproc */\n.cython .cpf { color: #408080; font-style: italic } /* Comment.PreprocFile */\n.cython .c1 { color: #408080; font-style: italic } /* Comment.Single */\n.cython .cs { color: #408080; font-style: italic } /* Comment.Special */\n.cython .gd { color: #A00000 } /* Generic.Deleted */\n.cython .ge { font-style: italic } /* Generic.Emph */\n.cython .gr { color: #FF0000 } /* Generic.Error */\n.cython .gh { color: #000080; font-weight: bold } /* Generic.Heading */\n.cython .gi { color: #00A000 } /* Generic.Inserted */\n.cython .go { color: #888888 } /* Generic.Output */\n.cython .gp { color: #000080; font-weight: bold } /* Generic.Prompt */\n.cython .gs { font-weight: bold } /* Generic.Strong */\n.cython .gu { color: #800080; font-weight: bold } /* Generic.Subheading */\n.cython .gt { color: #0044DD } /* Generic.Traceback */\n.cython .kc { color: #008000; font-weight: bold } /* Keyword.Constant */\n.cython .kd { color: #008000; font-weight: bold } /* Keyword.Declaration */\n.cython .kn { color: #008000; font-weight: bold } /* Keyword.Namespace */\n.cython .kp { color: #008000 } /* Keyword.Pseudo */\n.cython .kr { color: #008000; font-weight: bold } /* Keyword.Reserved */\n.cython .kt { color: #B00040 } /* Keyword.Type */\n.cython .m { color: #666666 } /* Literal.Number */\n.cython .s { color: #BA2121 } /* Literal.String */\n.cython .na { color: #7D9029 } /* Name.Attribute */\n.cython .nb { color: #008000 } /* Name.Builtin */\n.cython .nc { color: #0000FF; font-weight: bold } /* Name.Class */\n.cython .no { color: #880000 } /* Name.Constant */\n.cython .nd { color: #AA22FF } /* Name.Decorator */\n.cython .ni { color: #999999; font-weight: bold } /* Name.Entity */\n.cython .ne { color: #D2413A; font-weight: bold } /* Name.Exception */\n.cython .nf { color: #0000FF } /* Name.Function */\n.cython .nl { color: #A0A000 } /* Name.Label */\n.cython .nn { color: #0000FF; font-weight: bold } /* Name.Namespace */\n.cython .nt { color: #008000; font-weight: bold } /* Name.Tag */\n.cython .nv { color: #19177C } /* Name.Variable */\n.cython .ow { color: #AA22FF; font-weight: bold } /* Operator.Word */\n.cython .w { color: #bbbbbb } /* Text.Whitespace */\n.cython .mb { color: #666666 } /* Literal.Number.Bin */\n.cython .mf { color: #666666 } /* Literal.Number.Float */\n.cython .mh { color: #666666 } /* Literal.Number.Hex */\n.cython .mi { color: #666666 } /* Literal.Number.Integer */\n.cython .mo { color: #666666 } /* Literal.Number.Oct */\n.cython .sa { color: #BA2121 } /* Literal.String.Affix */\n.cython .sb { color: #BA2121 } /* Literal.String.Backtick */\n.cython .sc { color: #BA2121 } /* Literal.String.Char */\n.cython .dl { color: #BA2121 } /* Literal.String.Delimiter */\n.cython .sd { color: #BA2121; font-style: italic } /* Literal.String.Doc */\n.cython .s2 { color: #BA2121 } /* Literal.String.Double */\n.cython .se { color: #BB6622; font-weight: bold } /* Literal.String.Escape */\n.cython .sh { color: #BA2121 } /* Literal.String.Heredoc */\n.cython .si { color: #BB6688; font-weight: bold } /* Literal.String.Interpol */\n.cython .sx { color: #008000 } /* Literal.String.Other */\n.cython .sr { color: #BB6688 } /* Literal.String.Regex */\n.cython .s1 { color: #BA2121 } /* Literal.String.Single */\n.cython .ss { color: #19177C } /* Literal.String.Symbol */\n.cython .bp { color: #008000 } /* Name.Builtin.Pseudo */\n.cython .fm { color: #0000FF } /* Name.Function.Magic */\n.cython .vc { color: #19177C } /* Name.Variable.Class */\n.cython .vg { color: #19177C } /* Name.Variable.Global */\n.cython .vi { color: #19177C } /* Name.Variable.Instance */\n.cython .vm { color: #19177C } /* Name.Variable.Magic */\n.cython .il { color: #666666 } /* Literal.Number.Integer.Long */\n    </style>\n</head>\n<body class=\"cython\">\n<p><span style=\"border-bottom: solid 1px grey;\">Generated by Cython 0.29.21</span></p>\n<p>\n    <span style=\"background-color: #FFFF00\">Yellow lines</span> hint at Python interaction.<br />\n    Click on a line that starts with a \"<code>+</code>\" to see the C code that Cython generated for it.\n</p>\n<div class=\"cython\"><pre class=\"cython line score-0\">&#xA0;<span class=\"\">1</span>: <span class=\"c\"># 使用cython编译</span></pre>\n<pre class=\"cython line score-8\" onclick=\"(function(s){s.display=s.display==='block'?'none':'block'})(this.nextElementSibling.style)\">+<span class=\"\">2</span>: <span class=\"k\">import</span> <span class=\"nn\">random</span></pre>\n<pre class='cython code score-8 '>  __pyx_t_1 = <span class='pyx_c_api'>__Pyx_Import</span>(__pyx_n_s_random, 0, 0);<span class='error_goto'> if (unlikely(!__pyx_t_1)) __PYX_ERR(0, 2, __pyx_L1_error)</span>\n  <span class='refnanny'>__Pyx_GOTREF</span>(__pyx_t_1);\n  if (<span class='py_c_api'>PyDict_SetItem</span>(__pyx_d, __pyx_n_s_random, __pyx_t_1) &lt; 0) <span class='error_goto'>__PYX_ERR(0, 2, __pyx_L1_error)</span>\n  <span class='pyx_macro_api'>__Pyx_DECREF</span>(__pyx_t_1); __pyx_t_1 = 0;\n</pre><pre class=\"cython line score-26\" onclick=\"(function(s){s.display=s.display==='block'?'none':'block'})(this.nextElementSibling.style)\">+<span class=\"\">3</span>: <span class=\"k\">def</span> <span class=\"nf\">average_cy1</span><span class=\"p\">(</span><span class=\"nb\">int</span> <span class=\"n\">n</span><span class=\"p\">):</span></pre>\n<pre class='cython code score-26 '>/* Python wrapper */\nstatic PyObject *__pyx_pw_46_cython_magic_d62059a0e280880a600cb71184dcf8bb_1average_cy1(PyObject *__pyx_self, PyObject *__pyx_arg_n); /*proto*/\nstatic PyMethodDef __pyx_mdef_46_cython_magic_d62059a0e280880a600cb71184dcf8bb_1average_cy1 = {\"average_cy1\", (PyCFunction)__pyx_pw_46_cython_magic_d62059a0e280880a600cb71184dcf8bb_1average_cy1, METH_O, 0};\nstatic PyObject *__pyx_pw_46_cython_magic_d62059a0e280880a600cb71184dcf8bb_1average_cy1(PyObject *__pyx_self, PyObject *__pyx_arg_n) {\n  int __pyx_v_n;\n  PyObject *__pyx_r = 0;\n  <span class='refnanny'>__Pyx_RefNannyDeclarations</span>\n  <span class='refnanny'>__Pyx_RefNannySetupContext</span>(\"average_cy1 (wrapper)\", 0);\n  assert(__pyx_arg_n); {\n    __pyx_v_n = <span class='pyx_c_api'>__Pyx_PyInt_As_int</span>(__pyx_arg_n); if (unlikely((__pyx_v_n == (int)-1) &amp;&amp; <span class='py_c_api'>PyErr_Occurred</span>())) <span class='error_goto'>__PYX_ERR(0, 3, __pyx_L3_error)</span>\n  }\n  goto __pyx_L4_argument_unpacking_done;\n  __pyx_L3_error:;\n  <span class='pyx_c_api'>__Pyx_AddTraceback</span>(\"_cython_magic_d62059a0e280880a600cb71184dcf8bb.average_cy1\", __pyx_clineno, __pyx_lineno, __pyx_filename);\n  <span class='refnanny'>__Pyx_RefNannyFinishContext</span>();\n  return NULL;\n  __pyx_L4_argument_unpacking_done:;\n  __pyx_r = __pyx_pf_46_cython_magic_d62059a0e280880a600cb71184dcf8bb_average_cy1(__pyx_self, ((int)__pyx_v_n));\n  int __pyx_lineno = 0;\n  const char *__pyx_filename = NULL;\n  int __pyx_clineno = 0;\n\n  /* function exit code */\n  <span class='refnanny'>__Pyx_RefNannyFinishContext</span>();\n  return __pyx_r;\n}\n\nstatic PyObject *__pyx_pf_46_cython_magic_d62059a0e280880a600cb71184dcf8bb_average_cy1(CYTHON_UNUSED PyObject *__pyx_self, int __pyx_v_n) {\n  CYTHON_UNUSED int __pyx_v_i;\n  float __pyx_v_s;\n  PyObject *__pyx_r = NULL;\n  <span class='refnanny'>__Pyx_RefNannyDeclarations</span>\n  <span class='refnanny'>__Pyx_RefNannySetupContext</span>(\"average_cy1\", 0);\n/* … */\n  /* function exit code */\n  __pyx_L1_error:;\n  <span class='pyx_macro_api'>__Pyx_XDECREF</span>(__pyx_t_4);\n  <span class='pyx_macro_api'>__Pyx_XDECREF</span>(__pyx_t_5);\n  <span class='pyx_macro_api'>__Pyx_XDECREF</span>(__pyx_t_6);\n  <span class='pyx_macro_api'>__Pyx_XDECREF</span>(__pyx_t_7);\n  <span class='pyx_c_api'>__Pyx_AddTraceback</span>(\"_cython_magic_d62059a0e280880a600cb71184dcf8bb.average_cy1\", __pyx_clineno, __pyx_lineno, __pyx_filename);\n  __pyx_r = NULL;\n  __pyx_L0:;\n  <span class='refnanny'>__Pyx_XGIVEREF</span>(__pyx_r);\n  <span class='refnanny'>__Pyx_RefNannyFinishContext</span>();\n  return __pyx_r;\n}\n/* … */\n  __pyx_tuple_ = <span class='py_c_api'>PyTuple_Pack</span>(4, __pyx_n_s_n, __pyx_n_s_n, __pyx_n_s_i, __pyx_n_s_s);<span class='error_goto'> if (unlikely(!__pyx_tuple_)) __PYX_ERR(0, 3, __pyx_L1_error)</span>\n  <span class='refnanny'>__Pyx_GOTREF</span>(__pyx_tuple_);\n  <span class='refnanny'>__Pyx_GIVEREF</span>(__pyx_tuple_);\n/* … */\n  __pyx_t_1 = PyCFunction_NewEx(&amp;__pyx_mdef_46_cython_magic_d62059a0e280880a600cb71184dcf8bb_1average_cy1, NULL, __pyx_n_s_cython_magic_d62059a0e280880a60);<span class='error_goto'> if (unlikely(!__pyx_t_1)) __PYX_ERR(0, 3, __pyx_L1_error)</span>\n  <span class='refnanny'>__Pyx_GOTREF</span>(__pyx_t_1);\n  if (<span class='py_c_api'>PyDict_SetItem</span>(__pyx_d, __pyx_n_s_average_cy1, __pyx_t_1) &lt; 0) <span class='error_goto'>__PYX_ERR(0, 3, __pyx_L1_error)</span>\n  <span class='pyx_macro_api'>__Pyx_DECREF</span>(__pyx_t_1); __pyx_t_1 = 0;\n</pre><pre class=\"cython line score-0\">&#xA0;<span class=\"\">4</span>:     <span class=\"k\">cdef</span> <span class=\"kt\">int</span> <span class=\"nf\">i</span>  <span class=\"c\"># 使用cdef进行静态型宣言</span></pre>\n<pre class=\"cython line score-0\" onclick=\"(function(s){s.display=s.display==='block'?'none':'block'})(this.nextElementSibling.style)\">+<span class=\"\">5</span>:     <span class=\"k\">cdef</span> <span class=\"kt\">float</span> <span class=\"nf\">s</span> <span class=\"o\">=</span> <span class=\"mf\">0</span></pre>\n<pre class='cython code score-0 '>  __pyx_v_s = 0.0;\n</pre><pre class=\"cython line score-0\" onclick=\"(function(s){s.display=s.display==='block'?'none':'block'})(this.nextElementSibling.style)\">+<span class=\"\">6</span>:     <span class=\"k\">for</span> <span class=\"n\">i</span> <span class=\"ow\">in</span> <span class=\"nb\">range</span><span class=\"p\">(</span><span class=\"n\">n</span><span class=\"p\">):</span></pre>\n<pre class='cython code score-0 '>  __pyx_t_1 = __pyx_v_n;\n  __pyx_t_2 = __pyx_t_1;\n  for (__pyx_t_3 = 0; __pyx_t_3 &lt; __pyx_t_2; __pyx_t_3+=1) {\n    __pyx_v_i = __pyx_t_3;\n</pre><pre class=\"cython line score-44\" onclick=\"(function(s){s.display=s.display==='block'?'none':'block'})(this.nextElementSibling.style)\">+<span class=\"\">7</span>:         <span class=\"n\">s</span> <span class=\"o\">+=</span> <span class=\"n\">random</span><span class=\"o\">.</span><span class=\"n\">random</span><span class=\"p\">()</span></pre>\n<pre class='cython code score-44 '>    __pyx_t_4 = <span class='py_c_api'>PyFloat_FromDouble</span>(__pyx_v_s);<span class='error_goto'> if (unlikely(!__pyx_t_4)) __PYX_ERR(0, 7, __pyx_L1_error)</span>\n    <span class='refnanny'>__Pyx_GOTREF</span>(__pyx_t_4);\n    <span class='pyx_c_api'>__Pyx_GetModuleGlobalName</span>(__pyx_t_6, __pyx_n_s_random);<span class='error_goto'> if (unlikely(!__pyx_t_6)) __PYX_ERR(0, 7, __pyx_L1_error)</span>\n    <span class='refnanny'>__Pyx_GOTREF</span>(__pyx_t_6);\n    __pyx_t_7 = <span class='pyx_c_api'>__Pyx_PyObject_GetAttrStr</span>(__pyx_t_6, __pyx_n_s_random);<span class='error_goto'> if (unlikely(!__pyx_t_7)) __PYX_ERR(0, 7, __pyx_L1_error)</span>\n    <span class='refnanny'>__Pyx_GOTREF</span>(__pyx_t_7);\n    <span class='pyx_macro_api'>__Pyx_DECREF</span>(__pyx_t_6); __pyx_t_6 = 0;\n    __pyx_t_6 = NULL;\n    if (CYTHON_UNPACK_METHODS &amp;&amp; unlikely(<span class='py_c_api'>PyMethod_Check</span>(__pyx_t_7))) {\n      __pyx_t_6 = <span class='py_macro_api'>PyMethod_GET_SELF</span>(__pyx_t_7);\n      if (likely(__pyx_t_6)) {\n        PyObject* function = <span class='py_macro_api'>PyMethod_GET_FUNCTION</span>(__pyx_t_7);\n        <span class='pyx_macro_api'>__Pyx_INCREF</span>(__pyx_t_6);\n        <span class='pyx_macro_api'>__Pyx_INCREF</span>(function);\n        <span class='pyx_macro_api'>__Pyx_DECREF_SET</span>(__pyx_t_7, function);\n      }\n    }\n    __pyx_t_5 = (__pyx_t_6) ? <span class='pyx_c_api'>__Pyx_PyObject_CallOneArg</span>(__pyx_t_7, __pyx_t_6) : <span class='pyx_c_api'>__Pyx_PyObject_CallNoArg</span>(__pyx_t_7);\n    <span class='pyx_macro_api'>__Pyx_XDECREF</span>(__pyx_t_6); __pyx_t_6 = 0;\n    if (unlikely(!__pyx_t_5)) <span class='error_goto'>__PYX_ERR(0, 7, __pyx_L1_error)</span>\n    <span class='refnanny'>__Pyx_GOTREF</span>(__pyx_t_5);\n    <span class='pyx_macro_api'>__Pyx_DECREF</span>(__pyx_t_7); __pyx_t_7 = 0;\n    __pyx_t_7 = <span class='py_c_api'>PyNumber_InPlaceAdd</span>(__pyx_t_4, __pyx_t_5);<span class='error_goto'> if (unlikely(!__pyx_t_7)) __PYX_ERR(0, 7, __pyx_L1_error)</span>\n    <span class='refnanny'>__Pyx_GOTREF</span>(__pyx_t_7);\n    <span class='pyx_macro_api'>__Pyx_DECREF</span>(__pyx_t_4); __pyx_t_4 = 0;\n    <span class='pyx_macro_api'>__Pyx_DECREF</span>(__pyx_t_5); __pyx_t_5 = 0;\n    __pyx_t_8 = __pyx_<span class='py_c_api'>PyFloat_AsFloat</span>(__pyx_t_7); if (unlikely((__pyx_t_8 == (float)-1) &amp;&amp; <span class='py_c_api'>PyErr_Occurred</span>())) <span class='error_goto'>__PYX_ERR(0, 7, __pyx_L1_error)</span>\n    <span class='pyx_macro_api'>__Pyx_DECREF</span>(__pyx_t_7); __pyx_t_7 = 0;\n    __pyx_v_s = __pyx_t_8;\n  }\n</pre><pre class=\"cython line score-11\" onclick=\"(function(s){s.display=s.display==='block'?'none':'block'})(this.nextElementSibling.style)\">+<span class=\"\">8</span>:     <span class=\"k\">return</span> <span class=\"n\">s</span> <span class=\"o\">/</span> <span class=\"n\">n</span></pre>\n<pre class='cython code score-11 '>  <span class='pyx_macro_api'>__Pyx_XDECREF</span>(__pyx_r);\n  if (unlikely(__pyx_v_n == 0)) {\n    <span class='py_c_api'>PyErr_SetString</span>(PyExc_ZeroDivisionError, \"float division\");\n    <span class='error_goto'>__PYX_ERR(0, 8, __pyx_L1_error)</span>\n  }\n  __pyx_t_7 = <span class='py_c_api'>PyFloat_FromDouble</span>((__pyx_v_s / ((float)__pyx_v_n)));<span class='error_goto'> if (unlikely(!__pyx_t_7)) __PYX_ERR(0, 8, __pyx_L1_error)</span>\n  <span class='refnanny'>__Pyx_GOTREF</span>(__pyx_t_7);\n  __pyx_r = __pyx_t_7;\n  __pyx_t_7 = 0;\n  goto __pyx_L0;\n</pre></div></body></html>"
     },
     "metadata": {},
     "execution_count": 19
    }
   ],
   "source": [
    "%%cython -a\n",
    "# 使用cython编译\n",
    "import random  \n",
    "def average_cy1(int n):  \n",
    "    cdef int i  # 使用cdef进行静态型宣言\n",
    "    cdef float s = 0  \n",
    "    for i in range(n):\n",
    "        s += random.random()\n",
    "    return s / n"
   ]
  },
  {
   "cell_type": "code",
   "execution_count": 20,
   "metadata": {
    "tags": []
   },
   "outputs": [
    {
     "output_type": "stream",
     "name": "stdout",
     "text": "Wall time: 480 ms\n"
    },
    {
     "output_type": "execute_result",
     "data": {
      "text/plain": "0.5001121759414673"
     },
     "metadata": {},
     "execution_count": 20
    }
   ],
   "source": [
    "%time average_cy1(n)"
   ]
  },
  {
   "cell_type": "code",
   "execution_count": 22,
   "metadata": {
    "tags": []
   },
   "outputs": [
    {
     "output_type": "stream",
     "name": "stdout",
     "text": "487 ms ± 4.79 ms per loop (mean ± std. dev. of 7 runs, 1 loop each)\n"
    }
   ],
   "source": [
    "%timeit average_cy1(n)"
   ]
  },
  {
   "cell_type": "code",
   "execution_count": 24,
   "metadata": {
    "tags": []
   },
   "outputs": [
    {
     "output_type": "stream",
     "name": "stdout",
     "text": "5.344860255718231e-06\n1.3670884072780609e-05\n1.2555159628391266e-05\n1.1391937732696533e-05\n2.6565976440906525e-06\n"
    }
   ],
   "source": [
    "%%cython\n",
    "from libc.stdlib cimport rand # 从C中导入一个随机数生成器 \n",
    "cdef extern from 'limits.h':  # 导入一个恒定值，对随机数按比例进行调整\n",
    "    int INT_MAX  \n",
    "cdef int i\n",
    "cdef float rn\n",
    "for i in range(5):\n",
    "    rn = rand() / INT_MAX  \n",
    "    print(rn)"
   ]
  },
  {
   "cell_type": "code",
   "execution_count": 25,
   "metadata": {},
   "outputs": [
    {
     "output_type": "execute_result",
     "data": {
      "text/plain": "<IPython.core.display.HTML object>",
      "text/html": "<!DOCTYPE html>\n<!-- Generated by Cython 0.29.21 -->\n<html>\n<head>\n    <meta http-equiv=\"Content-Type\" content=\"text/html; charset=utf-8\" />\n    <title>Cython: _cython_magic_c69429b8adc3f40d185debcd067e72e0.pyx</title>\n    <style type=\"text/css\">\n    \nbody.cython { font-family: courier; font-size: 12; }\n\n.cython.tag  {  }\n.cython.line { margin: 0em }\n.cython.code { font-size: 9; color: #444444; display: none; margin: 0px 0px 0px 8px; border-left: 8px none; }\n\n.cython.line .run { background-color: #B0FFB0; }\n.cython.line .mis { background-color: #FFB0B0; }\n.cython.code.run  { border-left: 8px solid #B0FFB0; }\n.cython.code.mis  { border-left: 8px solid #FFB0B0; }\n\n.cython.code .py_c_api  { color: red; }\n.cython.code .py_macro_api  { color: #FF7000; }\n.cython.code .pyx_c_api  { color: #FF3000; }\n.cython.code .pyx_macro_api  { color: #FF7000; }\n.cython.code .refnanny  { color: #FFA000; }\n.cython.code .trace  { color: #FFA000; }\n.cython.code .error_goto  { color: #FFA000; }\n\n.cython.code .coerce  { color: #008000; border: 1px dotted #008000 }\n.cython.code .py_attr { color: #FF0000; font-weight: bold; }\n.cython.code .c_attr  { color: #0000FF; }\n.cython.code .py_call { color: #FF0000; font-weight: bold; }\n.cython.code .c_call  { color: #0000FF; }\n\n.cython.score-0 {background-color: #FFFFff;}\n.cython.score-1 {background-color: #FFFFe7;}\n.cython.score-2 {background-color: #FFFFd4;}\n.cython.score-3 {background-color: #FFFFc4;}\n.cython.score-4 {background-color: #FFFFb6;}\n.cython.score-5 {background-color: #FFFFaa;}\n.cython.score-6 {background-color: #FFFF9f;}\n.cython.score-7 {background-color: #FFFF96;}\n.cython.score-8 {background-color: #FFFF8d;}\n.cython.score-9 {background-color: #FFFF86;}\n.cython.score-10 {background-color: #FFFF7f;}\n.cython.score-11 {background-color: #FFFF79;}\n.cython.score-12 {background-color: #FFFF73;}\n.cython.score-13 {background-color: #FFFF6e;}\n.cython.score-14 {background-color: #FFFF6a;}\n.cython.score-15 {background-color: #FFFF66;}\n.cython.score-16 {background-color: #FFFF62;}\n.cython.score-17 {background-color: #FFFF5e;}\n.cython.score-18 {background-color: #FFFF5b;}\n.cython.score-19 {background-color: #FFFF57;}\n.cython.score-20 {background-color: #FFFF55;}\n.cython.score-21 {background-color: #FFFF52;}\n.cython.score-22 {background-color: #FFFF4f;}\n.cython.score-23 {background-color: #FFFF4d;}\n.cython.score-24 {background-color: #FFFF4b;}\n.cython.score-25 {background-color: #FFFF48;}\n.cython.score-26 {background-color: #FFFF46;}\n.cython.score-27 {background-color: #FFFF44;}\n.cython.score-28 {background-color: #FFFF43;}\n.cython.score-29 {background-color: #FFFF41;}\n.cython.score-30 {background-color: #FFFF3f;}\n.cython.score-31 {background-color: #FFFF3e;}\n.cython.score-32 {background-color: #FFFF3c;}\n.cython.score-33 {background-color: #FFFF3b;}\n.cython.score-34 {background-color: #FFFF39;}\n.cython.score-35 {background-color: #FFFF38;}\n.cython.score-36 {background-color: #FFFF37;}\n.cython.score-37 {background-color: #FFFF36;}\n.cython.score-38 {background-color: #FFFF35;}\n.cython.score-39 {background-color: #FFFF34;}\n.cython.score-40 {background-color: #FFFF33;}\n.cython.score-41 {background-color: #FFFF32;}\n.cython.score-42 {background-color: #FFFF31;}\n.cython.score-43 {background-color: #FFFF30;}\n.cython.score-44 {background-color: #FFFF2f;}\n.cython.score-45 {background-color: #FFFF2e;}\n.cython.score-46 {background-color: #FFFF2d;}\n.cython.score-47 {background-color: #FFFF2c;}\n.cython.score-48 {background-color: #FFFF2b;}\n.cython.score-49 {background-color: #FFFF2b;}\n.cython.score-50 {background-color: #FFFF2a;}\n.cython.score-51 {background-color: #FFFF29;}\n.cython.score-52 {background-color: #FFFF29;}\n.cython.score-53 {background-color: #FFFF28;}\n.cython.score-54 {background-color: #FFFF27;}\n.cython.score-55 {background-color: #FFFF27;}\n.cython.score-56 {background-color: #FFFF26;}\n.cython.score-57 {background-color: #FFFF26;}\n.cython.score-58 {background-color: #FFFF25;}\n.cython.score-59 {background-color: #FFFF24;}\n.cython.score-60 {background-color: #FFFF24;}\n.cython.score-61 {background-color: #FFFF23;}\n.cython.score-62 {background-color: #FFFF23;}\n.cython.score-63 {background-color: #FFFF22;}\n.cython.score-64 {background-color: #FFFF22;}\n.cython.score-65 {background-color: #FFFF22;}\n.cython.score-66 {background-color: #FFFF21;}\n.cython.score-67 {background-color: #FFFF21;}\n.cython.score-68 {background-color: #FFFF20;}\n.cython.score-69 {background-color: #FFFF20;}\n.cython.score-70 {background-color: #FFFF1f;}\n.cython.score-71 {background-color: #FFFF1f;}\n.cython.score-72 {background-color: #FFFF1f;}\n.cython.score-73 {background-color: #FFFF1e;}\n.cython.score-74 {background-color: #FFFF1e;}\n.cython.score-75 {background-color: #FFFF1e;}\n.cython.score-76 {background-color: #FFFF1d;}\n.cython.score-77 {background-color: #FFFF1d;}\n.cython.score-78 {background-color: #FFFF1c;}\n.cython.score-79 {background-color: #FFFF1c;}\n.cython.score-80 {background-color: #FFFF1c;}\n.cython.score-81 {background-color: #FFFF1c;}\n.cython.score-82 {background-color: #FFFF1b;}\n.cython.score-83 {background-color: #FFFF1b;}\n.cython.score-84 {background-color: #FFFF1b;}\n.cython.score-85 {background-color: #FFFF1a;}\n.cython.score-86 {background-color: #FFFF1a;}\n.cython.score-87 {background-color: #FFFF1a;}\n.cython.score-88 {background-color: #FFFF1a;}\n.cython.score-89 {background-color: #FFFF19;}\n.cython.score-90 {background-color: #FFFF19;}\n.cython.score-91 {background-color: #FFFF19;}\n.cython.score-92 {background-color: #FFFF19;}\n.cython.score-93 {background-color: #FFFF18;}\n.cython.score-94 {background-color: #FFFF18;}\n.cython.score-95 {background-color: #FFFF18;}\n.cython.score-96 {background-color: #FFFF18;}\n.cython.score-97 {background-color: #FFFF17;}\n.cython.score-98 {background-color: #FFFF17;}\n.cython.score-99 {background-color: #FFFF17;}\n.cython.score-100 {background-color: #FFFF17;}\n.cython.score-101 {background-color: #FFFF16;}\n.cython.score-102 {background-color: #FFFF16;}\n.cython.score-103 {background-color: #FFFF16;}\n.cython.score-104 {background-color: #FFFF16;}\n.cython.score-105 {background-color: #FFFF16;}\n.cython.score-106 {background-color: #FFFF15;}\n.cython.score-107 {background-color: #FFFF15;}\n.cython.score-108 {background-color: #FFFF15;}\n.cython.score-109 {background-color: #FFFF15;}\n.cython.score-110 {background-color: #FFFF15;}\n.cython.score-111 {background-color: #FFFF15;}\n.cython.score-112 {background-color: #FFFF14;}\n.cython.score-113 {background-color: #FFFF14;}\n.cython.score-114 {background-color: #FFFF14;}\n.cython.score-115 {background-color: #FFFF14;}\n.cython.score-116 {background-color: #FFFF14;}\n.cython.score-117 {background-color: #FFFF14;}\n.cython.score-118 {background-color: #FFFF13;}\n.cython.score-119 {background-color: #FFFF13;}\n.cython.score-120 {background-color: #FFFF13;}\n.cython.score-121 {background-color: #FFFF13;}\n.cython.score-122 {background-color: #FFFF13;}\n.cython.score-123 {background-color: #FFFF13;}\n.cython.score-124 {background-color: #FFFF13;}\n.cython.score-125 {background-color: #FFFF12;}\n.cython.score-126 {background-color: #FFFF12;}\n.cython.score-127 {background-color: #FFFF12;}\n.cython.score-128 {background-color: #FFFF12;}\n.cython.score-129 {background-color: #FFFF12;}\n.cython.score-130 {background-color: #FFFF12;}\n.cython.score-131 {background-color: #FFFF12;}\n.cython.score-132 {background-color: #FFFF11;}\n.cython.score-133 {background-color: #FFFF11;}\n.cython.score-134 {background-color: #FFFF11;}\n.cython.score-135 {background-color: #FFFF11;}\n.cython.score-136 {background-color: #FFFF11;}\n.cython.score-137 {background-color: #FFFF11;}\n.cython.score-138 {background-color: #FFFF11;}\n.cython.score-139 {background-color: #FFFF11;}\n.cython.score-140 {background-color: #FFFF11;}\n.cython.score-141 {background-color: #FFFF10;}\n.cython.score-142 {background-color: #FFFF10;}\n.cython.score-143 {background-color: #FFFF10;}\n.cython.score-144 {background-color: #FFFF10;}\n.cython.score-145 {background-color: #FFFF10;}\n.cython.score-146 {background-color: #FFFF10;}\n.cython.score-147 {background-color: #FFFF10;}\n.cython.score-148 {background-color: #FFFF10;}\n.cython.score-149 {background-color: #FFFF10;}\n.cython.score-150 {background-color: #FFFF0f;}\n.cython.score-151 {background-color: #FFFF0f;}\n.cython.score-152 {background-color: #FFFF0f;}\n.cython.score-153 {background-color: #FFFF0f;}\n.cython.score-154 {background-color: #FFFF0f;}\n.cython.score-155 {background-color: #FFFF0f;}\n.cython.score-156 {background-color: #FFFF0f;}\n.cython.score-157 {background-color: #FFFF0f;}\n.cython.score-158 {background-color: #FFFF0f;}\n.cython.score-159 {background-color: #FFFF0f;}\n.cython.score-160 {background-color: #FFFF0f;}\n.cython.score-161 {background-color: #FFFF0e;}\n.cython.score-162 {background-color: #FFFF0e;}\n.cython.score-163 {background-color: #FFFF0e;}\n.cython.score-164 {background-color: #FFFF0e;}\n.cython.score-165 {background-color: #FFFF0e;}\n.cython.score-166 {background-color: #FFFF0e;}\n.cython.score-167 {background-color: #FFFF0e;}\n.cython.score-168 {background-color: #FFFF0e;}\n.cython.score-169 {background-color: #FFFF0e;}\n.cython.score-170 {background-color: #FFFF0e;}\n.cython.score-171 {background-color: #FFFF0e;}\n.cython.score-172 {background-color: #FFFF0e;}\n.cython.score-173 {background-color: #FFFF0d;}\n.cython.score-174 {background-color: #FFFF0d;}\n.cython.score-175 {background-color: #FFFF0d;}\n.cython.score-176 {background-color: #FFFF0d;}\n.cython.score-177 {background-color: #FFFF0d;}\n.cython.score-178 {background-color: #FFFF0d;}\n.cython.score-179 {background-color: #FFFF0d;}\n.cython.score-180 {background-color: #FFFF0d;}\n.cython.score-181 {background-color: #FFFF0d;}\n.cython.score-182 {background-color: #FFFF0d;}\n.cython.score-183 {background-color: #FFFF0d;}\n.cython.score-184 {background-color: #FFFF0d;}\n.cython.score-185 {background-color: #FFFF0d;}\n.cython.score-186 {background-color: #FFFF0d;}\n.cython.score-187 {background-color: #FFFF0c;}\n.cython.score-188 {background-color: #FFFF0c;}\n.cython.score-189 {background-color: #FFFF0c;}\n.cython.score-190 {background-color: #FFFF0c;}\n.cython.score-191 {background-color: #FFFF0c;}\n.cython.score-192 {background-color: #FFFF0c;}\n.cython.score-193 {background-color: #FFFF0c;}\n.cython.score-194 {background-color: #FFFF0c;}\n.cython.score-195 {background-color: #FFFF0c;}\n.cython.score-196 {background-color: #FFFF0c;}\n.cython.score-197 {background-color: #FFFF0c;}\n.cython.score-198 {background-color: #FFFF0c;}\n.cython.score-199 {background-color: #FFFF0c;}\n.cython.score-200 {background-color: #FFFF0c;}\n.cython.score-201 {background-color: #FFFF0c;}\n.cython.score-202 {background-color: #FFFF0c;}\n.cython.score-203 {background-color: #FFFF0b;}\n.cython.score-204 {background-color: #FFFF0b;}\n.cython.score-205 {background-color: #FFFF0b;}\n.cython.score-206 {background-color: #FFFF0b;}\n.cython.score-207 {background-color: #FFFF0b;}\n.cython.score-208 {background-color: #FFFF0b;}\n.cython.score-209 {background-color: #FFFF0b;}\n.cython.score-210 {background-color: #FFFF0b;}\n.cython.score-211 {background-color: #FFFF0b;}\n.cython.score-212 {background-color: #FFFF0b;}\n.cython.score-213 {background-color: #FFFF0b;}\n.cython.score-214 {background-color: #FFFF0b;}\n.cython.score-215 {background-color: #FFFF0b;}\n.cython.score-216 {background-color: #FFFF0b;}\n.cython.score-217 {background-color: #FFFF0b;}\n.cython.score-218 {background-color: #FFFF0b;}\n.cython.score-219 {background-color: #FFFF0b;}\n.cython.score-220 {background-color: #FFFF0b;}\n.cython.score-221 {background-color: #FFFF0b;}\n.cython.score-222 {background-color: #FFFF0a;}\n.cython.score-223 {background-color: #FFFF0a;}\n.cython.score-224 {background-color: #FFFF0a;}\n.cython.score-225 {background-color: #FFFF0a;}\n.cython.score-226 {background-color: #FFFF0a;}\n.cython.score-227 {background-color: #FFFF0a;}\n.cython.score-228 {background-color: #FFFF0a;}\n.cython.score-229 {background-color: #FFFF0a;}\n.cython.score-230 {background-color: #FFFF0a;}\n.cython.score-231 {background-color: #FFFF0a;}\n.cython.score-232 {background-color: #FFFF0a;}\n.cython.score-233 {background-color: #FFFF0a;}\n.cython.score-234 {background-color: #FFFF0a;}\n.cython.score-235 {background-color: #FFFF0a;}\n.cython.score-236 {background-color: #FFFF0a;}\n.cython.score-237 {background-color: #FFFF0a;}\n.cython.score-238 {background-color: #FFFF0a;}\n.cython.score-239 {background-color: #FFFF0a;}\n.cython.score-240 {background-color: #FFFF0a;}\n.cython.score-241 {background-color: #FFFF0a;}\n.cython.score-242 {background-color: #FFFF0a;}\n.cython.score-243 {background-color: #FFFF0a;}\n.cython.score-244 {background-color: #FFFF0a;}\n.cython.score-245 {background-color: #FFFF0a;}\n.cython.score-246 {background-color: #FFFF09;}\n.cython.score-247 {background-color: #FFFF09;}\n.cython.score-248 {background-color: #FFFF09;}\n.cython.score-249 {background-color: #FFFF09;}\n.cython.score-250 {background-color: #FFFF09;}\n.cython.score-251 {background-color: #FFFF09;}\n.cython.score-252 {background-color: #FFFF09;}\n.cython.score-253 {background-color: #FFFF09;}\n.cython.score-254 {background-color: #FFFF09;}\n.cython .hll { background-color: #ffffcc }\n.cython  { background: #f8f8f8; }\n.cython .c { color: #408080; font-style: italic } /* Comment */\n.cython .err { border: 1px solid #FF0000 } /* Error */\n.cython .k { color: #008000; font-weight: bold } /* Keyword */\n.cython .o { color: #666666 } /* Operator */\n.cython .ch { color: #408080; font-style: italic } /* Comment.Hashbang */\n.cython .cm { color: #408080; font-style: italic } /* Comment.Multiline */\n.cython .cp { color: #BC7A00 } /* Comment.Preproc */\n.cython .cpf { color: #408080; font-style: italic } /* Comment.PreprocFile */\n.cython .c1 { color: #408080; font-style: italic } /* Comment.Single */\n.cython .cs { color: #408080; font-style: italic } /* Comment.Special */\n.cython .gd { color: #A00000 } /* Generic.Deleted */\n.cython .ge { font-style: italic } /* Generic.Emph */\n.cython .gr { color: #FF0000 } /* Generic.Error */\n.cython .gh { color: #000080; font-weight: bold } /* Generic.Heading */\n.cython .gi { color: #00A000 } /* Generic.Inserted */\n.cython .go { color: #888888 } /* Generic.Output */\n.cython .gp { color: #000080; font-weight: bold } /* Generic.Prompt */\n.cython .gs { font-weight: bold } /* Generic.Strong */\n.cython .gu { color: #800080; font-weight: bold } /* Generic.Subheading */\n.cython .gt { color: #0044DD } /* Generic.Traceback */\n.cython .kc { color: #008000; font-weight: bold } /* Keyword.Constant */\n.cython .kd { color: #008000; font-weight: bold } /* Keyword.Declaration */\n.cython .kn { color: #008000; font-weight: bold } /* Keyword.Namespace */\n.cython .kp { color: #008000 } /* Keyword.Pseudo */\n.cython .kr { color: #008000; font-weight: bold } /* Keyword.Reserved */\n.cython .kt { color: #B00040 } /* Keyword.Type */\n.cython .m { color: #666666 } /* Literal.Number */\n.cython .s { color: #BA2121 } /* Literal.String */\n.cython .na { color: #7D9029 } /* Name.Attribute */\n.cython .nb { color: #008000 } /* Name.Builtin */\n.cython .nc { color: #0000FF; font-weight: bold } /* Name.Class */\n.cython .no { color: #880000 } /* Name.Constant */\n.cython .nd { color: #AA22FF } /* Name.Decorator */\n.cython .ni { color: #999999; font-weight: bold } /* Name.Entity */\n.cython .ne { color: #D2413A; font-weight: bold } /* Name.Exception */\n.cython .nf { color: #0000FF } /* Name.Function */\n.cython .nl { color: #A0A000 } /* Name.Label */\n.cython .nn { color: #0000FF; font-weight: bold } /* Name.Namespace */\n.cython .nt { color: #008000; font-weight: bold } /* Name.Tag */\n.cython .nv { color: #19177C } /* Name.Variable */\n.cython .ow { color: #AA22FF; font-weight: bold } /* Operator.Word */\n.cython .w { color: #bbbbbb } /* Text.Whitespace */\n.cython .mb { color: #666666 } /* Literal.Number.Bin */\n.cython .mf { color: #666666 } /* Literal.Number.Float */\n.cython .mh { color: #666666 } /* Literal.Number.Hex */\n.cython .mi { color: #666666 } /* Literal.Number.Integer */\n.cython .mo { color: #666666 } /* Literal.Number.Oct */\n.cython .sa { color: #BA2121 } /* Literal.String.Affix */\n.cython .sb { color: #BA2121 } /* Literal.String.Backtick */\n.cython .sc { color: #BA2121 } /* Literal.String.Char */\n.cython .dl { color: #BA2121 } /* Literal.String.Delimiter */\n.cython .sd { color: #BA2121; font-style: italic } /* Literal.String.Doc */\n.cython .s2 { color: #BA2121 } /* Literal.String.Double */\n.cython .se { color: #BB6622; font-weight: bold } /* Literal.String.Escape */\n.cython .sh { color: #BA2121 } /* Literal.String.Heredoc */\n.cython .si { color: #BB6688; font-weight: bold } /* Literal.String.Interpol */\n.cython .sx { color: #008000 } /* Literal.String.Other */\n.cython .sr { color: #BB6688 } /* Literal.String.Regex */\n.cython .s1 { color: #BA2121 } /* Literal.String.Single */\n.cython .ss { color: #19177C } /* Literal.String.Symbol */\n.cython .bp { color: #008000 } /* Name.Builtin.Pseudo */\n.cython .fm { color: #0000FF } /* Name.Function.Magic */\n.cython .vc { color: #19177C } /* Name.Variable.Class */\n.cython .vg { color: #19177C } /* Name.Variable.Global */\n.cython .vi { color: #19177C } /* Name.Variable.Instance */\n.cython .vm { color: #19177C } /* Name.Variable.Magic */\n.cython .il { color: #666666 } /* Literal.Number.Integer.Long */\n    </style>\n</head>\n<body class=\"cython\">\n<p><span style=\"border-bottom: solid 1px grey;\">Generated by Cython 0.29.21</span></p>\n<p>\n    <span style=\"background-color: #FFFF00\">Yellow lines</span> hint at Python interaction.<br />\n    Click on a line that starts with a \"<code>+</code>\" to see the C code that Cython generated for it.\n</p>\n<div class=\"cython\"><pre class=\"cython line score-0\">&#xA0;<span class=\"\">1</span>: <span class=\"k\">from</span> <span class=\"nn\">libc.stdlib</span> <span class=\"k\">cimport</span> <span class=\"n\">rand</span></pre>\n<pre class=\"cython line score-0\">&#xA0;<span class=\"\">2</span>: <span class=\"k\">cdef</span> <span class=\"kr\">extern</span> <span class=\"k\">from</span> <span class=\"s\">&#39;limits.h&#39;</span><span class=\"p\">:</span></pre>\n<pre class=\"cython line score-0\">&#xA0;<span class=\"\">3</span>:     <span class=\"nb\">int</span> <span class=\"n\">INT_MAX</span></pre>\n<pre class=\"cython line score-23\" onclick=\"(function(s){s.display=s.display==='block'?'none':'block'})(this.nextElementSibling.style)\">+<span class=\"\">4</span>: <span class=\"k\">def</span> <span class=\"nf\">average_cy2</span><span class=\"p\">(</span><span class=\"nb\">int</span> <span class=\"n\">n</span><span class=\"p\">):</span></pre>\n<pre class='cython code score-23 '>/* Python wrapper */\nstatic PyObject *__pyx_pw_46_cython_magic_c69429b8adc3f40d185debcd067e72e0_1average_cy2(PyObject *__pyx_self, PyObject *__pyx_arg_n); /*proto*/\nstatic PyMethodDef __pyx_mdef_46_cython_magic_c69429b8adc3f40d185debcd067e72e0_1average_cy2 = {\"average_cy2\", (PyCFunction)__pyx_pw_46_cython_magic_c69429b8adc3f40d185debcd067e72e0_1average_cy2, METH_O, 0};\nstatic PyObject *__pyx_pw_46_cython_magic_c69429b8adc3f40d185debcd067e72e0_1average_cy2(PyObject *__pyx_self, PyObject *__pyx_arg_n) {\n  int __pyx_v_n;\n  PyObject *__pyx_r = 0;\n  <span class='refnanny'>__Pyx_RefNannyDeclarations</span>\n  <span class='refnanny'>__Pyx_RefNannySetupContext</span>(\"average_cy2 (wrapper)\", 0);\n  assert(__pyx_arg_n); {\n    __pyx_v_n = <span class='pyx_c_api'>__Pyx_PyInt_As_int</span>(__pyx_arg_n); if (unlikely((__pyx_v_n == (int)-1) &amp;&amp; <span class='py_c_api'>PyErr_Occurred</span>())) <span class='error_goto'>__PYX_ERR(0, 4, __pyx_L3_error)</span>\n  }\n  goto __pyx_L4_argument_unpacking_done;\n  __pyx_L3_error:;\n  <span class='pyx_c_api'>__Pyx_AddTraceback</span>(\"_cython_magic_c69429b8adc3f40d185debcd067e72e0.average_cy2\", __pyx_clineno, __pyx_lineno, __pyx_filename);\n  <span class='refnanny'>__Pyx_RefNannyFinishContext</span>();\n  return NULL;\n  __pyx_L4_argument_unpacking_done:;\n  __pyx_r = __pyx_pf_46_cython_magic_c69429b8adc3f40d185debcd067e72e0_average_cy2(__pyx_self, ((int)__pyx_v_n));\n  int __pyx_lineno = 0;\n  const char *__pyx_filename = NULL;\n  int __pyx_clineno = 0;\n\n  /* function exit code */\n  <span class='refnanny'>__Pyx_RefNannyFinishContext</span>();\n  return __pyx_r;\n}\n\nstatic PyObject *__pyx_pf_46_cython_magic_c69429b8adc3f40d185debcd067e72e0_average_cy2(CYTHON_UNUSED PyObject *__pyx_self, int __pyx_v_n) {\n  CYTHON_UNUSED int __pyx_v_i;\n  float __pyx_v_s;\n  PyObject *__pyx_r = NULL;\n  <span class='refnanny'>__Pyx_RefNannyDeclarations</span>\n  <span class='refnanny'>__Pyx_RefNannySetupContext</span>(\"average_cy2\", 0);\n/* … */\n  /* function exit code */\n  __pyx_L1_error:;\n  <span class='pyx_macro_api'>__Pyx_XDECREF</span>(__pyx_t_5);\n  <span class='pyx_c_api'>__Pyx_AddTraceback</span>(\"_cython_magic_c69429b8adc3f40d185debcd067e72e0.average_cy2\", __pyx_clineno, __pyx_lineno, __pyx_filename);\n  __pyx_r = NULL;\n  __pyx_L0:;\n  <span class='refnanny'>__Pyx_XGIVEREF</span>(__pyx_r);\n  <span class='refnanny'>__Pyx_RefNannyFinishContext</span>();\n  return __pyx_r;\n}\n/* … */\n  __pyx_tuple_ = <span class='py_c_api'>PyTuple_Pack</span>(4, __pyx_n_s_n, __pyx_n_s_n, __pyx_n_s_i, __pyx_n_s_s);<span class='error_goto'> if (unlikely(!__pyx_tuple_)) __PYX_ERR(0, 4, __pyx_L1_error)</span>\n  <span class='refnanny'>__Pyx_GOTREF</span>(__pyx_tuple_);\n  <span class='refnanny'>__Pyx_GIVEREF</span>(__pyx_tuple_);\n/* … */\n  __pyx_t_1 = PyCFunction_NewEx(&amp;__pyx_mdef_46_cython_magic_c69429b8adc3f40d185debcd067e72e0_1average_cy2, NULL, __pyx_n_s_cython_magic_c69429b8adc3f40d18);<span class='error_goto'> if (unlikely(!__pyx_t_1)) __PYX_ERR(0, 4, __pyx_L1_error)</span>\n  <span class='refnanny'>__Pyx_GOTREF</span>(__pyx_t_1);\n  if (<span class='py_c_api'>PyDict_SetItem</span>(__pyx_d, __pyx_n_s_average_cy2, __pyx_t_1) &lt; 0) <span class='error_goto'>__PYX_ERR(0, 4, __pyx_L1_error)</span>\n  <span class='pyx_macro_api'>__Pyx_DECREF</span>(__pyx_t_1); __pyx_t_1 = 0;\n</pre><pre class=\"cython line score-0\">&#xA0;<span class=\"\">5</span>:     <span class=\"k\">cdef</span> <span class=\"kt\">int</span> <span class=\"nf\">i</span></pre>\n<pre class=\"cython line score-0\" onclick=\"(function(s){s.display=s.display==='block'?'none':'block'})(this.nextElementSibling.style)\">+<span class=\"\">6</span>:     <span class=\"k\">cdef</span> <span class=\"kt\">float</span> <span class=\"nf\">s</span> <span class=\"o\">=</span> <span class=\"mf\">0</span></pre>\n<pre class='cython code score-0 '>  __pyx_v_s = 0.0;\n</pre><pre class=\"cython line score-0\" onclick=\"(function(s){s.display=s.display==='block'?'none':'block'})(this.nextElementSibling.style)\">+<span class=\"\">7</span>:     <span class=\"k\">for</span> <span class=\"n\">i</span> <span class=\"ow\">in</span> <span class=\"nb\">range</span><span class=\"p\">(</span><span class=\"n\">n</span><span class=\"p\">):</span></pre>\n<pre class='cython code score-0 '>  __pyx_t_1 = __pyx_v_n;\n  __pyx_t_2 = __pyx_t_1;\n  for (__pyx_t_3 = 0; __pyx_t_3 &lt; __pyx_t_2; __pyx_t_3+=1) {\n    __pyx_v_i = __pyx_t_3;\n</pre><pre class=\"cython line score-5\" onclick=\"(function(s){s.display=s.display==='block'?'none':'block'})(this.nextElementSibling.style)\">+<span class=\"\">8</span>:         <span class=\"n\">s</span> <span class=\"o\">+=</span> <span class=\"n\">rand</span><span class=\"p\">()</span> <span class=\"o\">/</span> <span class=\"n\">INT_MAX</span></pre>\n<pre class='cython code score-5 '>    __pyx_t_4 = rand();\n    if (unlikely(INT_MAX == 0)) {\n      <span class='py_c_api'>PyErr_SetString</span>(PyExc_ZeroDivisionError, \"float division\");\n      <span class='error_goto'>__PYX_ERR(0, 8, __pyx_L1_error)</span>\n    }\n    __pyx_v_s = (__pyx_v_s + (((double)__pyx_t_4) / ((double)INT_MAX)));\n  }\n</pre><pre class=\"cython line score-11\" onclick=\"(function(s){s.display=s.display==='block'?'none':'block'})(this.nextElementSibling.style)\">+<span class=\"\">9</span>:     <span class=\"k\">return</span> <span class=\"n\">s</span> <span class=\"o\">/</span> <span class=\"n\">n</span></pre>\n<pre class='cython code score-11 '>  <span class='pyx_macro_api'>__Pyx_XDECREF</span>(__pyx_r);\n  if (unlikely(__pyx_v_n == 0)) {\n    <span class='py_c_api'>PyErr_SetString</span>(PyExc_ZeroDivisionError, \"float division\");\n    <span class='error_goto'>__PYX_ERR(0, 9, __pyx_L1_error)</span>\n  }\n  __pyx_t_5 = <span class='py_c_api'>PyFloat_FromDouble</span>((__pyx_v_s / ((float)__pyx_v_n)));<span class='error_goto'> if (unlikely(!__pyx_t_5)) __PYX_ERR(0, 9, __pyx_L1_error)</span>\n  <span class='refnanny'>__Pyx_GOTREF</span>(__pyx_t_5);\n  __pyx_r = __pyx_t_5;\n  __pyx_t_5 = 0;\n  goto __pyx_L0;\n</pre></div></body></html>"
     },
     "metadata": {},
     "execution_count": 25
    }
   ],
   "source": [
    "%%cython -a\n",
    "from libc.stdlib cimport rand  \n",
    "cdef extern from 'limits.h':  \n",
    "    int INT_MAX  \n",
    "def average_cy2(int n):\n",
    "    cdef int i\n",
    "    cdef float s = 0\n",
    "    for i in range(n):\n",
    "        s += rand() / INT_MAX  \n",
    "    return s / n"
   ]
  },
  {
   "cell_type": "code",
   "execution_count": 26,
   "metadata": {
    "tags": []
   },
   "outputs": [
    {
     "output_type": "stream",
     "name": "stdout",
     "text": "Wall time: 188 ms\n"
    },
    {
     "output_type": "execute_result",
     "data": {
      "text/plain": "7.628993898833869e-06"
     },
     "metadata": {},
     "execution_count": 26
    }
   ],
   "source": [
    "%time average_cy2(n)"
   ]
  },
  {
   "cell_type": "code",
   "execution_count": 27,
   "metadata": {
    "tags": []
   },
   "outputs": [
    {
     "output_type": "stream",
     "name": "stdout",
     "text": "186 ms ± 1.54 ms per loop (mean ± std. dev. of 7 runs, 10 loops each)\n"
    }
   ],
   "source": [
    "%timeit average_cy2(n)"
   ]
  },
  {
   "cell_type": "markdown",
   "metadata": {},
   "source": [
    "Cython使开发人员可以尽可能地调整代码以提高性能，也可以明智地少做调整——例如，从纯Python版本入手，向代码中加入越来越多的C语言元素。在编译步骤中也可以设置参数，以进一步优化编译后的版本。"
   ]
  },
  {
   "cell_type": "markdown",
   "metadata": {},
   "source": [
    "## Prime Numbers\n",
    "本节将上一节的性能增强技术应用到一些著名的数学问题和算法上。这些算法经常用作性能基准。"
   ]
  },
  {
   "cell_type": "markdown",
   "metadata": {},
   "source": [
    "### Pure Python"
   ]
  },
  {
   "cell_type": "code",
   "execution_count": 29,
   "metadata": {},
   "outputs": [],
   "source": [
    "def is_prime(I):\n",
    "    if I % 2 == 0: return False  \n",
    "    for i in range(3, int(I ** 0.5) + 1, 2):  \n",
    "        if I % i == 0: return False  \n",
    "    return True  "
   ]
  },
  {
   "cell_type": "code",
   "execution_count": 30,
   "metadata": {},
   "outputs": [
    {
     "output_type": "execute_result",
     "data": {
      "text/plain": "100000003"
     },
     "metadata": {},
     "execution_count": 30
    }
   ],
   "source": [
    "n = int(1e8 + 3)  \n",
    "n"
   ]
  },
  {
   "cell_type": "code",
   "execution_count": 31,
   "metadata": {
    "tags": []
   },
   "outputs": [
    {
     "output_type": "stream",
     "name": "stdout",
     "text": "Wall time: 0 ns\n"
    },
    {
     "output_type": "execute_result",
     "data": {
      "text/plain": "False"
     },
     "metadata": {},
     "execution_count": 31
    }
   ],
   "source": [
    "%time is_prime(n)"
   ]
  },
  {
   "cell_type": "code",
   "execution_count": 32,
   "metadata": {},
   "outputs": [
    {
     "output_type": "execute_result",
     "data": {
      "text/plain": "100000007"
     },
     "metadata": {},
     "execution_count": 32
    }
   ],
   "source": [
    "p1 = int(1e8 + 7)  \n",
    "p1"
   ]
  },
  {
   "cell_type": "code",
   "execution_count": 33,
   "metadata": {
    "tags": []
   },
   "outputs": [
    {
     "output_type": "stream",
     "name": "stdout",
     "text": "Wall time: 0 ns\n"
    },
    {
     "output_type": "execute_result",
     "data": {
      "text/plain": "True"
     },
     "metadata": {},
     "execution_count": 33
    }
   ],
   "source": [
    "%time is_prime(p1)"
   ]
  },
  {
   "cell_type": "code",
   "execution_count": 34,
   "metadata": {},
   "outputs": [],
   "source": [
    "p2 = 100109100129162907  "
   ]
  },
  {
   "cell_type": "code",
   "execution_count": 35,
   "metadata": {},
   "outputs": [
    {
     "output_type": "execute_result",
     "data": {
      "text/plain": "57"
     },
     "metadata": {},
     "execution_count": 35
    }
   ],
   "source": [
    "p2.bit_length()  "
   ]
  },
  {
   "cell_type": "code",
   "execution_count": 36,
   "metadata": {
    "tags": []
   },
   "outputs": [
    {
     "output_type": "stream",
     "name": "stdout",
     "text": "Wall time: 16.2 s\n"
    },
    {
     "output_type": "execute_result",
     "data": {
      "text/plain": "True"
     },
     "metadata": {},
     "execution_count": 36
    }
   ],
   "source": [
    "%time is_prime(p2)"
   ]
  },
  {
   "cell_type": "markdown",
   "metadata": {},
   "source": [
    "### Numba\n",
    "函数is_prime()中的算法循环结构由Numba动态编译。开销仍然很少，而加速效果很可观"
   ]
  },
  {
   "cell_type": "code",
   "execution_count": 37,
   "metadata": {},
   "outputs": [],
   "source": [
    "is_prime_nb = numba.jit(is_prime)"
   ]
  },
  {
   "cell_type": "code",
   "execution_count": 38,
   "metadata": {
    "tags": []
   },
   "outputs": [
    {
     "output_type": "stream",
     "name": "stdout",
     "text": "Wall time: 110 ms\n"
    },
    {
     "output_type": "execute_result",
     "data": {
      "text/plain": "False"
     },
     "metadata": {},
     "execution_count": 38
    }
   ],
   "source": [
    "%time is_prime_nb(n)  "
   ]
  },
  {
   "cell_type": "code",
   "execution_count": 39,
   "metadata": {
    "tags": []
   },
   "outputs": [
    {
     "output_type": "stream",
     "name": "stdout",
     "text": "Wall time: 0 ns\n"
    },
    {
     "output_type": "execute_result",
     "data": {
      "text/plain": "False"
     },
     "metadata": {},
     "execution_count": 39
    }
   ],
   "source": [
    "%time is_prime_nb(n)  "
   ]
  },
  {
   "cell_type": "code",
   "execution_count": 40,
   "metadata": {
    "tags": []
   },
   "outputs": [
    {
     "output_type": "stream",
     "name": "stdout",
     "text": "Wall time: 0 ns\n"
    },
    {
     "output_type": "execute_result",
     "data": {
      "text/plain": "True"
     },
     "metadata": {},
     "execution_count": 40
    }
   ],
   "source": [
    "%time is_prime_nb(p1)"
   ]
  },
  {
   "cell_type": "code",
   "execution_count": 41,
   "metadata": {
    "tags": []
   },
   "outputs": [
    {
     "output_type": "stream",
     "name": "stdout",
     "text": "Wall time: 1.3 s\n"
    },
    {
     "output_type": "execute_result",
     "data": {
      "text/plain": "True"
     },
     "metadata": {},
     "execution_count": 41
    }
   ],
   "source": [
    "%time is_prime_nb(p2)  "
   ]
  },
  {
   "cell_type": "markdown",
   "metadata": {},
   "source": [
    "### Cython"
   ]
  },
  {
   "cell_type": "code",
   "execution_count": 42,
   "metadata": {},
   "outputs": [],
   "source": [
    "%%cython\n",
    "def is_prime_cy1(I):\n",
    "    if I % 2 == 0: return False\n",
    "    for i in range(3, int(I ** 0.5) + 1, 2):\n",
    "        if I % i == 0: return False\n",
    "    return True"
   ]
  },
  {
   "cell_type": "code",
   "execution_count": 43,
   "metadata": {
    "tags": []
   },
   "outputs": [
    {
     "output_type": "stream",
     "name": "stdout",
     "text": "269 µs ± 467 ns per loop (mean ± std. dev. of 7 runs, 1000 loops each)\n"
    }
   ],
   "source": [
    "%timeit is_prime(p1)"
   ]
  },
  {
   "cell_type": "code",
   "execution_count": 44,
   "metadata": {
    "tags": []
   },
   "outputs": [
    {
     "output_type": "stream",
     "name": "stdout",
     "text": "155 µs ± 167 ns per loop (mean ± std. dev. of 7 runs, 10000 loops each)\n"
    }
   ],
   "source": [
    "%timeit is_prime_cy1(p1)"
   ]
  },
  {
   "cell_type": "code",
   "execution_count": 45,
   "metadata": {},
   "outputs": [],
   "source": [
    "%%cython\n",
    "def is_prime_cy2(long long I):  \n",
    "    cdef long i  \n",
    "    if I % 2 == 0: return False\n",
    "    for i in range(3, int(I ** 0.5) + 1, 2):\n",
    "        if I % i == 0: return False\n",
    "    return True"
   ]
  },
  {
   "cell_type": "code",
   "execution_count": 46,
   "metadata": {
    "tags": []
   },
   "outputs": [
    {
     "output_type": "stream",
     "name": "stdout",
     "text": "39.2 µs ± 100 ns per loop (mean ± std. dev. of 7 runs, 10000 loops each)\n"
    }
   ],
   "source": [
    "%timeit is_prime_cy2(p1)"
   ]
  },
  {
   "cell_type": "code",
   "execution_count": 47,
   "metadata": {
    "tags": []
   },
   "outputs": [
    {
     "output_type": "stream",
     "name": "stdout",
     "text": "Wall time: 1.28 s\n"
    },
    {
     "output_type": "execute_result",
     "data": {
      "text/plain": "True"
     },
     "metadata": {},
     "execution_count": 47
    }
   ],
   "source": [
    "%time is_prime_nb(p2)"
   ]
  },
  {
   "cell_type": "code",
   "execution_count": 48,
   "metadata": {
    "tags": []
   },
   "outputs": [
    {
     "output_type": "stream",
     "name": "stdout",
     "text": "Wall time: 1.24 s\n"
    },
    {
     "output_type": "execute_result",
     "data": {
      "text/plain": "True"
     },
     "metadata": {},
     "execution_count": 48
    }
   ],
   "source": [
    "%time is_prime_cy2(p2)"
   ]
  },
  {
   "cell_type": "markdown",
   "metadata": {},
   "source": [
    "### Multiprocessing\n",
    "\n",
    "multiprocessing模块有助于进一步加速代码执行。你可以用它产生多个并行运行的 Python 进程。对于简单问题，该模块的应用很直观。首先，将mp.Pool对象设置为多进程。其次，将要执行的函数映射到所要检查的质数上"
   ]
  },
  {
   "cell_type": "code",
   "execution_count": 46,
   "metadata": {},
   "outputs": [],
   "source": [
    "import multiprocessing as mp"
   ]
  },
  {
   "cell_type": "code",
   "execution_count": 47,
   "metadata": {},
   "outputs": [],
   "source": [
    "pool = mp.Pool(processes=4)  "
   ]
  },
  {
   "cell_type": "code",
   "execution_count": 48,
   "metadata": {},
   "outputs": [],
   "source": [
    "%time pool.map(is_prime, 10 * [p1])  "
   ]
  },
  {
   "cell_type": "code",
   "execution_count": null,
   "metadata": {},
   "outputs": [],
   "source": [
    "%time pool.map(is_prime_nb, 10 * [p2])  "
   ]
  },
  {
   "cell_type": "code",
   "execution_count": null,
   "metadata": {},
   "outputs": [],
   "source": [
    "%time pool.map(is_prime_cy2, 10 * [p2])  "
   ]
  },
  {
   "cell_type": "markdown",
   "metadata": {},
   "source": [
    "每当需要解决多个相同类型问题时，就应该考虑并行处理。如果拥有具备多个核心及充足工作内存的强大硬件，效果可能非常巨大。multiprocessing是标准库中的一个易用模块。"
   ]
  },
  {
   "cell_type": "markdown",
   "metadata": {},
   "source": [
    "## Fibonacci Numbers"
   ]
  },
  {
   "cell_type": "markdown",
   "metadata": {},
   "source": [
    "### Recursive Algorithm"
   ]
  },
  {
   "cell_type": "code",
   "execution_count": 21,
   "metadata": {},
   "outputs": [],
   "source": [
    "from numba import njit"
   ]
  },
  {
   "cell_type": "code",
   "execution_count": 23,
   "metadata": {},
   "outputs": [],
   "source": [
    "def fib_rec_py1(n):\n",
    "    if n < 2:\n",
    "        return n\n",
    "    else:\n",
    "        return fib_rec_py1(n - 1) + fib_rec_py1(n - 2)"
   ]
  },
  {
   "cell_type": "code",
   "execution_count": 28,
   "metadata": {
    "tags": []
   },
   "outputs": [
    {
     "output_type": "stream",
     "name": "stdout",
     "text": "Wall time: 3.41 s\n"
    },
    {
     "output_type": "execute_result",
     "data": {
      "text/plain": "9227465"
     },
     "metadata": {},
     "execution_count": 28
    }
   ],
   "source": [
    "%time fib_rec_py1(35)"
   ]
  },
  {
   "cell_type": "code",
   "execution_count": 49,
   "metadata": {},
   "outputs": [],
   "source": [
    "@njit\n",
    "def fib_rec_nb(n):\n",
    "    if n < 2:\n",
    "        return n\n",
    "    else:\n",
    "        return fib_rec_nb(n - 1) + fib_rec_nb(n - 2)"
   ]
  },
  {
   "cell_type": "code",
   "execution_count": 50,
   "metadata": {
    "tags": []
   },
   "outputs": [
    {
     "output_type": "stream",
     "name": "stdout",
     "text": "Wall time: 146 ms\n"
    },
    {
     "output_type": "execute_result",
     "data": {
      "text/plain": "9227465"
     },
     "metadata": {},
     "execution_count": 50
    }
   ],
   "source": [
    "%time fib_rec_nb(35)"
   ]
  },
  {
   "cell_type": "code",
   "execution_count": 51,
   "metadata": {
    "tags": []
   },
   "outputs": [
    {
     "output_type": "stream",
     "name": "stdout",
     "text": "Wall time: 79 ms\n"
    },
    {
     "output_type": "execute_result",
     "data": {
      "text/plain": "9227465"
     },
     "metadata": {},
     "execution_count": 51
    }
   ],
   "source": [
    "%time fib_rec_nb(35)"
   ]
  },
  {
   "cell_type": "code",
   "execution_count": 52,
   "metadata": {},
   "outputs": [],
   "source": [
    "%%cython\n",
    "def fib_rec_cy(int n):\n",
    "    if n < 2:\n",
    "        return n\n",
    "    else:\n",
    "        return fib_rec_cy(n - 1) + fib_rec_cy(n - 2)"
   ]
  },
  {
   "cell_type": "code",
   "execution_count": 53,
   "metadata": {
    "tags": []
   },
   "outputs": [
    {
     "output_type": "stream",
     "name": "stdout",
     "text": "Wall time: 716 ms\n"
    },
    {
     "output_type": "execute_result",
     "data": {
      "text/plain": "9227465"
     },
     "metadata": {},
     "execution_count": 53
    }
   ],
   "source": [
    "%time fib_rec_cy(35)"
   ]
  },
  {
   "cell_type": "markdown",
   "metadata": {},
   "source": [
    "递归算法的主要问题是中间结果不会缓存，而是重新计算。为了避免出现这种特有的问题，可以使用一个装饰器（decorator）来负责缓存中间结果。它可以将执行速度提高好几个数量级"
   ]
  },
  {
   "cell_type": "code",
   "execution_count": 55,
   "metadata": {},
   "outputs": [],
   "source": [
    "from functools import lru_cache as cache"
   ]
  },
  {
   "cell_type": "code",
   "execution_count": 56,
   "metadata": {},
   "outputs": [],
   "source": [
    "# 缓存中间结果\n",
    "@cache(maxsize=None)  \n",
    "def fib_rec_py2(n):\n",
    "    if n < 2:\n",
    "        return n\n",
    "    else:\n",
    "        return fib_rec_py2(n - 1) + fib_rec_py2(n - 2)"
   ]
  },
  {
   "cell_type": "code",
   "execution_count": 57,
   "metadata": {
    "tags": []
   },
   "outputs": [
    {
     "output_type": "stream",
     "name": "stdout",
     "text": "Wall time: 0 ns\n"
    },
    {
     "output_type": "execute_result",
     "data": {
      "text/plain": "9227465"
     },
     "metadata": {},
     "execution_count": 57
    }
   ],
   "source": [
    "%time fib_rec_py2(35)  "
   ]
  },
  {
   "cell_type": "code",
   "execution_count": 58,
   "metadata": {
    "tags": []
   },
   "outputs": [
    {
     "output_type": "stream",
     "name": "stdout",
     "text": "Wall time: 0 ns\n"
    },
    {
     "output_type": "execute_result",
     "data": {
      "text/plain": "23416728348467685"
     },
     "metadata": {},
     "execution_count": 58
    }
   ],
   "source": [
    "%time fib_rec_py2(80)  "
   ]
  },
  {
   "cell_type": "markdown",
   "metadata": {},
   "source": [
    "### Iterative Algorithm "
   ]
  },
  {
   "cell_type": "code",
   "execution_count": 59,
   "metadata": {},
   "outputs": [],
   "source": [
    "def fib_it_py(n):\n",
    "    x, y = 0, 1\n",
    "    for i in range(1, n + 1):\n",
    "        x, y = y, x + y\n",
    "    return x"
   ]
  },
  {
   "cell_type": "code",
   "execution_count": 60,
   "metadata": {
    "tags": []
   },
   "outputs": [
    {
     "output_type": "stream",
     "name": "stdout",
     "text": "Wall time: 0 ns\n"
    },
    {
     "output_type": "execute_result",
     "data": {
      "text/plain": "23416728348467685"
     },
     "metadata": {},
     "execution_count": 60
    }
   ],
   "source": [
    "%time fib_it_py(80)"
   ]
  },
  {
   "cell_type": "code",
   "execution_count": 61,
   "metadata": {},
   "outputs": [],
   "source": [
    "fib_it_nb = numba.jit(fib_it_py)"
   ]
  },
  {
   "cell_type": "code",
   "execution_count": 62,
   "metadata": {
    "tags": []
   },
   "outputs": [
    {
     "output_type": "stream",
     "name": "stdout",
     "text": "Wall time: 66 ms\n"
    },
    {
     "output_type": "execute_result",
     "data": {
      "text/plain": "23416728348467685"
     },
     "metadata": {},
     "execution_count": 62
    }
   ],
   "source": [
    "%time fib_it_nb(80)"
   ]
  },
  {
   "cell_type": "code",
   "execution_count": 63,
   "metadata": {
    "tags": []
   },
   "outputs": [
    {
     "output_type": "stream",
     "name": "stdout",
     "text": "Wall time: 0 ns\n"
    },
    {
     "output_type": "execute_result",
     "data": {
      "text/plain": "23416728348467685"
     },
     "metadata": {},
     "execution_count": 63
    }
   ],
   "source": [
    "%time fib_it_nb(80)"
   ]
  },
  {
   "cell_type": "code",
   "execution_count": 66,
   "metadata": {},
   "outputs": [],
   "source": [
    "%%cython\n",
    "def fib_it_cy1(int n):\n",
    "    cdef long long i\n",
    "    cdef long long x = 0, y = 1\n",
    "    for i in range(1, n + 1):\n",
    "        x, y = y, x + y\n",
    "    return x"
   ]
  },
  {
   "cell_type": "code",
   "execution_count": 67,
   "metadata": {
    "tags": []
   },
   "outputs": [
    {
     "output_type": "stream",
     "name": "stdout",
     "text": "Wall time: 0 ns\n"
    },
    {
     "output_type": "execute_result",
     "data": {
      "text/plain": "23416728348467685"
     },
     "metadata": {},
     "execution_count": 67
    }
   ],
   "source": [
    "%time fib_it_cy1(80)"
   ]
  },
  {
   "cell_type": "code",
   "execution_count": 77,
   "metadata": {
    "tags": []
   },
   "outputs": [
    {
     "output_type": "stream",
     "name": "stdout",
     "text": "9969216677189303386214405760200\nWall time: 986 µs\n"
    }
   ],
   "source": [
    "%%time\n",
    "fn = fib_rec_py2(150)  \n",
    "print(fn)  "
   ]
  },
  {
   "cell_type": "code",
   "execution_count": 69,
   "metadata": {},
   "outputs": [
    {
     "output_type": "execute_result",
     "data": {
      "text/plain": "103"
     },
     "metadata": {},
     "execution_count": 69
    }
   ],
   "source": [
    "fn.bit_length()  "
   ]
  },
  {
   "cell_type": "code",
   "execution_count": 72,
   "metadata": {
    "tags": []
   },
   "outputs": [
    {
     "output_type": "stream",
     "name": "stdout",
     "text": "6792540214324356296\nWall time: 0 ns\n"
    }
   ],
   "source": [
    "%%time \n",
    "fn = fib_it_nb(150)  \n",
    "print(fn)  "
   ]
  },
  {
   "cell_type": "code",
   "execution_count": 71,
   "metadata": {},
   "outputs": [
    {
     "output_type": "execute_result",
     "data": {
      "text/plain": "63"
     },
     "metadata": {},
     "execution_count": 71
    }
   ],
   "source": [
    "fn.bit_length()  "
   ]
  },
  {
   "cell_type": "code",
   "execution_count": 73,
   "metadata": {
    "tags": []
   },
   "outputs": [
    {
     "output_type": "stream",
     "name": "stdout",
     "text": "6792540214324356296\nWall time: 0 ns\n"
    }
   ],
   "source": [
    "%%time\n",
    "fn = fib_it_cy1(150)  \n",
    "print(fn)  "
   ]
  },
  {
   "cell_type": "code",
   "execution_count": 79,
   "metadata": {},
   "outputs": [
    {
     "output_type": "execute_result",
     "data": {
      "text/plain": "103"
     },
     "metadata": {},
     "execution_count": 79
    }
   ],
   "source": [
    "fn.bit_length()  "
   ]
  },
  {
   "cell_type": "code",
   "execution_count": 91,
   "metadata": {
    "tags": []
   },
   "outputs": [],
   "source": [
    "%%cython\n",
    "cdef extern from *:\n",
    "    ctypedef int int128 '__int128_t'  \n",
    "def fib_it_cy2(int n):\n",
    "    cdef int128 i  \n",
    "    cdef int128 x = 0, y = 1  \n",
    "    for i in range(1, n + 1):\n",
    "        x, y = y, x + y\n",
    "    return x"
   ]
  },
  {
   "cell_type": "code",
   "execution_count": 92,
   "metadata": {
    "tags": []
   },
   "outputs": [
    {
     "output_type": "stream",
     "name": "stdout",
     "text": "6792540214324356296\nWall time: 0 ns\n"
    }
   ],
   "source": [
    "%%time\n",
    "fn = fib_it_cy2(150)  \n",
    "print(fn)  "
   ]
  },
  {
   "cell_type": "code",
   "execution_count": 93,
   "metadata": {},
   "outputs": [
    {
     "output_type": "execute_result",
     "data": {
      "text/plain": "63"
     },
     "metadata": {},
     "execution_count": 93
    }
   ],
   "source": [
    "fn.bit_length()  "
   ]
  },
  {
   "cell_type": "markdown",
   "metadata": {},
   "source": [
    "由于64位整数对象的限制，遇到了溢出问题"
   ]
  },
  {
   "cell_type": "markdown",
   "metadata": {},
   "source": [
    "## The Number Pi\n",
    "\n",
    "基于蒙特卡洛模拟的π值求取算法"
   ]
  },
  {
   "cell_type": "markdown",
   "metadata": {},
   "source": [
    "The code example is taken from [StackExchange](https://codereview.stackexchange.com/questions/69370/monte-carlo-pi-calculation)."
   ]
  },
  {
   "cell_type": "code",
   "execution_count": 94,
   "metadata": {},
   "outputs": [],
   "source": [
    "import random\n",
    "import numpy as np\n",
    "from pylab import mpl, plt\n",
    "plt.style.use('seaborn')\n",
    "mpl.rcParams['font.family'] = 'serif'\n",
    "%matplotlib inline"
   ]
  },
  {
   "cell_type": "code",
   "execution_count": 95,
   "metadata": {},
   "outputs": [],
   "source": [
    "rn = [(random.random() * 2 - 1, random.random() * 2 - 1)\n",
    "      for _ in range(500)]"
   ]
  },
  {
   "cell_type": "code",
   "execution_count": 96,
   "metadata": {},
   "outputs": [
    {
     "output_type": "execute_result",
     "data": {
      "text/plain": "array([[ 0.95936061, -0.92966821],\n       [-0.11405703,  0.42470868],\n       [ 0.81213307,  0.29452811],\n       [-0.81993325, -0.69682838],\n       [ 0.90759144, -0.77368804]])"
     },
     "metadata": {},
     "execution_count": 96
    }
   ],
   "source": [
    "rn = np.array(rn)\n",
    "rn[:5]"
   ]
  },
  {
   "cell_type": "code",
   "execution_count": 97,
   "metadata": {},
   "outputs": [
    {
     "output_type": "execute_result",
     "data": {
      "text/plain": "(-1.1, 1.1)"
     },
     "metadata": {},
     "execution_count": 97
    },
    {
     "output_type": "display_data",
     "data": {
      "text/plain": "<Figure size 504x504 with 1 Axes>",
      "image/svg+xml": "<?xml version=\"1.0\" encoding=\"utf-8\" standalone=\"no\"?>\r\n<!DOCTYPE svg PUBLIC \"-//W3C//DTD SVG 1.1//EN\"\r\n  \"http://www.w3.org/Graphics/SVG/1.1/DTD/svg11.dtd\">\r\n<!-- Created with matplotlib (https://matplotlib.org/) -->\r\n<svg height=\"411.598125pt\" version=\"1.1\" viewBox=\"0 0 442.645312 411.598125\" width=\"442.645312pt\" xmlns=\"http://www.w3.org/2000/svg\" xmlns:xlink=\"http://www.w3.org/1999/xlink\">\r\n <metadata>\r\n  <rdf:RDF xmlns:cc=\"http://creativecommons.org/ns#\" xmlns:dc=\"http://purl.org/dc/elements/1.1/\" xmlns:rdf=\"http://www.w3.org/1999/02/22-rdf-syntax-ns#\">\r\n   <cc:Work>\r\n    <dc:type rdf:resource=\"http://purl.org/dc/dcmitype/StillImage\"/>\r\n    <dc:date>2020-09-01T15:47:50.759345</dc:date>\r\n    <dc:format>image/svg+xml</dc:format>\r\n    <dc:creator>\r\n     <cc:Agent>\r\n      <dc:title>Matplotlib v3.3.1, https://matplotlib.org/</dc:title>\r\n     </cc:Agent>\r\n    </dc:creator>\r\n   </cc:Work>\r\n  </rdf:RDF>\r\n </metadata>\r\n <defs>\r\n  <style type=\"text/css\">*{stroke-linecap:butt;stroke-linejoin:round;}</style>\r\n </defs>\r\n <g id=\"figure_1\">\r\n  <g id=\"patch_1\">\r\n   <path d=\"M 0 411.598125 \r\nL 442.645312 411.598125 \r\nL 442.645312 0 \r\nL 0 0 \r\nz\r\n\" style=\"fill:none;\"/>\r\n  </g>\r\n  <g id=\"axes_1\">\r\n   <g id=\"patch_2\">\r\n    <path d=\"M 44.845313 387.72 \r\nL 435.445312 387.72 \r\nL 435.445312 7.2 \r\nL 44.845313 7.2 \r\nz\r\n\" style=\"fill:#eaeaf2;\"/>\r\n   </g>\r\n   <g id=\"matplotlib.axis_1\">\r\n    <g id=\"xtick_1\">\r\n     <g id=\"line2d_1\">\r\n      <path clip-path=\"url(#pd0551ce825)\" d=\"M 62.599858 387.72 \r\nL 62.599858 7.2 \r\n\" style=\"fill:none;stroke:#ffffff;stroke-linecap:round;\"/>\r\n     </g>\r\n     <g id=\"line2d_2\"/>\r\n     <g id=\"text_1\">\r\n      <!-- −1.00 -->\r\n      <g style=\"fill:#262626;\" transform=\"translate(47.277202 402.318437)scale(0.1 -0.1)\">\r\n       <defs>\r\n        <path d=\"M 10.59375 35.296875 \r\nL 73.1875 35.296875 \r\nL 73.1875 27.390625 \r\nL 10.59375 27.390625 \r\nz\r\n\" id=\"DejaVuSerif-8722\"/>\r\n        <path d=\"M 14.203125 0 \r\nL 14.203125 5.171875 \r\nL 26.90625 5.171875 \r\nL 26.90625 65.828125 \r\nL 12.203125 56.296875 \r\nL 12.203125 62.703125 \r\nL 29.984375 74.21875 \r\nL 36.71875 74.21875 \r\nL 36.71875 5.171875 \r\nL 49.421875 5.171875 \r\nL 49.421875 0 \r\nz\r\n\" id=\"DejaVuSerif-49\"/>\r\n        <path d=\"M 9.421875 5.078125 \r\nQ 9.421875 7.8125 11.28125 9.71875 \r\nQ 13.140625 11.625 15.921875 11.625 \r\nQ 18.609375 11.625 20.5 9.71875 \r\nQ 22.40625 7.8125 22.40625 5.078125 \r\nQ 22.40625 2.390625 20.5 0.484375 \r\nQ 18.609375 -1.421875 15.921875 -1.421875 \r\nQ 13.140625 -1.421875 11.28125 0.453125 \r\nQ 9.421875 2.34375 9.421875 5.078125 \r\nz\r\n\" id=\"DejaVuSerif-46\"/>\r\n        <path d=\"M 31.78125 3.421875 \r\nQ 39.265625 3.421875 42.96875 11.625 \r\nQ 46.6875 19.828125 46.6875 36.375 \r\nQ 46.6875 52.984375 42.96875 61.1875 \r\nQ 39.265625 69.390625 31.78125 69.390625 \r\nQ 24.3125 69.390625 20.59375 61.1875 \r\nQ 16.890625 52.984375 16.890625 36.375 \r\nQ 16.890625 19.828125 20.59375 11.625 \r\nQ 24.3125 3.421875 31.78125 3.421875 \r\nz\r\nM 31.78125 -1.421875 \r\nQ 19.921875 -1.421875 13.25 8.53125 \r\nQ 6.59375 18.5 6.59375 36.375 \r\nQ 6.59375 54.296875 13.25 64.25 \r\nQ 19.921875 74.21875 31.78125 74.21875 \r\nQ 43.703125 74.21875 50.34375 64.25 \r\nQ 56.984375 54.296875 56.984375 36.375 \r\nQ 56.984375 18.5 50.34375 8.53125 \r\nQ 43.703125 -1.421875 31.78125 -1.421875 \r\nz\r\n\" id=\"DejaVuSerif-48\"/>\r\n       </defs>\r\n       <use xlink:href=\"#DejaVuSerif-8722\"/>\r\n       <use x=\"83.789062\" xlink:href=\"#DejaVuSerif-49\"/>\r\n       <use x=\"147.412109\" xlink:href=\"#DejaVuSerif-46\"/>\r\n       <use x=\"179.199219\" xlink:href=\"#DejaVuSerif-48\"/>\r\n       <use x=\"242.822266\" xlink:href=\"#DejaVuSerif-48\"/>\r\n      </g>\r\n     </g>\r\n    </g>\r\n    <g id=\"xtick_2\">\r\n     <g id=\"line2d_3\">\r\n      <path clip-path=\"url(#pd0551ce825)\" d=\"M 106.986222 387.72 \r\nL 106.986222 7.2 \r\n\" style=\"fill:none;stroke:#ffffff;stroke-linecap:round;\"/>\r\n     </g>\r\n     <g id=\"line2d_4\"/>\r\n     <g id=\"text_2\">\r\n      <!-- −0.75 -->\r\n      <g style=\"fill:#262626;\" transform=\"translate(91.663565 402.318437)scale(0.1 -0.1)\">\r\n       <defs>\r\n        <path d=\"M 56.390625 67.921875 \r\nL 27.875 0 \r\nL 20.609375 0 \r\nL 47.796875 64.890625 \r\nL 14.109375 64.890625 \r\nL 14.109375 55.90625 \r\nL 8.40625 55.90625 \r\nL 8.40625 72.90625 \r\nL 56.390625 72.90625 \r\nz\r\n\" id=\"DejaVuSerif-55\"/>\r\n        <path d=\"M 50.296875 72.90625 \r\nL 50.296875 64.890625 \r\nL 16.890625 64.890625 \r\nL 16.890625 44 \r\nQ 19.4375 45.75 22.828125 46.625 \r\nQ 26.21875 47.515625 30.421875 47.515625 \r\nQ 42.234375 47.515625 49.0625 40.96875 \r\nQ 55.90625 34.421875 55.90625 23.09375 \r\nQ 55.90625 11.53125 49 5.046875 \r\nQ 42.09375 -1.421875 29.59375 -1.421875 \r\nQ 24.5625 -1.421875 19.28125 -0.1875 \r\nQ 14.015625 1.03125 8.5 3.515625 \r\nL 8.5 17.671875 \r\nL 14.015625 17.671875 \r\nQ 14.453125 10.75 18.421875 7.078125 \r\nQ 22.40625 3.421875 29.59375 3.421875 \r\nQ 37.3125 3.421875 41.453125 8.5 \r\nQ 45.609375 13.578125 45.609375 23.09375 \r\nQ 45.609375 32.5625 41.484375 37.609375 \r\nQ 37.359375 42.671875 29.59375 42.671875 \r\nQ 25.203125 42.671875 21.84375 41.109375 \r\nQ 18.5 39.546875 15.921875 36.28125 \r\nL 11.71875 36.28125 \r\nL 11.71875 72.90625 \r\nz\r\n\" id=\"DejaVuSerif-53\"/>\r\n       </defs>\r\n       <use xlink:href=\"#DejaVuSerif-8722\"/>\r\n       <use x=\"83.789062\" xlink:href=\"#DejaVuSerif-48\"/>\r\n       <use x=\"147.412109\" xlink:href=\"#DejaVuSerif-46\"/>\r\n       <use x=\"179.199219\" xlink:href=\"#DejaVuSerif-55\"/>\r\n       <use x=\"242.822266\" xlink:href=\"#DejaVuSerif-53\"/>\r\n      </g>\r\n     </g>\r\n    </g>\r\n    <g id=\"xtick_3\">\r\n     <g id=\"line2d_5\">\r\n      <path clip-path=\"url(#pd0551ce825)\" d=\"M 151.372585 387.72 \r\nL 151.372585 7.2 \r\n\" style=\"fill:none;stroke:#ffffff;stroke-linecap:round;\"/>\r\n     </g>\r\n     <g id=\"line2d_6\"/>\r\n     <g id=\"text_3\">\r\n      <!-- −0.50 -->\r\n      <g style=\"fill:#262626;\" transform=\"translate(136.049929 402.318437)scale(0.1 -0.1)\">\r\n       <use xlink:href=\"#DejaVuSerif-8722\"/>\r\n       <use x=\"83.789062\" xlink:href=\"#DejaVuSerif-48\"/>\r\n       <use x=\"147.412109\" xlink:href=\"#DejaVuSerif-46\"/>\r\n       <use x=\"179.199219\" xlink:href=\"#DejaVuSerif-53\"/>\r\n       <use x=\"242.822266\" xlink:href=\"#DejaVuSerif-48\"/>\r\n      </g>\r\n     </g>\r\n    </g>\r\n    <g id=\"xtick_4\">\r\n     <g id=\"line2d_7\">\r\n      <path clip-path=\"url(#pd0551ce825)\" d=\"M 195.758949 387.72 \r\nL 195.758949 7.2 \r\n\" style=\"fill:none;stroke:#ffffff;stroke-linecap:round;\"/>\r\n     </g>\r\n     <g id=\"line2d_8\"/>\r\n     <g id=\"text_4\">\r\n      <!-- −0.25 -->\r\n      <g style=\"fill:#262626;\" transform=\"translate(180.436293 402.318437)scale(0.1 -0.1)\">\r\n       <defs>\r\n        <path d=\"M 12.796875 55.515625 \r\nL 7.328125 55.515625 \r\nL 7.328125 68.5 \r\nQ 12.546875 71.296875 17.84375 72.75 \r\nQ 23.140625 74.21875 28.21875 74.21875 \r\nQ 39.59375 74.21875 46.1875 68.703125 \r\nQ 52.78125 63.1875 52.78125 53.71875 \r\nQ 52.78125 43.015625 37.84375 28.125 \r\nQ 36.671875 27 36.078125 26.421875 \r\nL 17.671875 8.015625 \r\nL 48.09375 8.015625 \r\nL 48.09375 17 \r\nL 53.8125 17 \r\nL 53.8125 0 \r\nL 6.78125 0 \r\nL 6.78125 5.328125 \r\nL 28.90625 27.390625 \r\nQ 36.234375 34.71875 39.359375 40.84375 \r\nQ 42.484375 46.96875 42.484375 53.71875 \r\nQ 42.484375 61.078125 38.640625 65.234375 \r\nQ 34.8125 69.390625 28.078125 69.390625 \r\nQ 21.09375 69.390625 17.28125 65.921875 \r\nQ 13.484375 62.453125 12.796875 55.515625 \r\nz\r\n\" id=\"DejaVuSerif-50\"/>\r\n       </defs>\r\n       <use xlink:href=\"#DejaVuSerif-8722\"/>\r\n       <use x=\"83.789062\" xlink:href=\"#DejaVuSerif-48\"/>\r\n       <use x=\"147.412109\" xlink:href=\"#DejaVuSerif-46\"/>\r\n       <use x=\"179.199219\" xlink:href=\"#DejaVuSerif-50\"/>\r\n       <use x=\"242.822266\" xlink:href=\"#DejaVuSerif-53\"/>\r\n      </g>\r\n     </g>\r\n    </g>\r\n    <g id=\"xtick_5\">\r\n     <g id=\"line2d_9\">\r\n      <path clip-path=\"url(#pd0551ce825)\" d=\"M 240.145313 387.72 \r\nL 240.145313 7.2 \r\n\" style=\"fill:none;stroke:#ffffff;stroke-linecap:round;\"/>\r\n     </g>\r\n     <g id=\"line2d_10\"/>\r\n     <g id=\"text_5\">\r\n      <!-- 0.00 -->\r\n      <g style=\"fill:#262626;\" transform=\"translate(229.0125 402.318437)scale(0.1 -0.1)\">\r\n       <use xlink:href=\"#DejaVuSerif-48\"/>\r\n       <use x=\"63.623047\" xlink:href=\"#DejaVuSerif-46\"/>\r\n       <use x=\"95.410156\" xlink:href=\"#DejaVuSerif-48\"/>\r\n       <use x=\"159.033203\" xlink:href=\"#DejaVuSerif-48\"/>\r\n      </g>\r\n     </g>\r\n    </g>\r\n    <g id=\"xtick_6\">\r\n     <g id=\"line2d_11\">\r\n      <path clip-path=\"url(#pd0551ce825)\" d=\"M 284.531676 387.72 \r\nL 284.531676 7.2 \r\n\" style=\"fill:none;stroke:#ffffff;stroke-linecap:round;\"/>\r\n     </g>\r\n     <g id=\"line2d_12\"/>\r\n     <g id=\"text_6\">\r\n      <!-- 0.25 -->\r\n      <g style=\"fill:#262626;\" transform=\"translate(273.398864 402.318437)scale(0.1 -0.1)\">\r\n       <use xlink:href=\"#DejaVuSerif-48\"/>\r\n       <use x=\"63.623047\" xlink:href=\"#DejaVuSerif-46\"/>\r\n       <use x=\"95.410156\" xlink:href=\"#DejaVuSerif-50\"/>\r\n       <use x=\"159.033203\" xlink:href=\"#DejaVuSerif-53\"/>\r\n      </g>\r\n     </g>\r\n    </g>\r\n    <g id=\"xtick_7\">\r\n     <g id=\"line2d_13\">\r\n      <path clip-path=\"url(#pd0551ce825)\" d=\"M 328.91804 387.72 \r\nL 328.91804 7.2 \r\n\" style=\"fill:none;stroke:#ffffff;stroke-linecap:round;\"/>\r\n     </g>\r\n     <g id=\"line2d_14\"/>\r\n     <g id=\"text_7\">\r\n      <!-- 0.50 -->\r\n      <g style=\"fill:#262626;\" transform=\"translate(317.785227 402.318437)scale(0.1 -0.1)\">\r\n       <use xlink:href=\"#DejaVuSerif-48\"/>\r\n       <use x=\"63.623047\" xlink:href=\"#DejaVuSerif-46\"/>\r\n       <use x=\"95.410156\" xlink:href=\"#DejaVuSerif-53\"/>\r\n       <use x=\"159.033203\" xlink:href=\"#DejaVuSerif-48\"/>\r\n      </g>\r\n     </g>\r\n    </g>\r\n    <g id=\"xtick_8\">\r\n     <g id=\"line2d_15\">\r\n      <path clip-path=\"url(#pd0551ce825)\" d=\"M 373.304403 387.72 \r\nL 373.304403 7.2 \r\n\" style=\"fill:none;stroke:#ffffff;stroke-linecap:round;\"/>\r\n     </g>\r\n     <g id=\"line2d_16\"/>\r\n     <g id=\"text_8\">\r\n      <!-- 0.75 -->\r\n      <g style=\"fill:#262626;\" transform=\"translate(362.171591 402.318437)scale(0.1 -0.1)\">\r\n       <use xlink:href=\"#DejaVuSerif-48\"/>\r\n       <use x=\"63.623047\" xlink:href=\"#DejaVuSerif-46\"/>\r\n       <use x=\"95.410156\" xlink:href=\"#DejaVuSerif-55\"/>\r\n       <use x=\"159.033203\" xlink:href=\"#DejaVuSerif-53\"/>\r\n      </g>\r\n     </g>\r\n    </g>\r\n    <g id=\"xtick_9\">\r\n     <g id=\"line2d_17\">\r\n      <path clip-path=\"url(#pd0551ce825)\" d=\"M 417.690767 387.72 \r\nL 417.690767 7.2 \r\n\" style=\"fill:none;stroke:#ffffff;stroke-linecap:round;\"/>\r\n     </g>\r\n     <g id=\"line2d_18\"/>\r\n     <g id=\"text_9\">\r\n      <!-- 1.00 -->\r\n      <g style=\"fill:#262626;\" transform=\"translate(406.557955 402.318437)scale(0.1 -0.1)\">\r\n       <use xlink:href=\"#DejaVuSerif-49\"/>\r\n       <use x=\"63.623047\" xlink:href=\"#DejaVuSerif-46\"/>\r\n       <use x=\"95.410156\" xlink:href=\"#DejaVuSerif-48\"/>\r\n       <use x=\"159.033203\" xlink:href=\"#DejaVuSerif-48\"/>\r\n      </g>\r\n     </g>\r\n    </g>\r\n   </g>\r\n   <g id=\"matplotlib.axis_2\">\r\n    <g id=\"ytick_1\">\r\n     <g id=\"line2d_19\">\r\n      <path clip-path=\"url(#pd0551ce825)\" d=\"M 44.845313 370.423636 \r\nL 435.445312 370.423636 \r\n\" style=\"fill:none;stroke:#ffffff;stroke-linecap:round;\"/>\r\n     </g>\r\n     <g id=\"line2d_20\"/>\r\n     <g id=\"text_10\">\r\n      <!-- −1.00 -->\r\n      <g style=\"fill:#262626;\" transform=\"translate(7.2 374.222855)scale(0.1 -0.1)\">\r\n       <use xlink:href=\"#DejaVuSerif-8722\"/>\r\n       <use x=\"83.789062\" xlink:href=\"#DejaVuSerif-49\"/>\r\n       <use x=\"147.412109\" xlink:href=\"#DejaVuSerif-46\"/>\r\n       <use x=\"179.199219\" xlink:href=\"#DejaVuSerif-48\"/>\r\n       <use x=\"242.822266\" xlink:href=\"#DejaVuSerif-48\"/>\r\n      </g>\r\n     </g>\r\n    </g>\r\n    <g id=\"ytick_2\">\r\n     <g id=\"line2d_21\">\r\n      <path clip-path=\"url(#pd0551ce825)\" d=\"M 44.845313 327.182727 \r\nL 435.445312 327.182727 \r\n\" style=\"fill:none;stroke:#ffffff;stroke-linecap:round;\"/>\r\n     </g>\r\n     <g id=\"line2d_22\"/>\r\n     <g id=\"text_11\">\r\n      <!-- −0.75 -->\r\n      <g style=\"fill:#262626;\" transform=\"translate(7.2 330.981946)scale(0.1 -0.1)\">\r\n       <use xlink:href=\"#DejaVuSerif-8722\"/>\r\n       <use x=\"83.789062\" xlink:href=\"#DejaVuSerif-48\"/>\r\n       <use x=\"147.412109\" xlink:href=\"#DejaVuSerif-46\"/>\r\n       <use x=\"179.199219\" xlink:href=\"#DejaVuSerif-55\"/>\r\n       <use x=\"242.822266\" xlink:href=\"#DejaVuSerif-53\"/>\r\n      </g>\r\n     </g>\r\n    </g>\r\n    <g id=\"ytick_3\">\r\n     <g id=\"line2d_23\">\r\n      <path clip-path=\"url(#pd0551ce825)\" d=\"M 44.845313 283.941818 \r\nL 435.445312 283.941818 \r\n\" style=\"fill:none;stroke:#ffffff;stroke-linecap:round;\"/>\r\n     </g>\r\n     <g id=\"line2d_24\"/>\r\n     <g id=\"text_12\">\r\n      <!-- −0.50 -->\r\n      <g style=\"fill:#262626;\" transform=\"translate(7.2 287.741037)scale(0.1 -0.1)\">\r\n       <use xlink:href=\"#DejaVuSerif-8722\"/>\r\n       <use x=\"83.789062\" xlink:href=\"#DejaVuSerif-48\"/>\r\n       <use x=\"147.412109\" xlink:href=\"#DejaVuSerif-46\"/>\r\n       <use x=\"179.199219\" xlink:href=\"#DejaVuSerif-53\"/>\r\n       <use x=\"242.822266\" xlink:href=\"#DejaVuSerif-48\"/>\r\n      </g>\r\n     </g>\r\n    </g>\r\n    <g id=\"ytick_4\">\r\n     <g id=\"line2d_25\">\r\n      <path clip-path=\"url(#pd0551ce825)\" d=\"M 44.845313 240.700909 \r\nL 435.445312 240.700909 \r\n\" style=\"fill:none;stroke:#ffffff;stroke-linecap:round;\"/>\r\n     </g>\r\n     <g id=\"line2d_26\"/>\r\n     <g id=\"text_13\">\r\n      <!-- −0.25 -->\r\n      <g style=\"fill:#262626;\" transform=\"translate(7.2 244.500128)scale(0.1 -0.1)\">\r\n       <use xlink:href=\"#DejaVuSerif-8722\"/>\r\n       <use x=\"83.789062\" xlink:href=\"#DejaVuSerif-48\"/>\r\n       <use x=\"147.412109\" xlink:href=\"#DejaVuSerif-46\"/>\r\n       <use x=\"179.199219\" xlink:href=\"#DejaVuSerif-50\"/>\r\n       <use x=\"242.822266\" xlink:href=\"#DejaVuSerif-53\"/>\r\n      </g>\r\n     </g>\r\n    </g>\r\n    <g id=\"ytick_5\">\r\n     <g id=\"line2d_27\">\r\n      <path clip-path=\"url(#pd0551ce825)\" d=\"M 44.845313 197.46 \r\nL 435.445312 197.46 \r\n\" style=\"fill:none;stroke:#ffffff;stroke-linecap:round;\"/>\r\n     </g>\r\n     <g id=\"line2d_28\"/>\r\n     <g id=\"text_14\">\r\n      <!-- 0.00 -->\r\n      <g style=\"fill:#262626;\" transform=\"translate(15.579688 201.259219)scale(0.1 -0.1)\">\r\n       <use xlink:href=\"#DejaVuSerif-48\"/>\r\n       <use x=\"63.623047\" xlink:href=\"#DejaVuSerif-46\"/>\r\n       <use x=\"95.410156\" xlink:href=\"#DejaVuSerif-48\"/>\r\n       <use x=\"159.033203\" xlink:href=\"#DejaVuSerif-48\"/>\r\n      </g>\r\n     </g>\r\n    </g>\r\n    <g id=\"ytick_6\">\r\n     <g id=\"line2d_29\">\r\n      <path clip-path=\"url(#pd0551ce825)\" d=\"M 44.845313 154.219091 \r\nL 435.445312 154.219091 \r\n\" style=\"fill:none;stroke:#ffffff;stroke-linecap:round;\"/>\r\n     </g>\r\n     <g id=\"line2d_30\"/>\r\n     <g id=\"text_15\">\r\n      <!-- 0.25 -->\r\n      <g style=\"fill:#262626;\" transform=\"translate(15.579688 158.01831)scale(0.1 -0.1)\">\r\n       <use xlink:href=\"#DejaVuSerif-48\"/>\r\n       <use x=\"63.623047\" xlink:href=\"#DejaVuSerif-46\"/>\r\n       <use x=\"95.410156\" xlink:href=\"#DejaVuSerif-50\"/>\r\n       <use x=\"159.033203\" xlink:href=\"#DejaVuSerif-53\"/>\r\n      </g>\r\n     </g>\r\n    </g>\r\n    <g id=\"ytick_7\">\r\n     <g id=\"line2d_31\">\r\n      <path clip-path=\"url(#pd0551ce825)\" d=\"M 44.845313 110.978182 \r\nL 435.445312 110.978182 \r\n\" style=\"fill:none;stroke:#ffffff;stroke-linecap:round;\"/>\r\n     </g>\r\n     <g id=\"line2d_32\"/>\r\n     <g id=\"text_16\">\r\n      <!-- 0.50 -->\r\n      <g style=\"fill:#262626;\" transform=\"translate(15.579688 114.777401)scale(0.1 -0.1)\">\r\n       <use xlink:href=\"#DejaVuSerif-48\"/>\r\n       <use x=\"63.623047\" xlink:href=\"#DejaVuSerif-46\"/>\r\n       <use x=\"95.410156\" xlink:href=\"#DejaVuSerif-53\"/>\r\n       <use x=\"159.033203\" xlink:href=\"#DejaVuSerif-48\"/>\r\n      </g>\r\n     </g>\r\n    </g>\r\n    <g id=\"ytick_8\">\r\n     <g id=\"line2d_33\">\r\n      <path clip-path=\"url(#pd0551ce825)\" d=\"M 44.845313 67.737273 \r\nL 435.445312 67.737273 \r\n\" style=\"fill:none;stroke:#ffffff;stroke-linecap:round;\"/>\r\n     </g>\r\n     <g id=\"line2d_34\"/>\r\n     <g id=\"text_17\">\r\n      <!-- 0.75 -->\r\n      <g style=\"fill:#262626;\" transform=\"translate(15.579688 71.536491)scale(0.1 -0.1)\">\r\n       <use xlink:href=\"#DejaVuSerif-48\"/>\r\n       <use x=\"63.623047\" xlink:href=\"#DejaVuSerif-46\"/>\r\n       <use x=\"95.410156\" xlink:href=\"#DejaVuSerif-55\"/>\r\n       <use x=\"159.033203\" xlink:href=\"#DejaVuSerif-53\"/>\r\n      </g>\r\n     </g>\r\n    </g>\r\n    <g id=\"ytick_9\">\r\n     <g id=\"line2d_35\">\r\n      <path clip-path=\"url(#pd0551ce825)\" d=\"M 44.845313 24.496364 \r\nL 435.445312 24.496364 \r\n\" style=\"fill:none;stroke:#ffffff;stroke-linecap:round;\"/>\r\n     </g>\r\n     <g id=\"line2d_36\"/>\r\n     <g id=\"text_18\">\r\n      <!-- 1.00 -->\r\n      <g style=\"fill:#262626;\" transform=\"translate(15.579688 28.295582)scale(0.1 -0.1)\">\r\n       <use xlink:href=\"#DejaVuSerif-49\"/>\r\n       <use x=\"63.623047\" xlink:href=\"#DejaVuSerif-46\"/>\r\n       <use x=\"95.410156\" xlink:href=\"#DejaVuSerif-48\"/>\r\n       <use x=\"159.033203\" xlink:href=\"#DejaVuSerif-48\"/>\r\n      </g>\r\n     </g>\r\n    </g>\r\n   </g>\r\n   <g id=\"patch_3\">\r\n    <path clip-path=\"url(#pd0551ce825)\" d=\"M 240.145313 370.423636 \r\nC 287.230917 370.423636 332.394357 352.199097 365.688907 319.76376 \r\nC 398.983458 287.328424 417.690767 243.330493 417.690767 197.46 \r\nC 417.690767 151.589507 398.983458 107.591576 365.688907 75.15624 \r\nC 332.394357 42.720903 287.230917 24.496364 240.145313 24.496364 \r\nC 193.059708 24.496364 147.896268 42.720903 114.601718 75.15624 \r\nC 81.307167 107.591576 62.599858 151.589507 62.599858 197.46 \r\nC 62.599858 243.330493 81.307167 287.328424 114.601718 319.76376 \r\nC 147.896268 352.199097 193.059708 370.423636 240.145313 370.423636 \r\nz\r\n\" style=\"fill:none;stroke:#008000;stroke-linejoin:miter;stroke-width:2;\"/>\r\n   </g>\r\n   <g id=\"patch_4\">\r\n    <path clip-path=\"url(#pd0551ce825)\" d=\"M 62.599858 370.423636 \r\nL 417.690767 370.423636 \r\nL 417.690767 24.496364 \r\nL 62.599858 24.496364 \r\nz\r\n\" style=\"fill:#4c72b0;opacity:0.3;stroke:#0000ff;stroke-linejoin:miter;stroke-width:0.3;\"/>\r\n   </g>\r\n   <g id=\"line2d_37\">\r\n    <defs>\r\n     <path d=\"M 0 1.75 \r\nC 0.464105 1.75 0.909265 1.565609 1.237437 1.237437 \r\nC 1.565609 0.909265 1.75 0.464105 1.75 0 \r\nC 1.75 -0.464105 1.565609 -0.909265 1.237437 -1.237437 \r\nC 0.909265 -1.565609 0.464105 -1.75 0 -1.75 \r\nC -0.464105 -1.75 -0.909265 -1.565609 -1.237437 -1.237437 \r\nC -1.565609 -0.909265 -1.75 -0.464105 -1.75 0 \r\nC -1.75 0.464105 -1.565609 0.909265 -1.237437 1.237437 \r\nC -0.909265 1.565609 -0.464105 1.75 0 1.75 \r\nz\r\n\" id=\"med406292d9\"/>\r\n    </defs>\r\n    <g clip-path=\"url(#pd0551ce825)\">\r\n     <use style=\"fill:#ff0000;\" x=\"410.475427\" xlink:href=\"#med406292d9\" y=\"358.258795\"/>\r\n     <use style=\"fill:#ff0000;\" x=\"219.895006\" xlink:href=\"#med406292d9\" y=\"124.000842\"/>\r\n     <use style=\"fill:#ff0000;\" x=\"384.335848\" xlink:href=\"#med406292d9\" y=\"146.517348\"/>\r\n     <use style=\"fill:#ff0000;\" x=\"94.569891\" xlink:href=\"#med406292d9\" y=\"317.98597\"/>\r\n     <use style=\"fill:#ff0000;\" x=\"401.284048\" xlink:href=\"#med406292d9\" y=\"331.279896\"/>\r\n     <use style=\"fill:#ff0000;\" x=\"304.211569\" xlink:href=\"#med406292d9\" y=\"144.599968\"/>\r\n     <use style=\"fill:#ff0000;\" x=\"254.725428\" xlink:href=\"#med406292d9\" y=\"363.37686\"/>\r\n     <use style=\"fill:#ff0000;\" x=\"237.639677\" xlink:href=\"#med406292d9\" y=\"148.441475\"/>\r\n     <use style=\"fill:#ff0000;\" x=\"255.561979\" xlink:href=\"#med406292d9\" y=\"91.204252\"/>\r\n     <use style=\"fill:#ff0000;\" x=\"314.257781\" xlink:href=\"#med406292d9\" y=\"28.422896\"/>\r\n     <use style=\"fill:#ff0000;\" x=\"98.246546\" xlink:href=\"#med406292d9\" y=\"187.257231\"/>\r\n     <use style=\"fill:#ff0000;\" x=\"256.327349\" xlink:href=\"#med406292d9\" y=\"324.456668\"/>\r\n     <use style=\"fill:#ff0000;\" x=\"269.002147\" xlink:href=\"#med406292d9\" y=\"82.44931\"/>\r\n     <use style=\"fill:#ff0000;\" x=\"357.146404\" xlink:href=\"#med406292d9\" y=\"90.885657\"/>\r\n     <use style=\"fill:#ff0000;\" x=\"97.890618\" xlink:href=\"#med406292d9\" y=\"68.793125\"/>\r\n     <use style=\"fill:#ff0000;\" x=\"237.766912\" xlink:href=\"#med406292d9\" y=\"318.707713\"/>\r\n     <use style=\"fill:#ff0000;\" x=\"79.143711\" xlink:href=\"#med406292d9\" y=\"352.467908\"/>\r\n     <use style=\"fill:#ff0000;\" x=\"336.363674\" xlink:href=\"#med406292d9\" y=\"355.213036\"/>\r\n     <use style=\"fill:#ff0000;\" x=\"348.293283\" xlink:href=\"#med406292d9\" y=\"181.569982\"/>\r\n     <use style=\"fill:#ff0000;\" x=\"339.556812\" xlink:href=\"#med406292d9\" y=\"363.533549\"/>\r\n     <use style=\"fill:#ff0000;\" x=\"129.079176\" xlink:href=\"#med406292d9\" y=\"118.351559\"/>\r\n     <use style=\"fill:#ff0000;\" x=\"141.239791\" xlink:href=\"#med406292d9\" y=\"229.870176\"/>\r\n     <use style=\"fill:#ff0000;\" x=\"177.137555\" xlink:href=\"#med406292d9\" y=\"186.370934\"/>\r\n     <use style=\"fill:#ff0000;\" x=\"220.361873\" xlink:href=\"#med406292d9\" y=\"286.609288\"/>\r\n     <use style=\"fill:#ff0000;\" x=\"275.767596\" xlink:href=\"#med406292d9\" y=\"365.841831\"/>\r\n     <use style=\"fill:#ff0000;\" x=\"403.467965\" xlink:href=\"#med406292d9\" y=\"28.735497\"/>\r\n     <use style=\"fill:#ff0000;\" x=\"224.293504\" xlink:href=\"#med406292d9\" y=\"352.078139\"/>\r\n     <use style=\"fill:#ff0000;\" x=\"345.19871\" xlink:href=\"#med406292d9\" y=\"104.592426\"/>\r\n     <use style=\"fill:#ff0000;\" x=\"254.911672\" xlink:href=\"#med406292d9\" y=\"225.458194\"/>\r\n     <use style=\"fill:#ff0000;\" x=\"302.472165\" xlink:href=\"#med406292d9\" y=\"111.614671\"/>\r\n     <use style=\"fill:#ff0000;\" x=\"409.445904\" xlink:href=\"#med406292d9\" y=\"112.786943\"/>\r\n     <use style=\"fill:#ff0000;\" x=\"134.250578\" xlink:href=\"#med406292d9\" y=\"161.268964\"/>\r\n     <use style=\"fill:#ff0000;\" x=\"415.136103\" xlink:href=\"#med406292d9\" y=\"290.575173\"/>\r\n     <use style=\"fill:#ff0000;\" x=\"134.603893\" xlink:href=\"#med406292d9\" y=\"45.857944\"/>\r\n     <use style=\"fill:#ff0000;\" x=\"246.09364\" xlink:href=\"#med406292d9\" y=\"304.282662\"/>\r\n     <use style=\"fill:#ff0000;\" x=\"79.586159\" xlink:href=\"#med406292d9\" y=\"31.806961\"/>\r\n     <use style=\"fill:#ff0000;\" x=\"172.001191\" xlink:href=\"#med406292d9\" y=\"29.778856\"/>\r\n     <use style=\"fill:#ff0000;\" x=\"371.539437\" xlink:href=\"#med406292d9\" y=\"142.190348\"/>\r\n     <use style=\"fill:#ff0000;\" x=\"241.426529\" xlink:href=\"#med406292d9\" y=\"35.045153\"/>\r\n     <use style=\"fill:#ff0000;\" x=\"371.049479\" xlink:href=\"#med406292d9\" y=\"52.373932\"/>\r\n     <use style=\"fill:#ff0000;\" x=\"319.233812\" xlink:href=\"#med406292d9\" y=\"205.012215\"/>\r\n     <use style=\"fill:#ff0000;\" x=\"171.8215\" xlink:href=\"#med406292d9\" y=\"298.109168\"/>\r\n     <use style=\"fill:#ff0000;\" x=\"344.854159\" xlink:href=\"#med406292d9\" y=\"300.20028\"/>\r\n     <use style=\"fill:#ff0000;\" x=\"335.925554\" xlink:href=\"#med406292d9\" y=\"354.212108\"/>\r\n     <use style=\"fill:#ff0000;\" x=\"187.735602\" xlink:href=\"#med406292d9\" y=\"162.240204\"/>\r\n     <use style=\"fill:#ff0000;\" x=\"131.857078\" xlink:href=\"#med406292d9\" y=\"204.651738\"/>\r\n     <use style=\"fill:#ff0000;\" x=\"256.224537\" xlink:href=\"#med406292d9\" y=\"248.277676\"/>\r\n     <use style=\"fill:#ff0000;\" x=\"82.247017\" xlink:href=\"#med406292d9\" y=\"259.969982\"/>\r\n     <use style=\"fill:#ff0000;\" x=\"246.600069\" xlink:href=\"#med406292d9\" y=\"106.599397\"/>\r\n     <use style=\"fill:#ff0000;\" x=\"391.088198\" xlink:href=\"#med406292d9\" y=\"78.48028\"/>\r\n     <use style=\"fill:#ff0000;\" x=\"370.586597\" xlink:href=\"#med406292d9\" y=\"352.318555\"/>\r\n     <use style=\"fill:#ff0000;\" x=\"295.369602\" xlink:href=\"#med406292d9\" y=\"160.985751\"/>\r\n     <use style=\"fill:#ff0000;\" x=\"329.97299\" xlink:href=\"#med406292d9\" y=\"332.882526\"/>\r\n     <use style=\"fill:#ff0000;\" x=\"133.818342\" xlink:href=\"#med406292d9\" y=\"189.114672\"/>\r\n     <use style=\"fill:#ff0000;\" x=\"86.530511\" xlink:href=\"#med406292d9\" y=\"122.547579\"/>\r\n     <use style=\"fill:#ff0000;\" x=\"374.503447\" xlink:href=\"#med406292d9\" y=\"216.499522\"/>\r\n     <use style=\"fill:#ff0000;\" x=\"95.703503\" xlink:href=\"#med406292d9\" y=\"346.402083\"/>\r\n     <use style=\"fill:#ff0000;\" x=\"265.37504\" xlink:href=\"#med406292d9\" y=\"256.638339\"/>\r\n     <use style=\"fill:#ff0000;\" x=\"80.493803\" xlink:href=\"#med406292d9\" y=\"339.431841\"/>\r\n     <use style=\"fill:#ff0000;\" x=\"306.388412\" xlink:href=\"#med406292d9\" y=\"99.302578\"/>\r\n     <use style=\"fill:#ff0000;\" x=\"195.920268\" xlink:href=\"#med406292d9\" y=\"223.002843\"/>\r\n     <use style=\"fill:#ff0000;\" x=\"357.303749\" xlink:href=\"#med406292d9\" y=\"33.123549\"/>\r\n     <use style=\"fill:#ff0000;\" x=\"206.80752\" xlink:href=\"#med406292d9\" y=\"228.472222\"/>\r\n     <use style=\"fill:#ff0000;\" x=\"346.325681\" xlink:href=\"#med406292d9\" y=\"309.793863\"/>\r\n     <use style=\"fill:#ff0000;\" x=\"82.332313\" xlink:href=\"#med406292d9\" y=\"170.300497\"/>\r\n     <use style=\"fill:#ff0000;\" x=\"413.410106\" xlink:href=\"#med406292d9\" y=\"334.252702\"/>\r\n     <use style=\"fill:#ff0000;\" x=\"373.220482\" xlink:href=\"#med406292d9\" y=\"94.622885\"/>\r\n     <use style=\"fill:#ff0000;\" x=\"179.647977\" xlink:href=\"#med406292d9\" y=\"105.850239\"/>\r\n     <use style=\"fill:#ff0000;\" x=\"111.04195\" xlink:href=\"#med406292d9\" y=\"138.885235\"/>\r\n     <use style=\"fill:#ff0000;\" x=\"307.093567\" xlink:href=\"#med406292d9\" y=\"137.082633\"/>\r\n     <use style=\"fill:#ff0000;\" x=\"102.339208\" xlink:href=\"#med406292d9\" y=\"229.006842\"/>\r\n     <use style=\"fill:#ff0000;\" x=\"179.789406\" xlink:href=\"#med406292d9\" y=\"308.452893\"/>\r\n     <use style=\"fill:#ff0000;\" x=\"64.838112\" xlink:href=\"#med406292d9\" y=\"152.04486\"/>\r\n     <use style=\"fill:#ff0000;\" x=\"225.434641\" xlink:href=\"#med406292d9\" y=\"362.338314\"/>\r\n     <use style=\"fill:#ff0000;\" x=\"274.005579\" xlink:href=\"#med406292d9\" y=\"211.51438\"/>\r\n     <use style=\"fill:#ff0000;\" x=\"147.380577\" xlink:href=\"#med406292d9\" y=\"223.87687\"/>\r\n     <use style=\"fill:#ff0000;\" x=\"210.478723\" xlink:href=\"#med406292d9\" y=\"337.639166\"/>\r\n     <use style=\"fill:#ff0000;\" x=\"272.940099\" xlink:href=\"#med406292d9\" y=\"254.135828\"/>\r\n     <use style=\"fill:#ff0000;\" x=\"176.62213\" xlink:href=\"#med406292d9\" y=\"79.465726\"/>\r\n     <use style=\"fill:#ff0000;\" x=\"414.494354\" xlink:href=\"#med406292d9\" y=\"309.167325\"/>\r\n     <use style=\"fill:#ff0000;\" x=\"298.36236\" xlink:href=\"#med406292d9\" y=\"209.319731\"/>\r\n     <use style=\"fill:#ff0000;\" x=\"370.954898\" xlink:href=\"#med406292d9\" y=\"152.65525\"/>\r\n     <use style=\"fill:#ff0000;\" x=\"238.657662\" xlink:href=\"#med406292d9\" y=\"97.227104\"/>\r\n     <use style=\"fill:#ff0000;\" x=\"63.71314\" xlink:href=\"#med406292d9\" y=\"51.018577\"/>\r\n     <use style=\"fill:#ff0000;\" x=\"392.780547\" xlink:href=\"#med406292d9\" y=\"214.631148\"/>\r\n     <use style=\"fill:#ff0000;\" x=\"233.753533\" xlink:href=\"#med406292d9\" y=\"29.986593\"/>\r\n     <use style=\"fill:#ff0000;\" x=\"136.783548\" xlink:href=\"#med406292d9\" y=\"223.479114\"/>\r\n     <use style=\"fill:#ff0000;\" x=\"95.274646\" xlink:href=\"#med406292d9\" y=\"167.815029\"/>\r\n     <use style=\"fill:#ff0000;\" x=\"113.450376\" xlink:href=\"#med406292d9\" y=\"44.994702\"/>\r\n     <use style=\"fill:#ff0000;\" x=\"219.655308\" xlink:href=\"#med406292d9\" y=\"253.3232\"/>\r\n     <use style=\"fill:#ff0000;\" x=\"324.452407\" xlink:href=\"#med406292d9\" y=\"333.894855\"/>\r\n     <use style=\"fill:#ff0000;\" x=\"237.813027\" xlink:href=\"#med406292d9\" y=\"82.374726\"/>\r\n     <use style=\"fill:#ff0000;\" x=\"116.37682\" xlink:href=\"#med406292d9\" y=\"268.947987\"/>\r\n     <use style=\"fill:#ff0000;\" x=\"144.264732\" xlink:href=\"#med406292d9\" y=\"38.791432\"/>\r\n     <use style=\"fill:#ff0000;\" x=\"358.099472\" xlink:href=\"#med406292d9\" y=\"314.952532\"/>\r\n     <use style=\"fill:#ff0000;\" x=\"160.423011\" xlink:href=\"#med406292d9\" y=\"60.827062\"/>\r\n     <use style=\"fill:#ff0000;\" x=\"129.367846\" xlink:href=\"#med406292d9\" y=\"51.249502\"/>\r\n     <use style=\"fill:#ff0000;\" x=\"305.500709\" xlink:href=\"#med406292d9\" y=\"224.206159\"/>\r\n     <use style=\"fill:#ff0000;\" x=\"196.691854\" xlink:href=\"#med406292d9\" y=\"71.861238\"/>\r\n     <use style=\"fill:#ff0000;\" x=\"404.240699\" xlink:href=\"#med406292d9\" y=\"227.255947\"/>\r\n     <use style=\"fill:#ff0000;\" x=\"86.444652\" xlink:href=\"#med406292d9\" y=\"263.914987\"/>\r\n     <use style=\"fill:#ff0000;\" x=\"393.355251\" xlink:href=\"#med406292d9\" y=\"97.135586\"/>\r\n     <use style=\"fill:#ff0000;\" x=\"235.838193\" xlink:href=\"#med406292d9\" y=\"243.880408\"/>\r\n     <use style=\"fill:#ff0000;\" x=\"282.281597\" xlink:href=\"#med406292d9\" y=\"297.315659\"/>\r\n     <use style=\"fill:#ff0000;\" x=\"257.346997\" xlink:href=\"#med406292d9\" y=\"282.889287\"/>\r\n     <use style=\"fill:#ff0000;\" x=\"379.371142\" xlink:href=\"#med406292d9\" y=\"138.142838\"/>\r\n     <use style=\"fill:#ff0000;\" x=\"96.176868\" xlink:href=\"#med406292d9\" y=\"174.017554\"/>\r\n     <use style=\"fill:#ff0000;\" x=\"288.435841\" xlink:href=\"#med406292d9\" y=\"46.236649\"/>\r\n     <use style=\"fill:#ff0000;\" x=\"178.673608\" xlink:href=\"#med406292d9\" y=\"238.016348\"/>\r\n     <use style=\"fill:#ff0000;\" x=\"68.018643\" xlink:href=\"#med406292d9\" y=\"195.418675\"/>\r\n     <use style=\"fill:#ff0000;\" x=\"213.887678\" xlink:href=\"#med406292d9\" y=\"104.463304\"/>\r\n     <use style=\"fill:#ff0000;\" x=\"99.73841\" xlink:href=\"#med406292d9\" y=\"178.318002\"/>\r\n     <use style=\"fill:#ff0000;\" x=\"141.853669\" xlink:href=\"#med406292d9\" y=\"341.550178\"/>\r\n     <use style=\"fill:#ff0000;\" x=\"287.784259\" xlink:href=\"#med406292d9\" y=\"164.132592\"/>\r\n     <use style=\"fill:#ff0000;\" x=\"197.675435\" xlink:href=\"#med406292d9\" y=\"92.380861\"/>\r\n     <use style=\"fill:#ff0000;\" x=\"256.821445\" xlink:href=\"#med406292d9\" y=\"354.965939\"/>\r\n     <use style=\"fill:#ff0000;\" x=\"353.249213\" xlink:href=\"#med406292d9\" y=\"285.759696\"/>\r\n     <use style=\"fill:#ff0000;\" x=\"169.983398\" xlink:href=\"#med406292d9\" y=\"303.03326\"/>\r\n     <use style=\"fill:#ff0000;\" x=\"92.422724\" xlink:href=\"#med406292d9\" y=\"98.715175\"/>\r\n     <use style=\"fill:#ff0000;\" x=\"166.05841\" xlink:href=\"#med406292d9\" y=\"188.373835\"/>\r\n     <use style=\"fill:#ff0000;\" x=\"136.2265\" xlink:href=\"#med406292d9\" y=\"120.7935\"/>\r\n     <use style=\"fill:#ff0000;\" x=\"299.029107\" xlink:href=\"#med406292d9\" y=\"247.113304\"/>\r\n     <use style=\"fill:#ff0000;\" x=\"294.924028\" xlink:href=\"#med406292d9\" y=\"231.340265\"/>\r\n     <use style=\"fill:#ff0000;\" x=\"192.670012\" xlink:href=\"#med406292d9\" y=\"205.488233\"/>\r\n     <use style=\"fill:#ff0000;\" x=\"410.146313\" xlink:href=\"#med406292d9\" y=\"108.554059\"/>\r\n     <use style=\"fill:#ff0000;\" x=\"264.245883\" xlink:href=\"#med406292d9\" y=\"47.115725\"/>\r\n     <use style=\"fill:#ff0000;\" x=\"317.51455\" xlink:href=\"#med406292d9\" y=\"210.035723\"/>\r\n     <use style=\"fill:#ff0000;\" x=\"239.900195\" xlink:href=\"#med406292d9\" y=\"174.416718\"/>\r\n     <use style=\"fill:#ff0000;\" x=\"288.037843\" xlink:href=\"#med406292d9\" y=\"42.554568\"/>\r\n     <use style=\"fill:#ff0000;\" x=\"314.874744\" xlink:href=\"#med406292d9\" y=\"79.230722\"/>\r\n     <use style=\"fill:#ff0000;\" x=\"376.226367\" xlink:href=\"#med406292d9\" y=\"43.094575\"/>\r\n     <use style=\"fill:#ff0000;\" x=\"144.928707\" xlink:href=\"#med406292d9\" y=\"321.126839\"/>\r\n     <use style=\"fill:#ff0000;\" x=\"133.910871\" xlink:href=\"#med406292d9\" y=\"112.647805\"/>\r\n     <use style=\"fill:#ff0000;\" x=\"127.777692\" xlink:href=\"#med406292d9\" y=\"133.108394\"/>\r\n     <use style=\"fill:#ff0000;\" x=\"367.397439\" xlink:href=\"#med406292d9\" y=\"100.175626\"/>\r\n     <use style=\"fill:#ff0000;\" x=\"229.254605\" xlink:href=\"#med406292d9\" y=\"271.268874\"/>\r\n     <use style=\"fill:#ff0000;\" x=\"129.05366\" xlink:href=\"#med406292d9\" y=\"287.11971\"/>\r\n     <use style=\"fill:#ff0000;\" x=\"118.043977\" xlink:href=\"#med406292d9\" y=\"232.443998\"/>\r\n     <use style=\"fill:#ff0000;\" x=\"128.257342\" xlink:href=\"#med406292d9\" y=\"351.883187\"/>\r\n     <use style=\"fill:#ff0000;\" x=\"387.969154\" xlink:href=\"#med406292d9\" y=\"211.306679\"/>\r\n     <use style=\"fill:#ff0000;\" x=\"232.689285\" xlink:href=\"#med406292d9\" y=\"195.098128\"/>\r\n     <use style=\"fill:#ff0000;\" x=\"413.076953\" xlink:href=\"#med406292d9\" y=\"349.486643\"/>\r\n     <use style=\"fill:#ff0000;\" x=\"88.591184\" xlink:href=\"#med406292d9\" y=\"277.595313\"/>\r\n     <use style=\"fill:#ff0000;\" x=\"108.113949\" xlink:href=\"#med406292d9\" y=\"139.706835\"/>\r\n     <use style=\"fill:#ff0000;\" x=\"317.654941\" xlink:href=\"#med406292d9\" y=\"304.457762\"/>\r\n     <use style=\"fill:#ff0000;\" x=\"168.979223\" xlink:href=\"#med406292d9\" y=\"312.562697\"/>\r\n     <use style=\"fill:#ff0000;\" x=\"104.261869\" xlink:href=\"#med406292d9\" y=\"278.676657\"/>\r\n     <use style=\"fill:#ff0000;\" x=\"317.976628\" xlink:href=\"#med406292d9\" y=\"159.234341\"/>\r\n     <use style=\"fill:#ff0000;\" x=\"339.851131\" xlink:href=\"#med406292d9\" y=\"160.346066\"/>\r\n     <use style=\"fill:#ff0000;\" x=\"154.038893\" xlink:href=\"#med406292d9\" y=\"90.881178\"/>\r\n     <use style=\"fill:#ff0000;\" x=\"327.125125\" xlink:href=\"#med406292d9\" y=\"269.147803\"/>\r\n     <use style=\"fill:#ff0000;\" x=\"179.879153\" xlink:href=\"#med406292d9\" y=\"91.707564\"/>\r\n     <use style=\"fill:#ff0000;\" x=\"174.237087\" xlink:href=\"#med406292d9\" y=\"33.674142\"/>\r\n     <use style=\"fill:#ff0000;\" x=\"238.897019\" xlink:href=\"#med406292d9\" y=\"190.32042\"/>\r\n     <use style=\"fill:#ff0000;\" x=\"267.378338\" xlink:href=\"#med406292d9\" y=\"92.924617\"/>\r\n     <use style=\"fill:#ff0000;\" x=\"127.438297\" xlink:href=\"#med406292d9\" y=\"365.855689\"/>\r\n     <use style=\"fill:#ff0000;\" x=\"226.647455\" xlink:href=\"#med406292d9\" y=\"344.535467\"/>\r\n     <use style=\"fill:#ff0000;\" x=\"357.247823\" xlink:href=\"#med406292d9\" y=\"100.87337\"/>\r\n     <use style=\"fill:#ff0000;\" x=\"229.68388\" xlink:href=\"#med406292d9\" y=\"173.280694\"/>\r\n     <use style=\"fill:#ff0000;\" x=\"330.708108\" xlink:href=\"#med406292d9\" y=\"212.525181\"/>\r\n     <use style=\"fill:#ff0000;\" x=\"302.689309\" xlink:href=\"#med406292d9\" y=\"179.467591\"/>\r\n     <use style=\"fill:#ff0000;\" x=\"345.948165\" xlink:href=\"#med406292d9\" y=\"176.352793\"/>\r\n     <use style=\"fill:#ff0000;\" x=\"406.219467\" xlink:href=\"#med406292d9\" y=\"278.962754\"/>\r\n     <use style=\"fill:#ff0000;\" x=\"238.339557\" xlink:href=\"#med406292d9\" y=\"295.774005\"/>\r\n     <use style=\"fill:#ff0000;\" x=\"251.353242\" xlink:href=\"#med406292d9\" y=\"172.881129\"/>\r\n     <use style=\"fill:#ff0000;\" x=\"351.19109\" xlink:href=\"#med406292d9\" y=\"259.733831\"/>\r\n     <use style=\"fill:#ff0000;\" x=\"187.132155\" xlink:href=\"#med406292d9\" y=\"233.702078\"/>\r\n     <use style=\"fill:#ff0000;\" x=\"322.214195\" xlink:href=\"#med406292d9\" y=\"353.17521\"/>\r\n     <use style=\"fill:#ff0000;\" x=\"351.930719\" xlink:href=\"#med406292d9\" y=\"47.224387\"/>\r\n     <use style=\"fill:#ff0000;\" x=\"397.483167\" xlink:href=\"#med406292d9\" y=\"284.815415\"/>\r\n     <use style=\"fill:#ff0000;\" x=\"212.243349\" xlink:href=\"#med406292d9\" y=\"319.703666\"/>\r\n     <use style=\"fill:#ff0000;\" x=\"263.119576\" xlink:href=\"#med406292d9\" y=\"67.373307\"/>\r\n     <use style=\"fill:#ff0000;\" x=\"340.706011\" xlink:href=\"#med406292d9\" y=\"214.53969\"/>\r\n     <use style=\"fill:#ff0000;\" x=\"173.191229\" xlink:href=\"#med406292d9\" y=\"164.702422\"/>\r\n     <use style=\"fill:#ff0000;\" x=\"132.034004\" xlink:href=\"#med406292d9\" y=\"174.077188\"/>\r\n     <use style=\"fill:#ff0000;\" x=\"412.370699\" xlink:href=\"#med406292d9\" y=\"365.40013\"/>\r\n     <use style=\"fill:#ff0000;\" x=\"189.126422\" xlink:href=\"#med406292d9\" y=\"105.79382\"/>\r\n     <use style=\"fill:#ff0000;\" x=\"187.449995\" xlink:href=\"#med406292d9\" y=\"150.698823\"/>\r\n     <use style=\"fill:#ff0000;\" x=\"304.112694\" xlink:href=\"#med406292d9\" y=\"301.391992\"/>\r\n     <use style=\"fill:#ff0000;\" x=\"149.884554\" xlink:href=\"#med406292d9\" y=\"205.383239\"/>\r\n     <use style=\"fill:#ff0000;\" x=\"379.259849\" xlink:href=\"#med406292d9\" y=\"195.534409\"/>\r\n     <use style=\"fill:#ff0000;\" x=\"209.679937\" xlink:href=\"#med406292d9\" y=\"35.719202\"/>\r\n     <use style=\"fill:#ff0000;\" x=\"185.381135\" xlink:href=\"#med406292d9\" y=\"94.539394\"/>\r\n     <use style=\"fill:#ff0000;\" x=\"81.194741\" xlink:href=\"#med406292d9\" y=\"338.969666\"/>\r\n     <use style=\"fill:#ff0000;\" x=\"383.741456\" xlink:href=\"#med406292d9\" y=\"342.371684\"/>\r\n     <use style=\"fill:#ff0000;\" x=\"97.669579\" xlink:href=\"#med406292d9\" y=\"144.801104\"/>\r\n     <use style=\"fill:#ff0000;\" x=\"414.298492\" xlink:href=\"#med406292d9\" y=\"182.728478\"/>\r\n     <use style=\"fill:#ff0000;\" x=\"364.425456\" xlink:href=\"#med406292d9\" y=\"137.374312\"/>\r\n     <use style=\"fill:#ff0000;\" x=\"201.533653\" xlink:href=\"#med406292d9\" y=\"108.329456\"/>\r\n     <use style=\"fill:#ff0000;\" x=\"250.462028\" xlink:href=\"#med406292d9\" y=\"262.975046\"/>\r\n     <use style=\"fill:#ff0000;\" x=\"255.048824\" xlink:href=\"#med406292d9\" y=\"196.828734\"/>\r\n     <use style=\"fill:#ff0000;\" x=\"100.825917\" xlink:href=\"#med406292d9\" y=\"52.699915\"/>\r\n     <use style=\"fill:#ff0000;\" x=\"153.678472\" xlink:href=\"#med406292d9\" y=\"132.934207\"/>\r\n     <use style=\"fill:#ff0000;\" x=\"84.072919\" xlink:href=\"#med406292d9\" y=\"330.764855\"/>\r\n     <use style=\"fill:#ff0000;\" x=\"375.51775\" xlink:href=\"#med406292d9\" y=\"334.3787\"/>\r\n     <use style=\"fill:#ff0000;\" x=\"331.404185\" xlink:href=\"#med406292d9\" y=\"87.949256\"/>\r\n     <use style=\"fill:#ff0000;\" x=\"106.774741\" xlink:href=\"#med406292d9\" y=\"174.906043\"/>\r\n     <use style=\"fill:#ff0000;\" x=\"100.62092\" xlink:href=\"#med406292d9\" y=\"122.129833\"/>\r\n     <use style=\"fill:#ff0000;\" x=\"164.026507\" xlink:href=\"#med406292d9\" y=\"319.227529\"/>\r\n     <use style=\"fill:#ff0000;\" x=\"296.601153\" xlink:href=\"#med406292d9\" y=\"112.234047\"/>\r\n     <use style=\"fill:#ff0000;\" x=\"379.825313\" xlink:href=\"#med406292d9\" y=\"166.969822\"/>\r\n     <use style=\"fill:#ff0000;\" x=\"225.727205\" xlink:href=\"#med406292d9\" y=\"163.692228\"/>\r\n     <use style=\"fill:#ff0000;\" x=\"414.602094\" xlink:href=\"#med406292d9\" y=\"288.631143\"/>\r\n     <use style=\"fill:#ff0000;\" x=\"129.455051\" xlink:href=\"#med406292d9\" y=\"70.700341\"/>\r\n     <use style=\"fill:#ff0000;\" x=\"164.984468\" xlink:href=\"#med406292d9\" y=\"345.606262\"/>\r\n     <use style=\"fill:#ff0000;\" x=\"182.546507\" xlink:href=\"#med406292d9\" y=\"68.814045\"/>\r\n     <use style=\"fill:#ff0000;\" x=\"66.739079\" xlink:href=\"#med406292d9\" y=\"310.695486\"/>\r\n     <use style=\"fill:#ff0000;\" x=\"327.88399\" xlink:href=\"#med406292d9\" y=\"34.718757\"/>\r\n     <use style=\"fill:#ff0000;\" x=\"287.463361\" xlink:href=\"#med406292d9\" y=\"93.855888\"/>\r\n     <use style=\"fill:#ff0000;\" x=\"415.652947\" xlink:href=\"#med406292d9\" y=\"107.497099\"/>\r\n     <use style=\"fill:#ff0000;\" x=\"340.252869\" xlink:href=\"#med406292d9\" y=\"56.911783\"/>\r\n     <use style=\"fill:#ff0000;\" x=\"289.351436\" xlink:href=\"#med406292d9\" y=\"290.471771\"/>\r\n     <use style=\"fill:#ff0000;\" x=\"283.427395\" xlink:href=\"#med406292d9\" y=\"125.297496\"/>\r\n     <use style=\"fill:#ff0000;\" x=\"138.332084\" xlink:href=\"#med406292d9\" y=\"167.112199\"/>\r\n     <use style=\"fill:#ff0000;\" x=\"274.92653\" xlink:href=\"#med406292d9\" y=\"72.364629\"/>\r\n     <use style=\"fill:#ff0000;\" x=\"366.895385\" xlink:href=\"#med406292d9\" y=\"170.87925\"/>\r\n     <use style=\"fill:#ff0000;\" x=\"131.019229\" xlink:href=\"#med406292d9\" y=\"244.651252\"/>\r\n     <use style=\"fill:#ff0000;\" x=\"201.870187\" xlink:href=\"#med406292d9\" y=\"105.888901\"/>\r\n     <use style=\"fill:#ff0000;\" x=\"375.070416\" xlink:href=\"#med406292d9\" y=\"335.042506\"/>\r\n     <use style=\"fill:#ff0000;\" x=\"183.065578\" xlink:href=\"#med406292d9\" y=\"47.94825\"/>\r\n     <use style=\"fill:#ff0000;\" x=\"223.400781\" xlink:href=\"#med406292d9\" y=\"108.987948\"/>\r\n     <use style=\"fill:#ff0000;\" x=\"395.942824\" xlink:href=\"#med406292d9\" y=\"28.387984\"/>\r\n     <use style=\"fill:#ff0000;\" x=\"389.706289\" xlink:href=\"#med406292d9\" y=\"293.084873\"/>\r\n     <use style=\"fill:#ff0000;\" x=\"345.879542\" xlink:href=\"#med406292d9\" y=\"275.001392\"/>\r\n     <use style=\"fill:#ff0000;\" x=\"234.458383\" xlink:href=\"#med406292d9\" y=\"272.036601\"/>\r\n     <use style=\"fill:#ff0000;\" x=\"121.145616\" xlink:href=\"#med406292d9\" y=\"145.795449\"/>\r\n     <use style=\"fill:#ff0000;\" x=\"394.081735\" xlink:href=\"#med406292d9\" y=\"189.21882\"/>\r\n     <use style=\"fill:#ff0000;\" x=\"92.525943\" xlink:href=\"#med406292d9\" y=\"339.09153\"/>\r\n     <use style=\"fill:#ff0000;\" x=\"96.020344\" xlink:href=\"#med406292d9\" y=\"36.733971\"/>\r\n     <use style=\"fill:#ff0000;\" x=\"239.467546\" xlink:href=\"#med406292d9\" y=\"104.638721\"/>\r\n     <use style=\"fill:#ff0000;\" x=\"408.238575\" xlink:href=\"#med406292d9\" y=\"114.026565\"/>\r\n     <use style=\"fill:#ff0000;\" x=\"133.45227\" xlink:href=\"#med406292d9\" y=\"227.820352\"/>\r\n     <use style=\"fill:#ff0000;\" x=\"380.943041\" xlink:href=\"#med406292d9\" y=\"336.951815\"/>\r\n     <use style=\"fill:#ff0000;\" x=\"361.263534\" xlink:href=\"#med406292d9\" y=\"285.522973\"/>\r\n     <use style=\"fill:#ff0000;\" x=\"200.44516\" xlink:href=\"#med406292d9\" y=\"257.397176\"/>\r\n     <use style=\"fill:#ff0000;\" x=\"319.415398\" xlink:href=\"#med406292d9\" y=\"319.363872\"/>\r\n     <use style=\"fill:#ff0000;\" x=\"200.518231\" xlink:href=\"#med406292d9\" y=\"178.974589\"/>\r\n     <use style=\"fill:#ff0000;\" x=\"396.358434\" xlink:href=\"#med406292d9\" y=\"192.106472\"/>\r\n     <use style=\"fill:#ff0000;\" x=\"174.316463\" xlink:href=\"#med406292d9\" y=\"264.293633\"/>\r\n     <use style=\"fill:#ff0000;\" x=\"404.644468\" xlink:href=\"#med406292d9\" y=\"197.433675\"/>\r\n     <use style=\"fill:#ff0000;\" x=\"328.1371\" xlink:href=\"#med406292d9\" y=\"268.936647\"/>\r\n     <use style=\"fill:#ff0000;\" x=\"104.669956\" xlink:href=\"#med406292d9\" y=\"170.705813\"/>\r\n     <use style=\"fill:#ff0000;\" x=\"293.009211\" xlink:href=\"#med406292d9\" y=\"106.249187\"/>\r\n     <use style=\"fill:#ff0000;\" x=\"90.06838\" xlink:href=\"#med406292d9\" y=\"167.809735\"/>\r\n     <use style=\"fill:#ff0000;\" x=\"207.934875\" xlink:href=\"#med406292d9\" y=\"363.424521\"/>\r\n     <use style=\"fill:#ff0000;\" x=\"373.181054\" xlink:href=\"#med406292d9\" y=\"320.229636\"/>\r\n     <use style=\"fill:#ff0000;\" x=\"363.163813\" xlink:href=\"#med406292d9\" y=\"357.584018\"/>\r\n     <use style=\"fill:#ff0000;\" x=\"371.57542\" xlink:href=\"#med406292d9\" y=\"126.991921\"/>\r\n     <use style=\"fill:#ff0000;\" x=\"172.796319\" xlink:href=\"#med406292d9\" y=\"233.289877\"/>\r\n     <use style=\"fill:#ff0000;\" x=\"289.572461\" xlink:href=\"#med406292d9\" y=\"240.296298\"/>\r\n     <use style=\"fill:#ff0000;\" x=\"401.052014\" xlink:href=\"#med406292d9\" y=\"37.141173\"/>\r\n     <use style=\"fill:#ff0000;\" x=\"405.468423\" xlink:href=\"#med406292d9\" y=\"76.064982\"/>\r\n     <use style=\"fill:#ff0000;\" x=\"190.957898\" xlink:href=\"#med406292d9\" y=\"306.725362\"/>\r\n     <use style=\"fill:#ff0000;\" x=\"180.351418\" xlink:href=\"#med406292d9\" y=\"162.311476\"/>\r\n     <use style=\"fill:#ff0000;\" x=\"162.168717\" xlink:href=\"#med406292d9\" y=\"202.486754\"/>\r\n     <use style=\"fill:#ff0000;\" x=\"241.980718\" xlink:href=\"#med406292d9\" y=\"245.708174\"/>\r\n     <use style=\"fill:#ff0000;\" x=\"349.224656\" xlink:href=\"#med406292d9\" y=\"337.565562\"/>\r\n     <use style=\"fill:#ff0000;\" x=\"300.935448\" xlink:href=\"#med406292d9\" y=\"284.376478\"/>\r\n     <use style=\"fill:#ff0000;\" x=\"66.716526\" xlink:href=\"#med406292d9\" y=\"243.636311\"/>\r\n     <use style=\"fill:#ff0000;\" x=\"411.763672\" xlink:href=\"#med406292d9\" y=\"80.134839\"/>\r\n     <use style=\"fill:#ff0000;\" x=\"374.104624\" xlink:href=\"#med406292d9\" y=\"137.141238\"/>\r\n     <use style=\"fill:#ff0000;\" x=\"323.52136\" xlink:href=\"#med406292d9\" y=\"27.220284\"/>\r\n     <use style=\"fill:#ff0000;\" x=\"199.651385\" xlink:href=\"#med406292d9\" y=\"210.840766\"/>\r\n     <use style=\"fill:#ff0000;\" x=\"192.484899\" xlink:href=\"#med406292d9\" y=\"307.102922\"/>\r\n     <use style=\"fill:#ff0000;\" x=\"265.288181\" xlink:href=\"#med406292d9\" y=\"99.704968\"/>\r\n     <use style=\"fill:#ff0000;\" x=\"92.785724\" xlink:href=\"#med406292d9\" y=\"299.211422\"/>\r\n     <use style=\"fill:#ff0000;\" x=\"197.013932\" xlink:href=\"#med406292d9\" y=\"55.314049\"/>\r\n     <use style=\"fill:#ff0000;\" x=\"268.285581\" xlink:href=\"#med406292d9\" y=\"75.147386\"/>\r\n     <use style=\"fill:#ff0000;\" x=\"98.809974\" xlink:href=\"#med406292d9\" y=\"326.341521\"/>\r\n     <use style=\"fill:#ff0000;\" x=\"319.094667\" xlink:href=\"#med406292d9\" y=\"236.30092\"/>\r\n     <use style=\"fill:#ff0000;\" x=\"258.895079\" xlink:href=\"#med406292d9\" y=\"256.452426\"/>\r\n     <use style=\"fill:#ff0000;\" x=\"236.439226\" xlink:href=\"#med406292d9\" y=\"250.787419\"/>\r\n     <use style=\"fill:#ff0000;\" x=\"153.475065\" xlink:href=\"#med406292d9\" y=\"320.353943\"/>\r\n     <use style=\"fill:#ff0000;\" x=\"81.871604\" xlink:href=\"#med406292d9\" y=\"304.814797\"/>\r\n     <use style=\"fill:#ff0000;\" x=\"141.690205\" xlink:href=\"#med406292d9\" y=\"226.607518\"/>\r\n     <use style=\"fill:#ff0000;\" x=\"141.752632\" xlink:href=\"#med406292d9\" y=\"250.365774\"/>\r\n     <use style=\"fill:#ff0000;\" x=\"338.292039\" xlink:href=\"#med406292d9\" y=\"187.284776\"/>\r\n     <use style=\"fill:#ff0000;\" x=\"87.651021\" xlink:href=\"#med406292d9\" y=\"311.701327\"/>\r\n     <use style=\"fill:#ff0000;\" x=\"245.12762\" xlink:href=\"#med406292d9\" y=\"33.283572\"/>\r\n     <use style=\"fill:#ff0000;\" x=\"159.666756\" xlink:href=\"#med406292d9\" y=\"257.477501\"/>\r\n     <use style=\"fill:#ff0000;\" x=\"88.567063\" xlink:href=\"#med406292d9\" y=\"174.700575\"/>\r\n     <use style=\"fill:#ff0000;\" x=\"391.773948\" xlink:href=\"#med406292d9\" y=\"353.177874\"/>\r\n     <use style=\"fill:#ff0000;\" x=\"292.653128\" xlink:href=\"#med406292d9\" y=\"66.775243\"/>\r\n     <use style=\"fill:#ff0000;\" x=\"190.130027\" xlink:href=\"#med406292d9\" y=\"230.74206\"/>\r\n     <use style=\"fill:#ff0000;\" x=\"316.730409\" xlink:href=\"#med406292d9\" y=\"103.601062\"/>\r\n     <use style=\"fill:#ff0000;\" x=\"291.412395\" xlink:href=\"#med406292d9\" y=\"99.631738\"/>\r\n     <use style=\"fill:#ff0000;\" x=\"115.429933\" xlink:href=\"#med406292d9\" y=\"354.310073\"/>\r\n     <use style=\"fill:#ff0000;\" x=\"128.215018\" xlink:href=\"#med406292d9\" y=\"48.749629\"/>\r\n     <use style=\"fill:#ff0000;\" x=\"320.461925\" xlink:href=\"#med406292d9\" y=\"74.380751\"/>\r\n     <use style=\"fill:#ff0000;\" x=\"339.70815\" xlink:href=\"#med406292d9\" y=\"42.154507\"/>\r\n     <use style=\"fill:#ff0000;\" x=\"258.115832\" xlink:href=\"#med406292d9\" y=\"94.986111\"/>\r\n     <use style=\"fill:#ff0000;\" x=\"133.298538\" xlink:href=\"#med406292d9\" y=\"120.415689\"/>\r\n     <use style=\"fill:#ff0000;\" x=\"221.245683\" xlink:href=\"#med406292d9\" y=\"103.57282\"/>\r\n     <use style=\"fill:#ff0000;\" x=\"349.626509\" xlink:href=\"#med406292d9\" y=\"70.113818\"/>\r\n     <use style=\"fill:#ff0000;\" x=\"212.772\" xlink:href=\"#med406292d9\" y=\"157.027933\"/>\r\n     <use style=\"fill:#ff0000;\" x=\"156.003283\" xlink:href=\"#med406292d9\" y=\"355.611743\"/>\r\n     <use style=\"fill:#ff0000;\" x=\"282.071517\" xlink:href=\"#med406292d9\" y=\"369.707231\"/>\r\n     <use style=\"fill:#ff0000;\" x=\"327.732831\" xlink:href=\"#med406292d9\" y=\"214.385787\"/>\r\n     <use style=\"fill:#ff0000;\" x=\"123.948551\" xlink:href=\"#med406292d9\" y=\"157.863677\"/>\r\n     <use style=\"fill:#ff0000;\" x=\"315.663431\" xlink:href=\"#med406292d9\" y=\"224.900019\"/>\r\n     <use style=\"fill:#ff0000;\" x=\"370.583748\" xlink:href=\"#med406292d9\" y=\"101.213355\"/>\r\n     <use style=\"fill:#ff0000;\" x=\"340.040493\" xlink:href=\"#med406292d9\" y=\"225.753176\"/>\r\n     <use style=\"fill:#ff0000;\" x=\"366.320508\" xlink:href=\"#med406292d9\" y=\"341.810644\"/>\r\n     <use style=\"fill:#ff0000;\" x=\"392.91477\" xlink:href=\"#med406292d9\" y=\"103.258795\"/>\r\n     <use style=\"fill:#ff0000;\" x=\"382.134075\" xlink:href=\"#med406292d9\" y=\"321.784408\"/>\r\n     <use style=\"fill:#ff0000;\" x=\"270.762473\" xlink:href=\"#med406292d9\" y=\"319.549743\"/>\r\n     <use style=\"fill:#ff0000;\" x=\"250.396923\" xlink:href=\"#med406292d9\" y=\"61.990127\"/>\r\n     <use style=\"fill:#ff0000;\" x=\"79.3574\" xlink:href=\"#med406292d9\" y=\"162.742388\"/>\r\n     <use style=\"fill:#ff0000;\" x=\"122.28798\" xlink:href=\"#med406292d9\" y=\"213.202626\"/>\r\n     <use style=\"fill:#ff0000;\" x=\"283.669497\" xlink:href=\"#med406292d9\" y=\"79.138594\"/>\r\n     <use style=\"fill:#ff0000;\" x=\"416.922062\" xlink:href=\"#med406292d9\" y=\"356.808439\"/>\r\n     <use style=\"fill:#ff0000;\" x=\"415.304204\" xlink:href=\"#med406292d9\" y=\"236.48664\"/>\r\n     <use style=\"fill:#ff0000;\" x=\"217.407075\" xlink:href=\"#med406292d9\" y=\"272.07827\"/>\r\n     <use style=\"fill:#ff0000;\" x=\"205.268445\" xlink:href=\"#med406292d9\" y=\"99.328931\"/>\r\n     <use style=\"fill:#ff0000;\" x=\"220.274756\" xlink:href=\"#med406292d9\" y=\"115.458031\"/>\r\n     <use style=\"fill:#ff0000;\" x=\"302.593865\" xlink:href=\"#med406292d9\" y=\"316.207767\"/>\r\n     <use style=\"fill:#ff0000;\" x=\"374.666364\" xlink:href=\"#med406292d9\" y=\"338.099345\"/>\r\n     <use style=\"fill:#ff0000;\" x=\"358.456781\" xlink:href=\"#med406292d9\" y=\"202.585003\"/>\r\n     <use style=\"fill:#ff0000;\" x=\"84.476818\" xlink:href=\"#med406292d9\" y=\"91.738307\"/>\r\n     <use style=\"fill:#ff0000;\" x=\"144.982033\" xlink:href=\"#med406292d9\" y=\"59.874491\"/>\r\n     <use style=\"fill:#ff0000;\" x=\"70.436589\" xlink:href=\"#med406292d9\" y=\"66.84048\"/>\r\n     <use style=\"fill:#ff0000;\" x=\"78.998137\" xlink:href=\"#med406292d9\" y=\"81.985595\"/>\r\n     <use style=\"fill:#ff0000;\" x=\"190.621754\" xlink:href=\"#med406292d9\" y=\"281.44699\"/>\r\n     <use style=\"fill:#ff0000;\" x=\"375.218355\" xlink:href=\"#med406292d9\" y=\"308.216494\"/>\r\n     <use style=\"fill:#ff0000;\" x=\"305.076538\" xlink:href=\"#med406292d9\" y=\"293.656482\"/>\r\n     <use style=\"fill:#ff0000;\" x=\"386.720898\" xlink:href=\"#med406292d9\" y=\"311.648005\"/>\r\n     <use style=\"fill:#ff0000;\" x=\"85.727423\" xlink:href=\"#med406292d9\" y=\"71.678832\"/>\r\n     <use style=\"fill:#ff0000;\" x=\"204.292123\" xlink:href=\"#med406292d9\" y=\"255.818657\"/>\r\n     <use style=\"fill:#ff0000;\" x=\"280.14107\" xlink:href=\"#med406292d9\" y=\"292.3525\"/>\r\n     <use style=\"fill:#ff0000;\" x=\"295.742716\" xlink:href=\"#med406292d9\" y=\"298.887834\"/>\r\n     <use style=\"fill:#ff0000;\" x=\"171.810309\" xlink:href=\"#med406292d9\" y=\"323.937493\"/>\r\n     <use style=\"fill:#ff0000;\" x=\"122.932401\" xlink:href=\"#med406292d9\" y=\"369.125779\"/>\r\n     <use style=\"fill:#ff0000;\" x=\"411.403327\" xlink:href=\"#med406292d9\" y=\"170.37612\"/>\r\n     <use style=\"fill:#ff0000;\" x=\"125.863516\" xlink:href=\"#med406292d9\" y=\"175.848808\"/>\r\n     <use style=\"fill:#ff0000;\" x=\"365.681614\" xlink:href=\"#med406292d9\" y=\"72.661997\"/>\r\n     <use style=\"fill:#ff0000;\" x=\"294.735702\" xlink:href=\"#med406292d9\" y=\"334.300611\"/>\r\n     <use style=\"fill:#ff0000;\" x=\"160.932098\" xlink:href=\"#med406292d9\" y=\"139.612969\"/>\r\n     <use style=\"fill:#ff0000;\" x=\"385.886062\" xlink:href=\"#med406292d9\" y=\"211.130454\"/>\r\n     <use style=\"fill:#ff0000;\" x=\"94.138371\" xlink:href=\"#med406292d9\" y=\"304.673312\"/>\r\n     <use style=\"fill:#ff0000;\" x=\"203.034549\" xlink:href=\"#med406292d9\" y=\"84.210223\"/>\r\n     <use style=\"fill:#ff0000;\" x=\"267.729355\" xlink:href=\"#med406292d9\" y=\"265.367088\"/>\r\n     <use style=\"fill:#ff0000;\" x=\"249.329228\" xlink:href=\"#med406292d9\" y=\"363.02814\"/>\r\n     <use style=\"fill:#ff0000;\" x=\"359.16009\" xlink:href=\"#med406292d9\" y=\"176.213418\"/>\r\n     <use style=\"fill:#ff0000;\" x=\"214.329833\" xlink:href=\"#med406292d9\" y=\"135.136124\"/>\r\n     <use style=\"fill:#ff0000;\" x=\"316.778373\" xlink:href=\"#med406292d9\" y=\"313.011192\"/>\r\n     <use style=\"fill:#ff0000;\" x=\"383.585882\" xlink:href=\"#med406292d9\" y=\"275.923769\"/>\r\n     <use style=\"fill:#ff0000;\" x=\"82.809832\" xlink:href=\"#med406292d9\" y=\"315.971106\"/>\r\n     <use style=\"fill:#ff0000;\" x=\"300.731473\" xlink:href=\"#med406292d9\" y=\"57.071951\"/>\r\n     <use style=\"fill:#ff0000;\" x=\"129.04612\" xlink:href=\"#med406292d9\" y=\"340.944361\"/>\r\n     <use style=\"fill:#ff0000;\" x=\"399.240803\" xlink:href=\"#med406292d9\" y=\"283.97096\"/>\r\n     <use style=\"fill:#ff0000;\" x=\"112.226201\" xlink:href=\"#med406292d9\" y=\"61.033537\"/>\r\n     <use style=\"fill:#ff0000;\" x=\"325.09569\" xlink:href=\"#med406292d9\" y=\"208.033128\"/>\r\n     <use style=\"fill:#ff0000;\" x=\"380.961647\" xlink:href=\"#med406292d9\" y=\"190.712121\"/>\r\n     <use style=\"fill:#ff0000;\" x=\"140.810633\" xlink:href=\"#med406292d9\" y=\"97.413922\"/>\r\n     <use style=\"fill:#ff0000;\" x=\"251.848235\" xlink:href=\"#med406292d9\" y=\"271.107273\"/>\r\n     <use style=\"fill:#ff0000;\" x=\"341.211368\" xlink:href=\"#med406292d9\" y=\"192.908081\"/>\r\n     <use style=\"fill:#ff0000;\" x=\"81.519191\" xlink:href=\"#med406292d9\" y=\"289.835105\"/>\r\n     <use style=\"fill:#ff0000;\" x=\"289.099553\" xlink:href=\"#med406292d9\" y=\"29.692982\"/>\r\n     <use style=\"fill:#ff0000;\" x=\"293.447092\" xlink:href=\"#med406292d9\" y=\"276.729526\"/>\r\n     <use style=\"fill:#ff0000;\" x=\"230.24347\" xlink:href=\"#med406292d9\" y=\"193.84455\"/>\r\n     <use style=\"fill:#ff0000;\" x=\"415.171238\" xlink:href=\"#med406292d9\" y=\"77.767941\"/>\r\n     <use style=\"fill:#ff0000;\" x=\"89.86169\" xlink:href=\"#med406292d9\" y=\"76.749727\"/>\r\n     <use style=\"fill:#ff0000;\" x=\"388.457392\" xlink:href=\"#med406292d9\" y=\"326.866363\"/>\r\n     <use style=\"fill:#ff0000;\" x=\"76.642527\" xlink:href=\"#med406292d9\" y=\"348.063024\"/>\r\n     <use style=\"fill:#ff0000;\" x=\"334.84134\" xlink:href=\"#med406292d9\" y=\"300.470766\"/>\r\n     <use style=\"fill:#ff0000;\" x=\"68.899593\" xlink:href=\"#med406292d9\" y=\"348.17207\"/>\r\n     <use style=\"fill:#ff0000;\" x=\"184.80585\" xlink:href=\"#med406292d9\" y=\"124.714376\"/>\r\n     <use style=\"fill:#ff0000;\" x=\"106.576566\" xlink:href=\"#med406292d9\" y=\"308.474695\"/>\r\n     <use style=\"fill:#ff0000;\" x=\"400.816355\" xlink:href=\"#med406292d9\" y=\"308.586601\"/>\r\n     <use style=\"fill:#ff0000;\" x=\"403.611878\" xlink:href=\"#med406292d9\" y=\"74.094458\"/>\r\n     <use style=\"fill:#ff0000;\" x=\"76.4597\" xlink:href=\"#med406292d9\" y=\"302.560679\"/>\r\n     <use style=\"fill:#ff0000;\" x=\"256.978328\" xlink:href=\"#med406292d9\" y=\"140.060711\"/>\r\n     <use style=\"fill:#ff0000;\" x=\"261.853031\" xlink:href=\"#med406292d9\" y=\"147.779617\"/>\r\n     <use style=\"fill:#ff0000;\" x=\"81.11041\" xlink:href=\"#med406292d9\" y=\"351.17125\"/>\r\n     <use style=\"fill:#ff0000;\" x=\"235.75091\" xlink:href=\"#med406292d9\" y=\"203.059298\"/>\r\n     <use style=\"fill:#ff0000;\" x=\"385.822692\" xlink:href=\"#med406292d9\" y=\"256.909454\"/>\r\n     <use style=\"fill:#ff0000;\" x=\"274.158361\" xlink:href=\"#med406292d9\" y=\"50.356924\"/>\r\n     <use style=\"fill:#ff0000;\" x=\"140.966306\" xlink:href=\"#med406292d9\" y=\"146.723538\"/>\r\n     <use style=\"fill:#ff0000;\" x=\"335.704482\" xlink:href=\"#med406292d9\" y=\"123.581903\"/>\r\n     <use style=\"fill:#ff0000;\" x=\"64.83198\" xlink:href=\"#med406292d9\" y=\"221.530075\"/>\r\n     <use style=\"fill:#ff0000;\" x=\"386.548649\" xlink:href=\"#med406292d9\" y=\"361.021554\"/>\r\n     <use style=\"fill:#ff0000;\" x=\"234.745995\" xlink:href=\"#med406292d9\" y=\"313.71014\"/>\r\n     <use style=\"fill:#ff0000;\" x=\"256.956148\" xlink:href=\"#med406292d9\" y=\"207.520882\"/>\r\n     <use style=\"fill:#ff0000;\" x=\"354.159951\" xlink:href=\"#med406292d9\" y=\"234.961761\"/>\r\n     <use style=\"fill:#ff0000;\" x=\"207.493152\" xlink:href=\"#med406292d9\" y=\"186.901481\"/>\r\n     <use style=\"fill:#ff0000;\" x=\"279.540377\" xlink:href=\"#med406292d9\" y=\"212.422841\"/>\r\n     <use style=\"fill:#ff0000;\" x=\"120.390926\" xlink:href=\"#med406292d9\" y=\"193.564967\"/>\r\n     <use style=\"fill:#ff0000;\" x=\"276.292765\" xlink:href=\"#med406292d9\" y=\"68.62213\"/>\r\n     <use style=\"fill:#ff0000;\" x=\"145.728916\" xlink:href=\"#med406292d9\" y=\"43.553654\"/>\r\n     <use style=\"fill:#ff0000;\" x=\"416.940122\" xlink:href=\"#med406292d9\" y=\"27.03363\"/>\r\n     <use style=\"fill:#ff0000;\" x=\"87.765212\" xlink:href=\"#med406292d9\" y=\"164.635914\"/>\r\n     <use style=\"fill:#ff0000;\" x=\"274.188525\" xlink:href=\"#med406292d9\" y=\"105.569755\"/>\r\n     <use style=\"fill:#ff0000;\" x=\"339.30404\" xlink:href=\"#med406292d9\" y=\"56.701784\"/>\r\n     <use style=\"fill:#ff0000;\" x=\"397.64774\" xlink:href=\"#med406292d9\" y=\"42.32828\"/>\r\n     <use style=\"fill:#ff0000;\" x=\"157.57366\" xlink:href=\"#med406292d9\" y=\"184.369346\"/>\r\n     <use style=\"fill:#ff0000;\" x=\"271.527992\" xlink:href=\"#med406292d9\" y=\"128.631585\"/>\r\n     <use style=\"fill:#ff0000;\" x=\"226.97532\" xlink:href=\"#med406292d9\" y=\"349.109052\"/>\r\n     <use style=\"fill:#ff0000;\" x=\"375.278938\" xlink:href=\"#med406292d9\" y=\"325.117429\"/>\r\n     <use style=\"fill:#ff0000;\" x=\"253.65517\" xlink:href=\"#med406292d9\" y=\"336.735316\"/>\r\n     <use style=\"fill:#ff0000;\" x=\"297.769106\" xlink:href=\"#med406292d9\" y=\"351.198726\"/>\r\n     <use style=\"fill:#ff0000;\" x=\"329.164157\" xlink:href=\"#med406292d9\" y=\"152.158306\"/>\r\n     <use style=\"fill:#ff0000;\" x=\"192.528304\" xlink:href=\"#med406292d9\" y=\"196.395571\"/>\r\n     <use style=\"fill:#ff0000;\" x=\"147.174094\" xlink:href=\"#med406292d9\" y=\"301.414986\"/>\r\n     <use style=\"fill:#ff0000;\" x=\"109.839802\" xlink:href=\"#med406292d9\" y=\"114.29718\"/>\r\n     <use style=\"fill:#ff0000;\" x=\"241.94175\" xlink:href=\"#med406292d9\" y=\"60.430014\"/>\r\n     <use style=\"fill:#ff0000;\" x=\"263.428261\" xlink:href=\"#med406292d9\" y=\"281.091806\"/>\r\n     <use style=\"fill:#ff0000;\" x=\"415.94467\" xlink:href=\"#med406292d9\" y=\"164.643094\"/>\r\n     <use style=\"fill:#ff0000;\" x=\"84.115691\" xlink:href=\"#med406292d9\" y=\"333.149592\"/>\r\n     <use style=\"fill:#ff0000;\" x=\"310.774562\" xlink:href=\"#med406292d9\" y=\"225.846235\"/>\r\n     <use style=\"fill:#ff0000;\" x=\"294.752275\" xlink:href=\"#med406292d9\" y=\"130.919353\"/>\r\n     <use style=\"fill:#ff0000;\" x=\"62.947185\" xlink:href=\"#med406292d9\" y=\"325.073502\"/>\r\n     <use style=\"fill:#ff0000;\" x=\"416.576211\" xlink:href=\"#med406292d9\" y=\"227.727925\"/>\r\n     <use style=\"fill:#ff0000;\" x=\"360.93344\" xlink:href=\"#med406292d9\" y=\"228.947173\"/>\r\n     <use style=\"fill:#ff0000;\" x=\"135.641698\" xlink:href=\"#med406292d9\" y=\"238.648031\"/>\r\n     <use style=\"fill:#ff0000;\" x=\"226.773861\" xlink:href=\"#med406292d9\" y=\"241.825885\"/>\r\n     <use style=\"fill:#ff0000;\" x=\"344.858241\" xlink:href=\"#med406292d9\" y=\"153.864294\"/>\r\n     <use style=\"fill:#ff0000;\" x=\"345.842232\" xlink:href=\"#med406292d9\" y=\"129.210093\"/>\r\n     <use style=\"fill:#ff0000;\" x=\"256.009975\" xlink:href=\"#med406292d9\" y=\"271.378457\"/>\r\n     <use style=\"fill:#ff0000;\" x=\"142.743574\" xlink:href=\"#med406292d9\" y=\"38.639429\"/>\r\n     <use style=\"fill:#ff0000;\" x=\"323.105169\" xlink:href=\"#med406292d9\" y=\"144.546737\"/>\r\n     <use style=\"fill:#ff0000;\" x=\"142.417893\" xlink:href=\"#med406292d9\" y=\"139.03333\"/>\r\n     <use style=\"fill:#ff0000;\" x=\"304.755306\" xlink:href=\"#med406292d9\" y=\"49.534199\"/>\r\n     <use style=\"fill:#ff0000;\" x=\"68.071127\" xlink:href=\"#med406292d9\" y=\"350.651813\"/>\r\n     <use style=\"fill:#ff0000;\" x=\"378.995028\" xlink:href=\"#med406292d9\" y=\"281.975454\"/>\r\n     <use style=\"fill:#ff0000;\" x=\"327.506615\" xlink:href=\"#med406292d9\" y=\"149.237371\"/>\r\n     <use style=\"fill:#ff0000;\" x=\"222.568607\" xlink:href=\"#med406292d9\" y=\"290.667364\"/>\r\n     <use style=\"fill:#ff0000;\" x=\"346.318734\" xlink:href=\"#med406292d9\" y=\"284.064718\"/>\r\n     <use style=\"fill:#ff0000;\" x=\"292.374111\" xlink:href=\"#med406292d9\" y=\"264.196485\"/>\r\n     <use style=\"fill:#ff0000;\" x=\"387.808434\" xlink:href=\"#med406292d9\" y=\"113.848675\"/>\r\n     <use style=\"fill:#ff0000;\" x=\"78.045855\" xlink:href=\"#med406292d9\" y=\"179.691165\"/>\r\n     <use style=\"fill:#ff0000;\" x=\"172.857772\" xlink:href=\"#med406292d9\" y=\"181.795234\"/>\r\n     <use style=\"fill:#ff0000;\" x=\"347.946293\" xlink:href=\"#med406292d9\" y=\"180.070229\"/>\r\n     <use style=\"fill:#ff0000;\" x=\"207.615953\" xlink:href=\"#med406292d9\" y=\"238.489592\"/>\r\n     <use style=\"fill:#ff0000;\" x=\"136.596748\" xlink:href=\"#med406292d9\" y=\"190.57481\"/>\r\n     <use style=\"fill:#ff0000;\" x=\"274.197166\" xlink:href=\"#med406292d9\" y=\"123.27043\"/>\r\n     <use style=\"fill:#ff0000;\" x=\"344.120279\" xlink:href=\"#med406292d9\" y=\"350.676344\"/>\r\n     <use style=\"fill:#ff0000;\" x=\"132.801253\" xlink:href=\"#med406292d9\" y=\"130.177807\"/>\r\n     <use style=\"fill:#ff0000;\" x=\"133.008921\" xlink:href=\"#med406292d9\" y=\"239.273367\"/>\r\n     <use style=\"fill:#ff0000;\" x=\"119.078327\" xlink:href=\"#med406292d9\" y=\"184.019664\"/>\r\n     <use style=\"fill:#ff0000;\" x=\"285.401483\" xlink:href=\"#med406292d9\" y=\"196.348824\"/>\r\n     <use style=\"fill:#ff0000;\" x=\"375.312965\" xlink:href=\"#med406292d9\" y=\"35.728316\"/>\r\n     <use style=\"fill:#ff0000;\" x=\"72.689079\" xlink:href=\"#med406292d9\" y=\"259.523665\"/>\r\n     <use style=\"fill:#ff0000;\" x=\"93.322122\" xlink:href=\"#med406292d9\" y=\"123.696653\"/>\r\n     <use style=\"fill:#ff0000;\" x=\"337.313964\" xlink:href=\"#med406292d9\" y=\"270.193672\"/>\r\n     <use style=\"fill:#ff0000;\" x=\"260.859565\" xlink:href=\"#med406292d9\" y=\"367.27206\"/>\r\n     <use style=\"fill:#ff0000;\" x=\"357.588888\" xlink:href=\"#med406292d9\" y=\"113.401632\"/>\r\n     <use style=\"fill:#ff0000;\" x=\"396.253182\" xlink:href=\"#med406292d9\" y=\"181.189164\"/>\r\n     <use style=\"fill:#ff0000;\" x=\"284.271832\" xlink:href=\"#med406292d9\" y=\"213.840464\"/>\r\n     <use style=\"fill:#ff0000;\" x=\"396.647447\" xlink:href=\"#med406292d9\" y=\"137.051292\"/>\r\n     <use style=\"fill:#ff0000;\" x=\"156.170789\" xlink:href=\"#med406292d9\" y=\"207.741085\"/>\r\n     <use style=\"fill:#ff0000;\" x=\"171.331382\" xlink:href=\"#med406292d9\" y=\"180.866511\"/>\r\n     <use style=\"fill:#ff0000;\" x=\"173.092032\" xlink:href=\"#med406292d9\" y=\"231.515443\"/>\r\n     <use style=\"fill:#ff0000;\" x=\"386.12409\" xlink:href=\"#med406292d9\" y=\"241.411718\"/>\r\n     <use style=\"fill:#ff0000;\" x=\"329.160576\" xlink:href=\"#med406292d9\" y=\"314.351494\"/>\r\n     <use style=\"fill:#ff0000;\" x=\"168.858045\" xlink:href=\"#med406292d9\" y=\"217.178675\"/>\r\n     <use style=\"fill:#ff0000;\" x=\"208.339185\" xlink:href=\"#med406292d9\" y=\"169.16214\"/>\r\n     <use style=\"fill:#ff0000;\" x=\"240.583672\" xlink:href=\"#med406292d9\" y=\"240.83386\"/>\r\n     <use style=\"fill:#ff0000;\" x=\"395.19764\" xlink:href=\"#med406292d9\" y=\"65.41791\"/>\r\n     <use style=\"fill:#ff0000;\" x=\"217.211303\" xlink:href=\"#med406292d9\" y=\"361.023781\"/>\r\n     <use style=\"fill:#ff0000;\" x=\"180.889581\" xlink:href=\"#med406292d9\" y=\"325.29691\"/>\r\n     <use style=\"fill:#ff0000;\" x=\"163.939213\" xlink:href=\"#med406292d9\" y=\"125.554165\"/>\r\n     <use style=\"fill:#ff0000;\" x=\"351.028965\" xlink:href=\"#med406292d9\" y=\"34.828671\"/>\r\n     <use style=\"fill:#ff0000;\" x=\"301.378997\" xlink:href=\"#med406292d9\" y=\"304.221941\"/>\r\n     <use style=\"fill:#ff0000;\" x=\"329.68735\" xlink:href=\"#med406292d9\" y=\"353.249318\"/>\r\n     <use style=\"fill:#ff0000;\" x=\"299.263226\" xlink:href=\"#med406292d9\" y=\"33.203274\"/>\r\n     <use style=\"fill:#ff0000;\" x=\"181.869729\" xlink:href=\"#med406292d9\" y=\"305.494492\"/>\r\n     <use style=\"fill:#ff0000;\" x=\"76.000677\" xlink:href=\"#med406292d9\" y=\"75.347725\"/>\r\n     <use style=\"fill:#ff0000;\" x=\"397.695204\" xlink:href=\"#med406292d9\" y=\"344.512329\"/>\r\n     <use style=\"fill:#ff0000;\" x=\"412.097784\" xlink:href=\"#med406292d9\" y=\"140.395034\"/>\r\n     <use style=\"fill:#ff0000;\" x=\"407.531556\" xlink:href=\"#med406292d9\" y=\"286.521366\"/>\r\n     <use style=\"fill:#ff0000;\" x=\"273.014019\" xlink:href=\"#med406292d9\" y=\"79.713428\"/>\r\n     <use style=\"fill:#ff0000;\" x=\"409.309186\" xlink:href=\"#med406292d9\" y=\"202.489872\"/>\r\n     <use style=\"fill:#ff0000;\" x=\"188.652526\" xlink:href=\"#med406292d9\" y=\"349.84255\"/>\r\n     <use style=\"fill:#ff0000;\" x=\"186.533859\" xlink:href=\"#med406292d9\" y=\"196.362887\"/>\r\n     <use style=\"fill:#ff0000;\" x=\"109.965355\" xlink:href=\"#med406292d9\" y=\"266.30376\"/>\r\n     <use style=\"fill:#ff0000;\" x=\"120.022539\" xlink:href=\"#med406292d9\" y=\"199.741911\"/>\r\n     <use style=\"fill:#ff0000;\" x=\"414.135551\" xlink:href=\"#med406292d9\" y=\"267.264507\"/>\r\n     <use style=\"fill:#ff0000;\" x=\"176.563021\" xlink:href=\"#med406292d9\" y=\"282.523534\"/>\r\n     <use style=\"fill:#ff0000;\" x=\"85.983513\" xlink:href=\"#med406292d9\" y=\"284.367417\"/>\r\n     <use style=\"fill:#ff0000;\" x=\"182.844192\" xlink:href=\"#med406292d9\" y=\"83.087957\"/>\r\n     <use style=\"fill:#ff0000;\" x=\"77.624814\" xlink:href=\"#med406292d9\" y=\"355.854326\"/>\r\n     <use style=\"fill:#ff0000;\" x=\"158.962897\" xlink:href=\"#med406292d9\" y=\"79.026678\"/>\r\n     <use style=\"fill:#ff0000;\" x=\"317.908615\" xlink:href=\"#med406292d9\" y=\"115.79567\"/>\r\n     <use style=\"fill:#ff0000;\" x=\"415.698716\" xlink:href=\"#med406292d9\" y=\"160.865156\"/>\r\n     <use style=\"fill:#ff0000;\" x=\"215.666592\" xlink:href=\"#med406292d9\" y=\"251.136418\"/>\r\n     <use style=\"fill:#ff0000;\" x=\"379.617904\" xlink:href=\"#med406292d9\" y=\"350.161536\"/>\r\n     <use style=\"fill:#ff0000;\" x=\"296.586581\" xlink:href=\"#med406292d9\" y=\"223.560345\"/>\r\n     <use style=\"fill:#ff0000;\" x=\"195.973859\" xlink:href=\"#med406292d9\" y=\"150.606479\"/>\r\n     <use style=\"fill:#ff0000;\" x=\"107.571316\" xlink:href=\"#med406292d9\" y=\"244.246669\"/>\r\n     <use style=\"fill:#ff0000;\" x=\"317.742968\" xlink:href=\"#med406292d9\" y=\"267.401987\"/>\r\n     <use style=\"fill:#ff0000;\" x=\"118.450121\" xlink:href=\"#med406292d9\" y=\"258.946063\"/>\r\n     <use style=\"fill:#ff0000;\" x=\"394.489151\" xlink:href=\"#med406292d9\" y=\"99.444231\"/>\r\n     <use style=\"fill:#ff0000;\" x=\"302.85241\" xlink:href=\"#med406292d9\" y=\"266.726758\"/>\r\n     <use style=\"fill:#ff0000;\" x=\"374.065349\" xlink:href=\"#med406292d9\" y=\"353.31692\"/>\r\n     <use style=\"fill:#ff0000;\" x=\"181.818887\" xlink:href=\"#med406292d9\" y=\"241.742941\"/>\r\n     <use style=\"fill:#ff0000;\" x=\"139.286137\" xlink:href=\"#med406292d9\" y=\"280.966056\"/>\r\n     <use style=\"fill:#ff0000;\" x=\"185.409428\" xlink:href=\"#med406292d9\" y=\"265.351485\"/>\r\n     <use style=\"fill:#ff0000;\" x=\"367.734338\" xlink:href=\"#med406292d9\" y=\"306.384039\"/>\r\n     <use style=\"fill:#ff0000;\" x=\"382.429748\" xlink:href=\"#med406292d9\" y=\"280.286812\"/>\r\n     <use style=\"fill:#ff0000;\" x=\"313.231669\" xlink:href=\"#med406292d9\" y=\"147.750791\"/>\r\n    </g>\r\n   </g>\r\n   <g id=\"patch_5\">\r\n    <path d=\"M 44.845313 387.72 \r\nL 44.845313 7.2 \r\n\" style=\"fill:none;\"/>\r\n   </g>\r\n   <g id=\"patch_6\">\r\n    <path d=\"M 435.445312 387.72 \r\nL 435.445312 7.2 \r\n\" style=\"fill:none;\"/>\r\n   </g>\r\n   <g id=\"patch_7\">\r\n    <path d=\"M 44.845312 387.72 \r\nL 435.445313 387.72 \r\n\" style=\"fill:none;\"/>\r\n   </g>\r\n   <g id=\"patch_8\">\r\n    <path d=\"M 44.845312 7.2 \r\nL 435.445313 7.2 \r\n\" style=\"fill:none;\"/>\r\n   </g>\r\n  </g>\r\n </g>\r\n <defs>\r\n  <clipPath id=\"pd0551ce825\">\r\n   <rect height=\"380.52\" width=\"390.6\" x=\"44.845313\" y=\"7.2\"/>\r\n  </clipPath>\r\n </defs>\r\n</svg>\r\n",
      "image/png": "[encoded data removed]"
     },
     "metadata": {
      "needs_background": "light"
     }
    }
   ],
   "source": [
    "fig = plt.figure(figsize=(7, 7))\n",
    "ax = fig.add_subplot(1, 1, 1)\n",
    "circ = plt.Circle((0, 0), radius=1, edgecolor='g', lw=2.0,\n",
    "                  facecolor='None')  \n",
    "box = plt.Rectangle((-1, -1), 2, 2, edgecolor='b', alpha=0.3)  \n",
    "ax.add_patch(circ)  \n",
    "ax.add_patch(box)  \n",
    "plt.plot(rn[:, 0], rn[:, 1], 'r.')  \n",
    "plt.ylim(-1.1, 1.1)\n",
    "plt.xlim(-1.1, 1.1)\n",
    "# plt.savefig('../../images/ch10/perf_01.png');"
   ]
  },
  {
   "cell_type": "code",
   "execution_count": 98,
   "metadata": {},
   "outputs": [],
   "source": [
    "n = int(1e7)"
   ]
  },
  {
   "cell_type": "code",
   "execution_count": 99,
   "metadata": {
    "tags": []
   },
   "outputs": [
    {
     "output_type": "stream",
     "name": "stdout",
     "text": "Wall time: 336 ms\n"
    }
   ],
   "source": [
    "%time rn = np.random.random((n, 2)) * 2 - 1"
   ]
  },
  {
   "cell_type": "code",
   "execution_count": 100,
   "metadata": {},
   "outputs": [
    {
     "output_type": "execute_result",
     "data": {
      "text/plain": "160000000"
     },
     "metadata": {},
     "execution_count": 100
    }
   ],
   "source": [
    "rn.nbytes"
   ]
  },
  {
   "cell_type": "code",
   "execution_count": 101,
   "metadata": {
    "tags": []
   },
   "outputs": [
    {
     "output_type": "stream",
     "name": "stdout",
     "text": "Wall time: 235 ms\n"
    },
    {
     "output_type": "execute_result",
     "data": {
      "text/plain": "array([0.525, 1.198, 0.861, 0.963, 0.603, 0.667, 0.73 , 0.636])"
     },
     "metadata": {},
     "execution_count": 101
    }
   ],
   "source": [
    "%time distance = np.sqrt((rn ** 2).sum(axis=1))  \n",
    "distance[:8].round(3)"
   ]
  },
  {
   "cell_type": "code",
   "execution_count": 102,
   "metadata": {
    "tags": []
   },
   "outputs": [
    {
     "output_type": "stream",
     "name": "stdout",
     "text": "Wall time: 21 ms\n"
    }
   ],
   "source": [
    "%time frac = (distance <= 1.0).sum() / len(distance)  "
   ]
  },
  {
   "cell_type": "code",
   "execution_count": 103,
   "metadata": {},
   "outputs": [
    {
     "output_type": "execute_result",
     "data": {
      "text/plain": "3.1412344"
     },
     "metadata": {},
     "execution_count": 103
    }
   ],
   "source": [
    "pi_mcs = frac * 4  \n",
    "pi_mcs  "
   ]
  },
  {
   "cell_type": "code",
   "execution_count": 104,
   "metadata": {},
   "outputs": [],
   "source": [
    "def mcs_pi_py(n):\n",
    "    circle = 0\n",
    "    for _ in range(n):\n",
    "        x, y = random.random(), random.random()\n",
    "        if (x ** 2 + y ** 2) ** 0.5 <= 1:\n",
    "            circle += 1\n",
    "    return (4 * circle) / n"
   ]
  },
  {
   "cell_type": "code",
   "execution_count": 105,
   "metadata": {
    "tags": []
   },
   "outputs": [
    {
     "output_type": "stream",
     "name": "stdout",
     "text": "Wall time: 6.97 s\n"
    },
    {
     "output_type": "execute_result",
     "data": {
      "text/plain": "3.1408784"
     },
     "metadata": {},
     "execution_count": 105
    }
   ],
   "source": [
    "%time mcs_pi_py(n)"
   ]
  },
  {
   "cell_type": "code",
   "execution_count": 106,
   "metadata": {},
   "outputs": [],
   "source": [
    "mcs_pi_nb = numba.jit(mcs_pi_py)"
   ]
  },
  {
   "cell_type": "code",
   "execution_count": 107,
   "metadata": {
    "tags": []
   },
   "outputs": [
    {
     "output_type": "stream",
     "name": "stdout",
     "text": "Wall time: 333 ms\n"
    },
    {
     "output_type": "execute_result",
     "data": {
      "text/plain": "3.1419172"
     },
     "metadata": {},
     "execution_count": 107
    }
   ],
   "source": [
    "%time mcs_pi_nb(n)"
   ]
  },
  {
   "cell_type": "code",
   "execution_count": 108,
   "metadata": {
    "tags": []
   },
   "outputs": [
    {
     "output_type": "stream",
     "name": "stdout",
     "text": "Wall time: 132 ms\n"
    },
    {
     "output_type": "execute_result",
     "data": {
      "text/plain": "3.1414324"
     },
     "metadata": {},
     "execution_count": 108
    }
   ],
   "source": [
    "%time mcs_pi_nb(n)"
   ]
  },
  {
   "cell_type": "code",
   "execution_count": 109,
   "metadata": {},
   "outputs": [
    {
     "output_type": "execute_result",
     "data": {
      "text/plain": "<IPython.core.display.HTML object>",
      "text/html": "<!DOCTYPE html>\n<!-- Generated by Cython 0.29.21 -->\n<html>\n<head>\n    <meta http-equiv=\"Content-Type\" content=\"text/html; charset=utf-8\" />\n    <title>Cython: _cython_magic_1ba3abbaae6d6d9ff77de52c9970b347.pyx</title>\n    <style type=\"text/css\">\n    \nbody.cython { font-family: courier; font-size: 12; }\n\n.cython.tag  {  }\n.cython.line { margin: 0em }\n.cython.code { font-size: 9; color: #444444; display: none; margin: 0px 0px 0px 8px; border-left: 8px none; }\n\n.cython.line .run { background-color: #B0FFB0; }\n.cython.line .mis { background-color: #FFB0B0; }\n.cython.code.run  { border-left: 8px solid #B0FFB0; }\n.cython.code.mis  { border-left: 8px solid #FFB0B0; }\n\n.cython.code .py_c_api  { color: red; }\n.cython.code .py_macro_api  { color: #FF7000; }\n.cython.code .pyx_c_api  { color: #FF3000; }\n.cython.code .pyx_macro_api  { color: #FF7000; }\n.cython.code .refnanny  { color: #FFA000; }\n.cython.code .trace  { color: #FFA000; }\n.cython.code .error_goto  { color: #FFA000; }\n\n.cython.code .coerce  { color: #008000; border: 1px dotted #008000 }\n.cython.code .py_attr { color: #FF0000; font-weight: bold; }\n.cython.code .c_attr  { color: #0000FF; }\n.cython.code .py_call { color: #FF0000; font-weight: bold; }\n.cython.code .c_call  { color: #0000FF; }\n\n.cython.score-0 {background-color: #FFFFff;}\n.cython.score-1 {background-color: #FFFFe7;}\n.cython.score-2 {background-color: #FFFFd4;}\n.cython.score-3 {background-color: #FFFFc4;}\n.cython.score-4 {background-color: #FFFFb6;}\n.cython.score-5 {background-color: #FFFFaa;}\n.cython.score-6 {background-color: #FFFF9f;}\n.cython.score-7 {background-color: #FFFF96;}\n.cython.score-8 {background-color: #FFFF8d;}\n.cython.score-9 {background-color: #FFFF86;}\n.cython.score-10 {background-color: #FFFF7f;}\n.cython.score-11 {background-color: #FFFF79;}\n.cython.score-12 {background-color: #FFFF73;}\n.cython.score-13 {background-color: #FFFF6e;}\n.cython.score-14 {background-color: #FFFF6a;}\n.cython.score-15 {background-color: #FFFF66;}\n.cython.score-16 {background-color: #FFFF62;}\n.cython.score-17 {background-color: #FFFF5e;}\n.cython.score-18 {background-color: #FFFF5b;}\n.cython.score-19 {background-color: #FFFF57;}\n.cython.score-20 {background-color: #FFFF55;}\n.cython.score-21 {background-color: #FFFF52;}\n.cython.score-22 {background-color: #FFFF4f;}\n.cython.score-23 {background-color: #FFFF4d;}\n.cython.score-24 {background-color: #FFFF4b;}\n.cython.score-25 {background-color: #FFFF48;}\n.cython.score-26 {background-color: #FFFF46;}\n.cython.score-27 {background-color: #FFFF44;}\n.cython.score-28 {background-color: #FFFF43;}\n.cython.score-29 {background-color: #FFFF41;}\n.cython.score-30 {background-color: #FFFF3f;}\n.cython.score-31 {background-color: #FFFF3e;}\n.cython.score-32 {background-color: #FFFF3c;}\n.cython.score-33 {background-color: #FFFF3b;}\n.cython.score-34 {background-color: #FFFF39;}\n.cython.score-35 {background-color: #FFFF38;}\n.cython.score-36 {background-color: #FFFF37;}\n.cython.score-37 {background-color: #FFFF36;}\n.cython.score-38 {background-color: #FFFF35;}\n.cython.score-39 {background-color: #FFFF34;}\n.cython.score-40 {background-color: #FFFF33;}\n.cython.score-41 {background-color: #FFFF32;}\n.cython.score-42 {background-color: #FFFF31;}\n.cython.score-43 {background-color: #FFFF30;}\n.cython.score-44 {background-color: #FFFF2f;}\n.cython.score-45 {background-color: #FFFF2e;}\n.cython.score-46 {background-color: #FFFF2d;}\n.cython.score-47 {background-color: #FFFF2c;}\n.cython.score-48 {background-color: #FFFF2b;}\n.cython.score-49 {background-color: #FFFF2b;}\n.cython.score-50 {background-color: #FFFF2a;}\n.cython.score-51 {background-color: #FFFF29;}\n.cython.score-52 {background-color: #FFFF29;}\n.cython.score-53 {background-color: #FFFF28;}\n.cython.score-54 {background-color: #FFFF27;}\n.cython.score-55 {background-color: #FFFF27;}\n.cython.score-56 {background-color: #FFFF26;}\n.cython.score-57 {background-color: #FFFF26;}\n.cython.score-58 {background-color: #FFFF25;}\n.cython.score-59 {background-color: #FFFF24;}\n.cython.score-60 {background-color: #FFFF24;}\n.cython.score-61 {background-color: #FFFF23;}\n.cython.score-62 {background-color: #FFFF23;}\n.cython.score-63 {background-color: #FFFF22;}\n.cython.score-64 {background-color: #FFFF22;}\n.cython.score-65 {background-color: #FFFF22;}\n.cython.score-66 {background-color: #FFFF21;}\n.cython.score-67 {background-color: #FFFF21;}\n.cython.score-68 {background-color: #FFFF20;}\n.cython.score-69 {background-color: #FFFF20;}\n.cython.score-70 {background-color: #FFFF1f;}\n.cython.score-71 {background-color: #FFFF1f;}\n.cython.score-72 {background-color: #FFFF1f;}\n.cython.score-73 {background-color: #FFFF1e;}\n.cython.score-74 {background-color: #FFFF1e;}\n.cython.score-75 {background-color: #FFFF1e;}\n.cython.score-76 {background-color: #FFFF1d;}\n.cython.score-77 {background-color: #FFFF1d;}\n.cython.score-78 {background-color: #FFFF1c;}\n.cython.score-79 {background-color: #FFFF1c;}\n.cython.score-80 {background-color: #FFFF1c;}\n.cython.score-81 {background-color: #FFFF1c;}\n.cython.score-82 {background-color: #FFFF1b;}\n.cython.score-83 {background-color: #FFFF1b;}\n.cython.score-84 {background-color: #FFFF1b;}\n.cython.score-85 {background-color: #FFFF1a;}\n.cython.score-86 {background-color: #FFFF1a;}\n.cython.score-87 {background-color: #FFFF1a;}\n.cython.score-88 {background-color: #FFFF1a;}\n.cython.score-89 {background-color: #FFFF19;}\n.cython.score-90 {background-color: #FFFF19;}\n.cython.score-91 {background-color: #FFFF19;}\n.cython.score-92 {background-color: #FFFF19;}\n.cython.score-93 {background-color: #FFFF18;}\n.cython.score-94 {background-color: #FFFF18;}\n.cython.score-95 {background-color: #FFFF18;}\n.cython.score-96 {background-color: #FFFF18;}\n.cython.score-97 {background-color: #FFFF17;}\n.cython.score-98 {background-color: #FFFF17;}\n.cython.score-99 {background-color: #FFFF17;}\n.cython.score-100 {background-color: #FFFF17;}\n.cython.score-101 {background-color: #FFFF16;}\n.cython.score-102 {background-color: #FFFF16;}\n.cython.score-103 {background-color: #FFFF16;}\n.cython.score-104 {background-color: #FFFF16;}\n.cython.score-105 {background-color: #FFFF16;}\n.cython.score-106 {background-color: #FFFF15;}\n.cython.score-107 {background-color: #FFFF15;}\n.cython.score-108 {background-color: #FFFF15;}\n.cython.score-109 {background-color: #FFFF15;}\n.cython.score-110 {background-color: #FFFF15;}\n.cython.score-111 {background-color: #FFFF15;}\n.cython.score-112 {background-color: #FFFF14;}\n.cython.score-113 {background-color: #FFFF14;}\n.cython.score-114 {background-color: #FFFF14;}\n.cython.score-115 {background-color: #FFFF14;}\n.cython.score-116 {background-color: #FFFF14;}\n.cython.score-117 {background-color: #FFFF14;}\n.cython.score-118 {background-color: #FFFF13;}\n.cython.score-119 {background-color: #FFFF13;}\n.cython.score-120 {background-color: #FFFF13;}\n.cython.score-121 {background-color: #FFFF13;}\n.cython.score-122 {background-color: #FFFF13;}\n.cython.score-123 {background-color: #FFFF13;}\n.cython.score-124 {background-color: #FFFF13;}\n.cython.score-125 {background-color: #FFFF12;}\n.cython.score-126 {background-color: #FFFF12;}\n.cython.score-127 {background-color: #FFFF12;}\n.cython.score-128 {background-color: #FFFF12;}\n.cython.score-129 {background-color: #FFFF12;}\n.cython.score-130 {background-color: #FFFF12;}\n.cython.score-131 {background-color: #FFFF12;}\n.cython.score-132 {background-color: #FFFF11;}\n.cython.score-133 {background-color: #FFFF11;}\n.cython.score-134 {background-color: #FFFF11;}\n.cython.score-135 {background-color: #FFFF11;}\n.cython.score-136 {background-color: #FFFF11;}\n.cython.score-137 {background-color: #FFFF11;}\n.cython.score-138 {background-color: #FFFF11;}\n.cython.score-139 {background-color: #FFFF11;}\n.cython.score-140 {background-color: #FFFF11;}\n.cython.score-141 {background-color: #FFFF10;}\n.cython.score-142 {background-color: #FFFF10;}\n.cython.score-143 {background-color: #FFFF10;}\n.cython.score-144 {background-color: #FFFF10;}\n.cython.score-145 {background-color: #FFFF10;}\n.cython.score-146 {background-color: #FFFF10;}\n.cython.score-147 {background-color: #FFFF10;}\n.cython.score-148 {background-color: #FFFF10;}\n.cython.score-149 {background-color: #FFFF10;}\n.cython.score-150 {background-color: #FFFF0f;}\n.cython.score-151 {background-color: #FFFF0f;}\n.cython.score-152 {background-color: #FFFF0f;}\n.cython.score-153 {background-color: #FFFF0f;}\n.cython.score-154 {background-color: #FFFF0f;}\n.cython.score-155 {background-color: #FFFF0f;}\n.cython.score-156 {background-color: #FFFF0f;}\n.cython.score-157 {background-color: #FFFF0f;}\n.cython.score-158 {background-color: #FFFF0f;}\n.cython.score-159 {background-color: #FFFF0f;}\n.cython.score-160 {background-color: #FFFF0f;}\n.cython.score-161 {background-color: #FFFF0e;}\n.cython.score-162 {background-color: #FFFF0e;}\n.cython.score-163 {background-color: #FFFF0e;}\n.cython.score-164 {background-color: #FFFF0e;}\n.cython.score-165 {background-color: #FFFF0e;}\n.cython.score-166 {background-color: #FFFF0e;}\n.cython.score-167 {background-color: #FFFF0e;}\n.cython.score-168 {background-color: #FFFF0e;}\n.cython.score-169 {background-color: #FFFF0e;}\n.cython.score-170 {background-color: #FFFF0e;}\n.cython.score-171 {background-color: #FFFF0e;}\n.cython.score-172 {background-color: #FFFF0e;}\n.cython.score-173 {background-color: #FFFF0d;}\n.cython.score-174 {background-color: #FFFF0d;}\n.cython.score-175 {background-color: #FFFF0d;}\n.cython.score-176 {background-color: #FFFF0d;}\n.cython.score-177 {background-color: #FFFF0d;}\n.cython.score-178 {background-color: #FFFF0d;}\n.cython.score-179 {background-color: #FFFF0d;}\n.cython.score-180 {background-color: #FFFF0d;}\n.cython.score-181 {background-color: #FFFF0d;}\n.cython.score-182 {background-color: #FFFF0d;}\n.cython.score-183 {background-color: #FFFF0d;}\n.cython.score-184 {background-color: #FFFF0d;}\n.cython.score-185 {background-color: #FFFF0d;}\n.cython.score-186 {background-color: #FFFF0d;}\n.cython.score-187 {background-color: #FFFF0c;}\n.cython.score-188 {background-color: #FFFF0c;}\n.cython.score-189 {background-color: #FFFF0c;}\n.cython.score-190 {background-color: #FFFF0c;}\n.cython.score-191 {background-color: #FFFF0c;}\n.cython.score-192 {background-color: #FFFF0c;}\n.cython.score-193 {background-color: #FFFF0c;}\n.cython.score-194 {background-color: #FFFF0c;}\n.cython.score-195 {background-color: #FFFF0c;}\n.cython.score-196 {background-color: #FFFF0c;}\n.cython.score-197 {background-color: #FFFF0c;}\n.cython.score-198 {background-color: #FFFF0c;}\n.cython.score-199 {background-color: #FFFF0c;}\n.cython.score-200 {background-color: #FFFF0c;}\n.cython.score-201 {background-color: #FFFF0c;}\n.cython.score-202 {background-color: #FFFF0c;}\n.cython.score-203 {background-color: #FFFF0b;}\n.cython.score-204 {background-color: #FFFF0b;}\n.cython.score-205 {background-color: #FFFF0b;}\n.cython.score-206 {background-color: #FFFF0b;}\n.cython.score-207 {background-color: #FFFF0b;}\n.cython.score-208 {background-color: #FFFF0b;}\n.cython.score-209 {background-color: #FFFF0b;}\n.cython.score-210 {background-color: #FFFF0b;}\n.cython.score-211 {background-color: #FFFF0b;}\n.cython.score-212 {background-color: #FFFF0b;}\n.cython.score-213 {background-color: #FFFF0b;}\n.cython.score-214 {background-color: #FFFF0b;}\n.cython.score-215 {background-color: #FFFF0b;}\n.cython.score-216 {background-color: #FFFF0b;}\n.cython.score-217 {background-color: #FFFF0b;}\n.cython.score-218 {background-color: #FFFF0b;}\n.cython.score-219 {background-color: #FFFF0b;}\n.cython.score-220 {background-color: #FFFF0b;}\n.cython.score-221 {background-color: #FFFF0b;}\n.cython.score-222 {background-color: #FFFF0a;}\n.cython.score-223 {background-color: #FFFF0a;}\n.cython.score-224 {background-color: #FFFF0a;}\n.cython.score-225 {background-color: #FFFF0a;}\n.cython.score-226 {background-color: #FFFF0a;}\n.cython.score-227 {background-color: #FFFF0a;}\n.cython.score-228 {background-color: #FFFF0a;}\n.cython.score-229 {background-color: #FFFF0a;}\n.cython.score-230 {background-color: #FFFF0a;}\n.cython.score-231 {background-color: #FFFF0a;}\n.cython.score-232 {background-color: #FFFF0a;}\n.cython.score-233 {background-color: #FFFF0a;}\n.cython.score-234 {background-color: #FFFF0a;}\n.cython.score-235 {background-color: #FFFF0a;}\n.cython.score-236 {background-color: #FFFF0a;}\n.cython.score-237 {background-color: #FFFF0a;}\n.cython.score-238 {background-color: #FFFF0a;}\n.cython.score-239 {background-color: #FFFF0a;}\n.cython.score-240 {background-color: #FFFF0a;}\n.cython.score-241 {background-color: #FFFF0a;}\n.cython.score-242 {background-color: #FFFF0a;}\n.cython.score-243 {background-color: #FFFF0a;}\n.cython.score-244 {background-color: #FFFF0a;}\n.cython.score-245 {background-color: #FFFF0a;}\n.cython.score-246 {background-color: #FFFF09;}\n.cython.score-247 {background-color: #FFFF09;}\n.cython.score-248 {background-color: #FFFF09;}\n.cython.score-249 {background-color: #FFFF09;}\n.cython.score-250 {background-color: #FFFF09;}\n.cython.score-251 {background-color: #FFFF09;}\n.cython.score-252 {background-color: #FFFF09;}\n.cython.score-253 {background-color: #FFFF09;}\n.cython.score-254 {background-color: #FFFF09;}\n.cython .hll { background-color: #ffffcc }\n.cython  { background: #f8f8f8; }\n.cython .c { color: #408080; font-style: italic } /* Comment */\n.cython .err { border: 1px solid #FF0000 } /* Error */\n.cython .k { color: #008000; font-weight: bold } /* Keyword */\n.cython .o { color: #666666 } /* Operator */\n.cython .ch { color: #408080; font-style: italic } /* Comment.Hashbang */\n.cython .cm { color: #408080; font-style: italic } /* Comment.Multiline */\n.cython .cp { color: #BC7A00 } /* Comment.Preproc */\n.cython .cpf { color: #408080; font-style: italic } /* Comment.PreprocFile */\n.cython .c1 { color: #408080; font-style: italic } /* Comment.Single */\n.cython .cs { color: #408080; font-style: italic } /* Comment.Special */\n.cython .gd { color: #A00000 } /* Generic.Deleted */\n.cython .ge { font-style: italic } /* Generic.Emph */\n.cython .gr { color: #FF0000 } /* Generic.Error */\n.cython .gh { color: #000080; font-weight: bold } /* Generic.Heading */\n.cython .gi { color: #00A000 } /* Generic.Inserted */\n.cython .go { color: #888888 } /* Generic.Output */\n.cython .gp { color: #000080; font-weight: bold } /* Generic.Prompt */\n.cython .gs { font-weight: bold } /* Generic.Strong */\n.cython .gu { color: #800080; font-weight: bold } /* Generic.Subheading */\n.cython .gt { color: #0044DD } /* Generic.Traceback */\n.cython .kc { color: #008000; font-weight: bold } /* Keyword.Constant */\n.cython .kd { color: #008000; font-weight: bold } /* Keyword.Declaration */\n.cython .kn { color: #008000; font-weight: bold } /* Keyword.Namespace */\n.cython .kp { color: #008000 } /* Keyword.Pseudo */\n.cython .kr { color: #008000; font-weight: bold } /* Keyword.Reserved */\n.cython .kt { color: #B00040 } /* Keyword.Type */\n.cython .m { color: #666666 } /* Literal.Number */\n.cython .s { color: #BA2121 } /* Literal.String */\n.cython .na { color: #7D9029 } /* Name.Attribute */\n.cython .nb { color: #008000 } /* Name.Builtin */\n.cython .nc { color: #0000FF; font-weight: bold } /* Name.Class */\n.cython .no { color: #880000 } /* Name.Constant */\n.cython .nd { color: #AA22FF } /* Name.Decorator */\n.cython .ni { color: #999999; font-weight: bold } /* Name.Entity */\n.cython .ne { color: #D2413A; font-weight: bold } /* Name.Exception */\n.cython .nf { color: #0000FF } /* Name.Function */\n.cython .nl { color: #A0A000 } /* Name.Label */\n.cython .nn { color: #0000FF; font-weight: bold } /* Name.Namespace */\n.cython .nt { color: #008000; font-weight: bold } /* Name.Tag */\n.cython .nv { color: #19177C } /* Name.Variable */\n.cython .ow { color: #AA22FF; font-weight: bold } /* Operator.Word */\n.cython .w { color: #bbbbbb } /* Text.Whitespace */\n.cython .mb { color: #666666 } /* Literal.Number.Bin */\n.cython .mf { color: #666666 } /* Literal.Number.Float */\n.cython .mh { color: #666666 } /* Literal.Number.Hex */\n.cython .mi { color: #666666 } /* Literal.Number.Integer */\n.cython .mo { color: #666666 } /* Literal.Number.Oct */\n.cython .sa { color: #BA2121 } /* Literal.String.Affix */\n.cython .sb { color: #BA2121 } /* Literal.String.Backtick */\n.cython .sc { color: #BA2121 } /* Literal.String.Char */\n.cython .dl { color: #BA2121 } /* Literal.String.Delimiter */\n.cython .sd { color: #BA2121; font-style: italic } /* Literal.String.Doc */\n.cython .s2 { color: #BA2121 } /* Literal.String.Double */\n.cython .se { color: #BB6622; font-weight: bold } /* Literal.String.Escape */\n.cython .sh { color: #BA2121 } /* Literal.String.Heredoc */\n.cython .si { color: #BB6688; font-weight: bold } /* Literal.String.Interpol */\n.cython .sx { color: #008000 } /* Literal.String.Other */\n.cython .sr { color: #BB6688 } /* Literal.String.Regex */\n.cython .s1 { color: #BA2121 } /* Literal.String.Single */\n.cython .ss { color: #19177C } /* Literal.String.Symbol */\n.cython .bp { color: #008000 } /* Name.Builtin.Pseudo */\n.cython .fm { color: #0000FF } /* Name.Function.Magic */\n.cython .vc { color: #19177C } /* Name.Variable.Class */\n.cython .vg { color: #19177C } /* Name.Variable.Global */\n.cython .vi { color: #19177C } /* Name.Variable.Instance */\n.cython .vm { color: #19177C } /* Name.Variable.Magic */\n.cython .il { color: #666666 } /* Literal.Number.Integer.Long */\n    </style>\n</head>\n<body class=\"cython\">\n<p><span style=\"border-bottom: solid 1px grey;\">Generated by Cython 0.29.21</span></p>\n<p>\n    <span style=\"background-color: #FFFF00\">Yellow lines</span> hint at Python interaction.<br />\n    Click on a line that starts with a \"<code>+</code>\" to see the C code that Cython generated for it.\n</p>\n<div class=\"cython\"><pre class=\"cython line score-8\" onclick=\"(function(s){s.display=s.display==='block'?'none':'block'})(this.nextElementSibling.style)\">+<span class=\"\">1</span>: <span class=\"k\">import</span> <span class=\"nn\">random</span></pre>\n<pre class='cython code score-8 '>  __pyx_t_1 = <span class='pyx_c_api'>__Pyx_Import</span>(__pyx_n_s_random, 0, 0);<span class='error_goto'> if (unlikely(!__pyx_t_1)) __PYX_ERR(0, 1, __pyx_L1_error)</span>\n  <span class='refnanny'>__Pyx_GOTREF</span>(__pyx_t_1);\n  if (<span class='py_c_api'>PyDict_SetItem</span>(__pyx_d, __pyx_n_s_random, __pyx_t_1) &lt; 0) <span class='error_goto'>__PYX_ERR(0, 1, __pyx_L1_error)</span>\n  <span class='pyx_macro_api'>__Pyx_DECREF</span>(__pyx_t_1); __pyx_t_1 = 0;\n</pre><pre class=\"cython line score-25\" onclick=\"(function(s){s.display=s.display==='block'?'none':'block'})(this.nextElementSibling.style)\">+<span class=\"\">2</span>: <span class=\"k\">def</span> <span class=\"nf\">mcs_pi_cy1</span><span class=\"p\">(</span><span class=\"nb\">int</span> <span class=\"n\">n</span><span class=\"p\">):</span></pre>\n<pre class='cython code score-25 '>/* Python wrapper */\nstatic PyObject *__pyx_pw_46_cython_magic_1ba3abbaae6d6d9ff77de52c9970b347_1mcs_pi_cy1(PyObject *__pyx_self, PyObject *__pyx_arg_n); /*proto*/\nstatic PyMethodDef __pyx_mdef_46_cython_magic_1ba3abbaae6d6d9ff77de52c9970b347_1mcs_pi_cy1 = {\"mcs_pi_cy1\", (PyCFunction)__pyx_pw_46_cython_magic_1ba3abbaae6d6d9ff77de52c9970b347_1mcs_pi_cy1, METH_O, 0};\nstatic PyObject *__pyx_pw_46_cython_magic_1ba3abbaae6d6d9ff77de52c9970b347_1mcs_pi_cy1(PyObject *__pyx_self, PyObject *__pyx_arg_n) {\n  int __pyx_v_n;\n  PyObject *__pyx_r = 0;\n  <span class='refnanny'>__Pyx_RefNannyDeclarations</span>\n  <span class='refnanny'>__Pyx_RefNannySetupContext</span>(\"mcs_pi_cy1 (wrapper)\", 0);\n  assert(__pyx_arg_n); {\n    __pyx_v_n = <span class='pyx_c_api'>__Pyx_PyInt_As_int</span>(__pyx_arg_n); if (unlikely((__pyx_v_n == (int)-1) &amp;&amp; <span class='py_c_api'>PyErr_Occurred</span>())) <span class='error_goto'>__PYX_ERR(0, 2, __pyx_L3_error)</span>\n  }\n  goto __pyx_L4_argument_unpacking_done;\n  __pyx_L3_error:;\n  <span class='pyx_c_api'>__Pyx_AddTraceback</span>(\"_cython_magic_1ba3abbaae6d6d9ff77de52c9970b347.mcs_pi_cy1\", __pyx_clineno, __pyx_lineno, __pyx_filename);\n  <span class='refnanny'>__Pyx_RefNannyFinishContext</span>();\n  return NULL;\n  __pyx_L4_argument_unpacking_done:;\n  __pyx_r = __pyx_pf_46_cython_magic_1ba3abbaae6d6d9ff77de52c9970b347_mcs_pi_cy1(__pyx_self, ((int)__pyx_v_n));\n  int __pyx_lineno = 0;\n  const char *__pyx_filename = NULL;\n  int __pyx_clineno = 0;\n\n  /* function exit code */\n  <span class='refnanny'>__Pyx_RefNannyFinishContext</span>();\n  return __pyx_r;\n}\n\nstatic PyObject *__pyx_pf_46_cython_magic_1ba3abbaae6d6d9ff77de52c9970b347_mcs_pi_cy1(CYTHON_UNUSED PyObject *__pyx_self, int __pyx_v_n) {\n  CYTHON_UNUSED int __pyx_v_i;\n  int __pyx_v_circle;\n  float __pyx_v_x;\n  float __pyx_v_y;\n  PyObject *__pyx_r = NULL;\n  <span class='refnanny'>__Pyx_RefNannyDeclarations</span>\n  <span class='refnanny'>__Pyx_RefNannySetupContext</span>(\"mcs_pi_cy1\", 0);\n/* … */\n  /* function exit code */\n  __pyx_L1_error:;\n  <span class='pyx_macro_api'>__Pyx_XDECREF</span>(__pyx_t_4);\n  <span class='pyx_macro_api'>__Pyx_XDECREF</span>(__pyx_t_5);\n  <span class='pyx_macro_api'>__Pyx_XDECREF</span>(__pyx_t_6);\n  <span class='pyx_c_api'>__Pyx_AddTraceback</span>(\"_cython_magic_1ba3abbaae6d6d9ff77de52c9970b347.mcs_pi_cy1\", __pyx_clineno, __pyx_lineno, __pyx_filename);\n  __pyx_r = NULL;\n  __pyx_L0:;\n  <span class='refnanny'>__Pyx_XGIVEREF</span>(__pyx_r);\n  <span class='refnanny'>__Pyx_RefNannyFinishContext</span>();\n  return __pyx_r;\n}\n/* … */\n  __pyx_tuple_ = <span class='py_c_api'>PyTuple_Pack</span>(6, __pyx_n_s_n, __pyx_n_s_n, __pyx_n_s_i, __pyx_n_s_circle, __pyx_n_s_x, __pyx_n_s_y);<span class='error_goto'> if (unlikely(!__pyx_tuple_)) __PYX_ERR(0, 2, __pyx_L1_error)</span>\n  <span class='refnanny'>__Pyx_GOTREF</span>(__pyx_tuple_);\n  <span class='refnanny'>__Pyx_GIVEREF</span>(__pyx_tuple_);\n/* … */\n  __pyx_t_1 = PyCFunction_NewEx(&amp;__pyx_mdef_46_cython_magic_1ba3abbaae6d6d9ff77de52c9970b347_1mcs_pi_cy1, NULL, __pyx_n_s_cython_magic_1ba3abbaae6d6d9ff7);<span class='error_goto'> if (unlikely(!__pyx_t_1)) __PYX_ERR(0, 2, __pyx_L1_error)</span>\n  <span class='refnanny'>__Pyx_GOTREF</span>(__pyx_t_1);\n  if (<span class='py_c_api'>PyDict_SetItem</span>(__pyx_d, __pyx_n_s_mcs_pi_cy1, __pyx_t_1) &lt; 0) <span class='error_goto'>__PYX_ERR(0, 2, __pyx_L1_error)</span>\n  <span class='pyx_macro_api'>__Pyx_DECREF</span>(__pyx_t_1); __pyx_t_1 = 0;\n</pre><pre class=\"cython line score-0\" onclick=\"(function(s){s.display=s.display==='block'?'none':'block'})(this.nextElementSibling.style)\">+<span class=\"\">3</span>:     <span class=\"k\">cdef</span> <span class=\"kt\">int</span> <span class=\"nf\">i</span><span class=\"p\">,</span> <span class=\"nf\">circle</span> <span class=\"o\">=</span> <span class=\"mf\">0</span></pre>\n<pre class='cython code score-0 '>  __pyx_v_circle = 0;\n</pre><pre class=\"cython line score-0\">&#xA0;<span class=\"\">4</span>:     <span class=\"k\">cdef</span> <span class=\"kt\">float</span> <span class=\"nf\">x</span><span class=\"p\">,</span> <span class=\"nf\">y</span></pre>\n<pre class=\"cython line score-0\" onclick=\"(function(s){s.display=s.display==='block'?'none':'block'})(this.nextElementSibling.style)\">+<span class=\"\">5</span>:     <span class=\"k\">for</span> <span class=\"n\">i</span> <span class=\"ow\">in</span> <span class=\"nb\">range</span><span class=\"p\">(</span><span class=\"n\">n</span><span class=\"p\">):</span></pre>\n<pre class='cython code score-0 '>  __pyx_t_1 = __pyx_v_n;\n  __pyx_t_2 = __pyx_t_1;\n  for (__pyx_t_3 = 0; __pyx_t_3 &lt; __pyx_t_2; __pyx_t_3+=1) {\n    __pyx_v_i = __pyx_t_3;\n</pre><pre class=\"cython line score-64\" onclick=\"(function(s){s.display=s.display==='block'?'none':'block'})(this.nextElementSibling.style)\">+<span class=\"\">6</span>:         <span class=\"n\">x</span><span class=\"p\">,</span> <span class=\"n\">y</span> <span class=\"o\">=</span> <span class=\"n\">random</span><span class=\"o\">.</span><span class=\"n\">random</span><span class=\"p\">(),</span> <span class=\"n\">random</span><span class=\"o\">.</span><span class=\"n\">random</span><span class=\"p\">()</span></pre>\n<pre class='cython code score-64 '>    <span class='pyx_c_api'>__Pyx_GetModuleGlobalName</span>(__pyx_t_5, __pyx_n_s_random);<span class='error_goto'> if (unlikely(!__pyx_t_5)) __PYX_ERR(0, 6, __pyx_L1_error)</span>\n    <span class='refnanny'>__Pyx_GOTREF</span>(__pyx_t_5);\n    __pyx_t_6 = <span class='pyx_c_api'>__Pyx_PyObject_GetAttrStr</span>(__pyx_t_5, __pyx_n_s_random);<span class='error_goto'> if (unlikely(!__pyx_t_6)) __PYX_ERR(0, 6, __pyx_L1_error)</span>\n    <span class='refnanny'>__Pyx_GOTREF</span>(__pyx_t_6);\n    <span class='pyx_macro_api'>__Pyx_DECREF</span>(__pyx_t_5); __pyx_t_5 = 0;\n    __pyx_t_5 = NULL;\n    if (CYTHON_UNPACK_METHODS &amp;&amp; unlikely(<span class='py_c_api'>PyMethod_Check</span>(__pyx_t_6))) {\n      __pyx_t_5 = <span class='py_macro_api'>PyMethod_GET_SELF</span>(__pyx_t_6);\n      if (likely(__pyx_t_5)) {\n        PyObject* function = <span class='py_macro_api'>PyMethod_GET_FUNCTION</span>(__pyx_t_6);\n        <span class='pyx_macro_api'>__Pyx_INCREF</span>(__pyx_t_5);\n        <span class='pyx_macro_api'>__Pyx_INCREF</span>(function);\n        <span class='pyx_macro_api'>__Pyx_DECREF_SET</span>(__pyx_t_6, function);\n      }\n    }\n    __pyx_t_4 = (__pyx_t_5) ? <span class='pyx_c_api'>__Pyx_PyObject_CallOneArg</span>(__pyx_t_6, __pyx_t_5) : <span class='pyx_c_api'>__Pyx_PyObject_CallNoArg</span>(__pyx_t_6);\n    <span class='pyx_macro_api'>__Pyx_XDECREF</span>(__pyx_t_5); __pyx_t_5 = 0;\n    if (unlikely(!__pyx_t_4)) <span class='error_goto'>__PYX_ERR(0, 6, __pyx_L1_error)</span>\n    <span class='refnanny'>__Pyx_GOTREF</span>(__pyx_t_4);\n    <span class='pyx_macro_api'>__Pyx_DECREF</span>(__pyx_t_6); __pyx_t_6 = 0;\n    __pyx_t_7 = __pyx_<span class='py_c_api'>PyFloat_AsFloat</span>(__pyx_t_4); if (unlikely((__pyx_t_7 == (float)-1) &amp;&amp; <span class='py_c_api'>PyErr_Occurred</span>())) <span class='error_goto'>__PYX_ERR(0, 6, __pyx_L1_error)</span>\n    <span class='pyx_macro_api'>__Pyx_DECREF</span>(__pyx_t_4); __pyx_t_4 = 0;\n    <span class='pyx_c_api'>__Pyx_GetModuleGlobalName</span>(__pyx_t_6, __pyx_n_s_random);<span class='error_goto'> if (unlikely(!__pyx_t_6)) __PYX_ERR(0, 6, __pyx_L1_error)</span>\n    <span class='refnanny'>__Pyx_GOTREF</span>(__pyx_t_6);\n    __pyx_t_5 = <span class='pyx_c_api'>__Pyx_PyObject_GetAttrStr</span>(__pyx_t_6, __pyx_n_s_random);<span class='error_goto'> if (unlikely(!__pyx_t_5)) __PYX_ERR(0, 6, __pyx_L1_error)</span>\n    <span class='refnanny'>__Pyx_GOTREF</span>(__pyx_t_5);\n    <span class='pyx_macro_api'>__Pyx_DECREF</span>(__pyx_t_6); __pyx_t_6 = 0;\n    __pyx_t_6 = NULL;\n    if (CYTHON_UNPACK_METHODS &amp;&amp; unlikely(<span class='py_c_api'>PyMethod_Check</span>(__pyx_t_5))) {\n      __pyx_t_6 = <span class='py_macro_api'>PyMethod_GET_SELF</span>(__pyx_t_5);\n      if (likely(__pyx_t_6)) {\n        PyObject* function = <span class='py_macro_api'>PyMethod_GET_FUNCTION</span>(__pyx_t_5);\n        <span class='pyx_macro_api'>__Pyx_INCREF</span>(__pyx_t_6);\n        <span class='pyx_macro_api'>__Pyx_INCREF</span>(function);\n        <span class='pyx_macro_api'>__Pyx_DECREF_SET</span>(__pyx_t_5, function);\n      }\n    }\n    __pyx_t_4 = (__pyx_t_6) ? <span class='pyx_c_api'>__Pyx_PyObject_CallOneArg</span>(__pyx_t_5, __pyx_t_6) : <span class='pyx_c_api'>__Pyx_PyObject_CallNoArg</span>(__pyx_t_5);\n    <span class='pyx_macro_api'>__Pyx_XDECREF</span>(__pyx_t_6); __pyx_t_6 = 0;\n    if (unlikely(!__pyx_t_4)) <span class='error_goto'>__PYX_ERR(0, 6, __pyx_L1_error)</span>\n    <span class='refnanny'>__Pyx_GOTREF</span>(__pyx_t_4);\n    <span class='pyx_macro_api'>__Pyx_DECREF</span>(__pyx_t_5); __pyx_t_5 = 0;\n    __pyx_t_8 = __pyx_<span class='py_c_api'>PyFloat_AsFloat</span>(__pyx_t_4); if (unlikely((__pyx_t_8 == (float)-1) &amp;&amp; <span class='py_c_api'>PyErr_Occurred</span>())) <span class='error_goto'>__PYX_ERR(0, 6, __pyx_L1_error)</span>\n    <span class='pyx_macro_api'>__Pyx_DECREF</span>(__pyx_t_4); __pyx_t_4 = 0;\n    __pyx_v_x = __pyx_t_7;\n    __pyx_v_y = __pyx_t_8;\n</pre><pre class=\"cython line score-0\" onclick=\"(function(s){s.display=s.display==='block'?'none':'block'})(this.nextElementSibling.style)\">+<span class=\"\">7</span>:         <span class=\"k\">if</span> <span class=\"p\">(</span><span class=\"n\">x</span> <span class=\"o\">**</span> <span class=\"mf\">2</span> <span class=\"o\">+</span> <span class=\"n\">y</span> <span class=\"o\">**</span> <span class=\"mf\">2</span><span class=\"p\">)</span> <span class=\"o\">**</span> <span class=\"mf\">0.5</span> <span class=\"o\">&lt;=</span> <span class=\"mf\">1</span><span class=\"p\">:</span></pre>\n<pre class='cython code score-0 '>    __pyx_t_9 = ((pow(((double)(powf(__pyx_v_x, 2.0) + powf(__pyx_v_y, 2.0))), 0.5) &lt;= 1.0) != 0);\n    if (__pyx_t_9) {\n/* … */\n    }\n  }\n</pre><pre class=\"cython line score-0\" onclick=\"(function(s){s.display=s.display==='block'?'none':'block'})(this.nextElementSibling.style)\">+<span class=\"\">8</span>:             <span class=\"n\">circle</span> <span class=\"o\">+=</span> <span class=\"mf\">1</span></pre>\n<pre class='cython code score-0 '>      __pyx_v_circle = (__pyx_v_circle + 1);\n</pre><pre class=\"cython line score-11\" onclick=\"(function(s){s.display=s.display==='block'?'none':'block'})(this.nextElementSibling.style)\">+<span class=\"\">9</span>:     <span class=\"k\">return</span> <span class=\"p\">(</span><span class=\"mf\">4</span> <span class=\"o\">*</span> <span class=\"n\">circle</span><span class=\"p\">)</span> <span class=\"o\">/</span> <span class=\"n\">n</span></pre>\n<pre class='cython code score-11 '>  <span class='pyx_macro_api'>__Pyx_XDECREF</span>(__pyx_r);\n  __pyx_t_10 = (4 * __pyx_v_circle);\n  if (unlikely(__pyx_v_n == 0)) {\n    <span class='py_c_api'>PyErr_SetString</span>(PyExc_ZeroDivisionError, \"float division\");\n    <span class='error_goto'>__PYX_ERR(0, 9, __pyx_L1_error)</span>\n  }\n  __pyx_t_4 = <span class='py_c_api'>PyFloat_FromDouble</span>((((double)__pyx_t_10) / ((double)__pyx_v_n)));<span class='error_goto'> if (unlikely(!__pyx_t_4)) __PYX_ERR(0, 9, __pyx_L1_error)</span>\n  <span class='refnanny'>__Pyx_GOTREF</span>(__pyx_t_4);\n  __pyx_r = __pyx_t_4;\n  __pyx_t_4 = 0;\n  goto __pyx_L0;\n</pre></div></body></html>"
     },
     "metadata": {},
     "execution_count": 109
    }
   ],
   "source": [
    "%%cython -a\n",
    "import random\n",
    "def mcs_pi_cy1(int n):\n",
    "    cdef int i, circle = 0\n",
    "    cdef float x, y\n",
    "    for i in range(n):\n",
    "        x, y = random.random(), random.random()\n",
    "        if (x ** 2 + y ** 2) ** 0.5 <= 1:\n",
    "            circle += 1\n",
    "    return (4 * circle) / n"
   ]
  },
  {
   "cell_type": "code",
   "execution_count": 110,
   "metadata": {
    "tags": []
   },
   "outputs": [
    {
     "output_type": "stream",
     "name": "stdout",
     "text": "Wall time: 1.43 s\n"
    },
    {
     "output_type": "execute_result",
     "data": {
      "text/plain": "3.140782"
     },
     "metadata": {},
     "execution_count": 110
    }
   ],
   "source": [
    "%time mcs_pi_cy1(n)"
   ]
  },
  {
   "cell_type": "code",
   "execution_count": 111,
   "metadata": {},
   "outputs": [
    {
     "output_type": "execute_result",
     "data": {
      "text/plain": "<IPython.core.display.HTML object>",
      "text/html": "<!DOCTYPE html>\n<!-- Generated by Cython 0.29.21 -->\n<html>\n<head>\n    <meta http-equiv=\"Content-Type\" content=\"text/html; charset=utf-8\" />\n    <title>Cython: _cython_magic_c9e34325ef19356db43f1fce39d69ecd.pyx</title>\n    <style type=\"text/css\">\n    \nbody.cython { font-family: courier; font-size: 12; }\n\n.cython.tag  {  }\n.cython.line { margin: 0em }\n.cython.code { font-size: 9; color: #444444; display: none; margin: 0px 0px 0px 8px; border-left: 8px none; }\n\n.cython.line .run { background-color: #B0FFB0; }\n.cython.line .mis { background-color: #FFB0B0; }\n.cython.code.run  { border-left: 8px solid #B0FFB0; }\n.cython.code.mis  { border-left: 8px solid #FFB0B0; }\n\n.cython.code .py_c_api  { color: red; }\n.cython.code .py_macro_api  { color: #FF7000; }\n.cython.code .pyx_c_api  { color: #FF3000; }\n.cython.code .pyx_macro_api  { color: #FF7000; }\n.cython.code .refnanny  { color: #FFA000; }\n.cython.code .trace  { color: #FFA000; }\n.cython.code .error_goto  { color: #FFA000; }\n\n.cython.code .coerce  { color: #008000; border: 1px dotted #008000 }\n.cython.code .py_attr { color: #FF0000; font-weight: bold; }\n.cython.code .c_attr  { color: #0000FF; }\n.cython.code .py_call { color: #FF0000; font-weight: bold; }\n.cython.code .c_call  { color: #0000FF; }\n\n.cython.score-0 {background-color: #FFFFff;}\n.cython.score-1 {background-color: #FFFFe7;}\n.cython.score-2 {background-color: #FFFFd4;}\n.cython.score-3 {background-color: #FFFFc4;}\n.cython.score-4 {background-color: #FFFFb6;}\n.cython.score-5 {background-color: #FFFFaa;}\n.cython.score-6 {background-color: #FFFF9f;}\n.cython.score-7 {background-color: #FFFF96;}\n.cython.score-8 {background-color: #FFFF8d;}\n.cython.score-9 {background-color: #FFFF86;}\n.cython.score-10 {background-color: #FFFF7f;}\n.cython.score-11 {background-color: #FFFF79;}\n.cython.score-12 {background-color: #FFFF73;}\n.cython.score-13 {background-color: #FFFF6e;}\n.cython.score-14 {background-color: #FFFF6a;}\n.cython.score-15 {background-color: #FFFF66;}\n.cython.score-16 {background-color: #FFFF62;}\n.cython.score-17 {background-color: #FFFF5e;}\n.cython.score-18 {background-color: #FFFF5b;}\n.cython.score-19 {background-color: #FFFF57;}\n.cython.score-20 {background-color: #FFFF55;}\n.cython.score-21 {background-color: #FFFF52;}\n.cython.score-22 {background-color: #FFFF4f;}\n.cython.score-23 {background-color: #FFFF4d;}\n.cython.score-24 {background-color: #FFFF4b;}\n.cython.score-25 {background-color: #FFFF48;}\n.cython.score-26 {background-color: #FFFF46;}\n.cython.score-27 {background-color: #FFFF44;}\n.cython.score-28 {background-color: #FFFF43;}\n.cython.score-29 {background-color: #FFFF41;}\n.cython.score-30 {background-color: #FFFF3f;}\n.cython.score-31 {background-color: #FFFF3e;}\n.cython.score-32 {background-color: #FFFF3c;}\n.cython.score-33 {background-color: #FFFF3b;}\n.cython.score-34 {background-color: #FFFF39;}\n.cython.score-35 {background-color: #FFFF38;}\n.cython.score-36 {background-color: #FFFF37;}\n.cython.score-37 {background-color: #FFFF36;}\n.cython.score-38 {background-color: #FFFF35;}\n.cython.score-39 {background-color: #FFFF34;}\n.cython.score-40 {background-color: #FFFF33;}\n.cython.score-41 {background-color: #FFFF32;}\n.cython.score-42 {background-color: #FFFF31;}\n.cython.score-43 {background-color: #FFFF30;}\n.cython.score-44 {background-color: #FFFF2f;}\n.cython.score-45 {background-color: #FFFF2e;}\n.cython.score-46 {background-color: #FFFF2d;}\n.cython.score-47 {background-color: #FFFF2c;}\n.cython.score-48 {background-color: #FFFF2b;}\n.cython.score-49 {background-color: #FFFF2b;}\n.cython.score-50 {background-color: #FFFF2a;}\n.cython.score-51 {background-color: #FFFF29;}\n.cython.score-52 {background-color: #FFFF29;}\n.cython.score-53 {background-color: #FFFF28;}\n.cython.score-54 {background-color: #FFFF27;}\n.cython.score-55 {background-color: #FFFF27;}\n.cython.score-56 {background-color: #FFFF26;}\n.cython.score-57 {background-color: #FFFF26;}\n.cython.score-58 {background-color: #FFFF25;}\n.cython.score-59 {background-color: #FFFF24;}\n.cython.score-60 {background-color: #FFFF24;}\n.cython.score-61 {background-color: #FFFF23;}\n.cython.score-62 {background-color: #FFFF23;}\n.cython.score-63 {background-color: #FFFF22;}\n.cython.score-64 {background-color: #FFFF22;}\n.cython.score-65 {background-color: #FFFF22;}\n.cython.score-66 {background-color: #FFFF21;}\n.cython.score-67 {background-color: #FFFF21;}\n.cython.score-68 {background-color: #FFFF20;}\n.cython.score-69 {background-color: #FFFF20;}\n.cython.score-70 {background-color: #FFFF1f;}\n.cython.score-71 {background-color: #FFFF1f;}\n.cython.score-72 {background-color: #FFFF1f;}\n.cython.score-73 {background-color: #FFFF1e;}\n.cython.score-74 {background-color: #FFFF1e;}\n.cython.score-75 {background-color: #FFFF1e;}\n.cython.score-76 {background-color: #FFFF1d;}\n.cython.score-77 {background-color: #FFFF1d;}\n.cython.score-78 {background-color: #FFFF1c;}\n.cython.score-79 {background-color: #FFFF1c;}\n.cython.score-80 {background-color: #FFFF1c;}\n.cython.score-81 {background-color: #FFFF1c;}\n.cython.score-82 {background-color: #FFFF1b;}\n.cython.score-83 {background-color: #FFFF1b;}\n.cython.score-84 {background-color: #FFFF1b;}\n.cython.score-85 {background-color: #FFFF1a;}\n.cython.score-86 {background-color: #FFFF1a;}\n.cython.score-87 {background-color: #FFFF1a;}\n.cython.score-88 {background-color: #FFFF1a;}\n.cython.score-89 {background-color: #FFFF19;}\n.cython.score-90 {background-color: #FFFF19;}\n.cython.score-91 {background-color: #FFFF19;}\n.cython.score-92 {background-color: #FFFF19;}\n.cython.score-93 {background-color: #FFFF18;}\n.cython.score-94 {background-color: #FFFF18;}\n.cython.score-95 {background-color: #FFFF18;}\n.cython.score-96 {background-color: #FFFF18;}\n.cython.score-97 {background-color: #FFFF17;}\n.cython.score-98 {background-color: #FFFF17;}\n.cython.score-99 {background-color: #FFFF17;}\n.cython.score-100 {background-color: #FFFF17;}\n.cython.score-101 {background-color: #FFFF16;}\n.cython.score-102 {background-color: #FFFF16;}\n.cython.score-103 {background-color: #FFFF16;}\n.cython.score-104 {background-color: #FFFF16;}\n.cython.score-105 {background-color: #FFFF16;}\n.cython.score-106 {background-color: #FFFF15;}\n.cython.score-107 {background-color: #FFFF15;}\n.cython.score-108 {background-color: #FFFF15;}\n.cython.score-109 {background-color: #FFFF15;}\n.cython.score-110 {background-color: #FFFF15;}\n.cython.score-111 {background-color: #FFFF15;}\n.cython.score-112 {background-color: #FFFF14;}\n.cython.score-113 {background-color: #FFFF14;}\n.cython.score-114 {background-color: #FFFF14;}\n.cython.score-115 {background-color: #FFFF14;}\n.cython.score-116 {background-color: #FFFF14;}\n.cython.score-117 {background-color: #FFFF14;}\n.cython.score-118 {background-color: #FFFF13;}\n.cython.score-119 {background-color: #FFFF13;}\n.cython.score-120 {background-color: #FFFF13;}\n.cython.score-121 {background-color: #FFFF13;}\n.cython.score-122 {background-color: #FFFF13;}\n.cython.score-123 {background-color: #FFFF13;}\n.cython.score-124 {background-color: #FFFF13;}\n.cython.score-125 {background-color: #FFFF12;}\n.cython.score-126 {background-color: #FFFF12;}\n.cython.score-127 {background-color: #FFFF12;}\n.cython.score-128 {background-color: #FFFF12;}\n.cython.score-129 {background-color: #FFFF12;}\n.cython.score-130 {background-color: #FFFF12;}\n.cython.score-131 {background-color: #FFFF12;}\n.cython.score-132 {background-color: #FFFF11;}\n.cython.score-133 {background-color: #FFFF11;}\n.cython.score-134 {background-color: #FFFF11;}\n.cython.score-135 {background-color: #FFFF11;}\n.cython.score-136 {background-color: #FFFF11;}\n.cython.score-137 {background-color: #FFFF11;}\n.cython.score-138 {background-color: #FFFF11;}\n.cython.score-139 {background-color: #FFFF11;}\n.cython.score-140 {background-color: #FFFF11;}\n.cython.score-141 {background-color: #FFFF10;}\n.cython.score-142 {background-color: #FFFF10;}\n.cython.score-143 {background-color: #FFFF10;}\n.cython.score-144 {background-color: #FFFF10;}\n.cython.score-145 {background-color: #FFFF10;}\n.cython.score-146 {background-color: #FFFF10;}\n.cython.score-147 {background-color: #FFFF10;}\n.cython.score-148 {background-color: #FFFF10;}\n.cython.score-149 {background-color: #FFFF10;}\n.cython.score-150 {background-color: #FFFF0f;}\n.cython.score-151 {background-color: #FFFF0f;}\n.cython.score-152 {background-color: #FFFF0f;}\n.cython.score-153 {background-color: #FFFF0f;}\n.cython.score-154 {background-color: #FFFF0f;}\n.cython.score-155 {background-color: #FFFF0f;}\n.cython.score-156 {background-color: #FFFF0f;}\n.cython.score-157 {background-color: #FFFF0f;}\n.cython.score-158 {background-color: #FFFF0f;}\n.cython.score-159 {background-color: #FFFF0f;}\n.cython.score-160 {background-color: #FFFF0f;}\n.cython.score-161 {background-color: #FFFF0e;}\n.cython.score-162 {background-color: #FFFF0e;}\n.cython.score-163 {background-color: #FFFF0e;}\n.cython.score-164 {background-color: #FFFF0e;}\n.cython.score-165 {background-color: #FFFF0e;}\n.cython.score-166 {background-color: #FFFF0e;}\n.cython.score-167 {background-color: #FFFF0e;}\n.cython.score-168 {background-color: #FFFF0e;}\n.cython.score-169 {background-color: #FFFF0e;}\n.cython.score-170 {background-color: #FFFF0e;}\n.cython.score-171 {background-color: #FFFF0e;}\n.cython.score-172 {background-color: #FFFF0e;}\n.cython.score-173 {background-color: #FFFF0d;}\n.cython.score-174 {background-color: #FFFF0d;}\n.cython.score-175 {background-color: #FFFF0d;}\n.cython.score-176 {background-color: #FFFF0d;}\n.cython.score-177 {background-color: #FFFF0d;}\n.cython.score-178 {background-color: #FFFF0d;}\n.cython.score-179 {background-color: #FFFF0d;}\n.cython.score-180 {background-color: #FFFF0d;}\n.cython.score-181 {background-color: #FFFF0d;}\n.cython.score-182 {background-color: #FFFF0d;}\n.cython.score-183 {background-color: #FFFF0d;}\n.cython.score-184 {background-color: #FFFF0d;}\n.cython.score-185 {background-color: #FFFF0d;}\n.cython.score-186 {background-color: #FFFF0d;}\n.cython.score-187 {background-color: #FFFF0c;}\n.cython.score-188 {background-color: #FFFF0c;}\n.cython.score-189 {background-color: #FFFF0c;}\n.cython.score-190 {background-color: #FFFF0c;}\n.cython.score-191 {background-color: #FFFF0c;}\n.cython.score-192 {background-color: #FFFF0c;}\n.cython.score-193 {background-color: #FFFF0c;}\n.cython.score-194 {background-color: #FFFF0c;}\n.cython.score-195 {background-color: #FFFF0c;}\n.cython.score-196 {background-color: #FFFF0c;}\n.cython.score-197 {background-color: #FFFF0c;}\n.cython.score-198 {background-color: #FFFF0c;}\n.cython.score-199 {background-color: #FFFF0c;}\n.cython.score-200 {background-color: #FFFF0c;}\n.cython.score-201 {background-color: #FFFF0c;}\n.cython.score-202 {background-color: #FFFF0c;}\n.cython.score-203 {background-color: #FFFF0b;}\n.cython.score-204 {background-color: #FFFF0b;}\n.cython.score-205 {background-color: #FFFF0b;}\n.cython.score-206 {background-color: #FFFF0b;}\n.cython.score-207 {background-color: #FFFF0b;}\n.cython.score-208 {background-color: #FFFF0b;}\n.cython.score-209 {background-color: #FFFF0b;}\n.cython.score-210 {background-color: #FFFF0b;}\n.cython.score-211 {background-color: #FFFF0b;}\n.cython.score-212 {background-color: #FFFF0b;}\n.cython.score-213 {background-color: #FFFF0b;}\n.cython.score-214 {background-color: #FFFF0b;}\n.cython.score-215 {background-color: #FFFF0b;}\n.cython.score-216 {background-color: #FFFF0b;}\n.cython.score-217 {background-color: #FFFF0b;}\n.cython.score-218 {background-color: #FFFF0b;}\n.cython.score-219 {background-color: #FFFF0b;}\n.cython.score-220 {background-color: #FFFF0b;}\n.cython.score-221 {background-color: #FFFF0b;}\n.cython.score-222 {background-color: #FFFF0a;}\n.cython.score-223 {background-color: #FFFF0a;}\n.cython.score-224 {background-color: #FFFF0a;}\n.cython.score-225 {background-color: #FFFF0a;}\n.cython.score-226 {background-color: #FFFF0a;}\n.cython.score-227 {background-color: #FFFF0a;}\n.cython.score-228 {background-color: #FFFF0a;}\n.cython.score-229 {background-color: #FFFF0a;}\n.cython.score-230 {background-color: #FFFF0a;}\n.cython.score-231 {background-color: #FFFF0a;}\n.cython.score-232 {background-color: #FFFF0a;}\n.cython.score-233 {background-color: #FFFF0a;}\n.cython.score-234 {background-color: #FFFF0a;}\n.cython.score-235 {background-color: #FFFF0a;}\n.cython.score-236 {background-color: #FFFF0a;}\n.cython.score-237 {background-color: #FFFF0a;}\n.cython.score-238 {background-color: #FFFF0a;}\n.cython.score-239 {background-color: #FFFF0a;}\n.cython.score-240 {background-color: #FFFF0a;}\n.cython.score-241 {background-color: #FFFF0a;}\n.cython.score-242 {background-color: #FFFF0a;}\n.cython.score-243 {background-color: #FFFF0a;}\n.cython.score-244 {background-color: #FFFF0a;}\n.cython.score-245 {background-color: #FFFF0a;}\n.cython.score-246 {background-color: #FFFF09;}\n.cython.score-247 {background-color: #FFFF09;}\n.cython.score-248 {background-color: #FFFF09;}\n.cython.score-249 {background-color: #FFFF09;}\n.cython.score-250 {background-color: #FFFF09;}\n.cython.score-251 {background-color: #FFFF09;}\n.cython.score-252 {background-color: #FFFF09;}\n.cython.score-253 {background-color: #FFFF09;}\n.cython.score-254 {background-color: #FFFF09;}\n.cython .hll { background-color: #ffffcc }\n.cython  { background: #f8f8f8; }\n.cython .c { color: #408080; font-style: italic } /* Comment */\n.cython .err { border: 1px solid #FF0000 } /* Error */\n.cython .k { color: #008000; font-weight: bold } /* Keyword */\n.cython .o { color: #666666 } /* Operator */\n.cython .ch { color: #408080; font-style: italic } /* Comment.Hashbang */\n.cython .cm { color: #408080; font-style: italic } /* Comment.Multiline */\n.cython .cp { color: #BC7A00 } /* Comment.Preproc */\n.cython .cpf { color: #408080; font-style: italic } /* Comment.PreprocFile */\n.cython .c1 { color: #408080; font-style: italic } /* Comment.Single */\n.cython .cs { color: #408080; font-style: italic } /* Comment.Special */\n.cython .gd { color: #A00000 } /* Generic.Deleted */\n.cython .ge { font-style: italic } /* Generic.Emph */\n.cython .gr { color: #FF0000 } /* Generic.Error */\n.cython .gh { color: #000080; font-weight: bold } /* Generic.Heading */\n.cython .gi { color: #00A000 } /* Generic.Inserted */\n.cython .go { color: #888888 } /* Generic.Output */\n.cython .gp { color: #000080; font-weight: bold } /* Generic.Prompt */\n.cython .gs { font-weight: bold } /* Generic.Strong */\n.cython .gu { color: #800080; font-weight: bold } /* Generic.Subheading */\n.cython .gt { color: #0044DD } /* Generic.Traceback */\n.cython .kc { color: #008000; font-weight: bold } /* Keyword.Constant */\n.cython .kd { color: #008000; font-weight: bold } /* Keyword.Declaration */\n.cython .kn { color: #008000; font-weight: bold } /* Keyword.Namespace */\n.cython .kp { color: #008000 } /* Keyword.Pseudo */\n.cython .kr { color: #008000; font-weight: bold } /* Keyword.Reserved */\n.cython .kt { color: #B00040 } /* Keyword.Type */\n.cython .m { color: #666666 } /* Literal.Number */\n.cython .s { color: #BA2121 } /* Literal.String */\n.cython .na { color: #7D9029 } /* Name.Attribute */\n.cython .nb { color: #008000 } /* Name.Builtin */\n.cython .nc { color: #0000FF; font-weight: bold } /* Name.Class */\n.cython .no { color: #880000 } /* Name.Constant */\n.cython .nd { color: #AA22FF } /* Name.Decorator */\n.cython .ni { color: #999999; font-weight: bold } /* Name.Entity */\n.cython .ne { color: #D2413A; font-weight: bold } /* Name.Exception */\n.cython .nf { color: #0000FF } /* Name.Function */\n.cython .nl { color: #A0A000 } /* Name.Label */\n.cython .nn { color: #0000FF; font-weight: bold } /* Name.Namespace */\n.cython .nt { color: #008000; font-weight: bold } /* Name.Tag */\n.cython .nv { color: #19177C } /* Name.Variable */\n.cython .ow { color: #AA22FF; font-weight: bold } /* Operator.Word */\n.cython .w { color: #bbbbbb } /* Text.Whitespace */\n.cython .mb { color: #666666 } /* Literal.Number.Bin */\n.cython .mf { color: #666666 } /* Literal.Number.Float */\n.cython .mh { color: #666666 } /* Literal.Number.Hex */\n.cython .mi { color: #666666 } /* Literal.Number.Integer */\n.cython .mo { color: #666666 } /* Literal.Number.Oct */\n.cython .sa { color: #BA2121 } /* Literal.String.Affix */\n.cython .sb { color: #BA2121 } /* Literal.String.Backtick */\n.cython .sc { color: #BA2121 } /* Literal.String.Char */\n.cython .dl { color: #BA2121 } /* Literal.String.Delimiter */\n.cython .sd { color: #BA2121; font-style: italic } /* Literal.String.Doc */\n.cython .s2 { color: #BA2121 } /* Literal.String.Double */\n.cython .se { color: #BB6622; font-weight: bold } /* Literal.String.Escape */\n.cython .sh { color: #BA2121 } /* Literal.String.Heredoc */\n.cython .si { color: #BB6688; font-weight: bold } /* Literal.String.Interpol */\n.cython .sx { color: #008000 } /* Literal.String.Other */\n.cython .sr { color: #BB6688 } /* Literal.String.Regex */\n.cython .s1 { color: #BA2121 } /* Literal.String.Single */\n.cython .ss { color: #19177C } /* Literal.String.Symbol */\n.cython .bp { color: #008000 } /* Name.Builtin.Pseudo */\n.cython .fm { color: #0000FF } /* Name.Function.Magic */\n.cython .vc { color: #19177C } /* Name.Variable.Class */\n.cython .vg { color: #19177C } /* Name.Variable.Global */\n.cython .vi { color: #19177C } /* Name.Variable.Instance */\n.cython .vm { color: #19177C } /* Name.Variable.Magic */\n.cython .il { color: #666666 } /* Literal.Number.Integer.Long */\n    </style>\n</head>\n<body class=\"cython\">\n<p><span style=\"border-bottom: solid 1px grey;\">Generated by Cython 0.29.21</span></p>\n<p>\n    <span style=\"background-color: #FFFF00\">Yellow lines</span> hint at Python interaction.<br />\n    Click on a line that starts with a \"<code>+</code>\" to see the C code that Cython generated for it.\n</p>\n<div class=\"cython\"><pre class=\"cython line score-0\">&#xA0;<span class=\"\">01</span>: <span class=\"k\">from</span> <span class=\"nn\">libc.stdlib</span> <span class=\"k\">cimport</span> <span class=\"n\">rand</span></pre>\n<pre class=\"cython line score-0\">&#xA0;<span class=\"\">02</span>: <span class=\"k\">cdef</span> <span class=\"kr\">extern</span> <span class=\"k\">from</span> <span class=\"s\">&#39;limits.h&#39;</span><span class=\"p\">:</span></pre>\n<pre class=\"cython line score-0\">&#xA0;<span class=\"\">03</span>:     <span class=\"nb\">int</span> <span class=\"n\">INT_MAX</span></pre>\n<pre class=\"cython line score-23\" onclick=\"(function(s){s.display=s.display==='block'?'none':'block'})(this.nextElementSibling.style)\">+<span class=\"\">04</span>: <span class=\"k\">def</span> <span class=\"nf\">mcs_pi_cy2</span><span class=\"p\">(</span><span class=\"nb\">int</span> <span class=\"n\">n</span><span class=\"p\">):</span></pre>\n<pre class='cython code score-23 '>/* Python wrapper */\nstatic PyObject *__pyx_pw_46_cython_magic_c9e34325ef19356db43f1fce39d69ecd_1mcs_pi_cy2(PyObject *__pyx_self, PyObject *__pyx_arg_n); /*proto*/\nstatic PyMethodDef __pyx_mdef_46_cython_magic_c9e34325ef19356db43f1fce39d69ecd_1mcs_pi_cy2 = {\"mcs_pi_cy2\", (PyCFunction)__pyx_pw_46_cython_magic_c9e34325ef19356db43f1fce39d69ecd_1mcs_pi_cy2, METH_O, 0};\nstatic PyObject *__pyx_pw_46_cython_magic_c9e34325ef19356db43f1fce39d69ecd_1mcs_pi_cy2(PyObject *__pyx_self, PyObject *__pyx_arg_n) {\n  int __pyx_v_n;\n  PyObject *__pyx_r = 0;\n  <span class='refnanny'>__Pyx_RefNannyDeclarations</span>\n  <span class='refnanny'>__Pyx_RefNannySetupContext</span>(\"mcs_pi_cy2 (wrapper)\", 0);\n  assert(__pyx_arg_n); {\n    __pyx_v_n = <span class='pyx_c_api'>__Pyx_PyInt_As_int</span>(__pyx_arg_n); if (unlikely((__pyx_v_n == (int)-1) &amp;&amp; <span class='py_c_api'>PyErr_Occurred</span>())) <span class='error_goto'>__PYX_ERR(0, 4, __pyx_L3_error)</span>\n  }\n  goto __pyx_L4_argument_unpacking_done;\n  __pyx_L3_error:;\n  <span class='pyx_c_api'>__Pyx_AddTraceback</span>(\"_cython_magic_c9e34325ef19356db43f1fce39d69ecd.mcs_pi_cy2\", __pyx_clineno, __pyx_lineno, __pyx_filename);\n  <span class='refnanny'>__Pyx_RefNannyFinishContext</span>();\n  return NULL;\n  __pyx_L4_argument_unpacking_done:;\n  __pyx_r = __pyx_pf_46_cython_magic_c9e34325ef19356db43f1fce39d69ecd_mcs_pi_cy2(__pyx_self, ((int)__pyx_v_n));\n  int __pyx_lineno = 0;\n  const char *__pyx_filename = NULL;\n  int __pyx_clineno = 0;\n\n  /* function exit code */\n  <span class='refnanny'>__Pyx_RefNannyFinishContext</span>();\n  return __pyx_r;\n}\n\nstatic PyObject *__pyx_pf_46_cython_magic_c9e34325ef19356db43f1fce39d69ecd_mcs_pi_cy2(CYTHON_UNUSED PyObject *__pyx_self, int __pyx_v_n) {\n  CYTHON_UNUSED int __pyx_v_i;\n  int __pyx_v_circle;\n  float __pyx_v_x;\n  float __pyx_v_y;\n  PyObject *__pyx_r = NULL;\n  <span class='refnanny'>__Pyx_RefNannyDeclarations</span>\n  <span class='refnanny'>__Pyx_RefNannySetupContext</span>(\"mcs_pi_cy2\", 0);\n/* … */\n  /* function exit code */\n  __pyx_L1_error:;\n  <span class='pyx_macro_api'>__Pyx_XDECREF</span>(__pyx_t_9);\n  <span class='pyx_c_api'>__Pyx_AddTraceback</span>(\"_cython_magic_c9e34325ef19356db43f1fce39d69ecd.mcs_pi_cy2\", __pyx_clineno, __pyx_lineno, __pyx_filename);\n  __pyx_r = NULL;\n  __pyx_L0:;\n  <span class='refnanny'>__Pyx_XGIVEREF</span>(__pyx_r);\n  <span class='refnanny'>__Pyx_RefNannyFinishContext</span>();\n  return __pyx_r;\n}\n/* … */\n  __pyx_tuple_ = <span class='py_c_api'>PyTuple_Pack</span>(6, __pyx_n_s_n, __pyx_n_s_n, __pyx_n_s_i, __pyx_n_s_circle, __pyx_n_s_x, __pyx_n_s_y);<span class='error_goto'> if (unlikely(!__pyx_tuple_)) __PYX_ERR(0, 4, __pyx_L1_error)</span>\n  <span class='refnanny'>__Pyx_GOTREF</span>(__pyx_tuple_);\n  <span class='refnanny'>__Pyx_GIVEREF</span>(__pyx_tuple_);\n/* … */\n  __pyx_t_1 = PyCFunction_NewEx(&amp;__pyx_mdef_46_cython_magic_c9e34325ef19356db43f1fce39d69ecd_1mcs_pi_cy2, NULL, __pyx_n_s_cython_magic_c9e34325ef19356db4);<span class='error_goto'> if (unlikely(!__pyx_t_1)) __PYX_ERR(0, 4, __pyx_L1_error)</span>\n  <span class='refnanny'>__Pyx_GOTREF</span>(__pyx_t_1);\n  if (<span class='py_c_api'>PyDict_SetItem</span>(__pyx_d, __pyx_n_s_mcs_pi_cy2, __pyx_t_1) &lt; 0) <span class='error_goto'>__PYX_ERR(0, 4, __pyx_L1_error)</span>\n  <span class='pyx_macro_api'>__Pyx_DECREF</span>(__pyx_t_1); __pyx_t_1 = 0;\n</pre><pre class=\"cython line score-0\" onclick=\"(function(s){s.display=s.display==='block'?'none':'block'})(this.nextElementSibling.style)\">+<span class=\"\">05</span>:     <span class=\"k\">cdef</span> <span class=\"kt\">int</span> <span class=\"nf\">i</span><span class=\"p\">,</span> <span class=\"nf\">circle</span> <span class=\"o\">=</span> <span class=\"mf\">0</span></pre>\n<pre class='cython code score-0 '>  __pyx_v_circle = 0;\n</pre><pre class=\"cython line score-0\">&#xA0;<span class=\"\">06</span>:     <span class=\"k\">cdef</span> <span class=\"kt\">float</span> <span class=\"nf\">x</span><span class=\"p\">,</span> <span class=\"nf\">y</span></pre>\n<pre class=\"cython line score-0\" onclick=\"(function(s){s.display=s.display==='block'?'none':'block'})(this.nextElementSibling.style)\">+<span class=\"\">07</span>:     <span class=\"k\">for</span> <span class=\"n\">i</span> <span class=\"ow\">in</span> <span class=\"nb\">range</span><span class=\"p\">(</span><span class=\"n\">n</span><span class=\"p\">):</span></pre>\n<pre class='cython code score-0 '>  __pyx_t_1 = __pyx_v_n;\n  __pyx_t_2 = __pyx_t_1;\n  for (__pyx_t_3 = 0; __pyx_t_3 &lt; __pyx_t_2; __pyx_t_3+=1) {\n    __pyx_v_i = __pyx_t_3;\n</pre><pre class=\"cython line score-10\" onclick=\"(function(s){s.display=s.display==='block'?'none':'block'})(this.nextElementSibling.style)\">+<span class=\"\">08</span>:         <span class=\"n\">x</span><span class=\"p\">,</span> <span class=\"n\">y</span> <span class=\"o\">=</span> <span class=\"n\">rand</span><span class=\"p\">()</span> <span class=\"o\">/</span> <span class=\"n\">INT_MAX</span><span class=\"p\">,</span> <span class=\"n\">rand</span><span class=\"p\">()</span> <span class=\"o\">/</span> <span class=\"n\">INT_MAX</span></pre>\n<pre class='cython code score-10 '>    __pyx_t_4 = rand();\n    if (unlikely(INT_MAX == 0)) {\n      <span class='py_c_api'>PyErr_SetString</span>(PyExc_ZeroDivisionError, \"float division\");\n      <span class='error_goto'>__PYX_ERR(0, 8, __pyx_L1_error)</span>\n    }\n    __pyx_t_5 = (((double)__pyx_t_4) / ((double)INT_MAX));\n    __pyx_t_4 = rand();\n    if (unlikely(INT_MAX == 0)) {\n      <span class='py_c_api'>PyErr_SetString</span>(PyExc_ZeroDivisionError, \"float division\");\n      <span class='error_goto'>__PYX_ERR(0, 8, __pyx_L1_error)</span>\n    }\n    __pyx_t_6 = (((double)__pyx_t_4) / ((double)INT_MAX));\n    __pyx_v_x = __pyx_t_5;\n    __pyx_v_y = __pyx_t_6;\n</pre><pre class=\"cython line score-0\" onclick=\"(function(s){s.display=s.display==='block'?'none':'block'})(this.nextElementSibling.style)\">+<span class=\"\">09</span>:         <span class=\"k\">if</span> <span class=\"p\">(</span><span class=\"n\">x</span> <span class=\"o\">**</span> <span class=\"mf\">2</span> <span class=\"o\">+</span> <span class=\"n\">y</span> <span class=\"o\">**</span> <span class=\"mf\">2</span><span class=\"p\">)</span> <span class=\"o\">**</span> <span class=\"mf\">0.5</span> <span class=\"o\">&lt;=</span> <span class=\"mf\">1</span><span class=\"p\">:</span></pre>\n<pre class='cython code score-0 '>    __pyx_t_7 = ((pow(((double)(powf(__pyx_v_x, 2.0) + powf(__pyx_v_y, 2.0))), 0.5) &lt;= 1.0) != 0);\n    if (__pyx_t_7) {\n/* … */\n    }\n  }\n</pre><pre class=\"cython line score-0\" onclick=\"(function(s){s.display=s.display==='block'?'none':'block'})(this.nextElementSibling.style)\">+<span class=\"\">10</span>:             <span class=\"n\">circle</span> <span class=\"o\">+=</span> <span class=\"mf\">1</span></pre>\n<pre class='cython code score-0 '>      __pyx_v_circle = (__pyx_v_circle + 1);\n</pre><pre class=\"cython line score-11\" onclick=\"(function(s){s.display=s.display==='block'?'none':'block'})(this.nextElementSibling.style)\">+<span class=\"\">11</span>:     <span class=\"k\">return</span> <span class=\"p\">(</span><span class=\"mf\">4</span> <span class=\"o\">*</span> <span class=\"n\">circle</span><span class=\"p\">)</span> <span class=\"o\">/</span> <span class=\"n\">n</span></pre>\n<pre class='cython code score-11 '>  <span class='pyx_macro_api'>__Pyx_XDECREF</span>(__pyx_r);\n  __pyx_t_8 = (4 * __pyx_v_circle);\n  if (unlikely(__pyx_v_n == 0)) {\n    <span class='py_c_api'>PyErr_SetString</span>(PyExc_ZeroDivisionError, \"float division\");\n    <span class='error_goto'>__PYX_ERR(0, 11, __pyx_L1_error)</span>\n  }\n  __pyx_t_9 = <span class='py_c_api'>PyFloat_FromDouble</span>((((double)__pyx_t_8) / ((double)__pyx_v_n)));<span class='error_goto'> if (unlikely(!__pyx_t_9)) __PYX_ERR(0, 11, __pyx_L1_error)</span>\n  <span class='refnanny'>__Pyx_GOTREF</span>(__pyx_t_9);\n  __pyx_r = __pyx_t_9;\n  __pyx_t_9 = 0;\n  goto __pyx_L0;\n</pre></div></body></html>"
     },
     "metadata": {},
     "execution_count": 111
    }
   ],
   "source": [
    "%%cython -a\n",
    "from libc.stdlib cimport rand\n",
    "cdef extern from 'limits.h':\n",
    "    int INT_MAX\n",
    "def mcs_pi_cy2(int n):\n",
    "    cdef int i, circle = 0\n",
    "    cdef float x, y\n",
    "    for i in range(n):\n",
    "        x, y = rand() / INT_MAX, rand() / INT_MAX\n",
    "        if (x ** 2 + y ** 2) ** 0.5 <= 1:\n",
    "            circle += 1\n",
    "    return (4 * circle) / n"
   ]
  },
  {
   "cell_type": "code",
   "execution_count": 113,
   "metadata": {
    "tags": []
   },
   "outputs": [
    {
     "output_type": "stream",
     "name": "stdout",
     "text": "Wall time: 1.14 s\n"
    },
    {
     "output_type": "execute_result",
     "data": {
      "text/plain": "4.0"
     },
     "metadata": {},
     "execution_count": 113
    }
   ],
   "source": [
    "%time mcs_pi_cy2(n)"
   ]
  },
  {
   "cell_type": "markdown",
   "metadata": {},
   "source": [
    "## Binomial Trees\n",
    "\n",
    "二项式期权定价模型是一种流行的期权定价数值方法，是由Cox、Ross和Rubinstein率先提出的。这种方法以一棵（重组）树来表示某种资产可能的未来发展。这种模型的设置和Black-Scholes-Merton的设置一样，有风险资产（指数或者股票）以及无风险资产（债券）。"
   ]
  },
  {
   "cell_type": "markdown",
   "metadata": {},
   "source": [
    "### Python"
   ]
  },
  {
   "cell_type": "code",
   "execution_count": 114,
   "metadata": {},
   "outputs": [],
   "source": [
    "import math"
   ]
  },
  {
   "cell_type": "code",
   "execution_count": 116,
   "metadata": {},
   "outputs": [],
   "source": [
    "# 风险资产初始价值\n",
    "S0 = 36.  \n",
    "# 二叉树模拟的时间范围\n",
    "T = 1.0  \n",
    "# 恒定的短期利率\n",
    "r = 0.06  \n",
    "# 恒定的波动率因数\n",
    "sigma = 0.2  "
   ]
  },
  {
   "cell_type": "code",
   "execution_count": 117,
   "metadata": {},
   "outputs": [],
   "source": [
    "def simulate_tree(M):\n",
    "    dt = T / M  # 时间间隔\n",
    "    u = math.exp(sigma * math.sqrt(dt))  # 向上和向下运动因数\n",
    "    d = 1 / u  \n",
    "    S = np.zeros((M + 1, M + 1))\n",
    "    S[0, 0] = S0\n",
    "    z = 1\n",
    "    for t in range(1, M + 1):\n",
    "        for i in range(z):\n",
    "            S[i, t] = S[i, t-1] * u\n",
    "            S[i+1, t] = S[i, t-1] * d\n",
    "        z += 1\n",
    "    return S"
   ]
  },
  {
   "cell_type": "code",
   "execution_count": 118,
   "metadata": {},
   "outputs": [],
   "source": [
    "np.set_printoptions(formatter={'float':\n",
    "                               lambda x: '%6.2f' % x})  "
   ]
  },
  {
   "cell_type": "code",
   "execution_count": 119,
   "metadata": {},
   "outputs": [
    {
     "output_type": "execute_result",
     "data": {
      "text/plain": "array([[ 36.00,  39.79,  43.97,  48.59,  53.71],\n       [  0.00,  32.57,  36.00,  39.79,  43.97],\n       [  0.00,   0.00,  29.47,  32.57,  36.00],\n       [  0.00,   0.00,   0.00,  26.67,  29.47],\n       [  0.00,   0.00,   0.00,   0.00,  24.13]])"
     },
     "metadata": {},
     "execution_count": 119
    }
   ],
   "source": [
    "# 与典型的树图不同，向上运动在ndarray对象中表现为侧向运动，这显著减小了ndarray的大小\n",
    "simulate_tree(4)  "
   ]
  },
  {
   "cell_type": "code",
   "execution_count": 120,
   "metadata": {
    "tags": []
   },
   "outputs": [
    {
     "output_type": "stream",
     "name": "stdout",
     "text": "Wall time: 114 ms\n"
    },
    {
     "output_type": "execute_result",
     "data": {
      "text/plain": "array([[ 36.00,  36.32,  36.65, ..., 3095.69, 3123.50, 3151.57],\n       [  0.00,  35.68,  36.00, ..., 3040.81, 3068.13, 3095.69],\n       [  0.00,   0.00,  35.36, ..., 2986.89, 3013.73, 3040.81],\n       ...,\n       [  0.00,   0.00,   0.00, ...,   0.42,   0.42,   0.43],\n       [  0.00,   0.00,   0.00, ...,   0.00,   0.41,   0.42],\n       [  0.00,   0.00,   0.00, ...,   0.00,   0.00,   0.41]])"
     },
     "metadata": {},
     "execution_count": 120
    }
   ],
   "source": [
    "%time simulate_tree(500)  "
   ]
  },
  {
   "cell_type": "markdown",
   "metadata": {},
   "source": [
    "### NumPy\n",
    "\n",
    "上述二叉树可用NumPy全向量化代码创建"
   ]
  },
  {
   "cell_type": "code",
   "execution_count": 121,
   "metadata": {},
   "outputs": [],
   "source": [
    "M = 4"
   ]
  },
  {
   "cell_type": "code",
   "execution_count": 122,
   "metadata": {},
   "outputs": [
    {
     "output_type": "execute_result",
     "data": {
      "text/plain": "array([[0, 1, 2, 3, 4],\n       [0, 1, 2, 3, 4],\n       [0, 1, 2, 3, 4],\n       [0, 1, 2, 3, 4],\n       [0, 1, 2, 3, 4]])"
     },
     "metadata": {},
     "execution_count": 122
    }
   ],
   "source": [
    "up = np.arange(M + 1)\n",
    "up = np.resize(up, (M + 1, M + 1))  \n",
    "up\n",
    "# 包含总向上运动的ndarray对象"
   ]
  },
  {
   "cell_type": "code",
   "execution_count": 125,
   "metadata": {},
   "outputs": [
    {
     "output_type": "execute_result",
     "data": {
      "text/plain": "array([[0, 0, 0, 0, 0],\n       [2, 2, 2, 2, 2],\n       [4, 4, 4, 4, 4],\n       [6, 6, 6, 6, 6],\n       [8, 8, 8, 8, 8]])"
     },
     "metadata": {},
     "execution_count": 125
    }
   ],
   "source": [
    "down = up.T * 2  \n",
    "down\n",
    "# 包含总向下运动的ndarray对象"
   ]
  },
  {
   "cell_type": "code",
   "execution_count": 126,
   "metadata": {},
   "outputs": [
    {
     "output_type": "execute_result",
     "data": {
      "text/plain": "array([[ 0,  1,  2,  3,  4],\n       [-2, -1,  0,  1,  2],\n       [-4, -3, -2, -1,  0],\n       [-6, -5, -4, -3, -2],\n       [-8, -7, -6, -5, -4]])"
     },
     "metadata": {},
     "execution_count": 126
    }
   ],
   "source": [
    "up - down \n",
    "# 包含净向上（正）和向下运动的ndarray对象 \n",
    "# 按照规律，由左往右是乘上e^u,由上往下是乘上e^2d = e^-2u。\n",
    "# 所以一开始直接做出次数矩阵进行计算即可"
   ]
  },
  {
   "cell_type": "markdown",
   "metadata": {},
   "source": []
  },
  {
   "cell_type": "code",
   "execution_count": 127,
   "metadata": {},
   "outputs": [],
   "source": [
    "dt = T / M"
   ]
  },
  {
   "cell_type": "code",
   "execution_count": 128,
   "metadata": {},
   "outputs": [
    {
     "output_type": "execute_result",
     "data": {
      "text/plain": "array([[ 36.00,  39.79,  43.97,  48.59,  53.71],\n       [ 29.47,  32.57,  36.00,  39.79,  43.97],\n       [ 24.13,  26.67,  29.47,  32.57,  36.00],\n       [ 19.76,  21.84,  24.13,  26.67,  29.47],\n       [ 16.18,  17.88,  19.76,  21.84,  24.13]])"
     },
     "metadata": {},
     "execution_count": 128
    }
   ],
   "source": [
    "S0 * np.exp(sigma * math.sqrt(dt) * (up - down)) \n",
    "# 4个时间间隔的树（值的右上方三角形） "
   ]
  },
  {
   "cell_type": "code",
   "execution_count": 129,
   "metadata": {},
   "outputs": [],
   "source": [
    "def simulate_tree_np(M):\n",
    "    dt = T / M\n",
    "    up = np.arange(M + 1)\n",
    "    up = np.resize(up, (M + 1, M + 1))\n",
    "    down = up.transpose() * 2\n",
    "    S = S0 * np.exp(sigma * math.sqrt(dt) * (up - down))\n",
    "    return S"
   ]
  },
  {
   "cell_type": "code",
   "execution_count": 130,
   "metadata": {},
   "outputs": [
    {
     "output_type": "execute_result",
     "data": {
      "text/plain": "array([[ 36.00,  39.79,  43.97,  48.59,  53.71],\n       [ 29.47,  32.57,  36.00,  39.79,  43.97],\n       [ 24.13,  26.67,  29.47,  32.57,  36.00],\n       [ 19.76,  21.84,  24.13,  26.67,  29.47],\n       [ 16.18,  17.88,  19.76,  21.84,  24.13]])"
     },
     "metadata": {},
     "execution_count": 130
    }
   ],
   "source": [
    "simulate_tree_np(4)"
   ]
  },
  {
   "cell_type": "code",
   "execution_count": 132,
   "metadata": {
    "tags": []
   },
   "outputs": [
    {
     "output_type": "stream",
     "name": "stdout",
     "text": "Wall time: 9 ms\n"
    },
    {
     "output_type": "execute_result",
     "data": {
      "text/plain": "array([[ 36.00,  36.32,  36.65, ..., 3095.69, 3123.50, 3151.57],\n       [ 35.36,  35.68,  36.00, ..., 3040.81, 3068.13, 3095.69],\n       [ 34.73,  35.05,  35.36, ..., 2986.89, 3013.73, 3040.81],\n       ...,\n       [  0.00,   0.00,   0.00, ...,   0.42,   0.42,   0.43],\n       [  0.00,   0.00,   0.00, ...,   0.41,   0.41,   0.42],\n       [  0.00,   0.00,   0.00, ...,   0.40,   0.41,   0.41]])"
     },
     "metadata": {},
     "execution_count": 132
    }
   ],
   "source": [
    "%time simulate_tree_np(500)"
   ]
  },
  {
   "cell_type": "code",
   "execution_count": 133,
   "metadata": {},
   "outputs": [],
   "source": [
    "# 个人优化：如果想要维持树图的形式，ndarray的左下角部分是不需要的\n",
    "# 取ndarray的上三角用triu()，下三角用tril()\n",
    "def simulate_tree_np2(M):\n",
    "    dt = T / M\n",
    "    up = np.arange(M + 1)\n",
    "    up = np.resize(up, (M + 1, M + 1))\n",
    "    down = up.transpose() * 2\n",
    "    S = S0 * np.exp(sigma * math.sqrt(dt) * (up - down))\n",
    "    return np.triu(S)"
   ]
  },
  {
   "cell_type": "code",
   "execution_count": 135,
   "metadata": {
    "tags": []
   },
   "outputs": [
    {
     "output_type": "stream",
     "name": "stdout",
     "text": "Wall time: 0 ns\n"
    },
    {
     "output_type": "execute_result",
     "data": {
      "text/plain": "array([[ 36.00,  39.79,  43.97,  48.59,  53.71],\n       [  0.00,  32.57,  36.00,  39.79,  43.97],\n       [  0.00,   0.00,  29.47,  32.57,  36.00],\n       [  0.00,   0.00,   0.00,  26.67,  29.47],\n       [  0.00,   0.00,   0.00,   0.00,  24.13]])"
     },
     "metadata": {},
     "execution_count": 135
    }
   ],
   "source": [
    "%time simulate_tree_np2(4)"
   ]
  },
  {
   "cell_type": "code",
   "execution_count": 136,
   "metadata": {
    "tags": []
   },
   "outputs": [
    {
     "output_type": "stream",
     "name": "stdout",
     "text": "Wall time: 32 ms\n"
    },
    {
     "output_type": "execute_result",
     "data": {
      "text/plain": "array([[ 36.00,  36.23,  36.46, ..., 19839.40, 19965.27, 20091.94],\n       [  0.00,  35.77,  36.00, ..., 19590.03, 19714.32, 19839.40],\n       [  0.00,   0.00,  35.55, ..., 19343.79, 19466.52, 19590.03],\n       ...,\n       [  0.00,   0.00,   0.00, ...,   0.07,   0.07,   0.07],\n       [  0.00,   0.00,   0.00, ...,   0.00,   0.06,   0.07],\n       [  0.00,   0.00,   0.00, ...,   0.00,   0.00,   0.06]])"
     },
     "metadata": {},
     "execution_count": 136
    }
   ],
   "source": [
    "%time simulate_tree_np2(1000)"
   ]
  },
  {
   "cell_type": "markdown",
   "metadata": {},
   "source": [
    "### Numba\n",
    "\n",
    "这种金融算法应该很适合于通过 Numba 动态编译来优化。"
   ]
  },
  {
   "cell_type": "code",
   "execution_count": 137,
   "metadata": {},
   "outputs": [],
   "source": [
    "simulate_tree_nb = numba.jit(simulate_tree)"
   ]
  },
  {
   "cell_type": "code",
   "execution_count": 138,
   "metadata": {},
   "outputs": [
    {
     "output_type": "execute_result",
     "data": {
      "text/plain": "array([[ 36.00,  39.79,  43.97,  48.59,  53.71],\n       [  0.00,  32.57,  36.00,  39.79,  43.97],\n       [  0.00,   0.00,  29.47,  32.57,  36.00],\n       [  0.00,   0.00,   0.00,  26.67,  29.47],\n       [  0.00,   0.00,   0.00,   0.00,  24.13]])"
     },
     "metadata": {},
     "execution_count": 138
    }
   ],
   "source": [
    "simulate_tree_nb(4)"
   ]
  },
  {
   "cell_type": "code",
   "execution_count": 139,
   "metadata": {
    "tags": []
   },
   "outputs": [
    {
     "output_type": "stream",
     "name": "stdout",
     "text": "Wall time: 1e+03 µs\n"
    },
    {
     "output_type": "execute_result",
     "data": {
      "text/plain": "array([[ 36.00,  36.32,  36.65, ..., 3095.69, 3123.50, 3151.57],\n       [  0.00,  35.68,  36.00, ..., 3040.81, 3068.13, 3095.69],\n       [  0.00,   0.00,  35.36, ..., 2986.89, 3013.73, 3040.81],\n       ...,\n       [  0.00,   0.00,   0.00, ...,   0.42,   0.42,   0.43],\n       [  0.00,   0.00,   0.00, ...,   0.00,   0.41,   0.42],\n       [  0.00,   0.00,   0.00, ...,   0.00,   0.00,   0.41]])"
     },
     "metadata": {},
     "execution_count": 139
    }
   ],
   "source": [
    "%time simulate_tree_nb(500)"
   ]
  },
  {
   "cell_type": "code",
   "execution_count": 140,
   "metadata": {
    "tags": []
   },
   "outputs": [
    {
     "output_type": "stream",
     "name": "stdout",
     "text": "916 µs ± 34.7 µs per loop (mean ± std. dev. of 7 runs, 1000 loops each)\n"
    }
   ],
   "source": [
    "%timeit simulate_tree_nb(500)"
   ]
  },
  {
   "cell_type": "markdown",
   "metadata": {},
   "source": [
    "### Cython"
   ]
  },
  {
   "cell_type": "code",
   "execution_count": 141,
   "metadata": {},
   "outputs": [
    {
     "output_type": "execute_result",
     "data": {
      "text/plain": "<IPython.core.display.HTML object>",
      "text/html": "<!DOCTYPE html>\n<!-- Generated by Cython 0.29.21 -->\n<html>\n<head>\n    <meta http-equiv=\"Content-Type\" content=\"text/html; charset=utf-8\" />\n    <title>Cython: _cython_magic_a3ce2539dc898c5b2e3dae75e682d13f.pyx</title>\n    <style type=\"text/css\">\n    \nbody.cython { font-family: courier; font-size: 12; }\n\n.cython.tag  {  }\n.cython.line { margin: 0em }\n.cython.code { font-size: 9; color: #444444; display: none; margin: 0px 0px 0px 8px; border-left: 8px none; }\n\n.cython.line .run { background-color: #B0FFB0; }\n.cython.line .mis { background-color: #FFB0B0; }\n.cython.code.run  { border-left: 8px solid #B0FFB0; }\n.cython.code.mis  { border-left: 8px solid #FFB0B0; }\n\n.cython.code .py_c_api  { color: red; }\n.cython.code .py_macro_api  { color: #FF7000; }\n.cython.code .pyx_c_api  { color: #FF3000; }\n.cython.code .pyx_macro_api  { color: #FF7000; }\n.cython.code .refnanny  { color: #FFA000; }\n.cython.code .trace  { color: #FFA000; }\n.cython.code .error_goto  { color: #FFA000; }\n\n.cython.code .coerce  { color: #008000; border: 1px dotted #008000 }\n.cython.code .py_attr { color: #FF0000; font-weight: bold; }\n.cython.code .c_attr  { color: #0000FF; }\n.cython.code .py_call { color: #FF0000; font-weight: bold; }\n.cython.code .c_call  { color: #0000FF; }\n\n.cython.score-0 {background-color: #FFFFff;}\n.cython.score-1 {background-color: #FFFFe7;}\n.cython.score-2 {background-color: #FFFFd4;}\n.cython.score-3 {background-color: #FFFFc4;}\n.cython.score-4 {background-color: #FFFFb6;}\n.cython.score-5 {background-color: #FFFFaa;}\n.cython.score-6 {background-color: #FFFF9f;}\n.cython.score-7 {background-color: #FFFF96;}\n.cython.score-8 {background-color: #FFFF8d;}\n.cython.score-9 {background-color: #FFFF86;}\n.cython.score-10 {background-color: #FFFF7f;}\n.cython.score-11 {background-color: #FFFF79;}\n.cython.score-12 {background-color: #FFFF73;}\n.cython.score-13 {background-color: #FFFF6e;}\n.cython.score-14 {background-color: #FFFF6a;}\n.cython.score-15 {background-color: #FFFF66;}\n.cython.score-16 {background-color: #FFFF62;}\n.cython.score-17 {background-color: #FFFF5e;}\n.cython.score-18 {background-color: #FFFF5b;}\n.cython.score-19 {background-color: #FFFF57;}\n.cython.score-20 {background-color: #FFFF55;}\n.cython.score-21 {background-color: #FFFF52;}\n.cython.score-22 {background-color: #FFFF4f;}\n.cython.score-23 {background-color: #FFFF4d;}\n.cython.score-24 {background-color: #FFFF4b;}\n.cython.score-25 {background-color: #FFFF48;}\n.cython.score-26 {background-color: #FFFF46;}\n.cython.score-27 {background-color: #FFFF44;}\n.cython.score-28 {background-color: #FFFF43;}\n.cython.score-29 {background-color: #FFFF41;}\n.cython.score-30 {background-color: #FFFF3f;}\n.cython.score-31 {background-color: #FFFF3e;}\n.cython.score-32 {background-color: #FFFF3c;}\n.cython.score-33 {background-color: #FFFF3b;}\n.cython.score-34 {background-color: #FFFF39;}\n.cython.score-35 {background-color: #FFFF38;}\n.cython.score-36 {background-color: #FFFF37;}\n.cython.score-37 {background-color: #FFFF36;}\n.cython.score-38 {background-color: #FFFF35;}\n.cython.score-39 {background-color: #FFFF34;}\n.cython.score-40 {background-color: #FFFF33;}\n.cython.score-41 {background-color: #FFFF32;}\n.cython.score-42 {background-color: #FFFF31;}\n.cython.score-43 {background-color: #FFFF30;}\n.cython.score-44 {background-color: #FFFF2f;}\n.cython.score-45 {background-color: #FFFF2e;}\n.cython.score-46 {background-color: #FFFF2d;}\n.cython.score-47 {background-color: #FFFF2c;}\n.cython.score-48 {background-color: #FFFF2b;}\n.cython.score-49 {background-color: #FFFF2b;}\n.cython.score-50 {background-color: #FFFF2a;}\n.cython.score-51 {background-color: #FFFF29;}\n.cython.score-52 {background-color: #FFFF29;}\n.cython.score-53 {background-color: #FFFF28;}\n.cython.score-54 {background-color: #FFFF27;}\n.cython.score-55 {background-color: #FFFF27;}\n.cython.score-56 {background-color: #FFFF26;}\n.cython.score-57 {background-color: #FFFF26;}\n.cython.score-58 {background-color: #FFFF25;}\n.cython.score-59 {background-color: #FFFF24;}\n.cython.score-60 {background-color: #FFFF24;}\n.cython.score-61 {background-color: #FFFF23;}\n.cython.score-62 {background-color: #FFFF23;}\n.cython.score-63 {background-color: #FFFF22;}\n.cython.score-64 {background-color: #FFFF22;}\n.cython.score-65 {background-color: #FFFF22;}\n.cython.score-66 {background-color: #FFFF21;}\n.cython.score-67 {background-color: #FFFF21;}\n.cython.score-68 {background-color: #FFFF20;}\n.cython.score-69 {background-color: #FFFF20;}\n.cython.score-70 {background-color: #FFFF1f;}\n.cython.score-71 {background-color: #FFFF1f;}\n.cython.score-72 {background-color: #FFFF1f;}\n.cython.score-73 {background-color: #FFFF1e;}\n.cython.score-74 {background-color: #FFFF1e;}\n.cython.score-75 {background-color: #FFFF1e;}\n.cython.score-76 {background-color: #FFFF1d;}\n.cython.score-77 {background-color: #FFFF1d;}\n.cython.score-78 {background-color: #FFFF1c;}\n.cython.score-79 {background-color: #FFFF1c;}\n.cython.score-80 {background-color: #FFFF1c;}\n.cython.score-81 {background-color: #FFFF1c;}\n.cython.score-82 {background-color: #FFFF1b;}\n.cython.score-83 {background-color: #FFFF1b;}\n.cython.score-84 {background-color: #FFFF1b;}\n.cython.score-85 {background-color: #FFFF1a;}\n.cython.score-86 {background-color: #FFFF1a;}\n.cython.score-87 {background-color: #FFFF1a;}\n.cython.score-88 {background-color: #FFFF1a;}\n.cython.score-89 {background-color: #FFFF19;}\n.cython.score-90 {background-color: #FFFF19;}\n.cython.score-91 {background-color: #FFFF19;}\n.cython.score-92 {background-color: #FFFF19;}\n.cython.score-93 {background-color: #FFFF18;}\n.cython.score-94 {background-color: #FFFF18;}\n.cython.score-95 {background-color: #FFFF18;}\n.cython.score-96 {background-color: #FFFF18;}\n.cython.score-97 {background-color: #FFFF17;}\n.cython.score-98 {background-color: #FFFF17;}\n.cython.score-99 {background-color: #FFFF17;}\n.cython.score-100 {background-color: #FFFF17;}\n.cython.score-101 {background-color: #FFFF16;}\n.cython.score-102 {background-color: #FFFF16;}\n.cython.score-103 {background-color: #FFFF16;}\n.cython.score-104 {background-color: #FFFF16;}\n.cython.score-105 {background-color: #FFFF16;}\n.cython.score-106 {background-color: #FFFF15;}\n.cython.score-107 {background-color: #FFFF15;}\n.cython.score-108 {background-color: #FFFF15;}\n.cython.score-109 {background-color: #FFFF15;}\n.cython.score-110 {background-color: #FFFF15;}\n.cython.score-111 {background-color: #FFFF15;}\n.cython.score-112 {background-color: #FFFF14;}\n.cython.score-113 {background-color: #FFFF14;}\n.cython.score-114 {background-color: #FFFF14;}\n.cython.score-115 {background-color: #FFFF14;}\n.cython.score-116 {background-color: #FFFF14;}\n.cython.score-117 {background-color: #FFFF14;}\n.cython.score-118 {background-color: #FFFF13;}\n.cython.score-119 {background-color: #FFFF13;}\n.cython.score-120 {background-color: #FFFF13;}\n.cython.score-121 {background-color: #FFFF13;}\n.cython.score-122 {background-color: #FFFF13;}\n.cython.score-123 {background-color: #FFFF13;}\n.cython.score-124 {background-color: #FFFF13;}\n.cython.score-125 {background-color: #FFFF12;}\n.cython.score-126 {background-color: #FFFF12;}\n.cython.score-127 {background-color: #FFFF12;}\n.cython.score-128 {background-color: #FFFF12;}\n.cython.score-129 {background-color: #FFFF12;}\n.cython.score-130 {background-color: #FFFF12;}\n.cython.score-131 {background-color: #FFFF12;}\n.cython.score-132 {background-color: #FFFF11;}\n.cython.score-133 {background-color: #FFFF11;}\n.cython.score-134 {background-color: #FFFF11;}\n.cython.score-135 {background-color: #FFFF11;}\n.cython.score-136 {background-color: #FFFF11;}\n.cython.score-137 {background-color: #FFFF11;}\n.cython.score-138 {background-color: #FFFF11;}\n.cython.score-139 {background-color: #FFFF11;}\n.cython.score-140 {background-color: #FFFF11;}\n.cython.score-141 {background-color: #FFFF10;}\n.cython.score-142 {background-color: #FFFF10;}\n.cython.score-143 {background-color: #FFFF10;}\n.cython.score-144 {background-color: #FFFF10;}\n.cython.score-145 {background-color: #FFFF10;}\n.cython.score-146 {background-color: #FFFF10;}\n.cython.score-147 {background-color: #FFFF10;}\n.cython.score-148 {background-color: #FFFF10;}\n.cython.score-149 {background-color: #FFFF10;}\n.cython.score-150 {background-color: #FFFF0f;}\n.cython.score-151 {background-color: #FFFF0f;}\n.cython.score-152 {background-color: #FFFF0f;}\n.cython.score-153 {background-color: #FFFF0f;}\n.cython.score-154 {background-color: #FFFF0f;}\n.cython.score-155 {background-color: #FFFF0f;}\n.cython.score-156 {background-color: #FFFF0f;}\n.cython.score-157 {background-color: #FFFF0f;}\n.cython.score-158 {background-color: #FFFF0f;}\n.cython.score-159 {background-color: #FFFF0f;}\n.cython.score-160 {background-color: #FFFF0f;}\n.cython.score-161 {background-color: #FFFF0e;}\n.cython.score-162 {background-color: #FFFF0e;}\n.cython.score-163 {background-color: #FFFF0e;}\n.cython.score-164 {background-color: #FFFF0e;}\n.cython.score-165 {background-color: #FFFF0e;}\n.cython.score-166 {background-color: #FFFF0e;}\n.cython.score-167 {background-color: #FFFF0e;}\n.cython.score-168 {background-color: #FFFF0e;}\n.cython.score-169 {background-color: #FFFF0e;}\n.cython.score-170 {background-color: #FFFF0e;}\n.cython.score-171 {background-color: #FFFF0e;}\n.cython.score-172 {background-color: #FFFF0e;}\n.cython.score-173 {background-color: #FFFF0d;}\n.cython.score-174 {background-color: #FFFF0d;}\n.cython.score-175 {background-color: #FFFF0d;}\n.cython.score-176 {background-color: #FFFF0d;}\n.cython.score-177 {background-color: #FFFF0d;}\n.cython.score-178 {background-color: #FFFF0d;}\n.cython.score-179 {background-color: #FFFF0d;}\n.cython.score-180 {background-color: #FFFF0d;}\n.cython.score-181 {background-color: #FFFF0d;}\n.cython.score-182 {background-color: #FFFF0d;}\n.cython.score-183 {background-color: #FFFF0d;}\n.cython.score-184 {background-color: #FFFF0d;}\n.cython.score-185 {background-color: #FFFF0d;}\n.cython.score-186 {background-color: #FFFF0d;}\n.cython.score-187 {background-color: #FFFF0c;}\n.cython.score-188 {background-color: #FFFF0c;}\n.cython.score-189 {background-color: #FFFF0c;}\n.cython.score-190 {background-color: #FFFF0c;}\n.cython.score-191 {background-color: #FFFF0c;}\n.cython.score-192 {background-color: #FFFF0c;}\n.cython.score-193 {background-color: #FFFF0c;}\n.cython.score-194 {background-color: #FFFF0c;}\n.cython.score-195 {background-color: #FFFF0c;}\n.cython.score-196 {background-color: #FFFF0c;}\n.cython.score-197 {background-color: #FFFF0c;}\n.cython.score-198 {background-color: #FFFF0c;}\n.cython.score-199 {background-color: #FFFF0c;}\n.cython.score-200 {background-color: #FFFF0c;}\n.cython.score-201 {background-color: #FFFF0c;}\n.cython.score-202 {background-color: #FFFF0c;}\n.cython.score-203 {background-color: #FFFF0b;}\n.cython.score-204 {background-color: #FFFF0b;}\n.cython.score-205 {background-color: #FFFF0b;}\n.cython.score-206 {background-color: #FFFF0b;}\n.cython.score-207 {background-color: #FFFF0b;}\n.cython.score-208 {background-color: #FFFF0b;}\n.cython.score-209 {background-color: #FFFF0b;}\n.cython.score-210 {background-color: #FFFF0b;}\n.cython.score-211 {background-color: #FFFF0b;}\n.cython.score-212 {background-color: #FFFF0b;}\n.cython.score-213 {background-color: #FFFF0b;}\n.cython.score-214 {background-color: #FFFF0b;}\n.cython.score-215 {background-color: #FFFF0b;}\n.cython.score-216 {background-color: #FFFF0b;}\n.cython.score-217 {background-color: #FFFF0b;}\n.cython.score-218 {background-color: #FFFF0b;}\n.cython.score-219 {background-color: #FFFF0b;}\n.cython.score-220 {background-color: #FFFF0b;}\n.cython.score-221 {background-color: #FFFF0b;}\n.cython.score-222 {background-color: #FFFF0a;}\n.cython.score-223 {background-color: #FFFF0a;}\n.cython.score-224 {background-color: #FFFF0a;}\n.cython.score-225 {background-color: #FFFF0a;}\n.cython.score-226 {background-color: #FFFF0a;}\n.cython.score-227 {background-color: #FFFF0a;}\n.cython.score-228 {background-color: #FFFF0a;}\n.cython.score-229 {background-color: #FFFF0a;}\n.cython.score-230 {background-color: #FFFF0a;}\n.cython.score-231 {background-color: #FFFF0a;}\n.cython.score-232 {background-color: #FFFF0a;}\n.cython.score-233 {background-color: #FFFF0a;}\n.cython.score-234 {background-color: #FFFF0a;}\n.cython.score-235 {background-color: #FFFF0a;}\n.cython.score-236 {background-color: #FFFF0a;}\n.cython.score-237 {background-color: #FFFF0a;}\n.cython.score-238 {background-color: #FFFF0a;}\n.cython.score-239 {background-color: #FFFF0a;}\n.cython.score-240 {background-color: #FFFF0a;}\n.cython.score-241 {background-color: #FFFF0a;}\n.cython.score-242 {background-color: #FFFF0a;}\n.cython.score-243 {background-color: #FFFF0a;}\n.cython.score-244 {background-color: #FFFF0a;}\n.cython.score-245 {background-color: #FFFF0a;}\n.cython.score-246 {background-color: #FFFF09;}\n.cython.score-247 {background-color: #FFFF09;}\n.cython.score-248 {background-color: #FFFF09;}\n.cython.score-249 {background-color: #FFFF09;}\n.cython.score-250 {background-color: #FFFF09;}\n.cython.score-251 {background-color: #FFFF09;}\n.cython.score-252 {background-color: #FFFF09;}\n.cython.score-253 {background-color: #FFFF09;}\n.cython.score-254 {background-color: #FFFF09;}\n.cython .hll { background-color: #ffffcc }\n.cython  { background: #f8f8f8; }\n.cython .c { color: #408080; font-style: italic } /* Comment */\n.cython .err { border: 1px solid #FF0000 } /* Error */\n.cython .k { color: #008000; font-weight: bold } /* Keyword */\n.cython .o { color: #666666 } /* Operator */\n.cython .ch { color: #408080; font-style: italic } /* Comment.Hashbang */\n.cython .cm { color: #408080; font-style: italic } /* Comment.Multiline */\n.cython .cp { color: #BC7A00 } /* Comment.Preproc */\n.cython .cpf { color: #408080; font-style: italic } /* Comment.PreprocFile */\n.cython .c1 { color: #408080; font-style: italic } /* Comment.Single */\n.cython .cs { color: #408080; font-style: italic } /* Comment.Special */\n.cython .gd { color: #A00000 } /* Generic.Deleted */\n.cython .ge { font-style: italic } /* Generic.Emph */\n.cython .gr { color: #FF0000 } /* Generic.Error */\n.cython .gh { color: #000080; font-weight: bold } /* Generic.Heading */\n.cython .gi { color: #00A000 } /* Generic.Inserted */\n.cython .go { color: #888888 } /* Generic.Output */\n.cython .gp { color: #000080; font-weight: bold } /* Generic.Prompt */\n.cython .gs { font-weight: bold } /* Generic.Strong */\n.cython .gu { color: #800080; font-weight: bold } /* Generic.Subheading */\n.cython .gt { color: #0044DD } /* Generic.Traceback */\n.cython .kc { color: #008000; font-weight: bold } /* Keyword.Constant */\n.cython .kd { color: #008000; font-weight: bold } /* Keyword.Declaration */\n.cython .kn { color: #008000; font-weight: bold } /* Keyword.Namespace */\n.cython .kp { color: #008000 } /* Keyword.Pseudo */\n.cython .kr { color: #008000; font-weight: bold } /* Keyword.Reserved */\n.cython .kt { color: #B00040 } /* Keyword.Type */\n.cython .m { color: #666666 } /* Literal.Number */\n.cython .s { color: #BA2121 } /* Literal.String */\n.cython .na { color: #7D9029 } /* Name.Attribute */\n.cython .nb { color: #008000 } /* Name.Builtin */\n.cython .nc { color: #0000FF; font-weight: bold } /* Name.Class */\n.cython .no { color: #880000 } /* Name.Constant */\n.cython .nd { color: #AA22FF } /* Name.Decorator */\n.cython .ni { color: #999999; font-weight: bold } /* Name.Entity */\n.cython .ne { color: #D2413A; font-weight: bold } /* Name.Exception */\n.cython .nf { color: #0000FF } /* Name.Function */\n.cython .nl { color: #A0A000 } /* Name.Label */\n.cython .nn { color: #0000FF; font-weight: bold } /* Name.Namespace */\n.cython .nt { color: #008000; font-weight: bold } /* Name.Tag */\n.cython .nv { color: #19177C } /* Name.Variable */\n.cython .ow { color: #AA22FF; font-weight: bold } /* Operator.Word */\n.cython .w { color: #bbbbbb } /* Text.Whitespace */\n.cython .mb { color: #666666 } /* Literal.Number.Bin */\n.cython .mf { color: #666666 } /* Literal.Number.Float */\n.cython .mh { color: #666666 } /* Literal.Number.Hex */\n.cython .mi { color: #666666 } /* Literal.Number.Integer */\n.cython .mo { color: #666666 } /* Literal.Number.Oct */\n.cython .sa { color: #BA2121 } /* Literal.String.Affix */\n.cython .sb { color: #BA2121 } /* Literal.String.Backtick */\n.cython .sc { color: #BA2121 } /* Literal.String.Char */\n.cython .dl { color: #BA2121 } /* Literal.String.Delimiter */\n.cython .sd { color: #BA2121; font-style: italic } /* Literal.String.Doc */\n.cython .s2 { color: #BA2121 } /* Literal.String.Double */\n.cython .se { color: #BB6622; font-weight: bold } /* Literal.String.Escape */\n.cython .sh { color: #BA2121 } /* Literal.String.Heredoc */\n.cython .si { color: #BB6688; font-weight: bold } /* Literal.String.Interpol */\n.cython .sx { color: #008000 } /* Literal.String.Other */\n.cython .sr { color: #BB6688 } /* Literal.String.Regex */\n.cython .s1 { color: #BA2121 } /* Literal.String.Single */\n.cython .ss { color: #19177C } /* Literal.String.Symbol */\n.cython .bp { color: #008000 } /* Name.Builtin.Pseudo */\n.cython .fm { color: #0000FF } /* Name.Function.Magic */\n.cython .vc { color: #19177C } /* Name.Variable.Class */\n.cython .vg { color: #19177C } /* Name.Variable.Global */\n.cython .vi { color: #19177C } /* Name.Variable.Instance */\n.cython .vm { color: #19177C } /* Name.Variable.Magic */\n.cython .il { color: #666666 } /* Literal.Number.Integer.Long */\n    </style>\n</head>\n<body class=\"cython\">\n<p><span style=\"border-bottom: solid 1px grey;\">Generated by Cython 0.29.21</span></p>\n<p>\n    <span style=\"background-color: #FFFF00\">Yellow lines</span> hint at Python interaction.<br />\n    Click on a line that starts with a \"<code>+</code>\" to see the C code that Cython generated for it.\n</p>\n<div class=\"cython\"><pre class=\"cython line score-16\" onclick=\"(function(s){s.display=s.display==='block'?'none':'block'})(this.nextElementSibling.style)\">+<span class=\"\">01</span>: <span class=\"k\">import</span> <span class=\"nn\">numpy</span> <span class=\"k\">as</span> <span class=\"nn\">np</span></pre>\n<pre class='cython code score-16 '>  __pyx_t_1 = <span class='pyx_c_api'>__Pyx_Import</span>(__pyx_n_s_numpy, 0, 0);<span class='error_goto'> if (unlikely(!__pyx_t_1)) __PYX_ERR(0, 1, __pyx_L1_error)</span>\n  <span class='refnanny'>__Pyx_GOTREF</span>(__pyx_t_1);\n  if (<span class='py_c_api'>PyDict_SetItem</span>(__pyx_d, __pyx_n_s_np, __pyx_t_1) &lt; 0) <span class='error_goto'>__PYX_ERR(0, 1, __pyx_L1_error)</span>\n  <span class='pyx_macro_api'>__Pyx_DECREF</span>(__pyx_t_1); __pyx_t_1 = 0;\n/* … */\n  __pyx_t_1 = <span class='pyx_c_api'>__Pyx_PyDict_NewPresized</span>(0);<span class='error_goto'> if (unlikely(!__pyx_t_1)) __PYX_ERR(0, 1, __pyx_L1_error)</span>\n  <span class='refnanny'>__Pyx_GOTREF</span>(__pyx_t_1);\n  if (<span class='py_c_api'>PyDict_SetItem</span>(__pyx_d, __pyx_n_s_test, __pyx_t_1) &lt; 0) <span class='error_goto'>__PYX_ERR(0, 1, __pyx_L1_error)</span>\n  <span class='pyx_macro_api'>__Pyx_DECREF</span>(__pyx_t_1); __pyx_t_1 = 0;\n</pre><pre class=\"cython line score-0\">&#xA0;<span class=\"\">02</span>: <span class=\"k\">cimport</span> <span class=\"nn\">cython</span></pre>\n<pre class=\"cython line score-0\">&#xA0;<span class=\"\">03</span>: <span class=\"k\">from</span> <span class=\"nn\">libc.math</span> <span class=\"k\">cimport</span> <span class=\"n\">exp</span><span class=\"p\">,</span> <span class=\"n\">sqrt</span></pre>\n<pre class=\"cython line score-0\" onclick=\"(function(s){s.display=s.display==='block'?'none':'block'})(this.nextElementSibling.style)\">+<span class=\"\">04</span>: <span class=\"k\">cdef</span> <span class=\"kt\">float</span> <span class=\"nf\">S0</span> <span class=\"o\">=</span> <span class=\"mf\">36.</span></pre>\n<pre class='cython code score-0 '>  __pyx_v_46_cython_magic_a3ce2539dc898c5b2e3dae75e682d13f_S0 = 36.;\n</pre><pre class=\"cython line score-0\" onclick=\"(function(s){s.display=s.display==='block'?'none':'block'})(this.nextElementSibling.style)\">+<span class=\"\">05</span>: <span class=\"k\">cdef</span> <span class=\"kt\">float</span> <span class=\"nf\">T</span> <span class=\"o\">=</span> <span class=\"mf\">1.0</span></pre>\n<pre class='cython code score-0 '>  __pyx_v_46_cython_magic_a3ce2539dc898c5b2e3dae75e682d13f_T = 1.0;\n</pre><pre class=\"cython line score-0\" onclick=\"(function(s){s.display=s.display==='block'?'none':'block'})(this.nextElementSibling.style)\">+<span class=\"\">06</span>: <span class=\"k\">cdef</span> <span class=\"kt\">float</span> <span class=\"nf\">r</span> <span class=\"o\">=</span> <span class=\"mf\">0.06</span></pre>\n<pre class='cython code score-0 '>  __pyx_v_46_cython_magic_a3ce2539dc898c5b2e3dae75e682d13f_r = 0.06;\n</pre><pre class=\"cython line score-0\" onclick=\"(function(s){s.display=s.display==='block'?'none':'block'})(this.nextElementSibling.style)\">+<span class=\"\">07</span>: <span class=\"k\">cdef</span> <span class=\"kt\">float</span> <span class=\"nf\">sigma</span> <span class=\"o\">=</span> <span class=\"mf\">0.2</span></pre>\n<pre class='cython code score-0 '>  __pyx_v_46_cython_magic_a3ce2539dc898c5b2e3dae75e682d13f_sigma = 0.2;\n</pre><pre class=\"cython line score-29\" onclick=\"(function(s){s.display=s.display==='block'?'none':'block'})(this.nextElementSibling.style)\">+<span class=\"\">08</span>: <span class=\"k\">def</span> <span class=\"nf\">simulate_tree_cy</span><span class=\"p\">(</span><span class=\"nb\">int</span> <span class=\"n\">M</span><span class=\"p\">):</span></pre>\n<pre class='cython code score-29 '>/* Python wrapper */\nstatic PyObject *__pyx_pw_46_cython_magic_a3ce2539dc898c5b2e3dae75e682d13f_1simulate_tree_cy(PyObject *__pyx_self, PyObject *__pyx_arg_M); /*proto*/\nstatic PyMethodDef __pyx_mdef_46_cython_magic_a3ce2539dc898c5b2e3dae75e682d13f_1simulate_tree_cy = {\"simulate_tree_cy\", (PyCFunction)__pyx_pw_46_cython_magic_a3ce2539dc898c5b2e3dae75e682d13f_1simulate_tree_cy, METH_O, 0};\nstatic PyObject *__pyx_pw_46_cython_magic_a3ce2539dc898c5b2e3dae75e682d13f_1simulate_tree_cy(PyObject *__pyx_self, PyObject *__pyx_arg_M) {\n  int __pyx_v_M;\n  PyObject *__pyx_r = 0;\n  <span class='refnanny'>__Pyx_RefNannyDeclarations</span>\n  <span class='refnanny'>__Pyx_RefNannySetupContext</span>(\"simulate_tree_cy (wrapper)\", 0);\n  assert(__pyx_arg_M); {\n    __pyx_v_M = <span class='pyx_c_api'>__Pyx_PyInt_As_int</span>(__pyx_arg_M); if (unlikely((__pyx_v_M == (int)-1) &amp;&amp; <span class='py_c_api'>PyErr_Occurred</span>())) <span class='error_goto'>__PYX_ERR(0, 8, __pyx_L3_error)</span>\n  }\n  goto __pyx_L4_argument_unpacking_done;\n  __pyx_L3_error:;\n  <span class='pyx_c_api'>__Pyx_AddTraceback</span>(\"_cython_magic_a3ce2539dc898c5b2e3dae75e682d13f.simulate_tree_cy\", __pyx_clineno, __pyx_lineno, __pyx_filename);\n  <span class='refnanny'>__Pyx_RefNannyFinishContext</span>();\n  return NULL;\n  __pyx_L4_argument_unpacking_done:;\n  __pyx_r = __pyx_pf_46_cython_magic_a3ce2539dc898c5b2e3dae75e682d13f_simulate_tree_cy(__pyx_self, ((int)__pyx_v_M));\n  int __pyx_lineno = 0;\n  const char *__pyx_filename = NULL;\n  int __pyx_clineno = 0;\n\n  /* function exit code */\n  <span class='refnanny'>__Pyx_RefNannyFinishContext</span>();\n  return __pyx_r;\n}\n\nstatic PyObject *__pyx_pf_46_cython_magic_a3ce2539dc898c5b2e3dae75e682d13f_simulate_tree_cy(CYTHON_UNUSED PyObject *__pyx_self, int __pyx_v_M) {\n  int __pyx_v_z;\n  int __pyx_v_t;\n  int __pyx_v_i;\n  float __pyx_v_dt;\n  float __pyx_v_u;\n  float __pyx_v_d;\n  __Pyx_memviewslice __pyx_v_S = { 0, 0, { 0 }, { 0 }, { 0 } };\n  PyObject *__pyx_r = NULL;\n  <span class='refnanny'>__Pyx_RefNannyDeclarations</span>\n  <span class='refnanny'>__Pyx_RefNannySetupContext</span>(\"simulate_tree_cy\", 0);\n/* … */\n  /* function exit code */\n  __pyx_L1_error:;\n  <span class='pyx_macro_api'>__Pyx_XDECREF</span>(__pyx_t_1);\n  <span class='pyx_macro_api'>__Pyx_XDECREF</span>(__pyx_t_2);\n  <span class='pyx_macro_api'>__Pyx_XDECREF</span>(__pyx_t_3);\n  <span class='pyx_macro_api'>__Pyx_XDECREF</span>(__pyx_t_4);\n  <span class='pyx_macro_api'>__Pyx_XDECREF</span>(__pyx_t_5);\n  __PYX_XDEC_MEMVIEW(&amp;__pyx_t_6, 1);\n  <span class='pyx_c_api'>__Pyx_AddTraceback</span>(\"_cython_magic_a3ce2539dc898c5b2e3dae75e682d13f.simulate_tree_cy\", __pyx_clineno, __pyx_lineno, __pyx_filename);\n  __pyx_r = NULL;\n  __pyx_L0:;\n  __PYX_XDEC_MEMVIEW(&amp;__pyx_v_S, 1);\n  <span class='refnanny'>__Pyx_XGIVEREF</span>(__pyx_r);\n  <span class='refnanny'>__Pyx_RefNannyFinishContext</span>();\n  return __pyx_r;\n}\n/* … */\n  __pyx_tuple__19 = <span class='py_c_api'>PyTuple_Pack</span>(9, __pyx_n_s_M, __pyx_n_s_M, __pyx_n_s_z, __pyx_n_s_t, __pyx_n_s_i, __pyx_n_s_dt, __pyx_n_s_u, __pyx_n_s_d, __pyx_n_s_S);<span class='error_goto'> if (unlikely(!__pyx_tuple__19)) __PYX_ERR(0, 8, __pyx_L1_error)</span>\n  <span class='refnanny'>__Pyx_GOTREF</span>(__pyx_tuple__19);\n  <span class='refnanny'>__Pyx_GIVEREF</span>(__pyx_tuple__19);\n/* … */\n  __pyx_t_1 = PyCFunction_NewEx(&amp;__pyx_mdef_46_cython_magic_a3ce2539dc898c5b2e3dae75e682d13f_1simulate_tree_cy, NULL, __pyx_n_s_cython_magic_a3ce2539dc898c5b2e);<span class='error_goto'> if (unlikely(!__pyx_t_1)) __PYX_ERR(0, 8, __pyx_L1_error)</span>\n  <span class='refnanny'>__Pyx_GOTREF</span>(__pyx_t_1);\n  if (<span class='py_c_api'>PyDict_SetItem</span>(__pyx_d, __pyx_n_s_simulate_tree_cy, __pyx_t_1) &lt; 0) <span class='error_goto'>__PYX_ERR(0, 8, __pyx_L1_error)</span>\n  <span class='pyx_macro_api'>__Pyx_DECREF</span>(__pyx_t_1); __pyx_t_1 = 0;\n  __pyx_codeobj__20 = (PyObject*)<span class='pyx_c_api'>__Pyx_PyCode_New</span>(1, 0, 9, 0, CO_OPTIMIZED|CO_NEWLOCALS, __pyx_empty_bytes, __pyx_empty_tuple, __pyx_empty_tuple, __pyx_tuple__19, __pyx_empty_tuple, __pyx_empty_tuple, __pyx_kp_s_C_Users_Player_ipython_cython__c, __pyx_n_s_simulate_tree_cy, 8, __pyx_empty_bytes);<span class='error_goto'> if (unlikely(!__pyx_codeobj__20)) __PYX_ERR(0, 8, __pyx_L1_error)</span>\n</pre><pre class=\"cython line score-0\">&#xA0;<span class=\"\">09</span>:     <span class=\"k\">cdef</span> <span class=\"kt\">int</span> <span class=\"nf\">z</span><span class=\"p\">,</span> <span class=\"nf\">t</span><span class=\"p\">,</span> <span class=\"nf\">i</span></pre>\n<pre class=\"cython line score-0\">&#xA0;<span class=\"\">10</span>:     <span class=\"k\">cdef</span> <span class=\"kt\">float</span> <span class=\"nf\">dt</span><span class=\"p\">,</span> <span class=\"nf\">u</span><span class=\"p\">,</span> <span class=\"nf\">d</span></pre>\n<pre class=\"cython line score-30\" onclick=\"(function(s){s.display=s.display==='block'?'none':'block'})(this.nextElementSibling.style)\">+<span class=\"\">11</span>:     <span class=\"k\">cdef</span> <span class=\"kt\">float</span>[<span class=\"p\">:,</span> <span class=\"p\">:]</span> <span class=\"n\">S</span> <span class=\"o\">=</span> <span class=\"n\">np</span><span class=\"o\">.</span><span class=\"n\">zeros</span><span class=\"p\">((</span><span class=\"n\">M</span> <span class=\"o\">+</span> <span class=\"mf\">1</span><span class=\"p\">,</span> <span class=\"n\">M</span> <span class=\"o\">+</span> <span class=\"mf\">1</span><span class=\"p\">),</span></pre>\n<pre class='cython code score-30 '>  <span class='pyx_c_api'>__Pyx_GetModuleGlobalName</span>(__pyx_t_1, __pyx_n_s_np);<span class='error_goto'> if (unlikely(!__pyx_t_1)) __PYX_ERR(0, 11, __pyx_L1_error)</span>\n  <span class='refnanny'>__Pyx_GOTREF</span>(__pyx_t_1);\n  __pyx_t_2 = <span class='pyx_c_api'>__Pyx_PyObject_GetAttrStr</span>(__pyx_t_1, __pyx_n_s_zeros);<span class='error_goto'> if (unlikely(!__pyx_t_2)) __PYX_ERR(0, 11, __pyx_L1_error)</span>\n  <span class='refnanny'>__Pyx_GOTREF</span>(__pyx_t_2);\n  <span class='pyx_macro_api'>__Pyx_DECREF</span>(__pyx_t_1); __pyx_t_1 = 0;\n  __pyx_t_1 = <span class='pyx_c_api'>__Pyx_PyInt_From_long</span>((__pyx_v_M + 1));<span class='error_goto'> if (unlikely(!__pyx_t_1)) __PYX_ERR(0, 11, __pyx_L1_error)</span>\n  <span class='refnanny'>__Pyx_GOTREF</span>(__pyx_t_1);\n  __pyx_t_3 = <span class='pyx_c_api'>__Pyx_PyInt_From_long</span>((__pyx_v_M + 1));<span class='error_goto'> if (unlikely(!__pyx_t_3)) __PYX_ERR(0, 11, __pyx_L1_error)</span>\n  <span class='refnanny'>__Pyx_GOTREF</span>(__pyx_t_3);\n  __pyx_t_4 = <span class='py_c_api'>PyTuple_New</span>(2);<span class='error_goto'> if (unlikely(!__pyx_t_4)) __PYX_ERR(0, 11, __pyx_L1_error)</span>\n  <span class='refnanny'>__Pyx_GOTREF</span>(__pyx_t_4);\n  <span class='refnanny'>__Pyx_GIVEREF</span>(__pyx_t_1);\n  <span class='py_macro_api'>PyTuple_SET_ITEM</span>(__pyx_t_4, 0, __pyx_t_1);\n  <span class='refnanny'>__Pyx_GIVEREF</span>(__pyx_t_3);\n  <span class='py_macro_api'>PyTuple_SET_ITEM</span>(__pyx_t_4, 1, __pyx_t_3);\n  __pyx_t_1 = 0;\n  __pyx_t_3 = 0;\n  __pyx_t_3 = <span class='py_c_api'>PyTuple_New</span>(1);<span class='error_goto'> if (unlikely(!__pyx_t_3)) __PYX_ERR(0, 11, __pyx_L1_error)</span>\n  <span class='refnanny'>__Pyx_GOTREF</span>(__pyx_t_3);\n  <span class='refnanny'>__Pyx_GIVEREF</span>(__pyx_t_4);\n  <span class='py_macro_api'>PyTuple_SET_ITEM</span>(__pyx_t_3, 0, __pyx_t_4);\n  __pyx_t_4 = 0;\n/* … */\n  __pyx_t_5 = <span class='pyx_c_api'>__Pyx_PyObject_Call</span>(__pyx_t_2, __pyx_t_3, __pyx_t_4);<span class='error_goto'> if (unlikely(!__pyx_t_5)) __PYX_ERR(0, 11, __pyx_L1_error)</span>\n  <span class='refnanny'>__Pyx_GOTREF</span>(__pyx_t_5);\n  <span class='pyx_macro_api'>__Pyx_DECREF</span>(__pyx_t_2); __pyx_t_2 = 0;\n  <span class='pyx_macro_api'>__Pyx_DECREF</span>(__pyx_t_3); __pyx_t_3 = 0;\n  <span class='pyx_macro_api'>__Pyx_DECREF</span>(__pyx_t_4); __pyx_t_4 = 0;\n  __pyx_t_6 = <span class='pyx_c_api'>__Pyx_PyObject_to_MemoryviewSlice_dsds_float</span>(__pyx_t_5, PyBUF_WRITABLE);<span class='error_goto'> if (unlikely(!__pyx_t_6.memview)) __PYX_ERR(0, 11, __pyx_L1_error)</span>\n  <span class='pyx_macro_api'>__Pyx_DECREF</span>(__pyx_t_5); __pyx_t_5 = 0;\n  __pyx_v_S = __pyx_t_6;\n  __pyx_t_6.memview = NULL;\n  __pyx_t_6.data = NULL;\n</pre><pre class=\"cython line score-13\" onclick=\"(function(s){s.display=s.display==='block'?'none':'block'})(this.nextElementSibling.style)\">+<span class=\"\">12</span>:                                   <span class=\"n\">dtype</span><span class=\"o\">=</span><span class=\"n\">np</span><span class=\"o\">.</span><span class=\"n\">float32</span><span class=\"p\">)</span></pre>\n<pre class='cython code score-13 '>  __pyx_t_4 = <span class='pyx_c_api'>__Pyx_PyDict_NewPresized</span>(1);<span class='error_goto'> if (unlikely(!__pyx_t_4)) __PYX_ERR(0, 12, __pyx_L1_error)</span>\n  <span class='refnanny'>__Pyx_GOTREF</span>(__pyx_t_4);\n  <span class='pyx_c_api'>__Pyx_GetModuleGlobalName</span>(__pyx_t_1, __pyx_n_s_np);<span class='error_goto'> if (unlikely(!__pyx_t_1)) __PYX_ERR(0, 12, __pyx_L1_error)</span>\n  <span class='refnanny'>__Pyx_GOTREF</span>(__pyx_t_1);\n  __pyx_t_5 = <span class='pyx_c_api'>__Pyx_PyObject_GetAttrStr</span>(__pyx_t_1, __pyx_n_s_float32);<span class='error_goto'> if (unlikely(!__pyx_t_5)) __PYX_ERR(0, 12, __pyx_L1_error)</span>\n  <span class='refnanny'>__Pyx_GOTREF</span>(__pyx_t_5);\n  <span class='pyx_macro_api'>__Pyx_DECREF</span>(__pyx_t_1); __pyx_t_1 = 0;\n  if (<span class='py_c_api'>PyDict_SetItem</span>(__pyx_t_4, __pyx_n_s_dtype, __pyx_t_5) &lt; 0) <span class='error_goto'>__PYX_ERR(0, 12, __pyx_L1_error)</span>\n  <span class='pyx_macro_api'>__Pyx_DECREF</span>(__pyx_t_5); __pyx_t_5 = 0;\n</pre><pre class=\"cython line score-5\" onclick=\"(function(s){s.display=s.display==='block'?'none':'block'})(this.nextElementSibling.style)\">+<span class=\"\">13</span>:     <span class=\"n\">dt</span> <span class=\"o\">=</span> <span class=\"n\">T</span> <span class=\"o\">/</span> <span class=\"n\">M</span></pre>\n<pre class='cython code score-5 '>  if (unlikely(__pyx_v_M == 0)) {\n    <span class='py_c_api'>PyErr_SetString</span>(PyExc_ZeroDivisionError, \"float division\");\n    <span class='error_goto'>__PYX_ERR(0, 13, __pyx_L1_error)</span>\n  }\n  __pyx_v_dt = (__pyx_v_46_cython_magic_a3ce2539dc898c5b2e3dae75e682d13f_T / ((float)__pyx_v_M));\n</pre><pre class=\"cython line score-0\" onclick=\"(function(s){s.display=s.display==='block'?'none':'block'})(this.nextElementSibling.style)\">+<span class=\"\">14</span>:     <span class=\"n\">u</span> <span class=\"o\">=</span> <span class=\"n\">exp</span><span class=\"p\">(</span><span class=\"n\">sigma</span> <span class=\"o\">*</span> <span class=\"n\">sqrt</span><span class=\"p\">(</span><span class=\"n\">dt</span><span class=\"p\">))</span></pre>\n<pre class='cython code score-0 '>  __pyx_v_u = exp((__pyx_v_46_cython_magic_a3ce2539dc898c5b2e3dae75e682d13f_sigma * sqrt(__pyx_v_dt)));\n</pre><pre class=\"cython line score-5\" onclick=\"(function(s){s.display=s.display==='block'?'none':'block'})(this.nextElementSibling.style)\">+<span class=\"\">15</span>:     <span class=\"n\">d</span> <span class=\"o\">=</span> <span class=\"mf\">1</span> <span class=\"o\">/</span> <span class=\"n\">u</span></pre>\n<pre class='cython code score-5 '>  if (unlikely(__pyx_v_u == 0)) {\n    <span class='py_c_api'>PyErr_SetString</span>(PyExc_ZeroDivisionError, \"float division\");\n    <span class='error_goto'>__PYX_ERR(0, 15, __pyx_L1_error)</span>\n  }\n  __pyx_v_d = (1.0 / __pyx_v_u);\n</pre><pre class=\"cython line score-2\" onclick=\"(function(s){s.display=s.display==='block'?'none':'block'})(this.nextElementSibling.style)\">+<span class=\"\">16</span>:     <span class=\"n\">S</span><span class=\"p\">[</span><span class=\"mf\">0</span><span class=\"p\">,</span> <span class=\"mf\">0</span><span class=\"p\">]</span> <span class=\"o\">=</span> <span class=\"n\">S0</span></pre>\n<pre class='cython code score-2 '>  __pyx_t_7 = 0;\n  __pyx_t_8 = 0;\n  __pyx_t_9 = -1;\n  if (__pyx_t_7 &lt; 0) {\n    __pyx_t_7 += __pyx_v_S.shape[0];\n    if (unlikely(__pyx_t_7 &lt; 0)) __pyx_t_9 = 0;\n  } else if (unlikely(__pyx_t_7 &gt;= __pyx_v_S.shape[0])) __pyx_t_9 = 0;\n  if (__pyx_t_8 &lt; 0) {\n    __pyx_t_8 += __pyx_v_S.shape[1];\n    if (unlikely(__pyx_t_8 &lt; 0)) __pyx_t_9 = 1;\n  } else if (unlikely(__pyx_t_8 &gt;= __pyx_v_S.shape[1])) __pyx_t_9 = 1;\n  if (unlikely(__pyx_t_9 != -1)) {\n    <span class='pyx_c_api'>__Pyx_RaiseBufferIndexError</span>(__pyx_t_9);\n    <span class='error_goto'>__PYX_ERR(0, 16, __pyx_L1_error)</span>\n  }\n  *((float *) ( /* dim=1 */ (( /* dim=0 */ (__pyx_v_S.data + __pyx_t_7 * __pyx_v_S.strides[0]) ) + __pyx_t_8 * __pyx_v_S.strides[1]) )) = __pyx_v_46_cython_magic_a3ce2539dc898c5b2e3dae75e682d13f_S0;\n</pre><pre class=\"cython line score-0\" onclick=\"(function(s){s.display=s.display==='block'?'none':'block'})(this.nextElementSibling.style)\">+<span class=\"\">17</span>:     <span class=\"n\">z</span> <span class=\"o\">=</span> <span class=\"mf\">1</span></pre>\n<pre class='cython code score-0 '>  __pyx_v_z = 1;\n</pre><pre class=\"cython line score-0\" onclick=\"(function(s){s.display=s.display==='block'?'none':'block'})(this.nextElementSibling.style)\">+<span class=\"\">18</span>:     <span class=\"k\">for</span> <span class=\"n\">t</span> <span class=\"ow\">in</span> <span class=\"nb\">range</span><span class=\"p\">(</span><span class=\"mf\">1</span><span class=\"p\">,</span> <span class=\"n\">M</span> <span class=\"o\">+</span> <span class=\"mf\">1</span><span class=\"p\">):</span></pre>\n<pre class='cython code score-0 '>  __pyx_t_10 = (__pyx_v_M + 1);\n  __pyx_t_11 = __pyx_t_10;\n  for (__pyx_t_9 = 1; __pyx_t_9 &lt; __pyx_t_11; __pyx_t_9+=1) {\n    __pyx_v_t = __pyx_t_9;\n</pre><pre class=\"cython line score-0\" onclick=\"(function(s){s.display=s.display==='block'?'none':'block'})(this.nextElementSibling.style)\">+<span class=\"\">19</span>:         <span class=\"k\">for</span> <span class=\"n\">i</span> <span class=\"ow\">in</span> <span class=\"nb\">range</span><span class=\"p\">(</span><span class=\"n\">z</span><span class=\"p\">):</span></pre>\n<pre class='cython code score-0 '>    __pyx_t_12 = __pyx_v_z;\n    __pyx_t_13 = __pyx_t_12;\n    for (__pyx_t_14 = 0; __pyx_t_14 &lt; __pyx_t_13; __pyx_t_14+=1) {\n      __pyx_v_i = __pyx_t_14;\n</pre><pre class=\"cython line score-4\" onclick=\"(function(s){s.display=s.display==='block'?'none':'block'})(this.nextElementSibling.style)\">+<span class=\"\">20</span>:             <span class=\"n\">S</span><span class=\"p\">[</span><span class=\"n\">i</span><span class=\"p\">,</span> <span class=\"n\">t</span><span class=\"p\">]</span> <span class=\"o\">=</span> <span class=\"n\">S</span><span class=\"p\">[</span><span class=\"n\">i</span><span class=\"p\">,</span> <span class=\"n\">t</span><span class=\"o\">-</span><span class=\"mf\">1</span><span class=\"p\">]</span> <span class=\"o\">*</span> <span class=\"n\">u</span></pre>\n<pre class='cython code score-4 '>      __pyx_t_8 = __pyx_v_i;\n      __pyx_t_7 = (__pyx_v_t - 1);\n      __pyx_t_15 = -1;\n      if (__pyx_t_8 &lt; 0) {\n        __pyx_t_8 += __pyx_v_S.shape[0];\n        if (unlikely(__pyx_t_8 &lt; 0)) __pyx_t_15 = 0;\n      } else if (unlikely(__pyx_t_8 &gt;= __pyx_v_S.shape[0])) __pyx_t_15 = 0;\n      if (__pyx_t_7 &lt; 0) {\n        __pyx_t_7 += __pyx_v_S.shape[1];\n        if (unlikely(__pyx_t_7 &lt; 0)) __pyx_t_15 = 1;\n      } else if (unlikely(__pyx_t_7 &gt;= __pyx_v_S.shape[1])) __pyx_t_15 = 1;\n      if (unlikely(__pyx_t_15 != -1)) {\n        <span class='pyx_c_api'>__Pyx_RaiseBufferIndexError</span>(__pyx_t_15);\n        <span class='error_goto'>__PYX_ERR(0, 20, __pyx_L1_error)</span>\n      }\n      __pyx_t_16 = __pyx_v_i;\n      __pyx_t_17 = __pyx_v_t;\n      __pyx_t_15 = -1;\n      if (__pyx_t_16 &lt; 0) {\n        __pyx_t_16 += __pyx_v_S.shape[0];\n        if (unlikely(__pyx_t_16 &lt; 0)) __pyx_t_15 = 0;\n      } else if (unlikely(__pyx_t_16 &gt;= __pyx_v_S.shape[0])) __pyx_t_15 = 0;\n      if (__pyx_t_17 &lt; 0) {\n        __pyx_t_17 += __pyx_v_S.shape[1];\n        if (unlikely(__pyx_t_17 &lt; 0)) __pyx_t_15 = 1;\n      } else if (unlikely(__pyx_t_17 &gt;= __pyx_v_S.shape[1])) __pyx_t_15 = 1;\n      if (unlikely(__pyx_t_15 != -1)) {\n        <span class='pyx_c_api'>__Pyx_RaiseBufferIndexError</span>(__pyx_t_15);\n        <span class='error_goto'>__PYX_ERR(0, 20, __pyx_L1_error)</span>\n      }\n      *((float *) ( /* dim=1 */ (( /* dim=0 */ (__pyx_v_S.data + __pyx_t_16 * __pyx_v_S.strides[0]) ) + __pyx_t_17 * __pyx_v_S.strides[1]) )) = ((*((float *) ( /* dim=1 */ (( /* dim=0 */ (__pyx_v_S.data + __pyx_t_8 * __pyx_v_S.strides[0]) ) + __pyx_t_7 * __pyx_v_S.strides[1]) ))) * __pyx_v_u);\n</pre><pre class=\"cython line score-4\" onclick=\"(function(s){s.display=s.display==='block'?'none':'block'})(this.nextElementSibling.style)\">+<span class=\"\">21</span>:             <span class=\"n\">S</span><span class=\"p\">[</span><span class=\"n\">i</span><span class=\"o\">+</span><span class=\"mf\">1</span><span class=\"p\">,</span> <span class=\"n\">t</span><span class=\"p\">]</span> <span class=\"o\">=</span> <span class=\"n\">S</span><span class=\"p\">[</span><span class=\"n\">i</span><span class=\"p\">,</span> <span class=\"n\">t</span><span class=\"o\">-</span><span class=\"mf\">1</span><span class=\"p\">]</span> <span class=\"o\">*</span> <span class=\"n\">d</span></pre>\n<pre class='cython code score-4 '>      __pyx_t_7 = __pyx_v_i;\n      __pyx_t_8 = (__pyx_v_t - 1);\n      __pyx_t_15 = -1;\n      if (__pyx_t_7 &lt; 0) {\n        __pyx_t_7 += __pyx_v_S.shape[0];\n        if (unlikely(__pyx_t_7 &lt; 0)) __pyx_t_15 = 0;\n      } else if (unlikely(__pyx_t_7 &gt;= __pyx_v_S.shape[0])) __pyx_t_15 = 0;\n      if (__pyx_t_8 &lt; 0) {\n        __pyx_t_8 += __pyx_v_S.shape[1];\n        if (unlikely(__pyx_t_8 &lt; 0)) __pyx_t_15 = 1;\n      } else if (unlikely(__pyx_t_8 &gt;= __pyx_v_S.shape[1])) __pyx_t_15 = 1;\n      if (unlikely(__pyx_t_15 != -1)) {\n        <span class='pyx_c_api'>__Pyx_RaiseBufferIndexError</span>(__pyx_t_15);\n        <span class='error_goto'>__PYX_ERR(0, 21, __pyx_L1_error)</span>\n      }\n      __pyx_t_17 = (__pyx_v_i + 1);\n      __pyx_t_16 = __pyx_v_t;\n      __pyx_t_15 = -1;\n      if (__pyx_t_17 &lt; 0) {\n        __pyx_t_17 += __pyx_v_S.shape[0];\n        if (unlikely(__pyx_t_17 &lt; 0)) __pyx_t_15 = 0;\n      } else if (unlikely(__pyx_t_17 &gt;= __pyx_v_S.shape[0])) __pyx_t_15 = 0;\n      if (__pyx_t_16 &lt; 0) {\n        __pyx_t_16 += __pyx_v_S.shape[1];\n        if (unlikely(__pyx_t_16 &lt; 0)) __pyx_t_15 = 1;\n      } else if (unlikely(__pyx_t_16 &gt;= __pyx_v_S.shape[1])) __pyx_t_15 = 1;\n      if (unlikely(__pyx_t_15 != -1)) {\n        <span class='pyx_c_api'>__Pyx_RaiseBufferIndexError</span>(__pyx_t_15);\n        <span class='error_goto'>__PYX_ERR(0, 21, __pyx_L1_error)</span>\n      }\n      *((float *) ( /* dim=1 */ (( /* dim=0 */ (__pyx_v_S.data + __pyx_t_17 * __pyx_v_S.strides[0]) ) + __pyx_t_16 * __pyx_v_S.strides[1]) )) = ((*((float *) ( /* dim=1 */ (( /* dim=0 */ (__pyx_v_S.data + __pyx_t_7 * __pyx_v_S.strides[0]) ) + __pyx_t_8 * __pyx_v_S.strides[1]) ))) * __pyx_v_d);\n    }\n</pre><pre class=\"cython line score-0\" onclick=\"(function(s){s.display=s.display==='block'?'none':'block'})(this.nextElementSibling.style)\">+<span class=\"\">22</span>:         <span class=\"n\">z</span> <span class=\"o\">+=</span> <span class=\"mf\">1</span></pre>\n<pre class='cython code score-0 '>    __pyx_v_z = (__pyx_v_z + 1);\n  }\n</pre><pre class=\"cython line score-21\" onclick=\"(function(s){s.display=s.display==='block'?'none':'block'})(this.nextElementSibling.style)\">+<span class=\"\">23</span>:     <span class=\"k\">return</span> <span class=\"n\">np</span><span class=\"o\">.</span><span class=\"n\">array</span><span class=\"p\">(</span><span class=\"n\">S</span><span class=\"p\">)</span></pre>\n<pre class='cython code score-21 '>  <span class='pyx_macro_api'>__Pyx_XDECREF</span>(__pyx_r);\n  <span class='pyx_c_api'>__Pyx_GetModuleGlobalName</span>(__pyx_t_4, __pyx_n_s_np);<span class='error_goto'> if (unlikely(!__pyx_t_4)) __PYX_ERR(0, 23, __pyx_L1_error)</span>\n  <span class='refnanny'>__Pyx_GOTREF</span>(__pyx_t_4);\n  __pyx_t_3 = <span class='pyx_c_api'>__Pyx_PyObject_GetAttrStr</span>(__pyx_t_4, __pyx_n_s_array);<span class='error_goto'> if (unlikely(!__pyx_t_3)) __PYX_ERR(0, 23, __pyx_L1_error)</span>\n  <span class='refnanny'>__Pyx_GOTREF</span>(__pyx_t_3);\n  <span class='pyx_macro_api'>__Pyx_DECREF</span>(__pyx_t_4); __pyx_t_4 = 0;\n  __pyx_t_4 = __pyx_memoryview_fromslice(__pyx_v_S, 2, (PyObject *(*)(char *)) __pyx_memview_get_float, (int (*)(char *, PyObject *)) __pyx_memview_set_float, 0);;<span class='error_goto'> if (unlikely(!__pyx_t_4)) __PYX_ERR(0, 23, __pyx_L1_error)</span>\n  <span class='refnanny'>__Pyx_GOTREF</span>(__pyx_t_4);\n  __pyx_t_2 = NULL;\n  if (CYTHON_UNPACK_METHODS &amp;&amp; unlikely(<span class='py_c_api'>PyMethod_Check</span>(__pyx_t_3))) {\n    __pyx_t_2 = <span class='py_macro_api'>PyMethod_GET_SELF</span>(__pyx_t_3);\n    if (likely(__pyx_t_2)) {\n      PyObject* function = <span class='py_macro_api'>PyMethod_GET_FUNCTION</span>(__pyx_t_3);\n      <span class='pyx_macro_api'>__Pyx_INCREF</span>(__pyx_t_2);\n      <span class='pyx_macro_api'>__Pyx_INCREF</span>(function);\n      <span class='pyx_macro_api'>__Pyx_DECREF_SET</span>(__pyx_t_3, function);\n    }\n  }\n  __pyx_t_5 = (__pyx_t_2) ? __Pyx_PyObject_Call2Args(__pyx_t_3, __pyx_t_2, __pyx_t_4) : <span class='pyx_c_api'>__Pyx_PyObject_CallOneArg</span>(__pyx_t_3, __pyx_t_4);\n  <span class='pyx_macro_api'>__Pyx_XDECREF</span>(__pyx_t_2); __pyx_t_2 = 0;\n  <span class='pyx_macro_api'>__Pyx_DECREF</span>(__pyx_t_4); __pyx_t_4 = 0;\n  if (unlikely(!__pyx_t_5)) <span class='error_goto'>__PYX_ERR(0, 23, __pyx_L1_error)</span>\n  <span class='refnanny'>__Pyx_GOTREF</span>(__pyx_t_5);\n  <span class='pyx_macro_api'>__Pyx_DECREF</span>(__pyx_t_3); __pyx_t_3 = 0;\n  __pyx_r = __pyx_t_5;\n  __pyx_t_5 = 0;\n  goto __pyx_L0;\n</pre></div></body></html>"
     },
     "metadata": {},
     "execution_count": 141
    }
   ],
   "source": [
    "%%cython -a\n",
    "import numpy as np\n",
    "cimport cython\n",
    "from libc.math cimport exp, sqrt\n",
    "cdef float S0 = 36.\n",
    "cdef float T = 1.0\n",
    "cdef float r = 0.06\n",
    "cdef float sigma = 0.2\n",
    "def simulate_tree_cy(int M):\n",
    "    cdef int z, t, i\n",
    "    cdef float dt, u, d\n",
    "    cdef float[:, :] S = np.zeros((M + 1, M + 1),\n",
    "                                  dtype=np.float32)  \n",
    "    dt = T / M\n",
    "    u = exp(sigma * sqrt(dt))\n",
    "    d = 1 / u\n",
    "    S[0, 0] = S0\n",
    "    z = 1\n",
    "    for t in range(1, M + 1):\n",
    "        for i in range(z):\n",
    "            S[i, t] = S[i, t-1] * u\n",
    "            S[i+1, t] = S[i, t-1] * d\n",
    "        z += 1\n",
    "    return np.array(S)"
   ]
  },
  {
   "cell_type": "code",
   "execution_count": 142,
   "metadata": {},
   "outputs": [
    {
     "output_type": "execute_result",
     "data": {
      "text/plain": "array([[ 36.00,  39.79,  43.97,  48.59,  53.71],\n       [  0.00,  32.57,  36.00,  39.79,  43.97],\n       [  0.00,   0.00,  29.47,  32.57,  36.00],\n       [  0.00,   0.00,   0.00,  26.67,  29.47],\n       [  0.00,   0.00,   0.00,   0.00,  24.13]], dtype=float32)"
     },
     "metadata": {},
     "execution_count": 142
    }
   ],
   "source": [
    "simulate_tree_cy(4)"
   ]
  },
  {
   "cell_type": "code",
   "execution_count": 143,
   "metadata": {
    "tags": []
   },
   "outputs": [
    {
     "output_type": "stream",
     "name": "stdout",
     "text": "Wall time: 2 ms\n"
    },
    {
     "output_type": "execute_result",
     "data": {
      "text/plain": "array([[ 36.00,  36.32,  36.65, ..., 3095.77, 3123.59, 3151.65],\n       [  0.00,  35.68,  36.00, ..., 3040.89, 3068.21, 3095.77],\n       [  0.00,   0.00,  35.36, ..., 2986.97, 3013.81, 3040.89],\n       ...,\n       [  0.00,   0.00,   0.00, ...,   0.42,   0.42,   0.43],\n       [  0.00,   0.00,   0.00, ...,   0.00,   0.41,   0.42],\n       [  0.00,   0.00,   0.00, ...,   0.00,   0.00,   0.41]],\n      dtype=float32)"
     },
     "metadata": {},
     "execution_count": 143
    }
   ],
   "source": [
    "%time simulate_tree_cy(500)"
   ]
  },
  {
   "cell_type": "code",
   "execution_count": 144,
   "metadata": {
    "tags": []
   },
   "outputs": [
    {
     "output_type": "stream",
     "name": "stdout",
     "text": "914 µs ± 14 µs per loop (mean ± std. dev. of 7 runs, 1000 loops each)\n"
    }
   ],
   "source": [
    "%timeit S = simulate_tree_cy(500)"
   ]
  },
  {
   "cell_type": "markdown",
   "metadata": {},
   "source": [
    "## Monte Carlo Simulation\n",
    "\n",
    "蒙特卡洛模拟是计算金融学中不可或缺的数值工具，在现代计算机出现之前就已经投入使用。银行和其他金融机构将其用于定价和风险管理，这种方法可能是金融学中最为灵活和强大的数值方法之一。不过，它也往往是计算要求最高的。因此，Python长期被排除在实现基于蒙特卡洛模拟算法的合适编程语言之外——至少在现实应用场景里是这样。"
   ]
  },
  {
   "cell_type": "markdown",
   "metadata": {},
   "source": [
    "### Python"
   ]
  },
  {
   "cell_type": "code",
   "execution_count": 145,
   "metadata": {},
   "outputs": [],
   "source": [
    "# 离散化的时间间隔数量\n",
    "M = 100  \n",
    "# 模拟的路径数量\n",
    "I = 50000  "
   ]
  },
  {
   "cell_type": "code",
   "execution_count": 147,
   "metadata": {},
   "outputs": [],
   "source": [
    "def mcs_simulation_py(p):\n",
    "    M, I = p\n",
    "    dt = T / M\n",
    "    S = np.zeros((M + 1, I))\n",
    "    S[0] = S0\n",
    "    rn = np.random.standard_normal(S.shape)  #用单一向量化步骤提取的随机数\n",
    "    for t in range(1, M + 1):  # 实现基于欧拉格式模拟的嵌套循环\n",
    "        for i in range(I):  \n",
    "            S[t, i] = S[t-1, i] * math.exp((r - sigma ** 2 / 2) * dt + sigma * math.sqrt(dt) * rn[t, i])  \n",
    "    return S      "
   ]
  },
  {
   "cell_type": "code",
   "execution_count": 148,
   "metadata": {
    "tags": []
   },
   "outputs": [
    {
     "output_type": "stream",
     "name": "stdout",
     "text": "Wall time: 6.98 s\n"
    }
   ],
   "source": [
    "%time S = mcs_simulation_py((M, I))"
   ]
  },
  {
   "cell_type": "code",
   "execution_count": 150,
   "metadata": {},
   "outputs": [
    {
     "output_type": "execute_result",
     "data": {
      "text/plain": "array([[ 36.00,  36.00,  36.00, ...,  36.00,  36.00,  36.00],\n       [ 36.46,  34.73,  36.04, ...,  34.86,  35.87,  35.54],\n       [ 36.53,  35.00,  35.80, ...,  34.84,  36.27,  35.10],\n       ...,\n       [ 34.14,  36.07,  38.29, ...,  34.82,  47.77,  34.47],\n       [ 34.61,  37.39,  38.60, ...,  34.99,  45.72,  34.64],\n       [ 34.93,  36.49,  39.20, ...,  35.57,  46.72,  35.20]])"
     },
     "metadata": {},
     "execution_count": 150
    }
   ],
   "source": [
    "S"
   ]
  },
  {
   "cell_type": "code",
   "execution_count": 149,
   "metadata": {},
   "outputs": [
    {
     "output_type": "execute_result",
     "data": {
      "text/plain": "38.25534392751107"
     },
     "metadata": {},
     "execution_count": 149
    }
   ],
   "source": [
    "S[-1].mean()\n",
    "# 根据模拟算出的期末价值均值"
   ]
  },
  {
   "cell_type": "code",
   "execution_count": 151,
   "metadata": {},
   "outputs": [
    {
     "output_type": "execute_result",
     "data": {
      "text/plain": "38.22611567563295"
     },
     "metadata": {},
     "execution_count": 151
    }
   ],
   "source": [
    "S0 * math.exp(r * T) \n",
    "# 理论预期期末价值"
   ]
  },
  {
   "cell_type": "code",
   "execution_count": 152,
   "metadata": {},
   "outputs": [],
   "source": [
    "K = 40.  \n",
    "# 欧洲看跌期权行权价"
   ]
  },
  {
   "cell_type": "code",
   "execution_count": 154,
   "metadata": {},
   "outputs": [],
   "source": [
    "# 蒙特卡洛期权估值函数\n",
    "C0 = math.exp(-r * T) * np.maximum(K - S[-1], 0).mean()  "
   ]
  },
  {
   "cell_type": "code",
   "execution_count": 155,
   "metadata": {},
   "outputs": [
    {
     "output_type": "execute_result",
     "data": {
      "text/plain": "3.8167380611484405"
     },
     "metadata": {},
     "execution_count": 155
    }
   ],
   "source": [
    "C0"
   ]
  },
  {
   "cell_type": "code",
   "execution_count": 156,
   "metadata": {},
   "outputs": [
    {
     "output_type": "execute_result",
     "data": {
      "text/plain": "<matplotlib.legend.Legend at 0x24788a49a48>"
     },
     "metadata": {},
     "execution_count": 156
    },
    {
     "output_type": "display_data",
     "data": {
      "text/plain": "<Figure size 720x432 with 1 Axes>",
      "image/svg+xml": "<?xml version=\"1.0\" encoding=\"utf-8\" standalone=\"no\"?>\r\n<!DOCTYPE svg PUBLIC \"-//W3C//DTD SVG 1.1//EN\"\r\n  \"http://www.w3.org/Graphics/SVG/1.1/DTD/svg11.dtd\">\r\n<!-- Created with matplotlib (https://matplotlib.org/) -->\r\n<svg height=\"357.238125pt\" version=\"1.1\" viewBox=\"0 0 604.85 357.238125\" width=\"604.85pt\" xmlns=\"http://www.w3.org/2000/svg\" xmlns:xlink=\"http://www.w3.org/1999/xlink\">\r\n <metadata>\r\n  <rdf:RDF xmlns:cc=\"http://creativecommons.org/ns#\" xmlns:dc=\"http://purl.org/dc/elements/1.1/\" xmlns:rdf=\"http://www.w3.org/1999/02/22-rdf-syntax-ns#\">\r\n   <cc:Work>\r\n    <dc:type rdf:resource=\"http://purl.org/dc/dcmitype/StillImage\"/>\r\n    <dc:date>2020-09-01T16:22:27.809170</dc:date>\r\n    <dc:format>image/svg+xml</dc:format>\r\n    <dc:creator>\r\n     <cc:Agent>\r\n      <dc:title>Matplotlib v3.3.1, https://matplotlib.org/</dc:title>\r\n     </cc:Agent>\r\n    </dc:creator>\r\n   </cc:Work>\r\n  </rdf:RDF>\r\n </metadata>\r\n <defs>\r\n  <style type=\"text/css\">*{stroke-linecap:butt;stroke-linejoin:round;}</style>\r\n </defs>\r\n <g id=\"figure_1\">\r\n  <g id=\"patch_1\">\r\n   <path d=\"M 0 357.238125 \r\nL 604.85 357.238125 \r\nL 604.85 0 \r\nL 0 0 \r\nz\r\n\" style=\"fill:none;\"/>\r\n  </g>\r\n  <g id=\"axes_1\">\r\n   <g id=\"patch_2\">\r\n    <path d=\"M 39.65 333.36 \r\nL 597.65 333.36 \r\nL 597.65 7.2 \r\nL 39.65 7.2 \r\nz\r\n\" style=\"fill:#eaeaf2;\"/>\r\n   </g>\r\n   <g id=\"matplotlib.axis_1\">\r\n    <g id=\"xtick_1\">\r\n     <g id=\"line2d_1\">\r\n      <path clip-path=\"url(#p8a14be6714)\" d=\"M 85.841659 333.36 \r\nL 85.841659 7.2 \r\n\" style=\"fill:none;stroke:#ffffff;stroke-linecap:round;\"/>\r\n     </g>\r\n     <g id=\"line2d_2\"/>\r\n     <g id=\"text_1\">\r\n      <!-- 20 -->\r\n      <g style=\"fill:#262626;\" transform=\"translate(79.479159 347.958438)scale(0.1 -0.1)\">\r\n       <defs>\r\n        <path d=\"M 12.796875 55.515625 \r\nL 7.328125 55.515625 \r\nL 7.328125 68.5 \r\nQ 12.546875 71.296875 17.84375 72.75 \r\nQ 23.140625 74.21875 28.21875 74.21875 \r\nQ 39.59375 74.21875 46.1875 68.703125 \r\nQ 52.78125 63.1875 52.78125 53.71875 \r\nQ 52.78125 43.015625 37.84375 28.125 \r\nQ 36.671875 27 36.078125 26.421875 \r\nL 17.671875 8.015625 \r\nL 48.09375 8.015625 \r\nL 48.09375 17 \r\nL 53.8125 17 \r\nL 53.8125 0 \r\nL 6.78125 0 \r\nL 6.78125 5.328125 \r\nL 28.90625 27.390625 \r\nQ 36.234375 34.71875 39.359375 40.84375 \r\nQ 42.484375 46.96875 42.484375 53.71875 \r\nQ 42.484375 61.078125 38.640625 65.234375 \r\nQ 34.8125 69.390625 28.078125 69.390625 \r\nQ 21.09375 69.390625 17.28125 65.921875 \r\nQ 13.484375 62.453125 12.796875 55.515625 \r\nz\r\n\" id=\"DejaVuSerif-50\"/>\r\n        <path d=\"M 31.78125 3.421875 \r\nQ 39.265625 3.421875 42.96875 11.625 \r\nQ 46.6875 19.828125 46.6875 36.375 \r\nQ 46.6875 52.984375 42.96875 61.1875 \r\nQ 39.265625 69.390625 31.78125 69.390625 \r\nQ 24.3125 69.390625 20.59375 61.1875 \r\nQ 16.890625 52.984375 16.890625 36.375 \r\nQ 16.890625 19.828125 20.59375 11.625 \r\nQ 24.3125 3.421875 31.78125 3.421875 \r\nz\r\nM 31.78125 -1.421875 \r\nQ 19.921875 -1.421875 13.25 8.53125 \r\nQ 6.59375 18.5 6.59375 36.375 \r\nQ 6.59375 54.296875 13.25 64.25 \r\nQ 19.921875 74.21875 31.78125 74.21875 \r\nQ 43.703125 74.21875 50.34375 64.25 \r\nQ 56.984375 54.296875 56.984375 36.375 \r\nQ 56.984375 18.5 50.34375 8.53125 \r\nQ 43.703125 -1.421875 31.78125 -1.421875 \r\nz\r\n\" id=\"DejaVuSerif-48\"/>\r\n       </defs>\r\n       <use xlink:href=\"#DejaVuSerif-50\"/>\r\n       <use x=\"63.623047\" xlink:href=\"#DejaVuSerif-48\"/>\r\n      </g>\r\n     </g>\r\n    </g>\r\n    <g id=\"xtick_2\">\r\n     <g id=\"line2d_3\">\r\n      <path clip-path=\"url(#p8a14be6714)\" d=\"M 159.173713 333.36 \r\nL 159.173713 7.2 \r\n\" style=\"fill:none;stroke:#ffffff;stroke-linecap:round;\"/>\r\n     </g>\r\n     <g id=\"line2d_4\"/>\r\n     <g id=\"text_2\">\r\n      <!-- 30 -->\r\n      <g style=\"fill:#262626;\" transform=\"translate(152.811213 347.958438)scale(0.1 -0.1)\">\r\n       <defs>\r\n        <path d=\"M 9.71875 69.828125 \r\nQ 15.4375 71.96875 20.671875 73.09375 \r\nQ 25.921875 74.21875 30.515625 74.21875 \r\nQ 41.21875 74.21875 47.21875 69.59375 \r\nQ 53.21875 64.984375 53.21875 56.78125 \r\nQ 53.21875 50.203125 49.0625 45.78125 \r\nQ 44.921875 41.359375 37.3125 39.796875 \r\nQ 46.296875 38.53125 51.25 33.28125 \r\nQ 56.203125 28.03125 56.203125 19.671875 \r\nQ 56.203125 9.46875 49.34375 4.015625 \r\nQ 42.484375 -1.421875 29.59375 -1.421875 \r\nQ 23.875 -1.421875 18.421875 -0.1875 \r\nQ 12.984375 1.03125 7.625 3.515625 \r\nL 7.625 17.671875 \r\nL 13.09375 17.671875 \r\nQ 13.578125 10.640625 17.828125 7.03125 \r\nQ 22.078125 3.421875 29.78125 3.421875 \r\nQ 37.25 3.421875 41.578125 7.734375 \r\nQ 45.90625 12.0625 45.90625 19.578125 \r\nQ 45.90625 28.171875 41.453125 32.59375 \r\nQ 37.015625 37.015625 28.421875 37.015625 \r\nL 23.78125 37.015625 \r\nL 23.78125 42 \r\nL 26.21875 42 \r\nQ 34.765625 42 39.03125 45.53125 \r\nQ 43.3125 49.078125 43.3125 56.203125 \r\nQ 43.3125 62.59375 39.796875 65.984375 \r\nQ 36.28125 69.390625 29.6875 69.390625 \r\nQ 23.09375 69.390625 19.453125 66.265625 \r\nQ 15.828125 63.140625 15.1875 56.984375 \r\nL 9.71875 56.984375 \r\nz\r\n\" id=\"DejaVuSerif-51\"/>\r\n       </defs>\r\n       <use xlink:href=\"#DejaVuSerif-51\"/>\r\n       <use x=\"63.623047\" xlink:href=\"#DejaVuSerif-48\"/>\r\n      </g>\r\n     </g>\r\n    </g>\r\n    <g id=\"xtick_3\">\r\n     <g id=\"line2d_5\">\r\n      <path clip-path=\"url(#p8a14be6714)\" d=\"M 232.505768 333.36 \r\nL 232.505768 7.2 \r\n\" style=\"fill:none;stroke:#ffffff;stroke-linecap:round;\"/>\r\n     </g>\r\n     <g id=\"line2d_6\"/>\r\n     <g id=\"text_3\">\r\n      <!-- 40 -->\r\n      <g style=\"fill:#262626;\" transform=\"translate(226.143268 347.958438)scale(0.1 -0.1)\">\r\n       <defs>\r\n        <path d=\"M 34.90625 24.703125 \r\nL 34.90625 63.484375 \r\nL 10.015625 24.703125 \r\nz\r\nM 56.390625 0 \r\nL 23.1875 0 \r\nL 23.1875 5.171875 \r\nL 34.90625 5.171875 \r\nL 34.90625 19.484375 \r\nL 3.078125 19.484375 \r\nL 3.078125 24.8125 \r\nL 35.015625 74.21875 \r\nL 44.671875 74.21875 \r\nL 44.671875 24.703125 \r\nL 58.59375 24.703125 \r\nL 58.59375 19.484375 \r\nL 44.671875 19.484375 \r\nL 44.671875 5.171875 \r\nL 56.390625 5.171875 \r\nz\r\n\" id=\"DejaVuSerif-52\"/>\r\n       </defs>\r\n       <use xlink:href=\"#DejaVuSerif-52\"/>\r\n       <use x=\"63.623047\" xlink:href=\"#DejaVuSerif-48\"/>\r\n      </g>\r\n     </g>\r\n    </g>\r\n    <g id=\"xtick_4\">\r\n     <g id=\"line2d_7\">\r\n      <path clip-path=\"url(#p8a14be6714)\" d=\"M 305.837822 333.36 \r\nL 305.837822 7.2 \r\n\" style=\"fill:none;stroke:#ffffff;stroke-linecap:round;\"/>\r\n     </g>\r\n     <g id=\"line2d_8\"/>\r\n     <g id=\"text_4\">\r\n      <!-- 50 -->\r\n      <g style=\"fill:#262626;\" transform=\"translate(299.475322 347.958438)scale(0.1 -0.1)\">\r\n       <defs>\r\n        <path d=\"M 50.296875 72.90625 \r\nL 50.296875 64.890625 \r\nL 16.890625 64.890625 \r\nL 16.890625 44 \r\nQ 19.4375 45.75 22.828125 46.625 \r\nQ 26.21875 47.515625 30.421875 47.515625 \r\nQ 42.234375 47.515625 49.0625 40.96875 \r\nQ 55.90625 34.421875 55.90625 23.09375 \r\nQ 55.90625 11.53125 49 5.046875 \r\nQ 42.09375 -1.421875 29.59375 -1.421875 \r\nQ 24.5625 -1.421875 19.28125 -0.1875 \r\nQ 14.015625 1.03125 8.5 3.515625 \r\nL 8.5 17.671875 \r\nL 14.015625 17.671875 \r\nQ 14.453125 10.75 18.421875 7.078125 \r\nQ 22.40625 3.421875 29.59375 3.421875 \r\nQ 37.3125 3.421875 41.453125 8.5 \r\nQ 45.609375 13.578125 45.609375 23.09375 \r\nQ 45.609375 32.5625 41.484375 37.609375 \r\nQ 37.359375 42.671875 29.59375 42.671875 \r\nQ 25.203125 42.671875 21.84375 41.109375 \r\nQ 18.5 39.546875 15.921875 36.28125 \r\nL 11.71875 36.28125 \r\nL 11.71875 72.90625 \r\nz\r\n\" id=\"DejaVuSerif-53\"/>\r\n       </defs>\r\n       <use xlink:href=\"#DejaVuSerif-53\"/>\r\n       <use x=\"63.623047\" xlink:href=\"#DejaVuSerif-48\"/>\r\n      </g>\r\n     </g>\r\n    </g>\r\n    <g id=\"xtick_5\">\r\n     <g id=\"line2d_9\">\r\n      <path clip-path=\"url(#p8a14be6714)\" d=\"M 379.169877 333.36 \r\nL 379.169877 7.2 \r\n\" style=\"fill:none;stroke:#ffffff;stroke-linecap:round;\"/>\r\n     </g>\r\n     <g id=\"line2d_10\"/>\r\n     <g id=\"text_5\">\r\n      <!-- 60 -->\r\n      <g style=\"fill:#262626;\" transform=\"translate(372.807377 347.958438)scale(0.1 -0.1)\">\r\n       <defs>\r\n        <path d=\"M 32.71875 3.421875 \r\nQ 39.59375 3.421875 43.296875 8.46875 \r\nQ 47.015625 13.53125 47.015625 23 \r\nQ 47.015625 32.46875 43.296875 37.515625 \r\nQ 39.59375 42.578125 32.71875 42.578125 \r\nQ 25.734375 42.578125 22.0625 37.6875 \r\nQ 18.40625 32.8125 18.40625 23.578125 \r\nQ 18.40625 13.875 22.109375 8.640625 \r\nQ 25.828125 3.421875 32.71875 3.421875 \r\nz\r\nM 16.796875 40.140625 \r\nQ 20.125 43.796875 24.3125 45.59375 \r\nQ 28.515625 47.40625 33.796875 47.40625 \r\nQ 44.671875 47.40625 51 40.859375 \r\nQ 57.328125 34.328125 57.328125 23 \r\nQ 57.328125 11.921875 50.515625 5.25 \r\nQ 43.703125 -1.421875 32.328125 -1.421875 \r\nQ 19.96875 -1.421875 13.328125 7.78125 \r\nQ 6.6875 17 6.6875 34.078125 \r\nQ 6.6875 53.21875 14.546875 63.71875 \r\nQ 22.40625 74.21875 36.71875 74.21875 \r\nQ 40.578125 74.21875 44.828125 73.484375 \r\nQ 49.078125 72.75 53.515625 71.296875 \r\nL 53.515625 59.28125 \r\nL 48 59.28125 \r\nQ 47.40625 64.203125 44.234375 66.796875 \r\nQ 41.0625 69.390625 35.6875 69.390625 \r\nQ 26.21875 69.390625 21.578125 62.203125 \r\nQ 16.9375 55.03125 16.796875 40.140625 \r\nz\r\n\" id=\"DejaVuSerif-54\"/>\r\n       </defs>\r\n       <use xlink:href=\"#DejaVuSerif-54\"/>\r\n       <use x=\"63.623047\" xlink:href=\"#DejaVuSerif-48\"/>\r\n      </g>\r\n     </g>\r\n    </g>\r\n    <g id=\"xtick_6\">\r\n     <g id=\"line2d_11\">\r\n      <path clip-path=\"url(#p8a14be6714)\" d=\"M 452.501931 333.36 \r\nL 452.501931 7.2 \r\n\" style=\"fill:none;stroke:#ffffff;stroke-linecap:round;\"/>\r\n     </g>\r\n     <g id=\"line2d_12\"/>\r\n     <g id=\"text_6\">\r\n      <!-- 70 -->\r\n      <g style=\"fill:#262626;\" transform=\"translate(446.139431 347.958438)scale(0.1 -0.1)\">\r\n       <defs>\r\n        <path d=\"M 56.390625 67.921875 \r\nL 27.875 0 \r\nL 20.609375 0 \r\nL 47.796875 64.890625 \r\nL 14.109375 64.890625 \r\nL 14.109375 55.90625 \r\nL 8.40625 55.90625 \r\nL 8.40625 72.90625 \r\nL 56.390625 72.90625 \r\nz\r\n\" id=\"DejaVuSerif-55\"/>\r\n       </defs>\r\n       <use xlink:href=\"#DejaVuSerif-55\"/>\r\n       <use x=\"63.623047\" xlink:href=\"#DejaVuSerif-48\"/>\r\n      </g>\r\n     </g>\r\n    </g>\r\n    <g id=\"xtick_7\">\r\n     <g id=\"line2d_13\">\r\n      <path clip-path=\"url(#p8a14be6714)\" d=\"M 525.833986 333.36 \r\nL 525.833986 7.2 \r\n\" style=\"fill:none;stroke:#ffffff;stroke-linecap:round;\"/>\r\n     </g>\r\n     <g id=\"line2d_14\"/>\r\n     <g id=\"text_7\">\r\n      <!-- 80 -->\r\n      <g style=\"fill:#262626;\" transform=\"translate(519.471486 347.958438)scale(0.1 -0.1)\">\r\n       <defs>\r\n        <path d=\"M 46.578125 19.921875 \r\nQ 46.578125 27.734375 42.6875 32.046875 \r\nQ 38.8125 36.375 31.78125 36.375 \r\nQ 24.75 36.375 20.875 32.046875 \r\nQ 17 27.734375 17 19.921875 \r\nQ 17 12.0625 20.875 7.734375 \r\nQ 24.75 3.421875 31.78125 3.421875 \r\nQ 38.8125 3.421875 42.6875 7.734375 \r\nQ 46.578125 12.0625 46.578125 19.921875 \r\nz\r\nM 44.578125 55.328125 \r\nQ 44.578125 61.96875 41.203125 65.671875 \r\nQ 37.84375 69.390625 31.78125 69.390625 \r\nQ 25.78125 69.390625 22.390625 65.671875 \r\nQ 19 61.96875 19 55.328125 \r\nQ 19 48.640625 22.390625 44.921875 \r\nQ 25.78125 41.21875 31.78125 41.21875 \r\nQ 37.84375 41.21875 41.203125 44.921875 \r\nQ 44.578125 48.640625 44.578125 55.328125 \r\nz\r\nM 39.3125 38.8125 \r\nQ 47.609375 37.703125 52.25 32.6875 \r\nQ 56.890625 27.6875 56.890625 19.921875 \r\nQ 56.890625 9.671875 50.390625 4.125 \r\nQ 43.890625 -1.421875 31.78125 -1.421875 \r\nQ 19.734375 -1.421875 13.203125 4.125 \r\nQ 6.6875 9.671875 6.6875 19.921875 \r\nQ 6.6875 27.6875 11.328125 32.6875 \r\nQ 15.96875 37.703125 24.3125 38.8125 \r\nQ 16.9375 40.140625 13 44.40625 \r\nQ 9.078125 48.6875 9.078125 55.328125 \r\nQ 9.078125 64.109375 15.125 69.15625 \r\nQ 21.1875 74.21875 31.78125 74.21875 \r\nQ 42.390625 74.21875 48.4375 69.15625 \r\nQ 54.5 64.109375 54.5 55.328125 \r\nQ 54.5 48.6875 50.5625 44.40625 \r\nQ 46.625 40.140625 39.3125 38.8125 \r\nz\r\n\" id=\"DejaVuSerif-56\"/>\r\n       </defs>\r\n       <use xlink:href=\"#DejaVuSerif-56\"/>\r\n       <use x=\"63.623047\" xlink:href=\"#DejaVuSerif-48\"/>\r\n      </g>\r\n     </g>\r\n    </g>\r\n   </g>\r\n   <g id=\"matplotlib.axis_2\">\r\n    <g id=\"ytick_1\">\r\n     <g id=\"line2d_15\">\r\n      <path clip-path=\"url(#p8a14be6714)\" d=\"M 39.65 333.36 \r\nL 597.65 333.36 \r\n\" style=\"fill:none;stroke:#ffffff;stroke-linecap:round;\"/>\r\n     </g>\r\n     <g id=\"line2d_16\"/>\r\n     <g id=\"text_8\">\r\n      <!-- 0 -->\r\n      <g style=\"fill:#262626;\" transform=\"translate(26.2875 337.159219)scale(0.1 -0.1)\">\r\n       <use xlink:href=\"#DejaVuSerif-48\"/>\r\n      </g>\r\n     </g>\r\n    </g>\r\n    <g id=\"ytick_2\">\r\n     <g id=\"line2d_17\">\r\n      <path clip-path=\"url(#p8a14be6714)\" d=\"M 39.65 276.363932 \r\nL 597.65 276.363932 \r\n\" style=\"fill:none;stroke:#ffffff;stroke-linecap:round;\"/>\r\n     </g>\r\n     <g id=\"line2d_18\"/>\r\n     <g id=\"text_9\">\r\n      <!-- 1000 -->\r\n      <g style=\"fill:#262626;\" transform=\"translate(7.2 280.163151)scale(0.1 -0.1)\">\r\n       <defs>\r\n        <path d=\"M 14.203125 0 \r\nL 14.203125 5.171875 \r\nL 26.90625 5.171875 \r\nL 26.90625 65.828125 \r\nL 12.203125 56.296875 \r\nL 12.203125 62.703125 \r\nL 29.984375 74.21875 \r\nL 36.71875 74.21875 \r\nL 36.71875 5.171875 \r\nL 49.421875 5.171875 \r\nL 49.421875 0 \r\nz\r\n\" id=\"DejaVuSerif-49\"/>\r\n       </defs>\r\n       <use xlink:href=\"#DejaVuSerif-49\"/>\r\n       <use x=\"63.623047\" xlink:href=\"#DejaVuSerif-48\"/>\r\n       <use x=\"127.246094\" xlink:href=\"#DejaVuSerif-48\"/>\r\n       <use x=\"190.869141\" xlink:href=\"#DejaVuSerif-48\"/>\r\n      </g>\r\n     </g>\r\n    </g>\r\n    <g id=\"ytick_3\">\r\n     <g id=\"line2d_19\">\r\n      <path clip-path=\"url(#p8a14be6714)\" d=\"M 39.65 219.367864 \r\nL 597.65 219.367864 \r\n\" style=\"fill:none;stroke:#ffffff;stroke-linecap:round;\"/>\r\n     </g>\r\n     <g id=\"line2d_20\"/>\r\n     <g id=\"text_10\">\r\n      <!-- 2000 -->\r\n      <g style=\"fill:#262626;\" transform=\"translate(7.2 223.167082)scale(0.1 -0.1)\">\r\n       <use xlink:href=\"#DejaVuSerif-50\"/>\r\n       <use x=\"63.623047\" xlink:href=\"#DejaVuSerif-48\"/>\r\n       <use x=\"127.246094\" xlink:href=\"#DejaVuSerif-48\"/>\r\n       <use x=\"190.869141\" xlink:href=\"#DejaVuSerif-48\"/>\r\n      </g>\r\n     </g>\r\n    </g>\r\n    <g id=\"ytick_4\">\r\n     <g id=\"line2d_21\">\r\n      <path clip-path=\"url(#p8a14be6714)\" d=\"M 39.65 162.371796 \r\nL 597.65 162.371796 \r\n\" style=\"fill:none;stroke:#ffffff;stroke-linecap:round;\"/>\r\n     </g>\r\n     <g id=\"line2d_22\"/>\r\n     <g id=\"text_11\">\r\n      <!-- 3000 -->\r\n      <g style=\"fill:#262626;\" transform=\"translate(7.2 166.171014)scale(0.1 -0.1)\">\r\n       <use xlink:href=\"#DejaVuSerif-51\"/>\r\n       <use x=\"63.623047\" xlink:href=\"#DejaVuSerif-48\"/>\r\n       <use x=\"127.246094\" xlink:href=\"#DejaVuSerif-48\"/>\r\n       <use x=\"190.869141\" xlink:href=\"#DejaVuSerif-48\"/>\r\n      </g>\r\n     </g>\r\n    </g>\r\n    <g id=\"ytick_5\">\r\n     <g id=\"line2d_23\">\r\n      <path clip-path=\"url(#p8a14be6714)\" d=\"M 39.65 105.375727 \r\nL 597.65 105.375727 \r\n\" style=\"fill:none;stroke:#ffffff;stroke-linecap:round;\"/>\r\n     </g>\r\n     <g id=\"line2d_24\"/>\r\n     <g id=\"text_12\">\r\n      <!-- 4000 -->\r\n      <g style=\"fill:#262626;\" transform=\"translate(7.2 109.174946)scale(0.1 -0.1)\">\r\n       <use xlink:href=\"#DejaVuSerif-52\"/>\r\n       <use x=\"63.623047\" xlink:href=\"#DejaVuSerif-48\"/>\r\n       <use x=\"127.246094\" xlink:href=\"#DejaVuSerif-48\"/>\r\n       <use x=\"190.869141\" xlink:href=\"#DejaVuSerif-48\"/>\r\n      </g>\r\n     </g>\r\n    </g>\r\n    <g id=\"ytick_6\">\r\n     <g id=\"line2d_25\">\r\n      <path clip-path=\"url(#p8a14be6714)\" d=\"M 39.65 48.379659 \r\nL 597.65 48.379659 \r\n\" style=\"fill:none;stroke:#ffffff;stroke-linecap:round;\"/>\r\n     </g>\r\n     <g id=\"line2d_26\"/>\r\n     <g id=\"text_13\">\r\n      <!-- 5000 -->\r\n      <g style=\"fill:#262626;\" transform=\"translate(7.2 52.178878)scale(0.1 -0.1)\">\r\n       <use xlink:href=\"#DejaVuSerif-53\"/>\r\n       <use x=\"63.623047\" xlink:href=\"#DejaVuSerif-48\"/>\r\n       <use x=\"127.246094\" xlink:href=\"#DejaVuSerif-48\"/>\r\n       <use x=\"190.869141\" xlink:href=\"#DejaVuSerif-48\"/>\r\n      </g>\r\n     </g>\r\n    </g>\r\n   </g>\r\n   <g id=\"patch_3\">\r\n    <path clip-path=\"url(#p8a14be6714)\" d=\"M 65.013636 333.36 \r\nL 79.507143 333.36 \r\nL 79.507143 332.619051 \r\nL 65.013636 332.619051 \r\nz\r\n\" style=\"fill:#4c72b0;\"/>\r\n   </g>\r\n   <g id=\"patch_4\">\r\n    <path clip-path=\"url(#p8a14be6714)\" d=\"M 79.507143 333.36 \r\nL 94.000649 333.36 \r\nL 94.000649 328.971303 \r\nL 79.507143 328.971303 \r\nz\r\n\" style=\"fill:#4c72b0;\"/>\r\n   </g>\r\n   <g id=\"patch_5\">\r\n    <path clip-path=\"url(#p8a14be6714)\" d=\"M 94.000649 333.36 \r\nL 108.494156 333.36 \r\nL 108.494156 318.42703 \r\nL 94.000649 318.42703 \r\nz\r\n\" style=\"fill:#4c72b0;\"/>\r\n   </g>\r\n   <g id=\"patch_6\">\r\n    <path clip-path=\"url(#p8a14be6714)\" d=\"M 108.494156 333.36 \r\nL 122.987662 333.36 \r\nL 122.987662 294.317693 \r\nL 108.494156 294.317693 \r\nz\r\n\" style=\"fill:#4c72b0;\"/>\r\n   </g>\r\n   <g id=\"patch_7\">\r\n    <path clip-path=\"url(#p8a14be6714)\" d=\"M 122.987662 333.36 \r\nL 137.481169 333.36 \r\nL 137.481169 254.078469 \r\nL 122.987662 254.078469 \r\nz\r\n\" style=\"fill:#4c72b0;\"/>\r\n   </g>\r\n   <g id=\"patch_8\">\r\n    <path clip-path=\"url(#p8a14be6714)\" d=\"M 137.481169 333.36 \r\nL 151.974675 333.36 \r\nL 151.974675 193.662637 \r\nL 137.481169 193.662637 \r\nz\r\n\" style=\"fill:#4c72b0;\"/>\r\n   </g>\r\n   <g id=\"patch_9\">\r\n    <path clip-path=\"url(#p8a14be6714)\" d=\"M 151.974675 333.36 \r\nL 166.468182 333.36 \r\nL 166.468182 129.428068 \r\nL 151.974675 129.428068 \r\nz\r\n\" style=\"fill:#4c72b0;\"/>\r\n   </g>\r\n   <g id=\"patch_10\">\r\n    <path clip-path=\"url(#p8a14be6714)\" d=\"M 166.468182 333.36 \r\nL 180.961688 333.36 \r\nL 180.961688 72.944965 \r\nL 166.468182 72.944965 \r\nz\r\n\" style=\"fill:#4c72b0;\"/>\r\n   </g>\r\n   <g id=\"patch_11\">\r\n    <path clip-path=\"url(#p8a14be6714)\" d=\"M 180.961688 333.36 \r\nL 195.455195 333.36 \r\nL 195.455195 41.312147 \r\nL 180.961688 41.312147 \r\nz\r\n\" style=\"fill:#4c72b0;\"/>\r\n   </g>\r\n   <g id=\"patch_12\">\r\n    <path clip-path=\"url(#p8a14be6714)\" d=\"M 195.455195 333.36 \r\nL 209.948701 333.36 \r\nL 209.948701 22.731429 \r\nL 195.455195 22.731429 \r\nz\r\n\" style=\"fill:#4c72b0;\"/>\r\n   </g>\r\n   <g id=\"patch_13\">\r\n    <path clip-path=\"url(#p8a14be6714)\" d=\"M 209.948701 333.36 \r\nL 224.442208 333.36 \r\nL 224.442208 48.66464 \r\nL 209.948701 48.66464 \r\nz\r\n\" style=\"fill:#4c72b0;\"/>\r\n   </g>\r\n   <g id=\"patch_14\">\r\n    <path clip-path=\"url(#p8a14be6714)\" d=\"M 224.442208 333.36 \r\nL 238.935714 333.36 \r\nL 238.935714 58.410967 \r\nL 224.442208 58.410967 \r\nz\r\n\" style=\"fill:#4c72b0;\"/>\r\n   </g>\r\n   <g id=\"patch_15\">\r\n    <path clip-path=\"url(#p8a14be6714)\" d=\"M 238.935714 333.36 \r\nL 253.429221 333.36 \r\nL 253.429221 106.515649 \r\nL 238.935714 106.515649 \r\nz\r\n\" style=\"fill:#4c72b0;\"/>\r\n   </g>\r\n   <g id=\"patch_16\">\r\n    <path clip-path=\"url(#p8a14be6714)\" d=\"M 253.429221 333.36 \r\nL 267.922727 333.36 \r\nL 267.922727 144.987995 \r\nL 253.429221 144.987995 \r\nz\r\n\" style=\"fill:#4c72b0;\"/>\r\n   </g>\r\n   <g id=\"patch_17\">\r\n    <path clip-path=\"url(#p8a14be6714)\" d=\"M 267.922727 333.36 \r\nL 282.416234 333.36 \r\nL 282.416234 186.424136 \r\nL 267.922727 186.424136 \r\nz\r\n\" style=\"fill:#4c72b0;\"/>\r\n   </g>\r\n   <g id=\"patch_18\">\r\n    <path clip-path=\"url(#p8a14be6714)\" d=\"M 282.416234 333.36 \r\nL 296.90974 333.36 \r\nL 296.90974 216.404068 \r\nL 282.416234 216.404068 \r\nz\r\n\" style=\"fill:#4c72b0;\"/>\r\n   </g>\r\n   <g id=\"patch_19\">\r\n    <path clip-path=\"url(#p8a14be6714)\" d=\"M 296.90974 333.36 \r\nL 311.403247 333.36 \r\nL 311.403247 248.378862 \r\nL 296.90974 248.378862 \r\nz\r\n\" style=\"fill:#4c72b0;\"/>\r\n   </g>\r\n   <g id=\"patch_20\">\r\n    <path clip-path=\"url(#p8a14be6714)\" d=\"M 311.403247 333.36 \r\nL 325.896753 333.36 \r\nL 325.896753 274.312073 \r\nL 311.403247 274.312073 \r\nz\r\n\" style=\"fill:#4c72b0;\"/>\r\n   </g>\r\n   <g id=\"patch_21\">\r\n    <path clip-path=\"url(#p8a14be6714)\" d=\"M 325.896753 333.36 \r\nL 340.39026 333.36 \r\nL 340.39026 293.234768 \r\nL 325.896753 293.234768 \r\nz\r\n\" style=\"fill:#4c72b0;\"/>\r\n   </g>\r\n   <g id=\"patch_22\">\r\n    <path clip-path=\"url(#p8a14be6714)\" d=\"M 340.39026 333.36 \r\nL 354.883766 333.36 \r\nL 354.883766 305.659911 \r\nL 340.39026 305.659911 \r\nz\r\n\" style=\"fill:#4c72b0;\"/>\r\n   </g>\r\n   <g id=\"patch_23\">\r\n    <path clip-path=\"url(#p8a14be6714)\" d=\"M 354.883766 333.36 \r\nL 369.377273 333.36 \r\nL 369.377273 313.297384 \r\nL 354.883766 313.297384 \r\nz\r\n\" style=\"fill:#4c72b0;\"/>\r\n   </g>\r\n   <g id=\"patch_24\">\r\n    <path clip-path=\"url(#p8a14be6714)\" d=\"M 369.377273 333.36 \r\nL 383.870779 333.36 \r\nL 383.870779 321.846794 \r\nL 369.377273 321.846794 \r\nz\r\n\" style=\"fill:#4c72b0;\"/>\r\n   </g>\r\n   <g id=\"patch_25\">\r\n    <path clip-path=\"url(#p8a14be6714)\" d=\"M 383.870779 333.36 \r\nL 398.364286 333.36 \r\nL 398.364286 324.126637 \r\nL 383.870779 324.126637 \r\nz\r\n\" style=\"fill:#4c72b0;\"/>\r\n   </g>\r\n   <g id=\"patch_26\">\r\n    <path clip-path=\"url(#p8a14be6714)\" d=\"M 398.364286 333.36 \r\nL 412.857792 333.36 \r\nL 412.857792 328.116362 \r\nL 398.364286 328.116362 \r\nz\r\n\" style=\"fill:#4c72b0;\"/>\r\n   </g>\r\n   <g id=\"patch_27\">\r\n    <path clip-path=\"url(#p8a14be6714)\" d=\"M 412.857792 333.36 \r\nL 427.351299 333.36 \r\nL 427.351299 330.510197 \r\nL 412.857792 330.510197 \r\nz\r\n\" style=\"fill:#4c72b0;\"/>\r\n   </g>\r\n   <g id=\"patch_28\">\r\n    <path clip-path=\"url(#p8a14be6714)\" d=\"M 427.351299 333.36 \r\nL 441.844805 333.36 \r\nL 441.844805 331.194149 \r\nL 427.351299 331.194149 \r\nz\r\n\" style=\"fill:#4c72b0;\"/>\r\n   </g>\r\n   <g id=\"patch_29\">\r\n    <path clip-path=\"url(#p8a14be6714)\" d=\"M 441.844805 333.36 \r\nL 456.338312 333.36 \r\nL 456.338312 332.562055 \r\nL 441.844805 332.562055 \r\nz\r\n\" style=\"fill:#4c72b0;\"/>\r\n   </g>\r\n   <g id=\"patch_30\">\r\n    <path clip-path=\"url(#p8a14be6714)\" d=\"M 456.338312 333.36 \r\nL 470.831818 333.36 \r\nL 470.831818 332.733043 \r\nL 456.338312 332.733043 \r\nz\r\n\" style=\"fill:#4c72b0;\"/>\r\n   </g>\r\n   <g id=\"patch_31\">\r\n    <path clip-path=\"url(#p8a14be6714)\" d=\"M 470.831818 333.36 \r\nL 485.325325 333.36 \r\nL 485.325325 332.733043 \r\nL 470.831818 332.733043 \r\nz\r\n\" style=\"fill:#4c72b0;\"/>\r\n   </g>\r\n   <g id=\"patch_32\">\r\n    <path clip-path=\"url(#p8a14be6714)\" d=\"M 485.325325 333.36 \r\nL 499.818831 333.36 \r\nL 499.818831 332.904031 \r\nL 485.325325 332.904031 \r\nz\r\n\" style=\"fill:#4c72b0;\"/>\r\n   </g>\r\n   <g id=\"patch_33\">\r\n    <path clip-path=\"url(#p8a14be6714)\" d=\"M 499.818831 333.36 \r\nL 514.312338 333.36 \r\nL 514.312338 333.303004 \r\nL 499.818831 333.303004 \r\nz\r\n\" style=\"fill:#4c72b0;\"/>\r\n   </g>\r\n   <g id=\"patch_34\">\r\n    <path clip-path=\"url(#p8a14be6714)\" d=\"M 514.312338 333.36 \r\nL 528.805844 333.36 \r\nL 528.805844 333.189012 \r\nL 514.312338 333.189012 \r\nz\r\n\" style=\"fill:#4c72b0;\"/>\r\n   </g>\r\n   <g id=\"patch_35\">\r\n    <path clip-path=\"url(#p8a14be6714)\" d=\"M 528.805844 333.36 \r\nL 543.299351 333.36 \r\nL 543.299351 333.303004 \r\nL 528.805844 333.303004 \r\nz\r\n\" style=\"fill:#4c72b0;\"/>\r\n   </g>\r\n   <g id=\"patch_36\">\r\n    <path clip-path=\"url(#p8a14be6714)\" d=\"M 543.299351 333.36 \r\nL 557.792857 333.36 \r\nL 557.792857 333.189012 \r\nL 543.299351 333.189012 \r\nz\r\n\" style=\"fill:#4c72b0;\"/>\r\n   </g>\r\n   <g id=\"patch_37\">\r\n    <path clip-path=\"url(#p8a14be6714)\" d=\"M 557.792857 333.36 \r\nL 572.286364 333.36 \r\nL 572.286364 333.303004 \r\nL 557.792857 333.303004 \r\nz\r\n\" style=\"fill:#4c72b0;\"/>\r\n   </g>\r\n   <g id=\"line2d_27\">\r\n    <path clip-path=\"url(#p8a14be6714)\" d=\"M 219.711846 333.36 \r\nL 219.711846 7.2 \r\n\" style=\"fill:none;stroke:#ff0000;stroke-linecap:round;stroke-width:1.75;\"/>\r\n   </g>\r\n   <g id=\"patch_38\">\r\n    <path d=\"M 39.65 333.36 \r\nL 39.65 7.2 \r\n\" style=\"fill:none;\"/>\r\n   </g>\r\n   <g id=\"patch_39\">\r\n    <path d=\"M 597.65 333.36 \r\nL 597.65 7.2 \r\n\" style=\"fill:none;\"/>\r\n   </g>\r\n   <g id=\"patch_40\">\r\n    <path d=\"M 39.65 333.36 \r\nL 597.65 333.36 \r\n\" style=\"fill:none;\"/>\r\n   </g>\r\n   <g id=\"patch_41\">\r\n    <path d=\"M 39.65 7.2 \r\nL 597.65 7.2 \r\n\" style=\"fill:none;\"/>\r\n   </g>\r\n   <g id=\"legend_1\">\r\n    <g id=\"line2d_28\">\r\n     <path d=\"M 502.496875 20.298438 \r\nL 522.496875 20.298438 \r\n\" style=\"fill:none;stroke:#ff0000;stroke-linecap:round;stroke-width:1.75;\"/>\r\n    </g>\r\n    <g id=\"line2d_29\"/>\r\n    <g id=\"text_14\">\r\n     <!-- mean value -->\r\n     <g style=\"fill:#262626;\" transform=\"translate(530.496875 23.798438)scale(0.1 -0.1)\">\r\n      <defs>\r\n       <path d=\"M 51.8125 41.796875 \r\nQ 54.390625 47.515625 58.421875 50.421875 \r\nQ 62.453125 53.328125 67.828125 53.328125 \r\nQ 75.984375 53.328125 79.984375 48.265625 \r\nQ 83.984375 43.21875 83.984375 33.015625 \r\nL 83.984375 5.171875 \r\nL 92.09375 5.171875 \r\nL 92.09375 0 \r\nL 67.1875 0 \r\nL 67.1875 5.171875 \r\nL 75 5.171875 \r\nL 75 31.984375 \r\nQ 75 39.9375 72.65625 43.3125 \r\nQ 70.3125 46.6875 64.890625 46.6875 \r\nQ 58.890625 46.6875 55.734375 42.140625 \r\nQ 52.59375 37.59375 52.59375 28.90625 \r\nL 52.59375 5.171875 \r\nL 60.40625 5.171875 \r\nL 60.40625 0 \r\nL 35.796875 0 \r\nL 35.796875 5.171875 \r\nL 43.609375 5.171875 \r\nL 43.609375 32.328125 \r\nQ 43.609375 40.09375 41.265625 43.390625 \r\nQ 38.921875 46.6875 33.5 46.6875 \r\nQ 27.484375 46.6875 24.328125 42.140625 \r\nQ 21.1875 37.59375 21.1875 28.90625 \r\nL 21.1875 5.171875 \r\nL 29 5.171875 \r\nL 29 0 \r\nL 4.109375 0 \r\nL 4.109375 5.171875 \r\nL 12.203125 5.171875 \r\nL 12.203125 46.78125 \r\nL 3.609375 46.78125 \r\nL 3.609375 51.90625 \r\nL 21.1875 51.90625 \r\nL 21.1875 42.671875 \r\nQ 23.6875 47.859375 27.53125 50.59375 \r\nQ 31.390625 53.328125 36.28125 53.328125 \r\nQ 42.328125 53.328125 46.375 50.3125 \r\nQ 50.4375 47.3125 51.8125 41.796875 \r\nz\r\n\" id=\"DejaVuSerif-109\"/>\r\n       <path d=\"M 54.203125 25 \r\nL 15.484375 25 \r\nL 15.484375 24.609375 \r\nQ 15.484375 14.109375 19.4375 8.765625 \r\nQ 23.390625 3.421875 31.109375 3.421875 \r\nQ 37.015625 3.421875 40.796875 6.515625 \r\nQ 44.578125 9.625 46.09375 15.71875 \r\nL 53.328125 15.71875 \r\nQ 51.171875 7.171875 45.375 2.875 \r\nQ 39.59375 -1.421875 30.171875 -1.421875 \r\nQ 18.796875 -1.421875 11.890625 6.078125 \r\nQ 4.984375 13.578125 4.984375 25.984375 \r\nQ 4.984375 38.28125 11.765625 45.796875 \r\nQ 18.5625 53.328125 29.59375 53.328125 \r\nQ 41.359375 53.328125 47.65625 46.0625 \r\nQ 53.953125 38.8125 54.203125 25 \r\nz\r\nM 43.609375 30.171875 \r\nQ 43.3125 39.265625 39.765625 43.875 \r\nQ 36.234375 48.484375 29.59375 48.484375 \r\nQ 23.390625 48.484375 19.828125 43.84375 \r\nQ 16.265625 39.203125 15.484375 30.171875 \r\nz\r\n\" id=\"DejaVuSerif-101\"/>\r\n       <path d=\"M 39.796875 16.3125 \r\nL 39.796875 27.296875 \r\nL 28.21875 27.296875 \r\nQ 21.53125 27.296875 18.25 24.40625 \r\nQ 14.984375 21.53125 14.984375 15.578125 \r\nQ 14.984375 10.15625 18.296875 6.984375 \r\nQ 21.625 3.8125 27.296875 3.8125 \r\nQ 32.90625 3.8125 36.34375 7.28125 \r\nQ 39.796875 10.75 39.796875 16.3125 \r\nz\r\nM 48.78125 32.421875 \r\nL 48.78125 5.171875 \r\nL 56.78125 5.171875 \r\nL 56.78125 0 \r\nL 39.796875 0 \r\nL 39.796875 5.609375 \r\nQ 36.8125 2 32.90625 0.28125 \r\nQ 29 -1.421875 23.78125 -1.421875 \r\nQ 15.140625 -1.421875 10.0625 3.171875 \r\nQ 4.984375 7.765625 4.984375 15.578125 \r\nQ 4.984375 23.640625 10.796875 28.078125 \r\nQ 16.609375 32.515625 27.203125 32.515625 \r\nL 39.796875 32.515625 \r\nL 39.796875 36.078125 \r\nQ 39.796875 42 36.203125 45.234375 \r\nQ 32.625 48.484375 26.125 48.484375 \r\nQ 20.75 48.484375 17.578125 46.046875 \r\nQ 14.40625 43.609375 13.625 38.8125 \r\nL 8.984375 38.8125 \r\nL 8.984375 49.3125 \r\nQ 13.671875 51.3125 18.09375 52.3125 \r\nQ 22.515625 53.328125 26.703125 53.328125 \r\nQ 37.5 53.328125 43.140625 47.96875 \r\nQ 48.78125 42.625 48.78125 32.421875 \r\nz\r\n\" id=\"DejaVuSerif-97\"/>\r\n       <path d=\"M 4.109375 0 \r\nL 4.109375 5.171875 \r\nL 12.203125 5.171875 \r\nL 12.203125 46.6875 \r\nL 3.609375 46.6875 \r\nL 3.609375 51.90625 \r\nL 21.1875 51.90625 \r\nL 21.1875 42.671875 \r\nQ 23.6875 47.953125 27.65625 50.640625 \r\nQ 31.640625 53.328125 36.921875 53.328125 \r\nQ 45.515625 53.328125 49.5625 48.390625 \r\nQ 53.609375 43.453125 53.609375 33.015625 \r\nL 53.609375 5.171875 \r\nL 61.625 5.171875 \r\nL 61.625 0 \r\nL 36.8125 0 \r\nL 36.8125 5.171875 \r\nL 44.578125 5.171875 \r\nL 44.578125 30.171875 \r\nQ 44.578125 39.703125 42.234375 43.234375 \r\nQ 39.890625 46.78125 33.984375 46.78125 \r\nQ 27.734375 46.78125 24.453125 42.203125 \r\nQ 21.1875 37.640625 21.1875 28.90625 \r\nL 21.1875 5.171875 \r\nL 29 5.171875 \r\nL 29 0 \r\nz\r\n\" id=\"DejaVuSerif-110\"/>\r\n       <path id=\"DejaVuSerif-32\"/>\r\n       <path d=\"M 24.703125 0 \r\nL 5.609375 46.6875 \r\nL -0.296875 46.6875 \r\nL -0.296875 51.90625 \r\nL 23.578125 51.90625 \r\nL 23.578125 46.6875 \r\nL 15.28125 46.6875 \r\nL 29.890625 10.984375 \r\nL 44.484375 46.6875 \r\nL 36.71875 46.6875 \r\nL 36.71875 51.90625 \r\nL 56.203125 51.90625 \r\nL 56.203125 46.6875 \r\nL 50.390625 46.6875 \r\nL 31.296875 0 \r\nz\r\n\" id=\"DejaVuSerif-118\"/>\r\n       <path d=\"M 20.515625 5.171875 \r\nL 29 5.171875 \r\nL 29 0 \r\nL 2.875 0 \r\nL 2.875 5.171875 \r\nL 11.53125 5.171875 \r\nL 11.53125 70.796875 \r\nL 2.875 70.796875 \r\nL 2.875 75.984375 \r\nL 20.515625 75.984375 \r\nz\r\n\" id=\"DejaVuSerif-108\"/>\r\n       <path d=\"M 35.40625 51.90625 \r\nL 52.203125 51.90625 \r\nL 52.203125 5.171875 \r\nL 60.6875 5.171875 \r\nL 60.6875 0 \r\nL 43.21875 0 \r\nL 43.21875 9.1875 \r\nQ 40.71875 4 36.765625 1.28125 \r\nQ 32.8125 -1.421875 27.59375 -1.421875 \r\nQ 18.953125 -1.421875 14.875 3.484375 \r\nQ 10.796875 8.40625 10.796875 18.890625 \r\nL 10.796875 46.6875 \r\nL 2.6875 46.6875 \r\nL 2.6875 51.90625 \r\nL 19.828125 51.90625 \r\nL 19.828125 21.6875 \r\nQ 19.828125 12.203125 22.140625 8.6875 \r\nQ 24.46875 5.171875 30.421875 5.171875 \r\nQ 36.671875 5.171875 39.9375 9.765625 \r\nQ 43.21875 14.359375 43.21875 23.09375 \r\nL 43.21875 46.6875 \r\nL 35.40625 46.6875 \r\nz\r\n\" id=\"DejaVuSerif-117\"/>\r\n      </defs>\r\n      <use xlink:href=\"#DejaVuSerif-109\"/>\r\n      <use x=\"94.824219\" xlink:href=\"#DejaVuSerif-101\"/>\r\n      <use x=\"154.003906\" xlink:href=\"#DejaVuSerif-97\"/>\r\n      <use x=\"213.623047\" xlink:href=\"#DejaVuSerif-110\"/>\r\n      <use x=\"278.027344\" xlink:href=\"#DejaVuSerif-32\"/>\r\n      <use x=\"309.814453\" xlink:href=\"#DejaVuSerif-118\"/>\r\n      <use x=\"366.308594\" xlink:href=\"#DejaVuSerif-97\"/>\r\n      <use x=\"425.927734\" xlink:href=\"#DejaVuSerif-108\"/>\r\n      <use x=\"457.910156\" xlink:href=\"#DejaVuSerif-117\"/>\r\n      <use x=\"522.314453\" xlink:href=\"#DejaVuSerif-101\"/>\r\n     </g>\r\n    </g>\r\n    <g id=\"patch_42\">\r\n     <path d=\"M 502.496875 38.476563 \r\nL 522.496875 38.476563 \r\nL 522.496875 31.476563 \r\nL 502.496875 31.476563 \r\nz\r\n\" style=\"fill:#4c72b0;\"/>\r\n    </g>\r\n    <g id=\"text_15\">\r\n     <!-- frequency -->\r\n     <g style=\"fill:#262626;\" transform=\"translate(530.496875 38.476563)scale(0.1 -0.1)\">\r\n      <defs>\r\n       <path d=\"M 43.015625 63.71875 \r\nL 38.28125 63.71875 \r\nQ 38.234375 67.390625 36.203125 69.28125 \r\nQ 34.1875 71.1875 30.328125 71.1875 \r\nQ 25.296875 71.1875 23.234375 68.421875 \r\nQ 21.1875 65.671875 21.1875 58.59375 \r\nL 21.1875 51.90625 \r\nL 35.6875 51.90625 \r\nL 35.6875 46.6875 \r\nL 21.1875 46.6875 \r\nL 21.1875 5.171875 \r\nL 32.71875 5.171875 \r\nL 32.71875 0 \r\nL 3.609375 0 \r\nL 3.609375 5.171875 \r\nL 12.203125 5.171875 \r\nL 12.203125 46.6875 \r\nL 3.609375 46.6875 \r\nL 3.609375 51.90625 \r\nL 12.203125 51.90625 \r\nL 12.203125 58.40625 \r\nQ 12.203125 67.09375 16.71875 71.53125 \r\nQ 21.234375 75.984375 29.984375 75.984375 \r\nQ 33.25 75.984375 36.515625 75.390625 \r\nQ 39.796875 74.8125 43.015625 73.578125 \r\nz\r\n\" id=\"DejaVuSerif-102\"/>\r\n       <path d=\"M 47.796875 52 \r\nL 47.796875 39.015625 \r\nL 42.625 39.015625 \r\nQ 42.390625 42.875 40.484375 44.78125 \r\nQ 38.578125 46.6875 34.90625 46.6875 \r\nQ 28.265625 46.6875 24.71875 42.09375 \r\nQ 21.1875 37.5 21.1875 28.90625 \r\nL 21.1875 5.171875 \r\nL 31.59375 5.171875 \r\nL 31.59375 0 \r\nL 4.109375 0 \r\nL 4.109375 5.171875 \r\nL 12.203125 5.171875 \r\nL 12.203125 46.78125 \r\nL 3.609375 46.78125 \r\nL 3.609375 51.90625 \r\nL 21.1875 51.90625 \r\nL 21.1875 42.671875 \r\nQ 23.828125 48.09375 27.96875 50.703125 \r\nQ 32.125 53.328125 38.09375 53.328125 \r\nQ 40.28125 53.328125 42.703125 52.984375 \r\nQ 45.125 52.640625 47.796875 52 \r\nz\r\n\" id=\"DejaVuSerif-114\"/>\r\n       <path d=\"M 52.484375 46.6875 \r\nL 52.484375 -15.578125 \r\nL 61.078125 -15.578125 \r\nL 61.078125 -20.796875 \r\nL 35.015625 -20.796875 \r\nL 35.015625 -15.578125 \r\nL 43.5 -15.578125 \r\nL 43.5 8.109375 \r\nQ 40.875 3.21875 36.796875 0.890625 \r\nQ 32.71875 -1.421875 26.703125 -1.421875 \r\nQ 17.140625 -1.421875 11.0625 6.171875 \r\nQ 4.984375 13.765625 4.984375 25.984375 \r\nQ 4.984375 38.1875 11.03125 45.75 \r\nQ 17.09375 53.328125 26.703125 53.328125 \r\nQ 32.71875 53.328125 36.796875 51 \r\nQ 40.875 48.6875 43.5 43.796875 \r\nL 43.5 51.90625 \r\nL 61.078125 51.90625 \r\nL 61.078125 46.6875 \r\nz\r\nM 43.5 28.515625 \r\nQ 43.5 37.84375 39.90625 42.765625 \r\nQ 36.328125 47.703125 29.5 47.703125 \r\nQ 22.5625 47.703125 19.015625 42.234375 \r\nQ 15.484375 36.765625 15.484375 25.984375 \r\nQ 15.484375 15.234375 19.015625 9.71875 \r\nQ 22.5625 4.203125 29.5 4.203125 \r\nQ 36.328125 4.203125 39.90625 9.109375 \r\nQ 43.5 14.015625 43.5 23.390625 \r\nz\r\n\" id=\"DejaVuSerif-113\"/>\r\n       <path d=\"M 51.421875 15.578125 \r\nQ 49.515625 7.28125 44.09375 2.921875 \r\nQ 38.671875 -1.421875 30.078125 -1.421875 \r\nQ 18.75 -1.421875 11.859375 6.078125 \r\nQ 4.984375 13.578125 4.984375 25.984375 \r\nQ 4.984375 38.421875 11.859375 45.875 \r\nQ 18.75 53.328125 30.078125 53.328125 \r\nQ 35.015625 53.328125 39.890625 52.171875 \r\nQ 44.78125 51.03125 49.703125 48.6875 \r\nL 49.703125 35.40625 \r\nL 44.484375 35.40625 \r\nQ 43.453125 42.234375 40.015625 45.359375 \r\nQ 36.578125 48.484375 30.171875 48.484375 \r\nQ 22.90625 48.484375 19.1875 42.84375 \r\nQ 15.484375 37.203125 15.484375 25.984375 \r\nQ 15.484375 14.75 19.171875 9.078125 \r\nQ 22.859375 3.421875 30.171875 3.421875 \r\nQ 35.984375 3.421875 39.453125 6.4375 \r\nQ 42.921875 9.46875 44.1875 15.578125 \r\nz\r\n\" id=\"DejaVuSerif-99\"/>\r\n       <path d=\"M 21.578125 -9.515625 \r\nL 25 -0.875 \r\nL 5.609375 46.6875 \r\nL -0.296875 46.6875 \r\nL -0.296875 51.90625 \r\nL 23.578125 51.90625 \r\nL 23.578125 46.6875 \r\nL 15.28125 46.6875 \r\nL 29.890625 10.984375 \r\nL 44.484375 46.6875 \r\nL 36.71875 46.6875 \r\nL 36.71875 51.90625 \r\nL 56.203125 51.90625 \r\nL 56.203125 46.6875 \r\nL 50.390625 46.6875 \r\nL 26.609375 -11.71875 \r\nQ 24.171875 -17.78125 21.1875 -20 \r\nQ 18.21875 -22.21875 12.796875 -22.21875 \r\nQ 10.5 -22.21875 8.078125 -21.828125 \r\nQ 5.671875 -21.4375 3.21875 -20.703125 \r\nL 3.21875 -10.796875 \r\nL 7.8125 -10.796875 \r\nQ 8.109375 -14.109375 9.5 -15.546875 \r\nQ 10.890625 -17 13.8125 -17 \r\nQ 16.5 -17 18.140625 -15.5 \r\nQ 19.78125 -14.015625 21.578125 -9.515625 \r\nz\r\n\" id=\"DejaVuSerif-121\"/>\r\n      </defs>\r\n      <use xlink:href=\"#DejaVuSerif-102\"/>\r\n      <use x=\"37.011719\" xlink:href=\"#DejaVuSerif-114\"/>\r\n      <use x=\"84.814453\" xlink:href=\"#DejaVuSerif-101\"/>\r\n      <use x=\"143.994141\" xlink:href=\"#DejaVuSerif-113\"/>\r\n      <use x=\"208.007812\" xlink:href=\"#DejaVuSerif-117\"/>\r\n      <use x=\"272.412109\" xlink:href=\"#DejaVuSerif-101\"/>\r\n      <use x=\"331.591797\" xlink:href=\"#DejaVuSerif-110\"/>\r\n      <use x=\"395.996094\" xlink:href=\"#DejaVuSerif-99\"/>\r\n      <use x=\"452.001953\" xlink:href=\"#DejaVuSerif-121\"/>\r\n     </g>\r\n    </g>\r\n   </g>\r\n  </g>\r\n </g>\r\n <defs>\r\n  <clipPath id=\"p8a14be6714\">\r\n   <rect height=\"326.16\" width=\"558\" x=\"39.65\" y=\"7.2\"/>\r\n  </clipPath>\r\n </defs>\r\n</svg>\r\n",
      "image/png": "[encoded data removed]"
     },
     "metadata": {
      "needs_background": "light"
     }
    }
   ],
   "source": [
    "plt.figure(figsize=(10, 6))\n",
    "plt.hist(S[-1], bins=35, label='frequency')\n",
    "plt.axvline(S[-1].mean(), color='r', label='mean value')\n",
    "plt.legend(loc=0)\n",
    "# plt.savefig('../../images/ch10/perf_02.png');"
   ]
  },
  {
   "cell_type": "markdown",
   "metadata": {},
   "source": [
    "### NumPy"
   ]
  },
  {
   "cell_type": "code",
   "execution_count": 157,
   "metadata": {},
   "outputs": [],
   "source": [
    "def mcs_simulation_np(p):\n",
    "    M, I = p\n",
    "    dt = T / M\n",
    "    S = np.zeros((M + 1, I))\n",
    "    S[0] = S0\n",
    "    rn = np.random.standard_normal(S.shape)\n",
    "    for t in range(1, M + 1):  \n",
    "        S[t] = S[t-1] * np.exp((r - sigma ** 2 / 2) * dt +\n",
    "                               sigma * math.sqrt(dt) * rn[t]) \n",
    "    return S      "
   ]
  },
  {
   "cell_type": "code",
   "execution_count": 158,
   "metadata": {
    "tags": []
   },
   "outputs": [
    {
     "output_type": "stream",
     "name": "stdout",
     "text": "Wall time: 189 ms\n"
    }
   ],
   "source": [
    "%time S = mcs_simulation_np((M, I))"
   ]
  },
  {
   "cell_type": "code",
   "execution_count": 159,
   "metadata": {},
   "outputs": [
    {
     "output_type": "execute_result",
     "data": {
      "text/plain": "38.18713820376923"
     },
     "metadata": {},
     "execution_count": 159
    }
   ],
   "source": [
    "S[-1].mean()"
   ]
  },
  {
   "cell_type": "code",
   "execution_count": 160,
   "metadata": {
    "tags": []
   },
   "outputs": [
    {
     "output_type": "stream",
     "name": "stdout",
     "text": "190 ms ± 3.07 ms per loop (mean ± std. dev. of 7 runs, 10 loops each)\n"
    }
   ],
   "source": [
    "%timeit S = mcs_simulation_np((M, I))"
   ]
  },
  {
   "cell_type": "markdown",
   "metadata": {},
   "source": [
    "### Numba "
   ]
  },
  {
   "cell_type": "code",
   "execution_count": 161,
   "metadata": {},
   "outputs": [],
   "source": [
    "mcs_simulation_nb = numba.jit(mcs_simulation_py)"
   ]
  },
  {
   "cell_type": "code",
   "execution_count": 162,
   "metadata": {
    "tags": []
   },
   "outputs": [
    {
     "output_type": "stream",
     "name": "stdout",
     "text": "Wall time: 597 ms\n"
    }
   ],
   "source": [
    "%time S = mcs_simulation_nb((M, I))  "
   ]
  },
  {
   "cell_type": "code",
   "execution_count": 163,
   "metadata": {
    "tags": []
   },
   "outputs": [
    {
     "output_type": "stream",
     "name": "stdout",
     "text": "Wall time: 173 ms\n"
    }
   ],
   "source": [
    "%time S = mcs_simulation_nb((M, I))  "
   ]
  },
  {
   "cell_type": "code",
   "execution_count": 164,
   "metadata": {},
   "outputs": [
    {
     "output_type": "execute_result",
     "data": {
      "text/plain": "38.18501549090336"
     },
     "metadata": {},
     "execution_count": 164
    }
   ],
   "source": [
    "S[-1].mean()"
   ]
  },
  {
   "cell_type": "code",
   "execution_count": 165,
   "metadata": {},
   "outputs": [],
   "source": [
    "C0 = math.exp(-r * T) * np.maximum(K - S[-1], 0).mean()"
   ]
  },
  {
   "cell_type": "code",
   "execution_count": 166,
   "metadata": {},
   "outputs": [
    {
     "output_type": "execute_result",
     "data": {
      "text/plain": "3.873835314764223"
     },
     "metadata": {},
     "execution_count": 166
    }
   ],
   "source": [
    "C0"
   ]
  },
  {
   "cell_type": "code",
   "execution_count": 167,
   "metadata": {
    "tags": []
   },
   "outputs": [
    {
     "output_type": "stream",
     "name": "stdout",
     "text": "167 ms ± 2.06 ms per loop (mean ± std. dev. of 7 runs, 10 loops each)\n"
    }
   ],
   "source": [
    "%timeit S = mcs_simulation_nb((M, I))  "
   ]
  },
  {
   "cell_type": "markdown",
   "metadata": {},
   "source": [
    "### Cython &mdash; Sequential"
   ]
  },
  {
   "cell_type": "code",
   "execution_count": 168,
   "metadata": {},
   "outputs": [],
   "source": [
    "%%cython\n",
    "import numpy as np\n",
    "cimport numpy as np\n",
    "cimport cython\n",
    "from libc.math cimport exp, sqrt\n",
    "cdef float S0 = 36.\n",
    "cdef float T = 1.0\n",
    "cdef float r = 0.06\n",
    "cdef float sigma = 0.2\n",
    "@cython.boundscheck(False)\n",
    "@cython.wraparound(False)\n",
    "def mcs_simulation_cy(p):\n",
    "    cdef int M, I\n",
    "    M, I = p\n",
    "    cdef int t, i\n",
    "    cdef float dt = T / M\n",
    "    cdef double[:, :] S = np.zeros((M + 1, I))\n",
    "    cdef double[:, :] rn = np.random.standard_normal((M + 1, I))\n",
    "    S[0] = S0\n",
    "    for t in range(1, M + 1):\n",
    "        for i in range(I):\n",
    "            S[t, i] = S[t-1, i] * exp((r - sigma ** 2 / 2) * dt + sigma * sqrt(dt) * rn[t, i])\n",
    "    return np.array(S) "
   ]
  },
  {
   "cell_type": "code",
   "execution_count": 169,
   "metadata": {
    "tags": []
   },
   "outputs": [
    {
     "output_type": "stream",
     "name": "stdout",
     "text": "Wall time: 221 ms\n"
    }
   ],
   "source": [
    "%time S = mcs_simulation_cy((M, I))"
   ]
  },
  {
   "cell_type": "code",
   "execution_count": 170,
   "metadata": {},
   "outputs": [
    {
     "output_type": "execute_result",
     "data": {
      "text/plain": "38.24637818367198"
     },
     "metadata": {},
     "execution_count": 170
    }
   ],
   "source": [
    "S[-1].mean()"
   ]
  },
  {
   "cell_type": "code",
   "execution_count": 171,
   "metadata": {
    "tags": []
   },
   "outputs": [
    {
     "output_type": "stream",
     "name": "stdout",
     "text": "203 ms ± 5.58 ms per loop (mean ± std. dev. of 7 runs, 1 loop each)\n"
    }
   ],
   "source": [
    "%timeit S = mcs_simulation_cy((M, I))"
   ]
  },
  {
   "cell_type": "markdown",
   "metadata": {},
   "source": [
    "### Multiprocessing\n",
    "\n",
    "蒙特卡洛模拟是很适合并行化的任务。例如，方法之一是将10万条路径的模拟分为10个并行的进程，每个进程模拟1万条路径。另一种方法是将10万条路径的模拟分在多个进程中，每个进程模拟不同的金融工具。前者按照固定数量进程来并行模拟大量路径。\n",
    "\n",
    "它将全部模拟路径（I）分为较小的块（p>0）。所有单独任务完成后，结果通过np.hstack()集中到一个ndarray对象。这种方法可应用于前面介绍的任何一个版本"
   ]
  },
  {
   "cell_type": "code",
   "execution_count": 144,
   "metadata": {},
   "outputs": [],
   "source": [
    "import multiprocessing as mp"
   ]
  },
  {
   "cell_type": "code",
   "execution_count": 145,
   "metadata": {},
   "outputs": [],
   "source": [
    "pool = mp.Pool(processes=4)  "
   ]
  },
  {
   "cell_type": "code",
   "execution_count": 146,
   "metadata": {},
   "outputs": [],
   "source": [
    "p = 20  "
   ]
  },
  {
   "cell_type": "code",
   "execution_count": 147,
   "metadata": {},
   "outputs": [
    {
     "name": "stdout",
     "output_type": "stream",
     "text": [
      "148 ms ± 7.19 ms per loop (mean ± std. dev. of 7 runs, 10 loops each)\n"
     ]
    }
   ],
   "source": [
    "%timeit S = np.hstack(pool.map(mcs_simulation_np, p * [(M, int(I / p))]))"
   ]
  },
  {
   "cell_type": "code",
   "execution_count": 148,
   "metadata": {},
   "outputs": [
    {
     "name": "stdout",
     "output_type": "stream",
     "text": [
      "138 ms ± 6.18 ms per loop (mean ± std. dev. of 7 runs, 1 loop each)\n"
     ]
    }
   ],
   "source": [
    "%timeit S = np.hstack(pool.map(mcs_simulation_nb, p * [(M, int(I / p))]))"
   ]
  },
  {
   "cell_type": "code",
   "execution_count": 149,
   "metadata": {},
   "outputs": [
    {
     "name": "stdout",
     "output_type": "stream",
     "text": [
      "146 ms ± 1.99 ms per loop (mean ± std. dev. of 7 runs, 10 loops each)\n"
     ]
    }
   ],
   "source": [
    "%timeit S = np.hstack(pool.map(mcs_simulation_cy, p * [(M, int(I / p))]))"
   ]
  },
  {
   "cell_type": "markdown",
   "metadata": {},
   "source": [
    "多进程策略在金融业务中，有许多算法适用于并行化。其中一些算法甚至可以应用不同的代码并行化策略。蒙特卡洛模拟就是一个很好的例子，不管在单一机器或者多台机器上，都很容易并行执行多次模拟。这种算法本身还可以将单一模拟分布到多个进程上。"
   ]
  },
  {
   "cell_type": "markdown",
   "metadata": {},
   "source": [
    "## Recursive pandas Algorithm\n",
    "\n",
    "本节介绍一个在金融分析中很重要的特殊主题：在pandas的DataFrame对象中存储的金融时间序列上实现递归函数。虽然pandas可以在DataFrame对象上实现复杂的向量化操作，但某些递归算法很难或者无法向量化，金融分析人员不得不在DataFrame对象上执行缓慢的Python循环。"
   ]
  },
  {
   "cell_type": "markdown",
   "metadata": {},
   "source": [
    "### Data and Formula"
   ]
  },
  {
   "cell_type": "code",
   "execution_count": 172,
   "metadata": {},
   "outputs": [],
   "source": [
    "import numba\n",
    "import numpy as np\n",
    "import pandas as pd"
   ]
  },
  {
   "cell_type": "code",
   "execution_count": 173,
   "metadata": {},
   "outputs": [],
   "source": [
    "sym = 'SPY'"
   ]
  },
  {
   "cell_type": "code",
   "execution_count": 174,
   "metadata": {},
   "outputs": [],
   "source": [
    "data = pd.DataFrame(pd.read_csv('http://hilpisch.com/tr_eikon_eod_data.csv', index_col=0, parse_dates=True)[sym]).dropna()"
   ]
  },
  {
   "cell_type": "code",
   "execution_count": 175,
   "metadata": {},
   "outputs": [
    {
     "output_type": "execute_result",
     "data": {
      "text/plain": "               SPY\nDate              \n2010-01-04  113.33\n2010-01-05  113.63\n2010-01-06  113.71\n2010-01-07  114.19\n2010-01-08  114.57\n...            ...\n2018-06-25  271.00\n2018-06-26  271.60\n2018-06-27  269.35\n2018-06-28  270.89\n2018-06-29  271.28\n\n[2138 rows x 1 columns]",
      "text/html": "<div>\n<style scoped>\n    .dataframe tbody tr th:only-of-type {\n        vertical-align: middle;\n    }\n\n    .dataframe tbody tr th {\n        vertical-align: top;\n    }\n\n    .dataframe thead th {\n        text-align: right;\n    }\n</style>\n<table border=\"1\" class=\"dataframe\">\n  <thead>\n    <tr style=\"text-align: right;\">\n      <th></th>\n      <th>SPY</th>\n    </tr>\n    <tr>\n      <th>Date</th>\n      <th></th>\n    </tr>\n  </thead>\n  <tbody>\n    <tr>\n      <th>2010-01-04</th>\n      <td>113.33</td>\n    </tr>\n    <tr>\n      <th>2010-01-05</th>\n      <td>113.63</td>\n    </tr>\n    <tr>\n      <th>2010-01-06</th>\n      <td>113.71</td>\n    </tr>\n    <tr>\n      <th>2010-01-07</th>\n      <td>114.19</td>\n    </tr>\n    <tr>\n      <th>2010-01-08</th>\n      <td>114.57</td>\n    </tr>\n    <tr>\n      <th>...</th>\n      <td>...</td>\n    </tr>\n    <tr>\n      <th>2018-06-25</th>\n      <td>271.00</td>\n    </tr>\n    <tr>\n      <th>2018-06-26</th>\n      <td>271.60</td>\n    </tr>\n    <tr>\n      <th>2018-06-27</th>\n      <td>269.35</td>\n    </tr>\n    <tr>\n      <th>2018-06-28</th>\n      <td>270.89</td>\n    </tr>\n    <tr>\n      <th>2018-06-29</th>\n      <td>271.28</td>\n    </tr>\n  </tbody>\n</table>\n<p>2138 rows × 1 columns</p>\n</div>"
     },
     "metadata": {},
     "execution_count": 175
    }
   ],
   "source": [
    "data"
   ]
  },
  {
   "cell_type": "code",
   "execution_count": 176,
   "metadata": {
    "tags": []
   },
   "outputs": [
    {
     "output_type": "stream",
     "name": "stdout",
     "text": "<class 'pandas.core.frame.DataFrame'>\nDatetimeIndex: 2138 entries, 2010-01-04 to 2018-06-29\nData columns (total 1 columns):\n #   Column  Non-Null Count  Dtype  \n---  ------  --------------  -----  \n 0   SPY     2138 non-null   float64\ndtypes: float64(1)\nmemory usage: 113.4 KB\n"
    }
   ],
   "source": [
    "data.info()"
   ]
  },
  {
   "cell_type": "code",
   "execution_count": 177,
   "metadata": {},
   "outputs": [],
   "source": [
    "alpha = 0.25"
   ]
  },
  {
   "cell_type": "code",
   "execution_count": 178,
   "metadata": {},
   "outputs": [],
   "source": [
    "data['EWMA'] = data[sym]  "
   ]
  },
  {
   "cell_type": "code",
   "execution_count": 179,
   "metadata": {
    "tags": []
   },
   "outputs": [
    {
     "output_type": "stream",
     "name": "stdout",
     "text": "Wall time: 443 ms\n"
    }
   ],
   "source": [
    "%%time\n",
    "for t in zip(data.index, data.index[1:]):\n",
    "    data.loc[t[1], 'EWMA'] = (alpha * data.loc[t[1], sym] + (1 - alpha) * data.loc[t[0],'EWMA'])  "
   ]
  },
  {
   "cell_type": "code",
   "execution_count": 180,
   "metadata": {},
   "outputs": [
    {
     "output_type": "execute_result",
     "data": {
      "text/plain": "               SPY        EWMA\nDate                          \n2010-01-04  113.33  113.330000\n2010-01-05  113.63  113.405000\n2010-01-06  113.71  113.481250\n2010-01-07  114.19  113.658438\n2010-01-08  114.57  113.886328",
      "text/html": "<div>\n<style scoped>\n    .dataframe tbody tr th:only-of-type {\n        vertical-align: middle;\n    }\n\n    .dataframe tbody tr th {\n        vertical-align: top;\n    }\n\n    .dataframe thead th {\n        text-align: right;\n    }\n</style>\n<table border=\"1\" class=\"dataframe\">\n  <thead>\n    <tr style=\"text-align: right;\">\n      <th></th>\n      <th>SPY</th>\n      <th>EWMA</th>\n    </tr>\n    <tr>\n      <th>Date</th>\n      <th></th>\n      <th></th>\n    </tr>\n  </thead>\n  <tbody>\n    <tr>\n      <th>2010-01-04</th>\n      <td>113.33</td>\n      <td>113.330000</td>\n    </tr>\n    <tr>\n      <th>2010-01-05</th>\n      <td>113.63</td>\n      <td>113.405000</td>\n    </tr>\n    <tr>\n      <th>2010-01-06</th>\n      <td>113.71</td>\n      <td>113.481250</td>\n    </tr>\n    <tr>\n      <th>2010-01-07</th>\n      <td>114.19</td>\n      <td>113.658438</td>\n    </tr>\n    <tr>\n      <th>2010-01-08</th>\n      <td>114.57</td>\n      <td>113.886328</td>\n    </tr>\n  </tbody>\n</table>\n</div>"
     },
     "metadata": {},
     "execution_count": 180
    }
   ],
   "source": [
    "data.head()"
   ]
  },
  {
   "cell_type": "code",
   "execution_count": 181,
   "metadata": {},
   "outputs": [
    {
     "output_type": "display_data",
     "data": {
      "text/plain": "<Figure size 720x432 with 1 Axes>",
      "image/svg+xml": "<?xml version=\"1.0\" encoding=\"utf-8\" standalone=\"no\"?>\r\n<!DOCTYPE svg PUBLIC \"-//W3C//DTD SVG 1.1//EN\"\r\n  \"http://www.w3.org/Graphics/SVG/1.1/DTD/svg11.dtd\">\r\n<!-- Created with matplotlib (https://matplotlib.org/) -->\r\n<svg height=\"358.964783pt\" version=\"1.1\" viewBox=\"0 0 598.4875 358.964783\" width=\"598.4875pt\" xmlns=\"http://www.w3.org/2000/svg\" xmlns:xlink=\"http://www.w3.org/1999/xlink\">\r\n <metadata>\r\n  <rdf:RDF xmlns:cc=\"http://creativecommons.org/ns#\" xmlns:dc=\"http://purl.org/dc/elements/1.1/\" xmlns:rdf=\"http://www.w3.org/1999/02/22-rdf-syntax-ns#\">\r\n   <cc:Work>\r\n    <dc:type rdf:resource=\"http://purl.org/dc/dcmitype/StillImage\"/>\r\n    <dc:date>2020-09-01T19:41:06.398924</dc:date>\r\n    <dc:format>image/svg+xml</dc:format>\r\n    <dc:creator>\r\n     <cc:Agent>\r\n      <dc:title>Matplotlib v3.3.1, https://matplotlib.org/</dc:title>\r\n     </cc:Agent>\r\n    </dc:creator>\r\n   </cc:Work>\r\n  </rdf:RDF>\r\n </metadata>\r\n <defs>\r\n  <style type=\"text/css\">*{stroke-linecap:butt;stroke-linejoin:round;}</style>\r\n </defs>\r\n <g id=\"figure_1\">\r\n  <g id=\"patch_1\">\r\n   <path d=\"M 0 358.964783 \r\nL 598.4875 358.964783 \r\nL 598.4875 0 \r\nL 0 0 \r\nz\r\n\" style=\"fill:none;\"/>\r\n  </g>\r\n  <g id=\"axes_1\">\r\n   <g id=\"patch_2\">\r\n    <path d=\"M 33.2875 300.96 \r\nL 591.2875 300.96 \r\nL 591.2875 7.2 \r\nL 33.2875 7.2 \r\nz\r\n\" style=\"fill:#eaeaf2;\"/>\r\n   </g>\r\n   <g id=\"matplotlib.axis_1\">\r\n    <g id=\"xtick_1\">\r\n     <g id=\"line2d_1\">\r\n      <path clip-path=\"url(#p742b6cb52e)\" d=\"M 56.779281 300.96 \r\nL 56.779281 7.2 \r\n\" style=\"fill:none;stroke:#ffffff;stroke-linecap:round;\"/>\r\n     </g>\r\n     <g id=\"line2d_2\"/>\r\n     <g id=\"text_1\">\r\n      <!-- 2017-01 -->\r\n      <g style=\"fill:#262626;\" transform=\"translate(19.752023 335.317784)rotate(-30)scale(0.1 -0.1)\">\r\n       <defs>\r\n        <path d=\"M 12.796875 55.515625 \r\nL 7.328125 55.515625 \r\nL 7.328125 68.5 \r\nQ 12.546875 71.296875 17.84375 72.75 \r\nQ 23.140625 74.21875 28.21875 74.21875 \r\nQ 39.59375 74.21875 46.1875 68.703125 \r\nQ 52.78125 63.1875 52.78125 53.71875 \r\nQ 52.78125 43.015625 37.84375 28.125 \r\nQ 36.671875 27 36.078125 26.421875 \r\nL 17.671875 8.015625 \r\nL 48.09375 8.015625 \r\nL 48.09375 17 \r\nL 53.8125 17 \r\nL 53.8125 0 \r\nL 6.78125 0 \r\nL 6.78125 5.328125 \r\nL 28.90625 27.390625 \r\nQ 36.234375 34.71875 39.359375 40.84375 \r\nQ 42.484375 46.96875 42.484375 53.71875 \r\nQ 42.484375 61.078125 38.640625 65.234375 \r\nQ 34.8125 69.390625 28.078125 69.390625 \r\nQ 21.09375 69.390625 17.28125 65.921875 \r\nQ 13.484375 62.453125 12.796875 55.515625 \r\nz\r\n\" id=\"DejaVuSerif-50\"/>\r\n        <path d=\"M 31.78125 3.421875 \r\nQ 39.265625 3.421875 42.96875 11.625 \r\nQ 46.6875 19.828125 46.6875 36.375 \r\nQ 46.6875 52.984375 42.96875 61.1875 \r\nQ 39.265625 69.390625 31.78125 69.390625 \r\nQ 24.3125 69.390625 20.59375 61.1875 \r\nQ 16.890625 52.984375 16.890625 36.375 \r\nQ 16.890625 19.828125 20.59375 11.625 \r\nQ 24.3125 3.421875 31.78125 3.421875 \r\nz\r\nM 31.78125 -1.421875 \r\nQ 19.921875 -1.421875 13.25 8.53125 \r\nQ 6.59375 18.5 6.59375 36.375 \r\nQ 6.59375 54.296875 13.25 64.25 \r\nQ 19.921875 74.21875 31.78125 74.21875 \r\nQ 43.703125 74.21875 50.34375 64.25 \r\nQ 56.984375 54.296875 56.984375 36.375 \r\nQ 56.984375 18.5 50.34375 8.53125 \r\nQ 43.703125 -1.421875 31.78125 -1.421875 \r\nz\r\n\" id=\"DejaVuSerif-48\"/>\r\n        <path d=\"M 14.203125 0 \r\nL 14.203125 5.171875 \r\nL 26.90625 5.171875 \r\nL 26.90625 65.828125 \r\nL 12.203125 56.296875 \r\nL 12.203125 62.703125 \r\nL 29.984375 74.21875 \r\nL 36.71875 74.21875 \r\nL 36.71875 5.171875 \r\nL 49.421875 5.171875 \r\nL 49.421875 0 \r\nz\r\n\" id=\"DejaVuSerif-49\"/>\r\n        <path d=\"M 56.390625 67.921875 \r\nL 27.875 0 \r\nL 20.609375 0 \r\nL 47.796875 64.890625 \r\nL 14.109375 64.890625 \r\nL 14.109375 55.90625 \r\nL 8.40625 55.90625 \r\nL 8.40625 72.90625 \r\nL 56.390625 72.90625 \r\nz\r\n\" id=\"DejaVuSerif-55\"/>\r\n        <path d=\"M 4.390625 30.609375 \r\nL 29.390625 30.609375 \r\nL 29.390625 23 \r\nL 4.390625 23 \r\nz\r\n\" id=\"DejaVuSerif-45\"/>\r\n       </defs>\r\n       <use xlink:href=\"#DejaVuSerif-50\"/>\r\n       <use x=\"63.623047\" xlink:href=\"#DejaVuSerif-48\"/>\r\n       <use x=\"127.246094\" xlink:href=\"#DejaVuSerif-49\"/>\r\n       <use x=\"190.869141\" xlink:href=\"#DejaVuSerif-55\"/>\r\n       <use x=\"254.492188\" xlink:href=\"#DejaVuSerif-45\"/>\r\n       <use x=\"288.28125\" xlink:href=\"#DejaVuSerif-48\"/>\r\n       <use x=\"351.904297\" xlink:href=\"#DejaVuSerif-49\"/>\r\n      </g>\r\n     </g>\r\n    </g>\r\n    <g id=\"xtick_2\">\r\n     <g id=\"line2d_3\">\r\n      <path clip-path=\"url(#p742b6cb52e)\" d=\"M 111.999006 300.96 \r\nL 111.999006 7.2 \r\n\" style=\"fill:none;stroke:#ffffff;stroke-linecap:round;\"/>\r\n     </g>\r\n     <g id=\"line2d_4\"/>\r\n     <g id=\"text_2\">\r\n      <!-- 2017-03 -->\r\n      <g style=\"fill:#262626;\" transform=\"translate(74.971747 335.317784)rotate(-30)scale(0.1 -0.1)\">\r\n       <defs>\r\n        <path d=\"M 9.71875 69.828125 \r\nQ 15.4375 71.96875 20.671875 73.09375 \r\nQ 25.921875 74.21875 30.515625 74.21875 \r\nQ 41.21875 74.21875 47.21875 69.59375 \r\nQ 53.21875 64.984375 53.21875 56.78125 \r\nQ 53.21875 50.203125 49.0625 45.78125 \r\nQ 44.921875 41.359375 37.3125 39.796875 \r\nQ 46.296875 38.53125 51.25 33.28125 \r\nQ 56.203125 28.03125 56.203125 19.671875 \r\nQ 56.203125 9.46875 49.34375 4.015625 \r\nQ 42.484375 -1.421875 29.59375 -1.421875 \r\nQ 23.875 -1.421875 18.421875 -0.1875 \r\nQ 12.984375 1.03125 7.625 3.515625 \r\nL 7.625 17.671875 \r\nL 13.09375 17.671875 \r\nQ 13.578125 10.640625 17.828125 7.03125 \r\nQ 22.078125 3.421875 29.78125 3.421875 \r\nQ 37.25 3.421875 41.578125 7.734375 \r\nQ 45.90625 12.0625 45.90625 19.578125 \r\nQ 45.90625 28.171875 41.453125 32.59375 \r\nQ 37.015625 37.015625 28.421875 37.015625 \r\nL 23.78125 37.015625 \r\nL 23.78125 42 \r\nL 26.21875 42 \r\nQ 34.765625 42 39.03125 45.53125 \r\nQ 43.3125 49.078125 43.3125 56.203125 \r\nQ 43.3125 62.59375 39.796875 65.984375 \r\nQ 36.28125 69.390625 29.6875 69.390625 \r\nQ 23.09375 69.390625 19.453125 66.265625 \r\nQ 15.828125 63.140625 15.1875 56.984375 \r\nL 9.71875 56.984375 \r\nz\r\n\" id=\"DejaVuSerif-51\"/>\r\n       </defs>\r\n       <use xlink:href=\"#DejaVuSerif-50\"/>\r\n       <use x=\"63.623047\" xlink:href=\"#DejaVuSerif-48\"/>\r\n       <use x=\"127.246094\" xlink:href=\"#DejaVuSerif-49\"/>\r\n       <use x=\"190.869141\" xlink:href=\"#DejaVuSerif-55\"/>\r\n       <use x=\"254.492188\" xlink:href=\"#DejaVuSerif-45\"/>\r\n       <use x=\"288.28125\" xlink:href=\"#DejaVuSerif-48\"/>\r\n       <use x=\"351.904297\" xlink:href=\"#DejaVuSerif-51\"/>\r\n      </g>\r\n     </g>\r\n    </g>\r\n    <g id=\"xtick_3\">\r\n     <g id=\"line2d_5\">\r\n      <path clip-path=\"url(#p742b6cb52e)\" d=\"M 169.090586 300.96 \r\nL 169.090586 7.2 \r\n\" style=\"fill:none;stroke:#ffffff;stroke-linecap:round;\"/>\r\n     </g>\r\n     <g id=\"line2d_6\"/>\r\n     <g id=\"text_3\">\r\n      <!-- 2017-05 -->\r\n      <g style=\"fill:#262626;\" transform=\"translate(132.063327 335.317784)rotate(-30)scale(0.1 -0.1)\">\r\n       <defs>\r\n        <path d=\"M 50.296875 72.90625 \r\nL 50.296875 64.890625 \r\nL 16.890625 64.890625 \r\nL 16.890625 44 \r\nQ 19.4375 45.75 22.828125 46.625 \r\nQ 26.21875 47.515625 30.421875 47.515625 \r\nQ 42.234375 47.515625 49.0625 40.96875 \r\nQ 55.90625 34.421875 55.90625 23.09375 \r\nQ 55.90625 11.53125 49 5.046875 \r\nQ 42.09375 -1.421875 29.59375 -1.421875 \r\nQ 24.5625 -1.421875 19.28125 -0.1875 \r\nQ 14.015625 1.03125 8.5 3.515625 \r\nL 8.5 17.671875 \r\nL 14.015625 17.671875 \r\nQ 14.453125 10.75 18.421875 7.078125 \r\nQ 22.40625 3.421875 29.59375 3.421875 \r\nQ 37.3125 3.421875 41.453125 8.5 \r\nQ 45.609375 13.578125 45.609375 23.09375 \r\nQ 45.609375 32.5625 41.484375 37.609375 \r\nQ 37.359375 42.671875 29.59375 42.671875 \r\nQ 25.203125 42.671875 21.84375 41.109375 \r\nQ 18.5 39.546875 15.921875 36.28125 \r\nL 11.71875 36.28125 \r\nL 11.71875 72.90625 \r\nz\r\n\" id=\"DejaVuSerif-53\"/>\r\n       </defs>\r\n       <use xlink:href=\"#DejaVuSerif-50\"/>\r\n       <use x=\"63.623047\" xlink:href=\"#DejaVuSerif-48\"/>\r\n       <use x=\"127.246094\" xlink:href=\"#DejaVuSerif-49\"/>\r\n       <use x=\"190.869141\" xlink:href=\"#DejaVuSerif-55\"/>\r\n       <use x=\"254.492188\" xlink:href=\"#DejaVuSerif-45\"/>\r\n       <use x=\"288.28125\" xlink:href=\"#DejaVuSerif-48\"/>\r\n       <use x=\"351.904297\" xlink:href=\"#DejaVuSerif-53\"/>\r\n      </g>\r\n     </g>\r\n    </g>\r\n    <g id=\"xtick_4\">\r\n     <g id=\"line2d_7\">\r\n      <path clip-path=\"url(#p742b6cb52e)\" d=\"M 226.182166 300.96 \r\nL 226.182166 7.2 \r\n\" style=\"fill:none;stroke:#ffffff;stroke-linecap:round;\"/>\r\n     </g>\r\n     <g id=\"line2d_8\"/>\r\n     <g id=\"text_4\">\r\n      <!-- 2017-07 -->\r\n      <g style=\"fill:#262626;\" transform=\"translate(189.154907 335.317784)rotate(-30)scale(0.1 -0.1)\">\r\n       <use xlink:href=\"#DejaVuSerif-50\"/>\r\n       <use x=\"63.623047\" xlink:href=\"#DejaVuSerif-48\"/>\r\n       <use x=\"127.246094\" xlink:href=\"#DejaVuSerif-49\"/>\r\n       <use x=\"190.869141\" xlink:href=\"#DejaVuSerif-55\"/>\r\n       <use x=\"254.492188\" xlink:href=\"#DejaVuSerif-45\"/>\r\n       <use x=\"288.28125\" xlink:href=\"#DejaVuSerif-48\"/>\r\n       <use x=\"351.904297\" xlink:href=\"#DejaVuSerif-55\"/>\r\n      </g>\r\n     </g>\r\n    </g>\r\n    <g id=\"xtick_5\">\r\n     <g id=\"line2d_9\">\r\n      <path clip-path=\"url(#p742b6cb52e)\" d=\"M 284.209674 300.96 \r\nL 284.209674 7.2 \r\n\" style=\"fill:none;stroke:#ffffff;stroke-linecap:round;\"/>\r\n     </g>\r\n     <g id=\"line2d_10\"/>\r\n     <g id=\"text_5\">\r\n      <!-- 2017-09 -->\r\n      <g style=\"fill:#262626;\" transform=\"translate(247.182415 335.317784)rotate(-30)scale(0.1 -0.1)\">\r\n       <defs>\r\n        <path d=\"M 46.78125 32.671875 \r\nQ 43.5 29 39.25 27.1875 \r\nQ 35.015625 25.390625 29.6875 25.390625 \r\nQ 18.84375 25.390625 12.5625 31.9375 \r\nQ 6.296875 38.484375 6.296875 49.8125 \r\nQ 6.296875 60.890625 13.109375 67.546875 \r\nQ 19.921875 74.21875 31.296875 74.21875 \r\nQ 43.65625 74.21875 50.265625 65.015625 \r\nQ 56.890625 55.8125 56.890625 38.71875 \r\nQ 56.890625 19.578125 49.015625 9.078125 \r\nQ 41.15625 -1.421875 26.90625 -1.421875 \r\nQ 23.046875 -1.421875 18.796875 -0.6875 \r\nQ 14.546875 0.046875 10.109375 1.515625 \r\nL 10.109375 13.625 \r\nL 15.578125 13.625 \r\nQ 16.21875 8.6875 19.390625 6.046875 \r\nQ 22.5625 3.421875 27.875 3.421875 \r\nQ 37.359375 3.421875 41.984375 10.5625 \r\nQ 46.625 17.71875 46.78125 32.671875 \r\nz\r\nM 30.90625 69.390625 \r\nQ 23.96875 69.390625 20.28125 64.328125 \r\nQ 16.609375 59.28125 16.609375 49.8125 \r\nQ 16.609375 40.328125 20.28125 35.25 \r\nQ 23.96875 30.171875 30.90625 30.171875 \r\nQ 37.84375 30.171875 41.53125 35.078125 \r\nQ 45.21875 39.984375 45.21875 49.21875 \r\nQ 45.21875 58.9375 41.5 64.15625 \r\nQ 37.796875 69.390625 30.90625 69.390625 \r\nz\r\n\" id=\"DejaVuSerif-57\"/>\r\n       </defs>\r\n       <use xlink:href=\"#DejaVuSerif-50\"/>\r\n       <use x=\"63.623047\" xlink:href=\"#DejaVuSerif-48\"/>\r\n       <use x=\"127.246094\" xlink:href=\"#DejaVuSerif-49\"/>\r\n       <use x=\"190.869141\" xlink:href=\"#DejaVuSerif-55\"/>\r\n       <use x=\"254.492188\" xlink:href=\"#DejaVuSerif-45\"/>\r\n       <use x=\"288.28125\" xlink:href=\"#DejaVuSerif-48\"/>\r\n       <use x=\"351.904297\" xlink:href=\"#DejaVuSerif-57\"/>\r\n      </g>\r\n     </g>\r\n    </g>\r\n    <g id=\"xtick_6\">\r\n     <g id=\"line2d_11\">\r\n      <path clip-path=\"url(#p742b6cb52e)\" d=\"M 341.301254 300.96 \r\nL 341.301254 7.2 \r\n\" style=\"fill:none;stroke:#ffffff;stroke-linecap:round;\"/>\r\n     </g>\r\n     <g id=\"line2d_12\"/>\r\n     <g id=\"text_6\">\r\n      <!-- 2017-11 -->\r\n      <g style=\"fill:#262626;\" transform=\"translate(304.273995 335.317784)rotate(-30)scale(0.1 -0.1)\">\r\n       <use xlink:href=\"#DejaVuSerif-50\"/>\r\n       <use x=\"63.623047\" xlink:href=\"#DejaVuSerif-48\"/>\r\n       <use x=\"127.246094\" xlink:href=\"#DejaVuSerif-49\"/>\r\n       <use x=\"190.869141\" xlink:href=\"#DejaVuSerif-55\"/>\r\n       <use x=\"254.492188\" xlink:href=\"#DejaVuSerif-45\"/>\r\n       <use x=\"288.28125\" xlink:href=\"#DejaVuSerif-49\"/>\r\n       <use x=\"351.904297\" xlink:href=\"#DejaVuSerif-49\"/>\r\n      </g>\r\n     </g>\r\n    </g>\r\n    <g id=\"xtick_7\">\r\n     <g id=\"line2d_13\">\r\n      <path clip-path=\"url(#p742b6cb52e)\" d=\"M 398.392834 300.96 \r\nL 398.392834 7.2 \r\n\" style=\"fill:none;stroke:#ffffff;stroke-linecap:round;\"/>\r\n     </g>\r\n     <g id=\"line2d_14\"/>\r\n     <g id=\"text_7\">\r\n      <!-- 2018-01 -->\r\n      <g style=\"fill:#262626;\" transform=\"translate(361.365575 335.317784)rotate(-30)scale(0.1 -0.1)\">\r\n       <defs>\r\n        <path d=\"M 46.578125 19.921875 \r\nQ 46.578125 27.734375 42.6875 32.046875 \r\nQ 38.8125 36.375 31.78125 36.375 \r\nQ 24.75 36.375 20.875 32.046875 \r\nQ 17 27.734375 17 19.921875 \r\nQ 17 12.0625 20.875 7.734375 \r\nQ 24.75 3.421875 31.78125 3.421875 \r\nQ 38.8125 3.421875 42.6875 7.734375 \r\nQ 46.578125 12.0625 46.578125 19.921875 \r\nz\r\nM 44.578125 55.328125 \r\nQ 44.578125 61.96875 41.203125 65.671875 \r\nQ 37.84375 69.390625 31.78125 69.390625 \r\nQ 25.78125 69.390625 22.390625 65.671875 \r\nQ 19 61.96875 19 55.328125 \r\nQ 19 48.640625 22.390625 44.921875 \r\nQ 25.78125 41.21875 31.78125 41.21875 \r\nQ 37.84375 41.21875 41.203125 44.921875 \r\nQ 44.578125 48.640625 44.578125 55.328125 \r\nz\r\nM 39.3125 38.8125 \r\nQ 47.609375 37.703125 52.25 32.6875 \r\nQ 56.890625 27.6875 56.890625 19.921875 \r\nQ 56.890625 9.671875 50.390625 4.125 \r\nQ 43.890625 -1.421875 31.78125 -1.421875 \r\nQ 19.734375 -1.421875 13.203125 4.125 \r\nQ 6.6875 9.671875 6.6875 19.921875 \r\nQ 6.6875 27.6875 11.328125 32.6875 \r\nQ 15.96875 37.703125 24.3125 38.8125 \r\nQ 16.9375 40.140625 13 44.40625 \r\nQ 9.078125 48.6875 9.078125 55.328125 \r\nQ 9.078125 64.109375 15.125 69.15625 \r\nQ 21.1875 74.21875 31.78125 74.21875 \r\nQ 42.390625 74.21875 48.4375 69.15625 \r\nQ 54.5 64.109375 54.5 55.328125 \r\nQ 54.5 48.6875 50.5625 44.40625 \r\nQ 46.625 40.140625 39.3125 38.8125 \r\nz\r\n\" id=\"DejaVuSerif-56\"/>\r\n       </defs>\r\n       <use xlink:href=\"#DejaVuSerif-50\"/>\r\n       <use x=\"63.623047\" xlink:href=\"#DejaVuSerif-48\"/>\r\n       <use x=\"127.246094\" xlink:href=\"#DejaVuSerif-49\"/>\r\n       <use x=\"190.869141\" xlink:href=\"#DejaVuSerif-56\"/>\r\n       <use x=\"254.492188\" xlink:href=\"#DejaVuSerif-45\"/>\r\n       <use x=\"288.28125\" xlink:href=\"#DejaVuSerif-48\"/>\r\n       <use x=\"351.904297\" xlink:href=\"#DejaVuSerif-49\"/>\r\n      </g>\r\n     </g>\r\n    </g>\r\n    <g id=\"xtick_8\">\r\n     <g id=\"line2d_15\">\r\n      <path clip-path=\"url(#p742b6cb52e)\" d=\"M 453.612559 300.96 \r\nL 453.612559 7.2 \r\n\" style=\"fill:none;stroke:#ffffff;stroke-linecap:round;\"/>\r\n     </g>\r\n     <g id=\"line2d_16\"/>\r\n     <g id=\"text_8\">\r\n      <!-- 2018-03 -->\r\n      <g style=\"fill:#262626;\" transform=\"translate(416.5853 335.317784)rotate(-30)scale(0.1 -0.1)\">\r\n       <use xlink:href=\"#DejaVuSerif-50\"/>\r\n       <use x=\"63.623047\" xlink:href=\"#DejaVuSerif-48\"/>\r\n       <use x=\"127.246094\" xlink:href=\"#DejaVuSerif-49\"/>\r\n       <use x=\"190.869141\" xlink:href=\"#DejaVuSerif-56\"/>\r\n       <use x=\"254.492188\" xlink:href=\"#DejaVuSerif-45\"/>\r\n       <use x=\"288.28125\" xlink:href=\"#DejaVuSerif-48\"/>\r\n       <use x=\"351.904297\" xlink:href=\"#DejaVuSerif-51\"/>\r\n      </g>\r\n     </g>\r\n    </g>\r\n    <g id=\"xtick_9\">\r\n     <g id=\"line2d_17\">\r\n      <path clip-path=\"url(#p742b6cb52e)\" d=\"M 510.704139 300.96 \r\nL 510.704139 7.2 \r\n\" style=\"fill:none;stroke:#ffffff;stroke-linecap:round;\"/>\r\n     </g>\r\n     <g id=\"line2d_18\"/>\r\n     <g id=\"text_9\">\r\n      <!-- 2018-05 -->\r\n      <g style=\"fill:#262626;\" transform=\"translate(473.67688 335.317784)rotate(-30)scale(0.1 -0.1)\">\r\n       <use xlink:href=\"#DejaVuSerif-50\"/>\r\n       <use x=\"63.623047\" xlink:href=\"#DejaVuSerif-48\"/>\r\n       <use x=\"127.246094\" xlink:href=\"#DejaVuSerif-49\"/>\r\n       <use x=\"190.869141\" xlink:href=\"#DejaVuSerif-56\"/>\r\n       <use x=\"254.492188\" xlink:href=\"#DejaVuSerif-45\"/>\r\n       <use x=\"288.28125\" xlink:href=\"#DejaVuSerif-48\"/>\r\n       <use x=\"351.904297\" xlink:href=\"#DejaVuSerif-53\"/>\r\n      </g>\r\n     </g>\r\n    </g>\r\n    <g id=\"xtick_10\">\r\n     <g id=\"line2d_19\">\r\n      <path clip-path=\"url(#p742b6cb52e)\" d=\"M 567.795719 300.96 \r\nL 567.795719 7.2 \r\n\" style=\"fill:none;stroke:#ffffff;stroke-linecap:round;\"/>\r\n     </g>\r\n     <g id=\"line2d_20\"/>\r\n     <g id=\"text_10\">\r\n      <!-- 2018-07 -->\r\n      <g style=\"fill:#262626;\" transform=\"translate(530.76846 335.317784)rotate(-30)scale(0.1 -0.1)\">\r\n       <use xlink:href=\"#DejaVuSerif-50\"/>\r\n       <use x=\"63.623047\" xlink:href=\"#DejaVuSerif-48\"/>\r\n       <use x=\"127.246094\" xlink:href=\"#DejaVuSerif-49\"/>\r\n       <use x=\"190.869141\" xlink:href=\"#DejaVuSerif-56\"/>\r\n       <use x=\"254.492188\" xlink:href=\"#DejaVuSerif-45\"/>\r\n       <use x=\"288.28125\" xlink:href=\"#DejaVuSerif-48\"/>\r\n       <use x=\"351.904297\" xlink:href=\"#DejaVuSerif-55\"/>\r\n      </g>\r\n     </g>\r\n    </g>\r\n    <g id=\"text_11\">\r\n     <!-- Date -->\r\n     <g style=\"fill:#262626;\" transform=\"translate(299.133047 349.477127)scale(0.11 -0.11)\">\r\n      <defs>\r\n       <path d=\"M 24.703125 5.171875 \r\nL 33.796875 5.171875 \r\nQ 48 5.171875 55.59375 13.28125 \r\nQ 63.1875 21.390625 63.1875 36.53125 \r\nQ 63.1875 51.65625 55.609375 59.65625 \r\nQ 48.046875 67.671875 33.796875 67.671875 \r\nL 24.703125 67.671875 \r\nz\r\nM 5.515625 0 \r\nL 5.515625 5.171875 \r\nL 14.796875 5.171875 \r\nL 14.796875 67.671875 \r\nL 5.515625 67.671875 \r\nL 5.515625 72.90625 \r\nL 34.515625 72.90625 \r\nQ 53.375 72.90625 63.890625 63.28125 \r\nQ 74.421875 53.65625 74.421875 36.53125 \r\nQ 74.421875 19.34375 63.875 9.671875 \r\nQ 53.328125 0 34.515625 0 \r\nz\r\n\" id=\"DejaVuSerif-68\"/>\r\n       <path d=\"M 39.796875 16.3125 \r\nL 39.796875 27.296875 \r\nL 28.21875 27.296875 \r\nQ 21.53125 27.296875 18.25 24.40625 \r\nQ 14.984375 21.53125 14.984375 15.578125 \r\nQ 14.984375 10.15625 18.296875 6.984375 \r\nQ 21.625 3.8125 27.296875 3.8125 \r\nQ 32.90625 3.8125 36.34375 7.28125 \r\nQ 39.796875 10.75 39.796875 16.3125 \r\nz\r\nM 48.78125 32.421875 \r\nL 48.78125 5.171875 \r\nL 56.78125 5.171875 \r\nL 56.78125 0 \r\nL 39.796875 0 \r\nL 39.796875 5.609375 \r\nQ 36.8125 2 32.90625 0.28125 \r\nQ 29 -1.421875 23.78125 -1.421875 \r\nQ 15.140625 -1.421875 10.0625 3.171875 \r\nQ 4.984375 7.765625 4.984375 15.578125 \r\nQ 4.984375 23.640625 10.796875 28.078125 \r\nQ 16.609375 32.515625 27.203125 32.515625 \r\nL 39.796875 32.515625 \r\nL 39.796875 36.078125 \r\nQ 39.796875 42 36.203125 45.234375 \r\nQ 32.625 48.484375 26.125 48.484375 \r\nQ 20.75 48.484375 17.578125 46.046875 \r\nQ 14.40625 43.609375 13.625 38.8125 \r\nL 8.984375 38.8125 \r\nL 8.984375 49.3125 \r\nQ 13.671875 51.3125 18.09375 52.3125 \r\nQ 22.515625 53.328125 26.703125 53.328125 \r\nQ 37.5 53.328125 43.140625 47.96875 \r\nQ 48.78125 42.625 48.78125 32.421875 \r\nz\r\n\" id=\"DejaVuSerif-97\"/>\r\n       <path d=\"M 10.796875 46.6875 \r\nL 2.875 46.6875 \r\nL 2.875 51.90625 \r\nL 10.796875 51.90625 \r\nL 10.796875 68.015625 \r\nL 19.828125 68.015625 \r\nL 19.828125 51.90625 \r\nL 36.71875 51.90625 \r\nL 36.71875 46.6875 \r\nL 19.828125 46.6875 \r\nL 19.828125 13.71875 \r\nQ 19.828125 7.125 21.09375 5.265625 \r\nQ 22.359375 3.421875 25.78125 3.421875 \r\nQ 29.296875 3.421875 30.90625 5.484375 \r\nQ 32.515625 7.5625 32.625 12.203125 \r\nL 39.40625 12.203125 \r\nQ 39.015625 5.125 35.546875 1.84375 \r\nQ 32.078125 -1.421875 25 -1.421875 \r\nQ 17.234375 -1.421875 14.015625 2.015625 \r\nQ 10.796875 5.46875 10.796875 13.71875 \r\nz\r\n\" id=\"DejaVuSerif-116\"/>\r\n       <path d=\"M 54.203125 25 \r\nL 15.484375 25 \r\nL 15.484375 24.609375 \r\nQ 15.484375 14.109375 19.4375 8.765625 \r\nQ 23.390625 3.421875 31.109375 3.421875 \r\nQ 37.015625 3.421875 40.796875 6.515625 \r\nQ 44.578125 9.625 46.09375 15.71875 \r\nL 53.328125 15.71875 \r\nQ 51.171875 7.171875 45.375 2.875 \r\nQ 39.59375 -1.421875 30.171875 -1.421875 \r\nQ 18.796875 -1.421875 11.890625 6.078125 \r\nQ 4.984375 13.578125 4.984375 25.984375 \r\nQ 4.984375 38.28125 11.765625 45.796875 \r\nQ 18.5625 53.328125 29.59375 53.328125 \r\nQ 41.359375 53.328125 47.65625 46.0625 \r\nQ 53.953125 38.8125 54.203125 25 \r\nz\r\nM 43.609375 30.171875 \r\nQ 43.3125 39.265625 39.765625 43.875 \r\nQ 36.234375 48.484375 29.59375 48.484375 \r\nQ 23.390625 48.484375 19.828125 43.84375 \r\nQ 16.265625 39.203125 15.484375 30.171875 \r\nz\r\n\" id=\"DejaVuSerif-101\"/>\r\n      </defs>\r\n      <use xlink:href=\"#DejaVuSerif-68\"/>\r\n      <use x=\"80.175781\" xlink:href=\"#DejaVuSerif-97\"/>\r\n      <use x=\"139.794922\" xlink:href=\"#DejaVuSerif-116\"/>\r\n      <use x=\"179.980469\" xlink:href=\"#DejaVuSerif-101\"/>\r\n     </g>\r\n    </g>\r\n   </g>\r\n   <g id=\"matplotlib.axis_2\">\r\n    <g id=\"ytick_1\">\r\n     <g id=\"line2d_21\">\r\n      <path clip-path=\"url(#p742b6cb52e)\" d=\"M 33.2875 265.479542 \r\nL 591.2875 265.479542 \r\n\" style=\"fill:none;stroke:#ffffff;stroke-linecap:round;\"/>\r\n     </g>\r\n     <g id=\"line2d_22\"/>\r\n     <g id=\"text_12\">\r\n      <!-- 230 -->\r\n      <g style=\"fill:#262626;\" transform=\"translate(7.2 269.278761)scale(0.1 -0.1)\">\r\n       <use xlink:href=\"#DejaVuSerif-50\"/>\r\n       <use x=\"63.623047\" xlink:href=\"#DejaVuSerif-51\"/>\r\n       <use x=\"127.246094\" xlink:href=\"#DejaVuSerif-48\"/>\r\n      </g>\r\n     </g>\r\n    </g>\r\n    <g id=\"ytick_2\">\r\n     <g id=\"line2d_23\">\r\n      <path clip-path=\"url(#p742b6cb52e)\" d=\"M 33.2875 222.190957 \r\nL 591.2875 222.190957 \r\n\" style=\"fill:none;stroke:#ffffff;stroke-linecap:round;\"/>\r\n     </g>\r\n     <g id=\"line2d_24\"/>\r\n     <g id=\"text_13\">\r\n      <!-- 240 -->\r\n      <g style=\"fill:#262626;\" transform=\"translate(7.2 225.990176)scale(0.1 -0.1)\">\r\n       <defs>\r\n        <path d=\"M 34.90625 24.703125 \r\nL 34.90625 63.484375 \r\nL 10.015625 24.703125 \r\nz\r\nM 56.390625 0 \r\nL 23.1875 0 \r\nL 23.1875 5.171875 \r\nL 34.90625 5.171875 \r\nL 34.90625 19.484375 \r\nL 3.078125 19.484375 \r\nL 3.078125 24.8125 \r\nL 35.015625 74.21875 \r\nL 44.671875 74.21875 \r\nL 44.671875 24.703125 \r\nL 58.59375 24.703125 \r\nL 58.59375 19.484375 \r\nL 44.671875 19.484375 \r\nL 44.671875 5.171875 \r\nL 56.390625 5.171875 \r\nz\r\n\" id=\"DejaVuSerif-52\"/>\r\n       </defs>\r\n       <use xlink:href=\"#DejaVuSerif-50\"/>\r\n       <use x=\"63.623047\" xlink:href=\"#DejaVuSerif-52\"/>\r\n       <use x=\"127.246094\" xlink:href=\"#DejaVuSerif-48\"/>\r\n      </g>\r\n     </g>\r\n    </g>\r\n    <g id=\"ytick_3\">\r\n     <g id=\"line2d_25\">\r\n      <path clip-path=\"url(#p742b6cb52e)\" d=\"M 33.2875 178.902372 \r\nL 591.2875 178.902372 \r\n\" style=\"fill:none;stroke:#ffffff;stroke-linecap:round;\"/>\r\n     </g>\r\n     <g id=\"line2d_26\"/>\r\n     <g id=\"text_14\">\r\n      <!-- 250 -->\r\n      <g style=\"fill:#262626;\" transform=\"translate(7.2 182.701591)scale(0.1 -0.1)\">\r\n       <use xlink:href=\"#DejaVuSerif-50\"/>\r\n       <use x=\"63.623047\" xlink:href=\"#DejaVuSerif-53\"/>\r\n       <use x=\"127.246094\" xlink:href=\"#DejaVuSerif-48\"/>\r\n      </g>\r\n     </g>\r\n    </g>\r\n    <g id=\"ytick_4\">\r\n     <g id=\"line2d_27\">\r\n      <path clip-path=\"url(#p742b6cb52e)\" d=\"M 33.2875 135.613787 \r\nL 591.2875 135.613787 \r\n\" style=\"fill:none;stroke:#ffffff;stroke-linecap:round;\"/>\r\n     </g>\r\n     <g id=\"line2d_28\"/>\r\n     <g id=\"text_15\">\r\n      <!-- 260 -->\r\n      <g style=\"fill:#262626;\" transform=\"translate(7.2 139.413005)scale(0.1 -0.1)\">\r\n       <defs>\r\n        <path d=\"M 32.71875 3.421875 \r\nQ 39.59375 3.421875 43.296875 8.46875 \r\nQ 47.015625 13.53125 47.015625 23 \r\nQ 47.015625 32.46875 43.296875 37.515625 \r\nQ 39.59375 42.578125 32.71875 42.578125 \r\nQ 25.734375 42.578125 22.0625 37.6875 \r\nQ 18.40625 32.8125 18.40625 23.578125 \r\nQ 18.40625 13.875 22.109375 8.640625 \r\nQ 25.828125 3.421875 32.71875 3.421875 \r\nz\r\nM 16.796875 40.140625 \r\nQ 20.125 43.796875 24.3125 45.59375 \r\nQ 28.515625 47.40625 33.796875 47.40625 \r\nQ 44.671875 47.40625 51 40.859375 \r\nQ 57.328125 34.328125 57.328125 23 \r\nQ 57.328125 11.921875 50.515625 5.25 \r\nQ 43.703125 -1.421875 32.328125 -1.421875 \r\nQ 19.96875 -1.421875 13.328125 7.78125 \r\nQ 6.6875 17 6.6875 34.078125 \r\nQ 6.6875 53.21875 14.546875 63.71875 \r\nQ 22.40625 74.21875 36.71875 74.21875 \r\nQ 40.578125 74.21875 44.828125 73.484375 \r\nQ 49.078125 72.75 53.515625 71.296875 \r\nL 53.515625 59.28125 \r\nL 48 59.28125 \r\nQ 47.40625 64.203125 44.234375 66.796875 \r\nQ 41.0625 69.390625 35.6875 69.390625 \r\nQ 26.21875 69.390625 21.578125 62.203125 \r\nQ 16.9375 55.03125 16.796875 40.140625 \r\nz\r\n\" id=\"DejaVuSerif-54\"/>\r\n       </defs>\r\n       <use xlink:href=\"#DejaVuSerif-50\"/>\r\n       <use x=\"63.623047\" xlink:href=\"#DejaVuSerif-54\"/>\r\n       <use x=\"127.246094\" xlink:href=\"#DejaVuSerif-48\"/>\r\n      </g>\r\n     </g>\r\n    </g>\r\n    <g id=\"ytick_5\">\r\n     <g id=\"line2d_29\">\r\n      <path clip-path=\"url(#p742b6cb52e)\" d=\"M 33.2875 92.325202 \r\nL 591.2875 92.325202 \r\n\" style=\"fill:none;stroke:#ffffff;stroke-linecap:round;\"/>\r\n     </g>\r\n     <g id=\"line2d_30\"/>\r\n     <g id=\"text_16\">\r\n      <!-- 270 -->\r\n      <g style=\"fill:#262626;\" transform=\"translate(7.2 96.12442)scale(0.1 -0.1)\">\r\n       <use xlink:href=\"#DejaVuSerif-50\"/>\r\n       <use x=\"63.623047\" xlink:href=\"#DejaVuSerif-55\"/>\r\n       <use x=\"127.246094\" xlink:href=\"#DejaVuSerif-48\"/>\r\n      </g>\r\n     </g>\r\n    </g>\r\n    <g id=\"ytick_6\">\r\n     <g id=\"line2d_31\">\r\n      <path clip-path=\"url(#p742b6cb52e)\" d=\"M 33.2875 49.036616 \r\nL 591.2875 49.036616 \r\n\" style=\"fill:none;stroke:#ffffff;stroke-linecap:round;\"/>\r\n     </g>\r\n     <g id=\"line2d_32\"/>\r\n     <g id=\"text_17\">\r\n      <!-- 280 -->\r\n      <g style=\"fill:#262626;\" transform=\"translate(7.2 52.835835)scale(0.1 -0.1)\">\r\n       <use xlink:href=\"#DejaVuSerif-50\"/>\r\n       <use x=\"63.623047\" xlink:href=\"#DejaVuSerif-56\"/>\r\n       <use x=\"127.246094\" xlink:href=\"#DejaVuSerif-48\"/>\r\n      </g>\r\n     </g>\r\n    </g>\r\n   </g>\r\n   <g id=\"line2d_33\">\r\n    <path clip-path=\"url(#p742b6cb52e)\" d=\"M 58.651136 286.084909 \r\nL 59.587064 280.284238 \r\nL 60.522991 281.063433 \r\nL 61.458919 277.557058 \r\nL 64.266702 280.803701 \r\nL 65.202629 280.803701 \r\nL 66.138557 278.033232 \r\nL 67.074484 280.500681 \r\nL 68.010412 278.249675 \r\nL 71.754122 281.712762 \r\nL 72.690049 279.548332 \r\nL 73.625977 283.184574 \r\nL 74.561905 279.591621 \r\nL 77.369687 282.145648 \r\nL 78.305615 275.868803 \r\nL 79.241542 267.340951 \r\nL 80.17747 268.379877 \r\nL 81.113397 269.938267 \r\nL 83.92118 276.085246 \r\nL 84.857108 276.171823 \r\nL 85.793035 275.782226 \r\nL 86.728963 275.132897 \r\nL 87.66489 268.336589 \r\nL 90.472673 270.111421 \r\nL 91.4086 270.068132 \r\nL 92.344528 268.769475 \r\nL 93.280455 262.882227 \r\nL 94.216383 258.942966 \r\nL 97.024166 253.488604 \r\nL 97.960093 249.462766 \r\nL 98.896021 244.181558 \r\nL 99.831948 245.04733 \r\nL 100.767876 243.445652 \r\nL 104.511586 237.38525 \r\nL 105.447513 238.294311 \r\nL 106.383441 237.601693 \r\nL 107.319369 236.303036 \r\nL 110.127151 234.701358 \r\nL 111.063079 237.471828 \r\nL 111.999006 223.143306 \r\nL 112.934934 229.679882 \r\nL 113.870861 229.030554 \r\nL 116.678644 232.104043 \r\nL 117.614571 235.177533 \r\nL 118.550499 237.08223 \r\nL 119.486427 235.783573 \r\nL 120.422354 232.19062 \r\nL 123.230137 231.671157 \r\nL 124.166064 235.610418 \r\nL 125.101992 226.736259 \r\nL 126.037919 228.770822 \r\nL 126.973847 235.047667 \r\nL 129.781629 236.17317 \r\nL 130.717557 249.3329 \r\nL 131.653485 246.952028 \r\nL 132.589412 248.034242 \r\nL 133.52534 248.770148 \r\nL 136.333122 249.809074 \r\nL 137.26905 242.450015 \r\nL 138.204977 241.497666 \r\nL 139.140905 238.251022 \r\nL 140.076832 240.631894 \r\nL 142.884615 242.406726 \r\nL 143.820543 241.757398 \r\nL 144.75647 244.787599 \r\nL 145.692398 241.930552 \r\nL 146.628325 242.969478 \r\nL 149.436108 242.363438 \r\nL 150.372035 243.575518 \r\nL 151.307963 248.034242 \r\nL 152.24389 254.614107 \r\nL 155.987601 245.696659 \r\nL 156.923528 248.72686 \r\nL 157.859456 250.588269 \r\nL 158.795383 242.363438 \r\nL 159.731311 245.610082 \r\nL 162.539093 234.441627 \r\nL 163.475021 228.467802 \r\nL 164.410949 229.117131 \r\nL 165.346876 228.251359 \r\nL 166.282804 230.502365 \r\nL 169.090586 227.90505 \r\nL 170.026514 227.515453 \r\nL 170.962441 228.770822 \r\nL 171.898369 227.558742 \r\nL 172.834296 223.489615 \r\nL 175.642079 223.662769 \r\nL 176.578007 224.615118 \r\nL 177.513934 222.753709 \r\nL 178.449862 224.874849 \r\nL 179.385789 226.606393 \r\nL 182.193572 220.8923 \r\nL 183.129499 221.844648 \r\nL 184.065427 240.285586 \r\nL 185.001354 236.17317 \r\nL 185.937282 229.506728 \r\nL 188.745065 224.268809 \r\nL 190.61692 219.550353 \r\nL 191.552847 214.572166 \r\nL 197.168412 215.957401 \r\nL 198.10434 207.645992 \r\nL 199.040268 204.139617 \r\nL 201.84805 204.918812 \r\nL 202.783978 208.295321 \r\nL 203.719905 206.347335 \r\nL 204.655833 205.827872 \r\nL 205.59176 207.42955 \r\nL 208.399543 207.645992 \r\nL 209.33547 202.494651 \r\nL 210.271398 203.836597 \r\nL 211.207326 205.87116 \r\nL 212.143253 210.762771 \r\nL 214.951036 202.018476 \r\nL 215.886963 209.161093 \r\nL 216.822891 209.420824 \r\nL 217.758818 209.896999 \r\nL 218.694746 208.64163 \r\nL 221.502529 207.949013 \r\nL 222.438456 216.433575 \r\nL 223.374384 207.083241 \r\nL 224.310311 216.346998 \r\nL 225.246239 214.399012 \r\nL 228.054021 212.62418 \r\nL 229.925876 210.200019 \r\nL 230.861804 219.810085 \r\nL 231.797731 213.057066 \r\nL 234.605514 211.931562 \r\nL 235.541442 212.710757 \r\nL 236.477369 204.832234 \r\nL 237.413297 203.057402 \r\nL 238.349224 198.122504 \r\nL 241.157007 198.252369 \r\nL 242.092934 197.689618 \r\nL 243.028862 191.932236 \r\nL 243.96479 191.456062 \r\nL 244.900717 192.40841 \r\nL 247.7085 192.668142 \r\nL 248.644427 190.070827 \r\nL 249.580355 190.027538 \r\nL 250.516282 191.023176 \r\nL 251.45221 192.278545 \r\nL 254.259992 192.884585 \r\nL 255.19592 190.503713 \r\nL 256.131848 189.98425 \r\nL 257.067775 192.062102 \r\nL 258.003703 190.114115 \r\nL 260.811485 188.122841 \r\nL 261.747413 190.763444 \r\nL 262.68334 190.806733 \r\nL 263.619268 205.914449 \r\nL 264.555195 204.35606 \r\nL 267.362978 193.880222 \r\nL 268.298906 194.010088 \r\nL 269.234833 192.148679 \r\nL 270.170761 208.814784 \r\nL 271.106688 210.45975 \r\nL 273.914471 209.637267 \r\nL 274.850398 198.641967 \r\nL 275.786326 202.451362 \r\nL 276.722253 204.918812 \r\nL 277.658181 202.451362 \r\nL 280.465964 202.408074 \r\nL 281.401891 201.195993 \r\nL 282.337819 196.174517 \r\nL 283.273746 189.767807 \r\nL 284.209674 188.252706 \r\nL 287.953384 195.958074 \r\nL 288.889311 192.321833 \r\nL 289.825239 192.451699 \r\nL 290.761167 193.707068 \r\nL 294.504877 178.685929 \r\nL 295.440804 178.166466 \r\nL 296.376732 178.512775 \r\nL 297.312659 182.408747 \r\nL 300.120442 180.114452 \r\nL 301.05637 179.032238 \r\nL 301.992297 178.64264 \r\nL 302.928225 181.542976 \r\nL 303.864152 181.326533 \r\nL 306.671935 183.53425 \r\nL 307.607862 182.884922 \r\nL 308.54379 178.685929 \r\nL 309.479717 177.387271 \r\nL 310.415645 173.577876 \r\nL 313.223428 168.85942 \r\nL 314.159355 166.521837 \r\nL 315.095283 165.223179 \r\nL 316.03121 158.729891 \r\nL 316.967138 159.98526 \r\nL 319.77492 161.803381 \r\nL 320.710848 158.903046 \r\nL 321.646775 157.171502 \r\nL 322.582703 158.816468 \r\nL 323.51863 157.474522 \r\nL 326.326413 156.00271 \r\nL 327.262341 155.223516 \r\nL 328.198268 154.141301 \r\nL 329.134196 153.838281 \r\nL 330.070123 148.124188 \r\nL 332.877906 152.453046 \r\nL 333.813833 150.50506 \r\nL 334.749761 156.00271 \r\nL 335.685689 154.574187 \r\nL 336.621616 145.526873 \r\nL 339.429399 149.682577 \r\nL 340.365326 147.951033 \r\nL 341.301254 146.479222 \r\nL 342.237181 146.046336 \r\nL 343.173109 142.323517 \r\nL 345.980891 140.591974 \r\nL 346.916819 141.371169 \r\nL 347.852747 139.466471 \r\nL 348.788674 143.535598 \r\nL 349.724602 143.881906 \r\nL 352.532384 142.84298 \r\nL 353.468312 145.440296 \r\nL 354.404239 151.024523 \r\nL 355.340167 141.587611 \r\nL 356.276094 144.877544 \r\nL 359.083877 142.972846 \r\nL 360.019805 135.657075 \r\nL 360.955732 136.652713 \r\nL 362.827587 134.055398 \r\nL 365.63537 134.618149 \r\nL 366.571297 123.189963 \r\nL 367.507225 123.88258 \r\nL 368.443152 113.926206 \r\nL 369.37908 116.307078 \r\nL 372.186863 117.692312 \r\nL 373.12279 121.804728 \r\nL 374.058718 121.588285 \r\nL 374.994645 117.995333 \r\nL 375.930573 111.761776 \r\nL 378.738355 108.298689 \r\nL 379.674283 106.264126 \r\nL 380.61021 106.393992 \r\nL 381.546138 111.112447 \r\nL 382.482066 107.432918 \r\nL 385.289848 100.117147 \r\nL 386.225776 104.575871 \r\nL 387.161703 105.181911 \r\nL 388.097631 102.801039 \r\nL 389.033558 103.104059 \r\nL 392.777269 104.489294 \r\nL 393.713196 103.926542 \r\nL 394.649124 101.54567 \r\nL 395.585051 105.917817 \r\nL 399.328761 97.649697 \r\nL 400.264689 90.290638 \r\nL 401.200616 85.355739 \r\nL 402.136544 77.520505 \r\nL 404.944327 75.356076 \r\nL 405.880254 72.672184 \r\nL 406.816182 74.490304 \r\nL 408.688037 58.040642 \r\nL 412.431747 62.153058 \r\nL 413.367674 50.724871 \r\nL 414.303602 52.759435 \r\nL 415.23953 47.261784 \r\nL 418.047312 37.391987 \r\nL 418.98324 34.794672 \r\nL 419.919167 35.270846 \r\nL 420.855095 34.751383 \r\nL 421.791022 20.552727 \r\nL 424.598805 28.777558 \r\nL 425.534732 41.417825 \r\nL 426.47066 40.811785 \r\nL 427.406588 42.19702 \r\nL 428.342515 68.732923 \r\nL 431.150298 118.601373 \r\nL 432.086225 96.091308 \r\nL 433.022153 102.411442 \r\nL 433.95808 145.873181 \r\nL 434.894008 129.120499 \r\nL 437.701791 112.497682 \r\nL 438.637718 109.640636 \r\nL 440.509573 79.20876 \r\nL 441.445501 78.862452 \r\nL 445.189211 86.2648 \r\nL 446.125138 92.108759 \r\nL 447.061066 90.593658 \r\nL 447.996993 71.936278 \r\nL 450.804776 58.127219 \r\nL 451.740704 73.148358 \r\nL 452.676631 85.182585 \r\nL 453.612559 102.281576 \r\nL 454.548486 96.307751 \r\nL 457.356269 82.845001 \r\nL 458.292196 79.858089 \r\nL 459.228124 80.290975 \r\nL 460.164051 74.576882 \r\nL 461.099979 53.928226 \r\nL 463.907762 55.443327 \r\nL 464.843689 63.235272 \r\nL 465.779617 69.382251 \r\nL 466.715544 70.680909 \r\nL 467.651472 74.143996 \r\nL 470.459254 90.204061 \r\nL 471.395182 88.212786 \r\nL 472.33111 90.463792 \r\nL 473.267037 119.726876 \r\nL 474.202965 144.055061 \r\nL 477.010747 113.49332 \r\nL 477.946675 133.016472 \r\nL 478.882602 136.349693 \r\nL 479.81853 121.977882 \r\nL 483.56224 146.565799 \r\nL 484.498168 132.280566 \r\nL 485.434095 120.20305 \r\nL 486.370023 111.199025 \r\nL 487.30595 136.825867 \r\nL 490.113733 131.284928 \r\nL 491.04966 113.320165 \r\nL 491.985588 119.337279 \r\nL 492.921515 109.943656 \r\nL 493.857443 113.320165 \r\nL 496.665226 103.883254 \r\nL 497.601153 91.502718 \r\nL 498.537081 90.636947 \r\nL 499.473008 97.130234 \r\nL 500.408936 107.000032 \r\nL 503.216718 107.173186 \r\nL 504.152646 122.713788 \r\nL 505.088573 119.90003 \r\nL 506.024501 108.298689 \r\nL 506.960429 107.216475 \r\nL 509.768211 116.090635 \r\nL 510.704139 114.056071 \r\nL 511.640066 121.761439 \r\nL 512.575994 124.272177 \r\nL 513.511921 109.554058 \r\nL 516.319704 105.658086 \r\nL 517.255631 105.658086 \r\nL 519.127487 83.580907 \r\nL 520.063414 79.987955 \r\nL 522.871197 79.425203 \r\nL 523.807124 87.563457 \r\nL 524.743052 82.628558 \r\nL 525.678979 83.624196 \r\nL 526.614907 86.56782 \r\nL 529.42269 77.736948 \r\nL 530.358617 81.026881 \r\nL 531.294545 77.780237 \r\nL 532.230472 80.204398 \r\nL 533.1664 83.018156 \r\nL 536.91011 96.567483 \r\nL 537.846037 81.026881 \r\nL 538.781965 88.256075 \r\nL 539.717892 76.741311 \r\nL 542.525675 71.113795 \r\nL 543.461603 70.248023 \r\nL 544.39753 60.291648 \r\nL 545.333458 60.421514 \r\nL 546.269385 56.87185 \r\nL 549.077168 55.270173 \r\nL 550.013095 53.711784 \r\nL 550.949023 57.564468 \r\nL 551.884951 54.534267 \r\nL 552.820878 61.46044 \r\nL 555.628661 63.92789 \r\nL 556.564588 68.51648 \r\nL 557.500516 66.481916 \r\nL 558.436443 73.970841 \r\nL 559.372371 71.806412 \r\nL 562.180153 87.996343 \r\nL 563.116081 85.399028 \r\nL 564.052009 95.13896 \r\nL 564.987936 88.472517 \r\nL 565.923864 86.784263 \r\nL 565.923864 86.784263 \r\n\" style=\"fill:none;stroke:#4c72b0;stroke-linecap:round;stroke-width:1.75;\"/>\r\n   </g>\r\n   <g id=\"line2d_34\">\r\n    <path clip-path=\"url(#p742b6cb52e)\" d=\"M 58.651136 287.607273 \r\nL 59.587064 285.776514 \r\nL 60.522991 284.598244 \r\nL 61.458919 282.837947 \r\nL 64.266702 282.329386 \r\nL 65.202629 281.947965 \r\nL 66.138557 280.969282 \r\nL 67.074484 280.852131 \r\nL 68.010412 280.201517 \r\nL 71.754122 280.579328 \r\nL 72.690049 280.321579 \r\nL 73.625977 281.037328 \r\nL 74.561905 280.675901 \r\nL 77.369687 281.043338 \r\nL 78.305615 279.749704 \r\nL 79.241542 276.647516 \r\nL 80.17747 274.580606 \r\nL 81.113397 273.420021 \r\nL 83.92118 274.086327 \r\nL 84.857108 274.607701 \r\nL 85.793035 274.901332 \r\nL 86.728963 274.959223 \r\nL 87.66489 273.303565 \r\nL 90.472673 272.505529 \r\nL 91.4086 271.89618 \r\nL 92.344528 271.114503 \r\nL 93.280455 269.056434 \r\nL 94.216383 266.528067 \r\nL 97.024166 263.268201 \r\nL 97.960093 259.816843 \r\nL 98.896021 255.908021 \r\nL 100.767876 250.75605 \r\nL 104.511586 247.41335 \r\nL 105.447513 245.13359 \r\nL 107.319369 241.513721 \r\nL 111.063079 239.22593 \r\nL 111.999006 235.205274 \r\nL 113.870861 232.625583 \r\nL 116.678644 232.495198 \r\nL 117.614571 233.165782 \r\nL 118.550499 234.144894 \r\nL 119.486427 234.554563 \r\nL 120.422354 233.963578 \r\nL 123.230137 233.390473 \r\nL 124.166064 233.945459 \r\nL 125.101992 232.143159 \r\nL 126.037919 231.300075 \r\nL 126.973847 232.236973 \r\nL 129.781629 233.221022 \r\nL 130.717557 237.248992 \r\nL 131.653485 239.674751 \r\nL 132.589412 241.764624 \r\nL 133.52534 243.516005 \r\nL 136.333122 245.089272 \r\nL 138.204977 243.69651 \r\nL 139.140905 242.335138 \r\nL 140.076832 241.909327 \r\nL 143.820543 241.964607 \r\nL 144.75647 242.670355 \r\nL 145.692398 242.485404 \r\nL 146.628325 242.606423 \r\nL 149.436108 242.545676 \r\nL 150.372035 242.803137 \r\nL 151.307963 244.110913 \r\nL 152.24389 246.736712 \r\nL 155.987601 246.476699 \r\nL 156.923528 247.039239 \r\nL 157.859456 247.926496 \r\nL 158.795383 246.535732 \r\nL 159.731311 246.304319 \r\nL 162.539093 243.338646 \r\nL 163.475021 239.620935 \r\nL 164.410949 236.994984 \r\nL 165.346876 234.809078 \r\nL 166.282804 233.7324 \r\nL 169.090586 232.275562 \r\nL 170.026514 231.085535 \r\nL 170.962441 230.506857 \r\nL 171.898369 229.769828 \r\nL 172.834296 228.199775 \r\nL 175.642079 227.065523 \r\nL 176.578007 226.452922 \r\nL 177.513934 225.528119 \r\nL 178.449862 225.364801 \r\nL 179.385789 225.675199 \r\nL 182.193572 224.479474 \r\nL 183.129499 223.820768 \r\nL 184.065427 227.936972 \r\nL 185.001354 229.996022 \r\nL 185.937282 229.873698 \r\nL 188.745065 228.472476 \r\nL 190.61692 225.023577 \r\nL 191.552847 222.410725 \r\nL 192.488775 220.505196 \r\nL 196.232485 219.303314 \r\nL 197.168412 218.466836 \r\nL 199.040268 212.856123 \r\nL 202.783978 210.227677 \r\nL 204.655833 208.400161 \r\nL 205.59176 208.157508 \r\nL 208.399543 208.029629 \r\nL 209.33547 206.645885 \r\nL 210.271398 205.943563 \r\nL 211.207326 205.925462 \r\nL 212.143253 207.134789 \r\nL 214.951036 205.855711 \r\nL 216.822891 207.366749 \r\nL 217.758818 207.999311 \r\nL 218.694746 208.159891 \r\nL 221.502529 208.107171 \r\nL 222.438456 210.188772 \r\nL 223.374384 209.412389 \r\nL 224.310311 211.146042 \r\nL 225.246239 211.959284 \r\nL 228.054021 212.125508 \r\nL 229.925876 211.644136 \r\nL 230.861804 213.685623 \r\nL 234.605514 213.129253 \r\nL 235.541442 213.024629 \r\nL 237.413297 208.996748 \r\nL 238.349224 206.278187 \r\nL 241.157007 204.271733 \r\nL 242.092934 202.626204 \r\nL 243.028862 199.952712 \r\nL 243.96479 197.828549 \r\nL 244.900717 196.473515 \r\nL 247.7085 195.522172 \r\nL 248.644427 194.159335 \r\nL 249.580355 193.126386 \r\nL 250.516282 192.600583 \r\nL 251.45221 192.520074 \r\nL 254.259992 192.611202 \r\nL 256.131848 191.559309 \r\nL 257.067775 191.685008 \r\nL 258.003703 191.292284 \r\nL 260.811485 190.499924 \r\nL 262.68334 190.626036 \r\nL 263.619268 194.448139 \r\nL 264.555195 196.925119 \r\nL 267.362978 196.163895 \r\nL 268.298906 195.625443 \r\nL 269.234833 194.756252 \r\nL 270.170761 198.270885 \r\nL 271.106688 201.318102 \r\nL 273.914471 203.397893 \r\nL 274.850398 202.208911 \r\nL 275.786326 202.269524 \r\nL 276.722253 202.931846 \r\nL 277.658181 202.811725 \r\nL 280.465964 202.710812 \r\nL 281.401891 202.332107 \r\nL 282.337819 200.79271 \r\nL 284.209674 195.59054 \r\nL 287.953384 195.682423 \r\nL 288.889311 194.842276 \r\nL 289.825239 194.244632 \r\nL 290.761167 194.110241 \r\nL 293.568949 191.163223 \r\nL 294.504877 188.0439 \r\nL 295.440804 185.574541 \r\nL 296.376732 183.8091 \r\nL 297.312659 183.459011 \r\nL 300.120442 182.622872 \r\nL 301.992297 180.95457 \r\nL 306.671935 181.751978 \r\nL 307.607862 182.035214 \r\nL 309.479717 180.245237 \r\nL 310.415645 178.578397 \r\nL 313.223428 176.148653 \r\nL 315.095283 171.612256 \r\nL 316.03121 168.391665 \r\nL 316.967138 166.290064 \r\nL 319.77492 165.168393 \r\nL 321.646775 161.994418 \r\nL 323.51863 160.268578 \r\nL 326.326413 159.202111 \r\nL 329.134196 156.352762 \r\nL 330.070123 154.295618 \r\nL 332.877906 153.834975 \r\nL 333.813833 153.002496 \r\nL 334.749761 153.75255 \r\nL 335.685689 153.957959 \r\nL 336.621616 151.850188 \r\nL 339.429399 151.308285 \r\nL 340.365326 150.468972 \r\nL 342.237181 148.615235 \r\nL 343.173109 147.042305 \r\nL 345.980891 145.429723 \r\nL 346.916819 144.415084 \r\nL 347.852747 143.177931 \r\nL 349.724602 143.420987 \r\nL 352.532384 143.276486 \r\nL 353.468312 143.817438 \r\nL 354.404239 145.619209 \r\nL 355.340167 144.61131 \r\nL 356.276094 144.677868 \r\nL 359.083877 144.251613 \r\nL 360.019805 142.102978 \r\nL 360.955732 140.740412 \r\nL 362.827587 139.069158 \r\nL 365.63537 137.956406 \r\nL 366.571297 134.264795 \r\nL 367.507225 131.669241 \r\nL 368.443152 127.233482 \r\nL 369.37908 124.501881 \r\nL 372.186863 122.799489 \r\nL 374.058718 122.31017 \r\nL 374.994645 121.231461 \r\nL 375.930573 118.86404 \r\nL 378.738355 116.222702 \r\nL 379.674283 113.733058 \r\nL 380.61021 111.898292 \r\nL 381.546138 111.701831 \r\nL 382.482066 110.634602 \r\nL 386.225776 107.147897 \r\nL 387.161703 106.6564 \r\nL 388.097631 105.69256 \r\nL 389.033558 105.045435 \r\nL 392.777269 104.9064 \r\nL 393.713196 104.661435 \r\nL 394.649124 103.882494 \r\nL 395.585051 104.391325 \r\nL 399.328761 102.705918 \r\nL 400.264689 99.602098 \r\nL 401.200616 96.040508 \r\nL 402.136544 91.410508 \r\nL 404.944327 87.3969 \r\nL 405.880254 83.715721 \r\nL 406.816182 81.409367 \r\nL 407.752109 77.515172 \r\nL 408.688037 72.646539 \r\nL 412.431747 70.023169 \r\nL 413.367674 65.198594 \r\nL 414.303602 62.088805 \r\nL 415.23953 58.382049 \r\nL 418.047312 53.134534 \r\nL 418.98324 48.549568 \r\nL 419.919167 45.229888 \r\nL 420.855095 42.610262 \r\nL 421.791022 37.095878 \r\nL 424.598805 35.016298 \r\nL 425.534732 36.61668 \r\nL 427.406588 38.798347 \r\nL 428.342515 46.281991 \r\nL 431.150298 64.361836 \r\nL 433.022153 79.823514 \r\nL 433.95808 96.335931 \r\nL 434.894008 104.532073 \r\nL 438.637718 107.302765 \r\nL 439.573646 104.002082 \r\nL 440.509573 97.803752 \r\nL 441.445501 93.068427 \r\nL 445.189211 91.36752 \r\nL 446.125138 91.55283 \r\nL 447.061066 91.313037 \r\nL 447.996993 86.468847 \r\nL 450.804776 79.38344 \r\nL 451.740704 77.82467 \r\nL 452.676631 79.664148 \r\nL 453.612559 85.318505 \r\nL 454.548486 88.065817 \r\nL 457.356269 86.760613 \r\nL 458.292196 85.034982 \r\nL 459.228124 83.84898 \r\nL 460.164051 81.530956 \r\nL 461.099979 74.630273 \r\nL 464.843689 68.183971 \r\nL 465.779617 68.483541 \r\nL 466.715544 69.032883 \r\nL 467.651472 70.310661 \r\nL 470.459254 75.284011 \r\nL 472.33111 81.503102 \r\nL 473.267037 91.059045 \r\nL 474.202965 104.308049 \r\nL 477.010747 106.604367 \r\nL 477.946675 113.207393 \r\nL 478.882602 118.992968 \r\nL 479.81853 119.739196 \r\nL 484.498168 127.904527 \r\nL 485.434095 125.979158 \r\nL 486.370023 122.284124 \r\nL 487.30595 125.91956 \r\nL 490.113733 127.260902 \r\nL 491.04966 123.775718 \r\nL 491.985588 122.666108 \r\nL 492.921515 119.485495 \r\nL 493.857443 117.944163 \r\nL 496.665226 114.428935 \r\nL 497.601153 108.697381 \r\nL 498.537081 104.182273 \r\nL 499.473008 102.419263 \r\nL 500.408936 103.564455 \r\nL 503.216718 104.466638 \r\nL 504.152646 109.028426 \r\nL 505.088573 111.746327 \r\nL 506.960429 109.967432 \r\nL 509.768211 111.498233 \r\nL 510.704139 112.137692 \r\nL 512.575994 116.975766 \r\nL 513.511921 115.120339 \r\nL 516.319704 112.754776 \r\nL 517.255631 110.980603 \r\nL 518.191559 106.85786 \r\nL 520.063414 95.775955 \r\nL 522.871197 91.688267 \r\nL 523.807124 90.657065 \r\nL 524.743052 88.649938 \r\nL 525.678979 87.393503 \r\nL 526.614907 87.187082 \r\nL 529.42269 84.824548 \r\nL 530.358617 83.875132 \r\nL 531.294545 82.351408 \r\nL 532.230472 81.814655 \r\nL 533.1664 82.11553 \r\nL 536.91011 85.728519 \r\nL 537.846037 84.553109 \r\nL 538.781965 85.47885 \r\nL 539.717892 83.294466 \r\nL 542.525675 80.249298 \r\nL 543.461603 77.748979 \r\nL 544.39753 73.384646 \r\nL 546.269385 66.82586 \r\nL 549.077168 63.936938 \r\nL 550.013095 61.38065 \r\nL 550.949023 60.426604 \r\nL 551.884951 58.95352 \r\nL 552.820878 59.58025 \r\nL 555.628661 60.66716 \r\nL 556.564588 62.62949 \r\nL 557.500516 63.592596 \r\nL 558.436443 66.187158 \r\nL 559.372371 67.591971 \r\nL 562.180153 72.693064 \r\nL 563.116081 75.869555 \r\nL 564.052009 80.686906 \r\nL 564.987936 82.633309 \r\nL 565.923864 83.671047 \r\nL 565.923864 83.671047 \r\n\" style=\"fill:none;stroke:#55a868;stroke-linecap:round;stroke-width:1.75;\"/>\r\n   </g>\r\n   <g id=\"patch_3\">\r\n    <path d=\"M 33.2875 300.96 \r\nL 33.2875 7.2 \r\n\" style=\"fill:none;\"/>\r\n   </g>\r\n   <g id=\"patch_4\">\r\n    <path d=\"M 591.2875 300.96 \r\nL 591.2875 7.2 \r\n\" style=\"fill:none;\"/>\r\n   </g>\r\n   <g id=\"patch_5\">\r\n    <path d=\"M 33.2875 300.96 \r\nL 591.2875 300.96 \r\n\" style=\"fill:none;\"/>\r\n   </g>\r\n   <g id=\"patch_6\">\r\n    <path d=\"M 33.2875 7.2 \r\nL 591.2875 7.2 \r\n\" style=\"fill:none;\"/>\r\n   </g>\r\n   <g id=\"legend_1\">\r\n    <g id=\"line2d_35\">\r\n     <path d=\"M 519.248438 20.298437 \r\nL 539.248438 20.298437 \r\n\" style=\"fill:none;stroke:#4c72b0;stroke-linecap:round;stroke-width:1.75;\"/>\r\n    </g>\r\n    <g id=\"line2d_36\"/>\r\n    <g id=\"text_18\">\r\n     <!-- SPY -->\r\n     <g style=\"fill:#262626;\" transform=\"translate(547.248438 23.798437)scale(0.1 -0.1)\">\r\n      <defs>\r\n       <path d=\"M 9.28125 3.515625 \r\nL 9.28125 20.125 \r\nL 14.890625 20.0625 \r\nQ 15.140625 11.765625 19.703125 7.78125 \r\nQ 24.265625 3.8125 33.59375 3.8125 \r\nQ 42.28125 3.8125 46.84375 7.25 \r\nQ 51.421875 10.6875 51.421875 17.28125 \r\nQ 51.421875 22.5625 48.65625 25.390625 \r\nQ 45.90625 28.21875 37.015625 30.90625 \r\nL 27.390625 33.796875 \r\nQ 16.9375 36.96875 12.671875 41.703125 \r\nQ 8.40625 46.4375 8.40625 54.6875 \r\nQ 8.40625 63.96875 14.984375 69.09375 \r\nQ 21.578125 74.21875 33.5 74.21875 \r\nQ 38.578125 74.21875 44.625 73.109375 \r\nQ 50.6875 72.015625 57.515625 69.921875 \r\nL 57.515625 54.390625 \r\nL 52 54.390625 \r\nQ 51.171875 62.109375 46.84375 65.546875 \r\nQ 42.53125 69 33.6875 69 \r\nQ 25.984375 69 21.953125 65.84375 \r\nQ 17.921875 62.703125 17.921875 56.6875 \r\nQ 17.921875 51.46875 20.9375 48.484375 \r\nQ 23.96875 45.515625 33.796875 42.578125 \r\nL 42.828125 39.890625 \r\nQ 52.734375 36.921875 56.953125 32.296875 \r\nQ 61.1875 27.6875 61.1875 19.921875 \r\nQ 61.1875 9.328125 54.390625 3.953125 \r\nQ 47.609375 -1.421875 34.1875 -1.421875 \r\nQ 28.171875 -1.421875 21.9375 -0.1875 \r\nQ 15.71875 1.03125 9.28125 3.515625 \r\nz\r\n\" id=\"DejaVuSerif-83\"/>\r\n       <path d=\"M 24.703125 37.109375 \r\nL 37.59375 37.109375 \r\nQ 44.875 37.109375 48.671875 41.03125 \r\nQ 52.484375 44.96875 52.484375 52.390625 \r\nQ 52.484375 59.859375 48.671875 63.765625 \r\nQ 44.875 67.671875 37.59375 67.671875 \r\nL 24.703125 67.671875 \r\nz\r\nM 5.515625 0 \r\nL 5.515625 5.171875 \r\nL 14.796875 5.171875 \r\nL 14.796875 67.671875 \r\nL 5.515625 67.671875 \r\nL 5.515625 72.90625 \r\nL 39.984375 72.90625 \r\nQ 50.921875 72.90625 57.3125 67.359375 \r\nQ 63.71875 61.8125 63.71875 52.390625 \r\nQ 63.71875 43.015625 57.3125 37.453125 \r\nQ 50.921875 31.890625 39.984375 31.890625 \r\nL 24.703125 31.890625 \r\nL 24.703125 5.171875 \r\nL 35.984375 5.171875 \r\nL 35.984375 0 \r\nz\r\n\" id=\"DejaVuSerif-80\"/>\r\n       <path d=\"M 18.890625 0 \r\nL 18.890625 5.171875 \r\nL 28.21875 5.171875 \r\nL 28.21875 31.390625 \r\nL 5.71875 67.671875 \r\nL -1.125 67.671875 \r\nL -1.125 72.90625 \r\nL 25.984375 72.90625 \r\nL 25.984375 67.671875 \r\nL 17.484375 67.671875 \r\nL 35.6875 38.1875 \r\nL 53.90625 67.671875 \r\nL 45.703125 67.671875 \r\nL 45.703125 72.90625 \r\nL 66.890625 72.90625 \r\nL 66.890625 67.671875 \r\nL 60.015625 67.671875 \r\nL 38.09375 32.328125 \r\nL 38.09375 5.171875 \r\nL 47.40625 5.171875 \r\nL 47.40625 0 \r\nz\r\n\" id=\"DejaVuSerif-89\"/>\r\n      </defs>\r\n      <use xlink:href=\"#DejaVuSerif-83\"/>\r\n      <use x=\"68.505859\" xlink:href=\"#DejaVuSerif-80\"/>\r\n      <use x=\"135.791016\" xlink:href=\"#DejaVuSerif-89\"/>\r\n     </g>\r\n    </g>\r\n    <g id=\"line2d_37\">\r\n     <path d=\"M 519.248438 34.976562 \r\nL 539.248438 34.976562 \r\n\" style=\"fill:none;stroke:#55a868;stroke-linecap:round;stroke-width:1.75;\"/>\r\n    </g>\r\n    <g id=\"line2d_38\"/>\r\n    <g id=\"text_19\">\r\n     <!-- EWMA -->\r\n     <g style=\"fill:#262626;\" transform=\"translate(547.248438 38.476562)scale(0.1 -0.1)\">\r\n      <defs>\r\n       <path d=\"M 5.515625 0 \r\nL 5.515625 5.171875 \r\nL 14.796875 5.171875 \r\nL 14.796875 67.671875 \r\nL 5.515625 67.671875 \r\nL 5.515625 72.90625 \r\nL 64.203125 72.90625 \r\nL 64.203125 56.6875 \r\nL 58.203125 56.6875 \r\nL 58.203125 66.890625 \r\nL 24.703125 66.890625 \r\nL 24.703125 42.484375 \r\nL 48.578125 42.484375 \r\nL 48.578125 51.609375 \r\nL 54.59375 51.609375 \r\nL 54.59375 27.390625 \r\nL 48.578125 27.390625 \r\nL 48.578125 36.53125 \r\nL 24.703125 36.53125 \r\nL 24.703125 6 \r\nL 58.984375 6 \r\nL 58.984375 16.21875 \r\nL 64.984375 16.21875 \r\nL 64.984375 0 \r\nz\r\n\" id=\"DejaVuSerif-69\"/>\r\n       <path d=\"M 76.21875 0 \r\nL 68.21875 0 \r\nL 51.515625 59.28125 \r\nL 34.8125 0 \r\nL 26.8125 0 \r\nL 7.71875 67.671875 \r\nL 0.484375 67.671875 \r\nL 0.484375 72.90625 \r\nL 27.09375 72.90625 \r\nL 27.09375 67.671875 \r\nL 18.015625 67.671875 \r\nL 33.203125 13.8125 \r\nL 49.8125 72.90625 \r\nL 57.71875 72.90625 \r\nL 74.609375 13.1875 \r\nL 89.890625 67.671875 \r\nL 81.5 67.671875 \r\nL 81.5 72.90625 \r\nL 102.484375 72.90625 \r\nL 102.484375 67.671875 \r\nL 95.3125 67.671875 \r\nz\r\n\" id=\"DejaVuSerif-87\"/>\r\n       <path d=\"M 5.515625 0 \r\nL 5.515625 5.171875 \r\nL 14.796875 5.171875 \r\nL 14.796875 67.671875 \r\nL 4.984375 67.671875 \r\nL 4.984375 72.90625 \r\nL 26.21875 72.90625 \r\nL 51.8125 21 \r\nL 77.390625 72.90625 \r\nL 97.3125 72.90625 \r\nL 97.3125 67.671875 \r\nL 87.59375 67.671875 \r\nL 87.59375 5.171875 \r\nL 96.921875 5.171875 \r\nL 96.921875 0 \r\nL 68.40625 0 \r\nL 68.40625 5.171875 \r\nL 77.6875 5.171875 \r\nL 77.6875 61.53125 \r\nL 52.6875 10.6875 \r\nL 45.796875 10.6875 \r\nL 20.796875 61.53125 \r\nL 20.796875 5.171875 \r\nL 30.078125 5.171875 \r\nL 30.078125 0 \r\nz\r\n\" id=\"DejaVuSerif-77\"/>\r\n       <path d=\"M 20.015625 26.421875 \r\nL 46.78125 26.421875 \r\nL 33.40625 61.078125 \r\nz\r\nM -0.59375 0 \r\nL -0.59375 5.171875 \r\nL 5.8125 5.171875 \r\nL 31.78125 72.90625 \r\nL 39.984375 72.90625 \r\nL 66.015625 5.171875 \r\nL 73.1875 5.171875 \r\nL 73.1875 0 \r\nL 46.6875 0 \r\nL 46.6875 5.171875 \r\nL 54.78125 5.171875 \r\nL 48.6875 21.1875 \r\nL 18.015625 21.1875 \r\nL 11.921875 5.171875 \r\nL 19.921875 5.171875 \r\nL 19.921875 0 \r\nz\r\n\" id=\"DejaVuSerif-65\"/>\r\n      </defs>\r\n      <use xlink:href=\"#DejaVuSerif-69\"/>\r\n      <use x=\"72.998047\" xlink:href=\"#DejaVuSerif-87\"/>\r\n      <use x=\"175.78125\" xlink:href=\"#DejaVuSerif-77\"/>\r\n      <use x=\"278.173828\" xlink:href=\"#DejaVuSerif-65\"/>\r\n     </g>\r\n    </g>\r\n   </g>\r\n  </g>\r\n </g>\r\n <defs>\r\n  <clipPath id=\"p742b6cb52e\">\r\n   <rect height=\"293.76\" width=\"558\" x=\"33.2875\" y=\"7.2\"/>\r\n  </clipPath>\r\n </defs>\r\n</svg>\r\n",
      "image/png": "[encoded data removed]"
     },
     "metadata": {
      "needs_background": "light"
     }
    }
   ],
   "source": [
    "data[data.index > '2017-1-1'].plot(figsize=(10, 6));\n",
    "# plt.savefig('../../images/ch10/perf_03.png');"
   ]
  },
  {
   "cell_type": "markdown",
   "metadata": {},
   "source": [
    "### Pure Python"
   ]
  },
  {
   "cell_type": "code",
   "execution_count": 182,
   "metadata": {},
   "outputs": [],
   "source": [
    "def ewma_py(x, alpha):\n",
    "    y = np.zeros_like(x)\n",
    "    y[0] = x[0]\n",
    "    for i in range(1, len(x)):\n",
    "        y[i] = alpha * x[i] + (1-alpha) * y[i-1]\n",
    "    return y"
   ]
  },
  {
   "cell_type": "code",
   "execution_count": 183,
   "metadata": {
    "tags": []
   },
   "outputs": [
    {
     "output_type": "stream",
     "name": "stdout",
     "text": "Wall time: 7.99 ms\n"
    }
   ],
   "source": [
    "%time data['EWMA_PY'] = ewma_py(data[sym], alpha)  "
   ]
  },
  {
   "cell_type": "code",
   "execution_count": 185,
   "metadata": {
    "tags": []
   },
   "outputs": [
    {
     "output_type": "stream",
     "name": "stdout",
     "text": "Wall time: 1.99 ms\n"
    }
   ],
   "source": [
    "%time data['EWMA_PY'] = ewma_py(data[sym].values, alpha)  "
   ]
  },
  {
   "cell_type": "markdown",
   "metadata": {},
   "source": [
    "### Numba"
   ]
  },
  {
   "cell_type": "code",
   "execution_count": 186,
   "metadata": {},
   "outputs": [],
   "source": [
    "ewma_nb = numba.jit(ewma_py)"
   ]
  },
  {
   "cell_type": "code",
   "execution_count": 187,
   "metadata": {
    "tags": []
   },
   "outputs": [
    {
     "output_type": "stream",
     "name": "stdout",
     "text": "Wall time: 117 ms\n"
    }
   ],
   "source": [
    "%time data['EWMA_NB'] = ewma_nb(data[sym].values, alpha)  "
   ]
  },
  {
   "cell_type": "code",
   "execution_count": 188,
   "metadata": {
    "tags": []
   },
   "outputs": [
    {
     "output_type": "stream",
     "name": "stdout",
     "text": "92.2 µs ± 290 ns per loop (mean ± std. dev. of 7 runs, 10000 loops each)\n"
    }
   ],
   "source": [
    "%timeit data['EWMA_NB'] = ewma_nb(data[sym].values, alpha)  "
   ]
  },
  {
   "cell_type": "markdown",
   "metadata": {},
   "source": [
    "### Cython"
   ]
  },
  {
   "cell_type": "code",
   "execution_count": 189,
   "metadata": {},
   "outputs": [],
   "source": [
    "%%cython\n",
    "import numpy as np\n",
    "cimport cython\n",
    "@cython.boundscheck(False)\n",
    "@cython.wraparound(False)\n",
    "def ewma_cy(double[:] x, float alpha):\n",
    "    cdef int i\n",
    "    cdef double[:] y = np.empty_like(x)\n",
    "    y[0] = x[0]\n",
    "    for i in range(1, len(x)):\n",
    "        y[i] = alpha * x[i] + (1 - alpha) * y[i - 1]\n",
    "    return y"
   ]
  },
  {
   "cell_type": "code",
   "execution_count": 190,
   "metadata": {
    "tags": []
   },
   "outputs": [
    {
     "output_type": "stream",
     "name": "stdout",
     "text": "Wall time: 2 ms\n"
    }
   ],
   "source": [
    "%time data['EWMA_CY'] = ewma_cy(data[sym].values, alpha)"
   ]
  },
  {
   "cell_type": "code",
   "execution_count": 191,
   "metadata": {
    "tags": []
   },
   "outputs": [
    {
     "output_type": "stream",
     "name": "stdout",
     "text": "520 µs ± 19.4 µs per loop (mean ± std. dev. of 7 runs, 1000 loops each)\n"
    }
   ],
   "source": [
    "%timeit data['EWMA_CY'] = ewma_cy(data[sym].values, alpha)"
   ]
  },
  {
   "cell_type": "code",
   "execution_count": 192,
   "metadata": {},
   "outputs": [
    {
     "output_type": "execute_result",
     "data": {
      "text/plain": "               SPY        EWMA     EWMA_PY     EWMA_NB     EWMA_CY\nDate                                                              \n2010-01-04  113.33  113.330000  113.330000  113.330000  113.330000\n2010-01-05  113.63  113.405000  113.405000  113.405000  113.405000\n2010-01-06  113.71  113.481250  113.481250  113.481250  113.481250\n2010-01-07  114.19  113.658438  113.658438  113.658438  113.658438\n2010-01-08  114.57  113.886328  113.886328  113.886328  113.886328",
      "text/html": "<div>\n<style scoped>\n    .dataframe tbody tr th:only-of-type {\n        vertical-align: middle;\n    }\n\n    .dataframe tbody tr th {\n        vertical-align: top;\n    }\n\n    .dataframe thead th {\n        text-align: right;\n    }\n</style>\n<table border=\"1\" class=\"dataframe\">\n  <thead>\n    <tr style=\"text-align: right;\">\n      <th></th>\n      <th>SPY</th>\n      <th>EWMA</th>\n      <th>EWMA_PY</th>\n      <th>EWMA_NB</th>\n      <th>EWMA_CY</th>\n    </tr>\n    <tr>\n      <th>Date</th>\n      <th></th>\n      <th></th>\n      <th></th>\n      <th></th>\n      <th></th>\n    </tr>\n  </thead>\n  <tbody>\n    <tr>\n      <th>2010-01-04</th>\n      <td>113.33</td>\n      <td>113.330000</td>\n      <td>113.330000</td>\n      <td>113.330000</td>\n      <td>113.330000</td>\n    </tr>\n    <tr>\n      <th>2010-01-05</th>\n      <td>113.63</td>\n      <td>113.405000</td>\n      <td>113.405000</td>\n      <td>113.405000</td>\n      <td>113.405000</td>\n    </tr>\n    <tr>\n      <th>2010-01-06</th>\n      <td>113.71</td>\n      <td>113.481250</td>\n      <td>113.481250</td>\n      <td>113.481250</td>\n      <td>113.481250</td>\n    </tr>\n    <tr>\n      <th>2010-01-07</th>\n      <td>114.19</td>\n      <td>113.658438</td>\n      <td>113.658438</td>\n      <td>113.658438</td>\n      <td>113.658438</td>\n    </tr>\n    <tr>\n      <th>2010-01-08</th>\n      <td>114.57</td>\n      <td>113.886328</td>\n      <td>113.886328</td>\n      <td>113.886328</td>\n      <td>113.886328</td>\n    </tr>\n  </tbody>\n</table>\n</div>"
     },
     "metadata": {},
     "execution_count": 192
    }
   ],
   "source": [
    "data.head()"
   ]
  },
  {
   "cell_type": "code",
   "execution_count": 168,
   "metadata": {},
   "outputs": [
    {
     "data": {
      "text/html": [
       "<div>\n",
       "<style scoped>\n",
       "    .dataframe tbody tr th:only-of-type {\n",
       "        vertical-align: middle;\n",
       "    }\n",
       "\n",
       "    .dataframe tbody tr th {\n",
       "        vertical-align: top;\n",
       "    }\n",
       "\n",
       "    .dataframe thead th {\n",
       "        text-align: right;\n",
       "    }\n",
       "</style>\n",
       "<table border=\"1\" class=\"dataframe\">\n",
       "  <thead>\n",
       "    <tr style=\"text-align: right;\">\n",
       "      <th></th>\n",
       "      <th>SPY</th>\n",
       "      <th>EWMA</th>\n",
       "      <th>EWMA_PY</th>\n",
       "      <th>EWMA_NB</th>\n",
       "      <th>EWMA_CY</th>\n",
       "    </tr>\n",
       "    <tr>\n",
       "      <th>Date</th>\n",
       "      <th></th>\n",
       "      <th></th>\n",
       "      <th></th>\n",
       "      <th></th>\n",
       "      <th></th>\n",
       "    </tr>\n",
       "  </thead>\n",
       "  <tbody>\n",
       "    <tr>\n",
       "      <th>2018-06-25</th>\n",
       "      <td>271.00</td>\n",
       "      <td>274.535176</td>\n",
       "      <td>274.535176</td>\n",
       "      <td>274.535176</td>\n",
       "      <td>274.535176</td>\n",
       "    </tr>\n",
       "    <tr>\n",
       "      <th>2018-06-26</th>\n",
       "      <td>271.60</td>\n",
       "      <td>273.801382</td>\n",
       "      <td>273.801382</td>\n",
       "      <td>273.801382</td>\n",
       "      <td>273.801382</td>\n",
       "    </tr>\n",
       "    <tr>\n",
       "      <th>2018-06-27</th>\n",
       "      <td>269.35</td>\n",
       "      <td>272.688537</td>\n",
       "      <td>272.688537</td>\n",
       "      <td>272.688537</td>\n",
       "      <td>272.688537</td>\n",
       "    </tr>\n",
       "    <tr>\n",
       "      <th>2018-06-28</th>\n",
       "      <td>270.89</td>\n",
       "      <td>272.238903</td>\n",
       "      <td>272.238903</td>\n",
       "      <td>272.238903</td>\n",
       "      <td>272.238903</td>\n",
       "    </tr>\n",
       "    <tr>\n",
       "      <th>2018-06-29</th>\n",
       "      <td>271.28</td>\n",
       "      <td>271.999177</td>\n",
       "      <td>271.999177</td>\n",
       "      <td>271.999177</td>\n",
       "      <td>271.999177</td>\n",
       "    </tr>\n",
       "  </tbody>\n",
       "</table>\n",
       "</div>"
      ],
      "text/plain": [
       "               SPY        EWMA     EWMA_PY     EWMA_NB     EWMA_CY\n",
       "Date                                                              \n",
       "2018-06-25  271.00  274.535176  274.535176  274.535176  274.535176\n",
       "2018-06-26  271.60  273.801382  273.801382  273.801382  273.801382\n",
       "2018-06-27  269.35  272.688537  272.688537  272.688537  272.688537\n",
       "2018-06-28  270.89  272.238903  272.238903  272.238903  272.238903\n",
       "2018-06-29  271.28  271.999177  271.999177  271.999177  271.999177"
      ]
     },
     "execution_count": 168,
     "metadata": {},
     "output_type": "execute_result"
    }
   ],
   "source": [
    "data.tail()"
   ]
  },
  {
   "cell_type": "markdown",
   "metadata": {},
   "source": [
    "将算法翻译成Python编程语言通常很容易。但是，由于性能上有很多种选择，所以算法的实现形式也很容易造成执行缓慢。对于交互式金融分析来说，最优的解决方案（也就是可以达到目的，但可能不是最快、也不是内存效率最高的）可能就足够了。对于生产型金融引用，应该坚持实现最好的解决方案，即使需要一些研究和正式基准测试都在所不惜。"
   ]
  }
 ],
 "metadata": {
  "kernelspec": {
   "display_name": "Python 3.7.7 64-bit ('anaconda': conda)",
   "language": "python",
   "name": "python_defaultSpec_1598938536066"
  },
  "language_info": {
   "codemirror_mode": {
    "name": "ipython",
    "version": 3
   },
   "file_extension": ".py",
   "mimetype": "text/x-python",
   "name": "python",
   "nbconvert_exporter": "python",
   "pygments_lexer": "ipython3",
   "version": "3.7.7-final"
  }
 },
 "nbformat": 4,
 "nbformat_minor": 4
}